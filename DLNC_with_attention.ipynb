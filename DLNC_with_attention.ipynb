{
  "cells": [
    {
      "cell_type": "markdown",
      "metadata": {
        "id": "V4eLpmHf0W75"
      },
      "source": [
        "# google drive"
      ]
    },
    {
      "cell_type": "code",
      "execution_count": 1,
      "metadata": {
        "colab": {
          "base_uri": "https://localhost:8080/"
        },
        "id": "EuNjVGLw0ZVt",
        "outputId": "a32cd844-fd39-46b1-de6b-7b447b2ff775"
      },
      "outputs": [
        {
          "name": "stdout",
          "output_type": "stream",
          "text": [
            "Mounted at /content/gdrive\n"
          ]
        }
      ],
      "source": [
        "from google.colab import drive\n",
        "drive.mount('/content/gdrive')"
      ]
    },
    {
      "cell_type": "markdown",
      "metadata": {
        "id": "MPbfUABL2TsE"
      },
      "source": [
        "# Loading Embedding_matrix & Vocab"
      ]
    },
    {
      "cell_type": "code",
      "execution_count": 2,
      "metadata": {
        "id": "ocGvBZmn2YlT"
      },
      "outputs": [],
      "source": [
        "import numpy as np\n",
        "import pickle\n",
        "\n",
        "# Read dictionary pkl file\n",
        "with open(\"/content/gdrive/My Drive/matrices/vocab.pkl\", 'rb') as fp:\n",
        "    vocab= pickle.load(fp)\n",
        "\n",
        "matrix_name = \"Glove_embedding_matrix.npy\"\n",
        "path= F\"/content/gdrive/My Drive/matrices/{matrix_name}\"\n",
        "\n",
        "embedding_matrix = np.load(path)\n"
      ]
    },
    {
      "cell_type": "code",
      "execution_count": 3,
      "metadata": {
        "id": "zK2ENbm250rA"
      },
      "outputs": [],
      "source": [
        "vocab_size = np.shape(embedding_matrix)[0]\n",
        "embedding_dim = np.shape(embedding_matrix)[1]"
      ]
    },
    {
      "cell_type": "markdown",
      "metadata": {
        "id": "GAKn6BIv01WZ"
      },
      "source": [
        "# Dataset Loading"
      ]
    },
    {
      "cell_type": "markdown",
      "metadata": {
        "id": "_GMgQdejfGyu"
      },
      "source": [
        "## Emotion"
      ]
    },
    {
      "cell_type": "code",
      "execution_count": 4,
      "metadata": {
        "id": "15L2HEzC0a4t"
      },
      "outputs": [],
      "source": [
        "import pandas as pd"
      ]
    },
    {
      "cell_type": "code",
      "execution_count": 5,
      "metadata": {
        "id": "raw-PBGF06AQ"
      },
      "outputs": [],
      "source": [
        "ds_name = \"emotion_train.csv\"\n",
        "path= F\"/content/gdrive/My Drive/Database/{ds_name}\"\n",
        "ds = pd.read_csv(path)"
      ]
    },
    {
      "cell_type": "code",
      "execution_count": 6,
      "metadata": {
        "id": "4FX6CGw51DHA"
      },
      "outputs": [],
      "source": [
        "emotion_text = ds['text']\n",
        "emotion_label = ds['label']"
      ]
    },
    {
      "cell_type": "code",
      "execution_count": 7,
      "metadata": {
        "colab": {
          "base_uri": "https://localhost:8080/"
        },
        "id": "QaJiebA7p3zL",
        "outputId": "76c57dbf-fc21-4a3a-a20a-f643255ffe9a"
      },
      "outputs": [
        {
          "name": "stdout",
          "output_type": "stream",
          "text": [
            "4179\n"
          ]
        }
      ],
      "source": [
        "print(len(emotion_text))"
      ]
    },
    {
      "cell_type": "code",
      "execution_count": 8,
      "metadata": {
        "id": "GBCWl2V01Ugz"
      },
      "outputs": [],
      "source": [
        "import sklearn\n",
        "import numpy\n",
        "import tensorflow as tf"
      ]
    },
    {
      "cell_type": "code",
      "execution_count": 9,
      "metadata": {
        "colab": {
          "base_uri": "https://localhost:8080/"
        },
        "id": "JbPSz45yG4td",
        "outputId": "96affbc9-6c34-4ae3-8c85-536cc3756b46"
      },
      "outputs": [
        {
          "name": "stdout",
          "output_type": "stream",
          "text": [
            "['i', 'dont', 'understand', 'why', 'u', 'do', 'videos', 'every', 'week', 'spend', 'time', 'with', 'your', 'family', 'instead', 'of', 'working', 'on', 'horror', '#takeabreak']\n"
          ]
        }
      ],
      "source": [
        "b = emotion_text[0]\n",
        "b = str.split(b, ' ')\n",
        "b = [i for i in b if not '@' in i]\n",
        "print(b)"
      ]
    },
    {
      "cell_type": "markdown",
      "metadata": {
        "id": "I9pio7Q6ASDp"
      },
      "source": [
        "## Yelp"
      ]
    },
    {
      "cell_type": "code",
      "execution_count": 10,
      "metadata": {
        "id": "M0msGYrlAU61"
      },
      "outputs": [],
      "source": [
        "ds_name = \"yelp_train.csv\"\n",
        "path= F\"/content/gdrive/My Drive/Database/{ds_name}\"\n",
        "ds = pd.read_csv(path)"
      ]
    },
    {
      "cell_type": "code",
      "execution_count": 11,
      "metadata": {
        "id": "vRX61vHeAdkl"
      },
      "outputs": [],
      "source": [
        "yelp_text = ds['text']\n",
        "yelp_label = ds['label']"
      ]
    },
    {
      "cell_type": "code",
      "execution_count": 12,
      "metadata": {
        "colab": {
          "base_uri": "https://localhost:8080/"
        },
        "id": "jeOYWOF9qEA0",
        "outputId": "cca5626b-32aa-409d-eb63-ecb67a2c551d"
      },
      "outputs": [
        {
          "name": "stdout",
          "output_type": "stream",
          "text": [
            "5000\n"
          ]
        }
      ],
      "source": [
        "print(len(yelp_text))"
      ]
    },
    {
      "cell_type": "markdown",
      "metadata": {
        "id": "bMfycNZx2EG6"
      },
      "source": [
        "# Classification Data_preprocess & Dataset"
      ]
    },
    {
      "cell_type": "code",
      "execution_count": 13,
      "metadata": {
        "id": "hV-sn95X2Apq"
      },
      "outputs": [],
      "source": [
        "class Preprocess_classification:\n",
        "    def __init__(self, vocab):\n",
        "      self.vocab = vocab\n",
        "      self.stop_words = ['is','was','be','will','the','on','a','an','about','any','all','both','ain','after','because','at','be','before','been','can','could','during','for','to','about','just','such','then','which']\n",
        "\n",
        "    def preprocess_sentence(self, w):\n",
        "      import re\n",
        "      #Lower\n",
        "      w = w.lower().strip()\n",
        "\n",
        "      # removing @s (for tweets)\n",
        "      w = str.split(w,' ')\n",
        "      w = [x for x in w if not '@' in x]\n",
        "      w = ' '.join(w)\n",
        "\n",
        "      # creating a space between a word and the punctuation following it\n",
        "      w = re.sub(r\"([?.!,¿:])\", r\" \\1 \", w)\n",
        "      w = re.sub(r'[\" \"]+', \" \", w)\n",
        "\n",
        "      # replacing everything with space except (a-z, A-Z,\":\", \"?\", \"!\", \",\")\n",
        "      w = re.sub(r\"[^a-zA-Z?!,¿:]+\", \" \", w)\n",
        "\n",
        "      # removing stop-words\n",
        "      w = str.split(w,' ')\n",
        "      w = [x for x in w if not x in self.stop_words]\n",
        "      w = ' '.join(w)\n",
        "\n",
        "      # outputting the (Glove)vocab values\n",
        "      w = w.split()\n",
        "      w = [word if word in self.vocab else '' for word in w]\n",
        "      Out = [self.vocab[word] for word in w if word!= '']\n",
        "      return Out\n",
        "\n",
        "    def create_dataset(self, text, label, max_len, buffer_size, batch_size):\n",
        "      Text = np.array([self.preprocess_sentence(w) for w in text])\n",
        "      Label = np.array(label)\n",
        "\n",
        "      # padding\n",
        "      Text = tf.keras.preprocessing.sequence.pad_sequences(Text, maxlen= max_len, padding='post')\n",
        "\n",
        "      train_dataset = tf.data.Dataset.from_tensor_slices((Text, Label))\n",
        "      train_dataset = train_dataset.shuffle(buffer_size).batch(batch_size, drop_remainder=True)\n",
        "\n",
        "      return train_dataset"
      ]
    },
    {
      "cell_type": "code",
      "execution_count": 14,
      "metadata": {
        "colab": {
          "base_uri": "https://localhost:8080/"
        },
        "id": "atnvhjFPFv26",
        "outputId": "a922f6dd-e6bc-4c38-c72d-8dab06b54a41"
      },
      "outputs": [
        {
          "name": "stderr",
          "output_type": "stream",
          "text": [
            "<ipython-input-13-79cb1ed4c48f>:35: VisibleDeprecationWarning: Creating an ndarray from ragged nested sequences (which is a list-or-tuple of lists-or-tuples-or ndarrays with different lengths or shapes) is deprecated. If you meant to do this, you must specify 'dtype=object' when creating the ndarray.\n",
            "  Text = np.array([self.preprocess_sentence(w) for w in text])\n"
          ]
        }
      ],
      "source": [
        "# For EI_emotion\n",
        "buffer_size_emotion = 4500\n",
        "batch_size = 64\n",
        "max_len = 25\n",
        "\n",
        "preprocess = Preprocess_classification(vocab)\n",
        "train_emotion = preprocess.create_dataset(emotion_text, emotion_label, max_len, buffer_size_emotion, batch_size)"
      ]
    },
    {
      "cell_type": "code",
      "execution_count": 15,
      "metadata": {
        "colab": {
          "base_uri": "https://localhost:8080/"
        },
        "id": "XIqUucGvED43",
        "outputId": "756137fb-4382-449c-de90-14a02776cb73"
      },
      "outputs": [
        {
          "name": "stderr",
          "output_type": "stream",
          "text": [
            "<ipython-input-13-79cb1ed4c48f>:35: VisibleDeprecationWarning: Creating an ndarray from ragged nested sequences (which is a list-or-tuple of lists-or-tuples-or ndarrays with different lengths or shapes) is deprecated. If you meant to do this, you must specify 'dtype=object' when creating the ndarray.\n",
            "  Text = np.array([self.preprocess_sentence(w) for w in text])\n"
          ]
        }
      ],
      "source": [
        "buffer_size_sentiment = 5500\n",
        "\n",
        "train_sentiment = preprocess.create_dataset(yelp_text, yelp_label, max_len, buffer_size_sentiment, batch_size)"
      ]
    },
    {
      "cell_type": "code",
      "execution_count": 16,
      "metadata": {
        "colab": {
          "base_uri": "https://localhost:8080/"
        },
        "id": "-tmjhh_ohI49",
        "outputId": "62979c3a-4ff1-400d-e009-927381423126"
      },
      "outputs": [
        {
          "data": {
            "text/plain": [
              "(TensorShape([64, 25]), TensorShape([64]))"
            ]
          },
          "execution_count": 16,
          "metadata": {},
          "output_type": "execute_result"
        }
      ],
      "source": [
        "example_input_batch_emotion, example_target_batch_emotion = next(iter(train_sentiment))\n",
        "example_input_batch_emotion.shape, example_target_batch_emotion.shape"
      ]
    },
    {
      "cell_type": "markdown",
      "metadata": {
        "id": "xg7Lldg3E4Ag"
      },
      "source": [
        "# Base Model"
      ]
    },
    {
      "cell_type": "code",
      "execution_count": null,
      "metadata": {
        "id": "kSPtqv2eE84K"
      },
      "outputs": [],
      "source": [
        "# Basic Classifier class\n",
        "\n",
        "import tensorflow as tf\n",
        "from tensorflow.keras.layers import LSTM, Dense\n",
        "\n",
        "class Basic_Classifier(tf.keras.Model):\n",
        "  def __init__(self, units, batch_size, num_classes, recurrent_dropout= 0.3):\n",
        "    super(Basic_Classifier, self).__init__()\n",
        "    self.batch_size = batch_size\n",
        "    self.units = units\n",
        "    self.recurrent_dropout = recurrent_dropout\n",
        "    self.num_classes = num_classes\n",
        "\n",
        "    self.embedding_layer = tf.keras.layers.Embedding(\n",
        "    input_dim=vocab_size,\n",
        "    output_dim=embedding_dim,\n",
        "    weights=[embedding_matrix],\n",
        "    mask_zero=True,\n",
        "    trainable=True)\n",
        "\n",
        "    self.lstm_layer = tf.keras.layers.LSTM(self.units, return_sequences= True, return_state= True, recurrent_dropout= self.recurrent_dropout)\n",
        "    self.linear_layer = Dense(units=32, activation='relu')\n",
        "    self.softmax_layer = Dense(units=self.num_classes, activation='softmax')\n",
        "\n",
        "\n",
        "  def call(self, x, hidden):\n",
        "    x = self.embedding_layer(x)\n",
        "\n",
        "    output, h, c = self.lstm_layer(x, initial_state= hidden)\n",
        "    dropout_hidden = tf.keras.layers.Dropout(rate=0.3)(h)\n",
        "\n",
        "    linear = self.linear_layer(h)\n",
        "    dropout_linear = tf.keras.layers.Dropout(rate=0.2)(linear)\n",
        "\n",
        "    softmax = self.softmax_layer(dropout_linear)\n",
        "    return softmax\n",
        "\n",
        "  def initialize_hidden_state(self, batch_size):\n",
        "    return [tf.zeros((batch_size, self.units)), tf.zeros((batch_size, self.units))]"
      ]
    },
    {
      "cell_type": "code",
      "execution_count": null,
      "metadata": {
        "id": "ruaMeKQvQnvy"
      },
      "outputs": [],
      "source": [
        "a = Basic_Classifier(256, 64, 3)"
      ]
    },
    {
      "cell_type": "code",
      "execution_count": null,
      "metadata": {
        "id": "EnBJPVKuQwxx"
      },
      "outputs": [],
      "source": [
        "# Test\n",
        "h, c = a.initialize_hidden_state(64)\n",
        "a.call(example_input_batch_emotion, [h,c])"
      ]
    },
    {
      "cell_type": "code",
      "execution_count": null,
      "metadata": {
        "id": "PPV563v0E9Rn"
      },
      "outputs": [],
      "source": [
        "# Optimizer\n",
        "import tensorflow as tf\n",
        "optimizer = tf.keras.optimizers.legacy.Adam(0.001)\n",
        "\n",
        "#Loss\n",
        "def loss_function(real, pred):\n",
        "  cross_entropy = tf.keras.losses.SparseCategoricalCrossentropy()\n",
        "  loss = cross_entropy(y_true= real, y_pred= pred)\n",
        "  loss = tf.reduce_mean(loss)\n",
        "  return loss"
      ]
    },
    {
      "cell_type": "code",
      "execution_count": null,
      "metadata": {
        "id": "72PY8LTEXE09"
      },
      "outputs": [],
      "source": [
        "# Defining model instances\n",
        "batch_size = 64\n",
        "classifier_emotion_base = Basic_Classifier(batch_size= batch_size, units= 256, num_classes= 4)\n",
        "classifier_sentiment_base = Basic_Classifier(batch_size= batch_size, units= 256, num_classes= 3)"
      ]
    },
    {
      "cell_type": "code",
      "execution_count": null,
      "metadata": {
        "id": "3BAdX-NWbbm8"
      },
      "outputs": [],
      "source": [
        "steps_emotion= len(emotion_text)//batch_size\n",
        "steps_sentiment = len(yelp_text)//batch_size"
      ]
    },
    {
      "cell_type": "code",
      "execution_count": null,
      "metadata": {
        "id": "vbn982bQdLgb"
      },
      "outputs": [],
      "source": [
        "def train_step_base(model, text, label):\n",
        "  h, c = model.initialize_hidden_state(batch_size)\n",
        "  with tf.GradientTape() as tape:\n",
        "    out_probs = model.call(text, [h,c])\n",
        "\n",
        "    predicted_labels = tf.argmax(out_probs, axis=-1)\n",
        "    accuracy = tf.reduce_mean(tf.cast(tf.equal(label, predicted_labels), dtype=tf.float32))\n",
        "    # Loss\n",
        "    loss = loss_function(label, out_probs)\n",
        "    # Get the watched variables\n",
        "    variables = model.trainable_variables\n",
        "\n",
        "    # Compute gradients only for watched variables\n",
        "    gradients = tape.gradient(loss, variables)\n",
        "\n",
        "    # Apply gradients to the watched variables\n",
        "    optimizer.apply_gradients(zip(gradients, variables))\n",
        "\n",
        "    return loss, accuracy"
      ]
    },
    {
      "cell_type": "code",
      "execution_count": null,
      "metadata": {
        "id": "nBzk-NHsM3Xg"
      },
      "outputs": [],
      "source": [
        "def train_epoch_base(model, data_set, steps, epochs):\n",
        "  losses = []\n",
        "  accuracies = []\n",
        "  for epoch in range(epochs):\n",
        "    total_loss = 0\n",
        "    total_accuracy = 0\n",
        "    for (batch, (text, label)) in enumerate(data_set.take(steps)):\n",
        "      batch_loss, batch_accuracy = train_step_base(model, text, label)\n",
        "      total_loss += batch_loss\n",
        "      total_accuracy += batch_accuracy\n",
        "    print('Epoch {} Loss {:.4f}'.format(epoch+1,\n",
        "                                        total_loss / steps))\n",
        "    print('Epoch {} Accuracy {:.4f}'.format(epoch+1,\n",
        "                                        total_accuracy ))\n",
        "    losses.append(total_loss/steps)\n",
        "    accuracies.append(total_accuracy/steps)\n",
        "\n",
        "  return losses, accuracies"
      ]
    },
    {
      "cell_type": "code",
      "execution_count": null,
      "metadata": {
        "colab": {
          "base_uri": "https://localhost:8080/"
        },
        "id": "QPpruSRnPKon",
        "outputId": "376f7137-c8ef-4d17-8330-20154e418d24"
      },
      "outputs": [
        {
          "name": "stdout",
          "output_type": "stream",
          "text": [
            "Epoch 1 Loss 1.1378\n",
            "Epoch 1 Accuracy 31.9688\n",
            "Epoch 2 Loss 0.7470\n",
            "Epoch 2 Accuracy 46.0156\n",
            "Epoch 3 Loss 0.5068\n",
            "Epoch 3 Accuracy 53.0156\n",
            "Epoch 4 Loss 0.3743\n",
            "Epoch 4 Accuracy 55.9062\n",
            "Epoch 5 Loss 0.2997\n",
            "Epoch 5 Accuracy 57.9688\n",
            "Epoch 6 Loss 0.2570\n",
            "Epoch 6 Accuracy 58.5625\n",
            "Epoch 7 Loss 0.2216\n",
            "Epoch 7 Accuracy 59.4688\n",
            "Epoch 8 Loss 0.1929\n",
            "Epoch 8 Accuracy 59.8281\n",
            "Epoch 9 Loss 0.1637\n",
            "Epoch 9 Accuracy 60.0781\n",
            "Epoch 10 Loss 0.1523\n",
            "Epoch 10 Accuracy 60.3906\n"
          ]
        }
      ],
      "source": [
        "losses_emotion_base, accuracies_emotion_base = train_epoch_base(classifier_emotion_base, train_emotion, len(emotion_text)//batch_size, 10)"
      ]
    },
    {
      "cell_type": "code",
      "execution_count": null,
      "metadata": {
        "colab": {
          "base_uri": "https://localhost:8080/",
          "height": 472
        },
        "id": "_nngMC1H6dCv",
        "outputId": "ca0b7f70-30eb-4ee3-cd31-2030d9264d00"
      },
      "outputs": [
        {
          "data": {
            "image/png": "[encoded data removed]",
            "text/plain": [
              "<Figure size 640x480 with 1 Axes>"
            ]
          },
          "metadata": {},
          "output_type": "display_data"
        }
      ],
      "source": [
        "import matplotlib.pyplot as plt\n",
        "\n",
        "# Sample accuracy data for 8 training epochs\n",
        "epoch_numbers = [1, 2, 3, 4, 5, 6, 7, 8,9,10]\n",
        "accuracies = accuracies_emotion_base\n",
        "losses = losses_emotion_base\n",
        "\n",
        "# Plotting the accuracies\n",
        "plt.plot(epoch_numbers, accuracies, marker='o', linestyle='-')\n",
        "\n",
        "# Adding labels and title\n",
        "plt.xlabel('Epoch')\n",
        "plt.ylabel('Accuracy')\n",
        "plt.title('Training Emotion Accuracy Over Epochs')\n",
        "\n",
        "# Adding grid for better readability\n",
        "plt.grid(True)\n",
        "\n",
        "# Saving the plot as a PNG file\n",
        "plt.savefig('training_emotion_accuracy.png')\n",
        "\n",
        "# Displaying the plot\n",
        "plt.show()"
      ]
    },
    {
      "cell_type": "code",
      "execution_count": null,
      "metadata": {
        "colab": {
          "base_uri": "https://localhost:8080/"
        },
        "id": "CnWRu0qZJBua",
        "outputId": "82f34047-7dd0-44bc-d4a2-118f59684e71"
      },
      "outputs": [
        {
          "name": "stdout",
          "output_type": "stream",
          "text": [
            "Epoch 1 Loss 0.9777\n",
            "Epoch 1 Accuracy 42.3438\n",
            "Epoch 2 Loss 0.7545\n",
            "Epoch 2 Accuracy 52.7031\n",
            "Epoch 3 Loss 0.5833\n",
            "Epoch 3 Accuracy 59.4375\n",
            "Epoch 4 Loss 0.4157\n",
            "Epoch 4 Accuracy 65.3750\n",
            "Epoch 5 Loss 0.2732\n",
            "Epoch 5 Accuracy 70.1719\n",
            "Epoch 6 Loss 0.1766\n",
            "Epoch 6 Accuracy 73.1562\n",
            "Epoch 7 Loss 0.1067\n",
            "Epoch 7 Accuracy 75.2812\n",
            "Epoch 8 Loss 0.0686\n",
            "Epoch 8 Accuracy 76.3594\n",
            "Epoch 9 Loss 0.0399\n",
            "Epoch 9 Accuracy 77.1094\n",
            "Epoch 10 Loss 0.0253\n",
            "Epoch 10 Accuracy 77.4688\n",
            "Epoch 11 Loss 0.0138\n",
            "Epoch 11 Accuracy 77.7031\n",
            "Epoch 12 Loss 0.0059\n",
            "Epoch 12 Accuracy 77.8750\n"
          ]
        }
      ],
      "source": [
        "losses_sentiment_base, accuracies_sentiment_base = train_epoch_base(classifier_sentiment_base, train_sentiment, len(yelp_text)//batch_size, 14)"
      ]
    },
    {
      "cell_type": "markdown",
      "metadata": {
        "id": "3kmnfIgTjDxR"
      },
      "source": [
        "# LN-LSTM Encoder cell"
      ]
    },
    {
      "cell_type": "code",
      "execution_count": 17,
      "metadata": {
        "id": "k377OFxsFKm-"
      },
      "outputs": [],
      "source": [
        "\n",
        "import tensorflow as tf\n",
        "\n",
        "# To DO: trainability of layers (for fine-tuning)\n",
        "class LNLSTMCell(tf.keras.Model):\n",
        "    def __init__(self, embedding_dim, hidden_size, trainable=True, dropout=0.3):\n",
        "        super(LNLSTMCell, self).__init__()\n",
        "        self.input_size = embedding_dim\n",
        "        self.hidden_size = hidden_size\n",
        "        self.trainable = trainable\n",
        "\n",
        "        # Layer Normalization\n",
        "        self.ln_emotion_x = tf.keras.layers.LayerNormalization(axis=1)\n",
        "        self.ln_emotion_h = tf.keras.layers.LayerNormalization(axis=1)\n",
        "        self.ln_emotion_c = tf.keras.layers.LayerNormalization(axis=1)\n",
        "\n",
        "        self.ln_sentiment_x = tf.keras.layers.LayerNormalization(axis=1)\n",
        "        self.ln_sentiment_h = tf.keras.layers.LayerNormalization(axis=1)\n",
        "        self.ln_sentiment_c = tf.keras.layers.LayerNormalization(axis=1)\n",
        "\n",
        "        self.ln_new_x = tf.keras.layers.LayerNormalization(axis=1)\n",
        "        self.ln_new_h = tf.keras.layers.LayerNormalization(axis=1)\n",
        "        self.ln_new_c = tf.keras.layers.LayerNormalization(axis=1)\n",
        "\n",
        "        # Dropout\n",
        "        self.dropout_layer = tf.keras.layers.Dropout(rate= dropout)\n",
        "\n",
        "        self.embedding_layer = tf.keras.layers.Embedding(\n",
        "          input_dim=vocab_size,\n",
        "          output_dim=embedding_dim,\n",
        "          weights=[embedding_matrix],\n",
        "          mask_zero=True,\n",
        "          trainable=True)\n",
        "\n",
        "        # LSTM parameters\n",
        "        self.weight_ih = self.add_weight(shape=(self.input_size, 4 * hidden_size), trainable= self.trainable)\n",
        "        self.weight_ih_with_dropout = self.dropout_layer(self.weight_ih)\n",
        "        self.weight_hh = self.add_weight(shape=(hidden_size, 4 * hidden_size), trainable= self.trainable)\n",
        "        self.weight_hh_with_dropout = self.dropout_layer(self.weight_hh)\n",
        "        self.bias = self.add_weight(shape=(4 * hidden_size,), trainable= self.trainable)\n",
        "        self.bias_with_dropout = self.dropout_layer(self.bias)\n",
        "\n",
        "\n",
        "    def call(self, task, input_, hx):\n",
        "        h, c = hx\n",
        "        if task == 'emotion':\n",
        "          ln_x = self.ln_emotion_x\n",
        "          ln_h = self.ln_emotion_h\n",
        "          ln_c = self.ln_emotion_c\n",
        "\n",
        "        elif task == 'sentiment':\n",
        "          ln_x = self.ln_sentiment_x\n",
        "          ln_h = self.ln_sentiment_h\n",
        "          ln_c = self.ln_sentiment_c\n",
        "\n",
        "        elif task == 'new':\n",
        "          ln_x = self.ln_new_x\n",
        "          ln_h = self.ln_new_h\n",
        "          ln_c = self.ln_new_c\n",
        "        else:\n",
        "          raise ValueError('Key Error')\n",
        "\n",
        "        input = self.embedding_layer(input_)\n",
        "\n",
        "        # Create a mask for the input based on non-zero values\n",
        "        mask = tf.math.not_equal(input_, 0)\n",
        "        mask = tf.cast(mask, dtype=input.dtype)\n",
        "        # Broadcast the mask to match the shape of gates\n",
        "        mask = tf.expand_dims(mask, axis=-1)\n",
        "\n",
        "\n",
        "        gates = ln_x(tf.matmul(input, self.weight_ih_with_dropout)) + ln_h(tf.matmul(h, self.weight_hh_with_dropout)) + self.bias_with_dropout\n",
        "\n",
        "\n",
        "        # Split the gates into input, forget, cell, and output gates\n",
        "        input_gate, forget_gate, cell_gate, output_gate = tf.split(gates, 4, axis=-1)\n",
        "\n",
        "        # Apply sigmoid activation to the gates\n",
        "        input_gate = tf.sigmoid(input_gate)\n",
        "        forget_gate = tf.sigmoid(forget_gate)\n",
        "        cell_gate = tf.tanh(cell_gate)\n",
        "        output_gate = tf.sigmoid(output_gate)\n",
        "\n",
        "        # Update the cell and hidden state\n",
        "        c_new = c * forget_gate + input_gate * cell_gate\n",
        "        c_new = c_new * mask + c * (1 - mask)  # Masked cell state remains unchanged\n",
        "        h_new = output_gate * tf.tanh(ln_c(c_new))\n",
        "        h_new = h_new * mask + h * (1 - mask)  # Masked hidden state remains unchanged\n",
        "\n",
        "        return h_new, c_new\n",
        "\n",
        "    def initialize_hidden_state(self, batch_size):\n",
        "      return [tf.zeros((batch_size, self.hidden_size)), tf.zeros((batch_size, self.hidden_size))]\n"
      ]
    },
    {
      "cell_type": "code",
      "execution_count": 18,
      "metadata": {
        "id": "UwAyadaCAsze"
      },
      "outputs": [],
      "source": [
        "seq_len = np.shape(example_input_batch_emotion)[1]"
      ]
    },
    {
      "cell_type": "code",
      "execution_count": 19,
      "metadata": {
        "id": "UtuWFNsviy3a"
      },
      "outputs": [],
      "source": [
        "ln_lstm = LNLSTMCell(embedding_dim= embedding_dim, hidden_size= 128, trainable=True)\n",
        "outputs = tf.TensorArray(tf.float32, size=seq_len)\n",
        "\n",
        "for t in range(seq_len):\n",
        "  x = example_input_batch_emotion[:, t]\n",
        "  initial = ln_lstm.initialize_hidden_state(batch_size=batch_size)\n",
        "  h, c = ln_lstm.call('emotion',x, initial)\n",
        "  outputs = outputs.write(t, h)\n",
        "outputs = outputs.stack()\n",
        "outputs = tf.transpose(outputs, [1,0,2])"
      ]
    },
    {
      "cell_type": "code",
      "execution_count": 20,
      "metadata": {
        "colab": {
          "base_uri": "https://localhost:8080/"
        },
        "id": "DI8Im_msBr5l",
        "outputId": "c826c581-f0e7-4c55-8c65-d4e68576b08c"
      },
      "outputs": [
        {
          "name": "stdout",
          "output_type": "stream",
          "text": [
            "(64, 25, 128)\n"
          ]
        }
      ],
      "source": [
        "print(np.shape(outputs))"
      ]
    },
    {
      "cell_type": "markdown",
      "metadata": {
        "id": "C8dED1YoDlWH"
      },
      "source": [
        "# MultiTaskClassifier"
      ]
    },
    {
      "cell_type": "markdown",
      "metadata": {
        "id": "bQktrwEkq2mY"
      },
      "source": [
        "## Task Embedding"
      ]
    },
    {
      "cell_type": "code",
      "execution_count": 22,
      "metadata": {
        "id": "tjUm6MK5q1QA"
      },
      "outputs": [],
      "source": [
        "import tensorflow as tf\n",
        "\n",
        "class TaskEmbedding(tf.keras.layers.Layer):\n",
        "    def __init__(self, num_tasks, embedding_dim, trainable=True):\n",
        "        super(TaskEmbedding, self).__init__()\n",
        "        self.num_tasks = num_tasks\n",
        "        self.embedding_dim = embedding_dim\n",
        "\n",
        "        # Create a trainable weight variable for this layer.\n",
        "        self.embedding_weights = self.add_weight(\n",
        "            shape=(num_tasks, embedding_dim),\n",
        "            initializer='random_normal',\n",
        "            trainable=trainable\n",
        "        )\n",
        "\n",
        "    def call(self, task_indices):\n",
        "        # Retrieve task embeddings based on task indices\n",
        "        task_embeddings = tf.nn.embedding_lookup(self.embedding_weights, task_indices)\n",
        "        return task_embeddings\n"
      ]
    },
    {
      "cell_type": "code",
      "execution_count": 23,
      "metadata": {
        "id": "SxOlEPLmrEEM"
      },
      "outputs": [],
      "source": [
        "# Testing :\n",
        "\n",
        "# Define the number of tasks and embedding dimension\n",
        "num_tasks = 3\n",
        "\n",
        "# Create an instance of TaskEmbedding\n",
        "task_embedding = TaskEmbedding(num_tasks, 32)\n",
        "\n",
        "# Create a tensor of task indices\n",
        "task_indices = tf.constant([0, 1, 2], dtype=tf.int32)\n",
        "\n",
        "# Get task embeddings\n",
        "task_embeddings = task_embedding(task_indices)\n",
        "\n",
        "# The task_embeddings tensor will contain the trainable embeddings for each task.\n"
      ]
    },
    {
      "cell_type": "code",
      "execution_count": 24,
      "metadata": {
        "id": "KZeLUlVM63ME"
      },
      "outputs": [],
      "source": [
        "class LuongAttention(tf.keras.layers.Layer):\n",
        "    def __init__(self, units, **kwargs):\n",
        "        super(LuongAttention, self).__init__(**kwargs)\n",
        "        self.units = units\n",
        "\n",
        "        #Attention LN\n",
        "        self.ln_emotion_a = tf.keras.layers.LayerNormalization(axis=1)\n",
        "        self.ln_sentiment_a = tf.keras.layers.LayerNormalization(axis=1)\n",
        "        self.ln_new_a = tf.keras.layers.LayerNormalization(axis=1)\n",
        "\n",
        "        self.attention_weights = self.add_weight(\n",
        "            name='attention_weights',\n",
        "            shape=(self.units, self.units),\n",
        "            initializer='uniform',\n",
        "            trainable=True\n",
        "        )\n",
        "\n",
        "\n",
        "    def call(self, encoder_outputs, decoder_hidden, task):\n",
        "        if task == 'emotion':\n",
        "          ln_a = self.ln_emotion_a\n",
        "\n",
        "        elif task == 'sentiment':\n",
        "          ln_a = self.ln_sentiment_a\n",
        "\n",
        "        elif task == 'new':\n",
        "          ln_a = self.ln_new_a\n",
        "\n",
        "        else:\n",
        "          raise ValueError('Key Error')\n",
        "\n",
        "        # Expand dimensions of decoder hidden state for compatibility\n",
        "        decoder_hidden_with_time_axis = tf.expand_dims(decoder_hidden, axis=1)\n",
        "\n",
        "        # Calculate attention scores\n",
        "        attention_scores = ln_a(tf.matmul(decoder_hidden_with_time_axis, self.attention_weights))\n",
        "        attention_scores = tf.matmul(attention_scores, encoder_outputs, transpose_b=True)\n",
        "\n",
        "        # Apply softmax to get attention weights\n",
        "        attention_weights = tf.nn.softmax(attention_scores, axis=-1)\n",
        "\n",
        "        # Apply attention weights to encoder outputs\n",
        "        context_vector = tf.matmul(attention_weights, encoder_outputs)\n",
        "\n",
        "        context_vec = tf.reshape(context_vector, (np.shape(context_vector)[0], np.shape(context_vector)[-1]))\n",
        "        attention_weights = tf.reshape(attention_weights, (np.shape(attention_weights)[0], np.shape(attention_weights)[-1]))\n",
        "\n",
        "        return context_vector, attention_weights\n"
      ]
    },
    {
      "cell_type": "markdown",
      "metadata": {
        "id": "Xwn_KdkbqElC"
      },
      "source": [
        "## LN-LSTM Classifier"
      ]
    },
    {
      "cell_type": "code",
      "execution_count": 25,
      "metadata": {
        "id": "gWbo0OD2qC1V"
      },
      "outputs": [],
      "source": [
        "import tensorflow as tf\n",
        "from tensorflow.keras.layers import LSTM, Dense\n",
        "\n",
        "# To DO: trainability of layers (for fine-tuning)\n",
        "class LNLSTMClassifier_with_Attention(tf.keras.Model):\n",
        "    def __init__(self, embedding_dim, hidden_size, dropout=0.3, trainable=True, num_classes_emotion=4, num_classes_sentiment=3):\n",
        "        super(LNLSTMClassifier_with_Attention, self).__init__()\n",
        "        self.input_size = embedding_dim\n",
        "        self.hidden_size = hidden_size\n",
        "\n",
        "\n",
        "        # get task specific embedding\n",
        "        self.task_embedding = TaskEmbedding(num_tasks=2, embedding_dim= self.input_size)\n",
        "        self.Attention = LuongAttention(self.hidden_size)\n",
        "\n",
        "        # dropout\n",
        "        self.dropout_layer = tf.keras.layers.Dropout(rate=dropout)\n",
        "\n",
        "        # Layer Normalization\n",
        "        self.ln_emotion_x = tf.keras.layers.LayerNormalization(axis=1)\n",
        "        self.ln_emotion_h = tf.keras.layers.LayerNormalization(axis=1)\n",
        "        self.ln_emotion_c = tf.keras.layers.LayerNormalization(axis=1)\n",
        "\n",
        "        self.ln_sentiment_x = tf.keras.layers.LayerNormalization(axis=1)\n",
        "        self.ln_sentiment_h = tf.keras.layers.LayerNormalization(axis=1)\n",
        "        self.ln_sentiment_c = tf.keras.layers.LayerNormalization(axis=1)\n",
        "\n",
        "        self.ln_new_x = tf.keras.layers.LayerNormalization(axis=1)\n",
        "        self.ln_new_h = tf.keras.layers.LayerNormalization(axis=1)\n",
        "        self.ln_new_c = tf.keras.layers.LayerNormalization(axis=1)\n",
        "\n",
        "        # LSTM parameters\n",
        "        self.weight_ih = self.add_weight(shape=(self.input_size, 4 * hidden_size), trainable= trainable)\n",
        "        self.weight_ih_with_dropout = self.dropout_layer(self.weight_ih)\n",
        "        self.weight_hh = self.add_weight(shape=(hidden_size, 4 * hidden_size), trainable= trainable)\n",
        "        self.weight_hh_with_dropout = self.dropout_layer(self.weight_hh)\n",
        "        self.bias = self.add_weight(shape=(4 * hidden_size,), trainable= trainable)\n",
        "        self.bias_with_dropout = self.dropout_layer(self.bias)\n",
        "\n",
        "        # Classification parameters\n",
        "        self.dense_emotion_h_1 = Dense(units=16, activation='relu')\n",
        "        self.dense_emotion_h_2 = Dense(units=4, activation='relu')\n",
        "        self.dense_emotion_c_1 = Dense(units=16, activation='relu')\n",
        "        self.dense_emotion_c_2 = Dense(units=4, activation='relu')\n",
        "        self.softmax_emotion = Dense(units=num_classes_emotion, activation='softmax')\n",
        "\n",
        "\n",
        "        self.dense_sentiment_h_1 = Dense(units=16, activation='relu')\n",
        "        self.dense_sentiment_h_2 = Dense(units=4, activation='relu')\n",
        "        self.dense_sentiment_c_1 = Dense(units=16, activation='relu')\n",
        "        self.dense_sentiment_c_2 = Dense(units=4, activation='relu')\n",
        "        self.softmax_sentiment = Dense(units=num_classes_sentiment, activation='softmax')\n",
        "\n",
        "        self.dense_new_h_1 = Dense(units=16, activation='relu')\n",
        "        self.dense_new_h_2 = Dense(units=4, activation='relu')\n",
        "        self.dense_new_c_1 = Dense(units=16, activation='relu')\n",
        "        self.dense_new_c_2 = Dense(units=4, activation='relu')\n",
        "        self.softmax_new = Dense(units=num_classes_sentiment, activation='softmax')\n",
        "\n",
        "\n",
        "    def call(self, task, task_indices, hx, encoder_outputs):\n",
        "        h, c = hx\n",
        "\n",
        "        if task == 'emotion':\n",
        "          ln_x = self.ln_emotion_x\n",
        "          ln_h = self.ln_emotion_h\n",
        "          ln_c = self.ln_emotion_c\n",
        "          dense_h_1 = self.dense_emotion_h_1\n",
        "          dense_h_2 = self.dense_emotion_h_2\n",
        "          dense_c_1 = self.dense_emotion_c_1\n",
        "          dense_c_2 = self.dense_emotion_c_2\n",
        "          soft_max = self.softmax_emotion\n",
        "\n",
        "        elif task == 'sentiment':\n",
        "          ln_x = self.ln_sentiment_x\n",
        "          ln_h = self.ln_sentiment_h\n",
        "          ln_c = self.ln_sentiment_c\n",
        "          dense_h_1 = self.dense_sentiment_h_1\n",
        "          dense_h_2 = self.dense_sentiment_h_2\n",
        "          dense_c_1 = self.dense_sentiment_c_1\n",
        "          dense_c_2 = self.dense_sentiment_c_2\n",
        "          soft_max = self.softmax_sentiment\n",
        "\n",
        "        elif task == 'new':\n",
        "          ln_x = self.ln_new_x\n",
        "          ln_h = self.ln_new_h\n",
        "          ln_c = self.ln_new_c\n",
        "          dense_h_1 = self.dense_new_h_1\n",
        "          dense_h_2 = self.dense_new_h_2\n",
        "          dense_c_1 = self.dense_new_c_1\n",
        "          dense_c_2 = self.dense_new_c_2\n",
        "          soft_max = self.softmax_new\n",
        "\n",
        "        else:\n",
        "          raise ValueError('Key Error')\n",
        "\n",
        "\n",
        "        input = self.task_embedding(task_indices)\n",
        "\n",
        "        gates = ln_x(tf.matmul(input, self.weight_ih_with_dropout)) + ln_h(tf.matmul(h, self.weight_hh_with_dropout)) + self.bias_with_dropout\n",
        "\n",
        "        # Split the gates into input, forget, cell, and output gates\n",
        "        input_gate, forget_gate, cell_gate, output_gate = tf.split(gates, 4, axis=-1)\n",
        "\n",
        "        # Apply sigmoid activation to the gates\n",
        "        input_gate = tf.sigmoid(input_gate)\n",
        "        forget_gate = tf.sigmoid(forget_gate)\n",
        "        cell_gate = tf.tanh(cell_gate)\n",
        "        output_gate = tf.sigmoid(output_gate)\n",
        "\n",
        "        # Update the cell and hidden state\n",
        "        c_new = c * forget_gate + input_gate * cell_gate\n",
        "        h_new = output_gate * tf.tanh(ln_c(c_new))\n",
        "        context_vector, attention_weights = self.Attention(encoder_outputs, h_new, task)\n",
        "        h_new = self.dropout_layer(h_new)\n",
        "        h_new = dense_h_1(h_new)\n",
        "        h_new = dense_h_2(h_new)\n",
        "\n",
        "        context_vector = tf.reshape(context_vector, (np.shape(context_vector)[0], np.shape(context_vector)[-1]))\n",
        "        context_vector = self.dropout_layer(context_vector)\n",
        "        context_vector = dense_c_1(context_vector)\n",
        "        context_vector = dense_c_2(context_vector)\n",
        "\n",
        "        new_hidden = tf.concat([h_new, context_vector], axis= -1)\n",
        "\n",
        "        # Classify using hidden state\n",
        "        output = soft_max(new_hidden)\n",
        "        return output, attention_weights\n",
        "\n",
        "\n",
        "    def initialize_hidden_state(self, batch_size): # actually, not necessary, cause gets inputs from encoder\n",
        "      return [tf.zeros((batch_size, self.hidden_size)), tf.zeros((batch_size, self.hidden_size))]"
      ]
    },
    {
      "cell_type": "code",
      "execution_count": 27,
      "metadata": {
        "id": "swFTVZ5LvCD9"
      },
      "outputs": [],
      "source": [
        "ln_classifier = LNLSTMClassifier_with_Attention(embedding_dim=16, hidden_size=128, dropout=0.3)\n",
        "z = tf.constant([0 for i in range(batch_size)], dtype=tf.int32)\n",
        "out, attention_weights = ln_classifier.call(task='new',task_indices=z, hx=[h,c], encoder_outputs = outputs)"
      ]
    },
    {
      "cell_type": "markdown",
      "metadata": {
        "id": "e7w4AhWnpFl5"
      },
      "source": [
        "## Classifier(separate variables for each task)"
      ]
    },
    {
      "cell_type": "code",
      "execution_count": null,
      "metadata": {
        "id": "eLdAX0loupIJ"
      },
      "outputs": [],
      "source": [
        "import tensorflow as tf\n",
        "from tensorflow.keras.layers import LSTM, Dense\n",
        "\n",
        "# To DO: trainability of layers (for fine-tuning)\n",
        "class MultiTaskClassifier(tf.keras.Model):\n",
        "    def __init__(self, embedding_dim, hidden_size, dropout=0.3, trainable=True, num_classes_emotion=4, num_classes_sentiment=3, num_classes_new=2):\n",
        "        super(MultiTaskClassifier, self).__init__()\n",
        "        self.input_size = embedding_dim\n",
        "        self.hidden_size = hidden_size\n",
        "\n",
        "        # get task specific embedding\n",
        "        self.task_embedding = TaskEmbedding(num_tasks=3, embedding_dim= self.input_size)\n",
        "\n",
        "        # dropout\n",
        "        self.dropout_layer = tf.keras.layers.Dropout(rate=dropout)\n",
        "\n",
        "        self.weight_ih_emotion = self.add_weight(shape=(self.input_size, 4 * hidden_size))\n",
        "        self.weight_ih_emotion_with_dropout = self.dropout_layer(self.weight_ih_emotion)\n",
        "        self.weight_hh_emotion = self.add_weight(shape=(hidden_size, 4 * hidden_size))\n",
        "        self.weight_hh_emotion_with_dropout = self.dropout_layer(self.weight_hh_emotion)\n",
        "        self.bias_emotion = self.add_weight(shape=(4 * hidden_size,))\n",
        "        self.bias_emotion_with_dropout = self.dropout_layer(self.bias_emotion)\n",
        "        self.dense_emotion = Dense(units=32, activation='relu')\n",
        "        self.softmax_emotion = Dense(units=num_classes_emotion, activation='softmax')\n",
        "\n",
        "        self.weight_ih_sentiment = self.add_weight(shape=(self.input_size, 4 * hidden_size))\n",
        "        self.weight_ih_sentiment_with_dropout = self.dropout_layer(self.weight_ih_sentiment)\n",
        "        self.weight_hh_sentiment = self.add_weight(shape=(hidden_size, 4 * hidden_size))\n",
        "        self.weight_hh_sentiment_with_dropout = self.dropout_layer(self.weight_hh_sentiment)\n",
        "        self.bias_sentiment = self.add_weight(shape=(4 * hidden_size,))\n",
        "        self.bias_sentiment_with_dropout = self.dropout_layer(self.bias_sentiment)\n",
        "        self.dense_sentiment = Dense(units=32, activation='relu')\n",
        "        self.softmax_sentiment = Dense(units=num_classes_sentiment, activation='softmax')\n",
        "\n",
        "        self.weight_ih_new = self.add_weight(shape=(self.input_size, 4 * hidden_size))\n",
        "        self.weight_ih_new_with_dropout = self.dropout_layer(self.weight_ih_new)\n",
        "        self.weight_hh_new = self.add_weight(shape=(hidden_size, 4 * hidden_size))\n",
        "        self.weight_hh_new_with_dropout = self.dropout_layer(self.weight_hh_new)\n",
        "        self.bias_new = self.add_weight(shape=(4 * hidden_size,))\n",
        "        self.bias_new_with_dropout = self.dropout_layer(self.bias_new)\n",
        "        self.dense_new = Dense(units=32, activation='relu')\n",
        "        self.softmax_new = Dense(units=num_classes_new, activation='softmax') # num_classes_new could be different based on new task considered for fine tuning\n",
        "\n",
        "\n",
        "    def call(self, task, task_indices, hx):\n",
        "        h, c = hx\n",
        "        if task == 'emotion':\n",
        "          weight_ih = self.weight_ih_emotion_with_dropout\n",
        "          weight_hh = self.weight_hh_emotion_with_dropout\n",
        "          bias = self.bias_emotion_with_dropout\n",
        "          dense = self.dense_emotion\n",
        "          soft_max = self.softmax_emotion\n",
        "\n",
        "        elif task == 'sentiment':\n",
        "          weight_ih = self.weight_ih_sentiment_with_dropout\n",
        "          weight_hh = self.weight_hh_sentiment_with_dropout\n",
        "          bias = self.bias_sentiment_with_dropout\n",
        "          dense = self.dense_sentiment\n",
        "          soft_max = self.softmax_sentiment\n",
        "\n",
        "        elif task == 'new':\n",
        "          weight_ih = self.weight_ih_new_with_dropout\n",
        "          weight_hh = self.weight_hh_new_with_dropout\n",
        "          bias = self.bias_new_with_dropout\n",
        "          dense = self.dense_new\n",
        "          soft_max = self.softmax_new\n",
        "\n",
        "        else:\n",
        "          raise ValueError('Key Error')\n",
        "\n",
        "\n",
        "        input = self.task_embedding(task_indices)\n",
        "\n",
        "        gates = tf.matmul(input, weight_ih) + tf.matmul(h, weight_hh) + bias\n",
        "\n",
        "        # Split the gates into input, forget, cell, and output gates\n",
        "        input_gate, forget_gate, cell_gate, output_gate = tf.split(gates, 4, axis=-1)\n",
        "\n",
        "        # Apply sigmoid activation to the gates\n",
        "        input_gate = tf.sigmoid(input_gate)\n",
        "        forget_gate = tf.sigmoid(forget_gate)\n",
        "        cell_gate = tf.tanh(cell_gate)\n",
        "        output_gate = tf.sigmoid(output_gate)\n",
        "\n",
        "        # Update the cell and hidden state\n",
        "        c_new = c * forget_gate + input_gate * cell_gate\n",
        "        h_new = output_gate * tf.tanh(c_new)\n",
        "\n",
        "        # Classify using hidden state\n",
        "        dropout_hidden = tf.keras.layers.Dropout(rate=0.2)(h_new)\n",
        "        dense_output = dense(dropout_hidden)\n",
        "        dropout_dense = tf.keras.layers.Dropout(rate=0.1)(dense_output)\n",
        "        output = soft_max(dropout_dense)\n",
        "        return output\n",
        "\n",
        "\n",
        "    def initialize_hidden_state(self, batch_size): # actually, not necessary, cause gets inputs from encoder\n",
        "      return [tf.zeros((batch_size, self.hidden_size)), tf.zeros((batch_size, self.hidden_size))]"
      ]
    },
    {
      "cell_type": "code",
      "execution_count": null,
      "metadata": {
        "id": "w2bIHVBBFNYN"
      },
      "outputs": [],
      "source": [
        "classifier = MultiTaskClassifier(embedding_dim=32, hidden_size=256)"
      ]
    },
    {
      "cell_type": "code",
      "execution_count": null,
      "metadata": {
        "id": "3hLCv4nskdS5"
      },
      "outputs": [],
      "source": [
        "z = tf.constant([0 for i in range(batch_size)], dtype=tf.int32)\n",
        "out = classifier.call(task='emotion',task_indices=z, hx=[h,c])"
      ]
    },
    {
      "cell_type": "markdown",
      "metadata": {
        "id": "Kjp2PPzZQkX-"
      },
      "source": [
        "## LN-LSTM Classifier without learnable Embedding"
      ]
    },
    {
      "cell_type": "code",
      "execution_count": null,
      "metadata": {
        "id": "51I8rHMuQi0G"
      },
      "outputs": [],
      "source": [
        "import tensorflow as tf\n",
        "from tensorflow.keras.layers import LSTM, Dense\n",
        "\n",
        "# To DO: trainability of layers (for fine-tuning)\n",
        "class LNLSTMClassifier_no_emb(tf.keras.Model):\n",
        "    def __init__(self, embedding_dim, hidden_size, dropout=0.3, trainable=True, num_classes_emotion=4, num_classes_sentiment=3, num_classes_new=2):\n",
        "        super(LNLSTMClassifier_no_emb, self).__init__()\n",
        "        self.input_size = embedding_dim\n",
        "        self.hidden_size = hidden_size\n",
        "\n",
        "        # get task specific embedding\n",
        "        #self.task_embedding = TaskEmbedding(num_tasks=3, embedding_dim= self.input_size)\n",
        "\n",
        "        # dropout\n",
        "        self.dropout_layer = tf.keras.layers.Dropout(rate=dropout)\n",
        "\n",
        "        # Layer Normalization\n",
        "        self.ln_emotion_x = tf.keras.layers.LayerNormalization(axis=1)\n",
        "        self.ln_emotion_h = tf.keras.layers.LayerNormalization(axis=1)\n",
        "        self.ln_emotion_c = tf.keras.layers.LayerNormalization(axis=1)\n",
        "\n",
        "        self.ln_sentiment_x = tf.keras.layers.LayerNormalization(axis=1)\n",
        "        self.ln_sentiment_h = tf.keras.layers.LayerNormalization(axis=1)\n",
        "        self.ln_sentiment_c = tf.keras.layers.LayerNormalization(axis=1)\n",
        "\n",
        "        self.ln_new_x = tf.keras.layers.LayerNormalization(axis=1)\n",
        "        self.ln_new_h = tf.keras.layers.LayerNormalization(axis=1)\n",
        "        self.ln_new_c = tf.keras.layers.LayerNormalization(axis=1)\n",
        "\n",
        "\n",
        "        # LSTM parameters\n",
        "        self.weight_ih = self.add_weight(shape=(self.input_size, 4 * hidden_size), trainable= trainable)\n",
        "        self.weight_ih_with_dropout = self.dropout_layer(self.weight_ih)\n",
        "        self.weight_hh = self.add_weight(shape=(hidden_size, 4 * hidden_size), trainable= trainable)\n",
        "        self.weight_hh_with_dropout = self.dropout_layer(self.weight_hh)\n",
        "        self.bias = self.add_weight(shape=(4 * hidden_size,), trainable= trainable)\n",
        "        self.bias_with_dropout = self.dropout_layer(self.bias)\n",
        "\n",
        "        # Classification parameters\n",
        "        self.dense_emotion = Dense(units=32, activation='relu')\n",
        "        self.softmax_emotion = Dense(units=num_classes_emotion, activation='softmax')\n",
        "\n",
        "        self.dense_sentiment = Dense(units=32, activation='relu')\n",
        "        self.softmax_sentiment = Dense(units=num_classes_sentiment, activation='softmax')\n",
        "\n",
        "        self.dense_new = Dense(units=32, activation='relu')\n",
        "        self.softmax_new = Dense(units=num_classes_new, activation='softmax') # num_classes_new could be different based on new task considered for fine tuning\n",
        "\n",
        "\n",
        "    def call(self, task, batch_size, hx):\n",
        "        h, c = hx\n",
        "\n",
        "        if task == 'emotion':\n",
        "          ln_x = self.ln_emotion_x\n",
        "          ln_h = self.ln_emotion_h\n",
        "          ln_c = self.ln_emotion_c\n",
        "          dense = self.dense_emotion\n",
        "          soft_max = self.softmax_emotion\n",
        "\n",
        "        elif task == 'sentiment':\n",
        "          ln_x = self.ln_sentiment_x\n",
        "          ln_h = self.ln_sentiment_h\n",
        "          ln_c = self.ln_sentiment_c\n",
        "          dense = self.dense_sentiment\n",
        "          soft_max = self.softmax_sentiment\n",
        "\n",
        "        elif task == 'new':\n",
        "          ln_x = self.ln_new_x\n",
        "          ln_h = self.ln_new_h\n",
        "          ln_c = self.ln_new_c\n",
        "          dense = self.dense_new\n",
        "          soft_max = self.softmax_new\n",
        "\n",
        "        else:\n",
        "          raise ValueError('Key Error')\n",
        "\n",
        "\n",
        "        input = self.initialize_input(batch_size)\n",
        "\n",
        "        gates = ln_x(tf.matmul(input, self.weight_ih_with_dropout)) + ln_h(tf.matmul(h, self.weight_hh_with_dropout)) + self.bias_with_dropout\n",
        "\n",
        "        # Split the gates into input, forget, cell, and output gates\n",
        "        input_gate, forget_gate, cell_gate, output_gate = tf.split(gates, 4, axis=-1)\n",
        "\n",
        "        # Apply sigmoid activation to the gates\n",
        "        input_gate = tf.sigmoid(input_gate)\n",
        "        forget_gate = tf.sigmoid(forget_gate)\n",
        "        cell_gate = tf.tanh(cell_gate)\n",
        "        output_gate = tf.sigmoid(output_gate)\n",
        "\n",
        "        # Update the cell and hidden state\n",
        "        c_new = c * forget_gate + input_gate * cell_gate\n",
        "        h_new = output_gate * tf.tanh(ln_c(c_new))\n",
        "\n",
        "        # Classify using hidden state\n",
        "        dropout_hidden = tf.keras.layers.Dropout(rate=0.3)(h_new)\n",
        "        dense_output = dense(dropout_hidden)\n",
        "        dropout_dense = tf.keras.layers.Dropout(rate=0.2)(dense_output)\n",
        "        output = soft_max(dropout_dense)\n",
        "        return output\n",
        "\n",
        "\n",
        "    def initialize_hidden_state(self, batch_size): # actually, not necessary, cause gets inputs from encoder\n",
        "      return [tf.zeros((batch_size, self.hidden_size)), tf.zeros((batch_size, self.hidden_size))]\n",
        "\n",
        "    def initialize_input(self, batch_size):\n",
        "      return [tf.zeros((batch_size, self.input_size)), tf.zeros((batch_size, self.input_size))]"
      ]
    },
    {
      "cell_type": "code",
      "execution_count": null,
      "metadata": {
        "colab": {
          "base_uri": "https://localhost:8080/"
        },
        "id": "1m8getXeUqiv",
        "outputId": "23668068-5457-4635-9e06-a7f896542711"
      },
      "outputs": [
        {
          "name": "stdout",
          "output_type": "stream",
          "text": [
            "(2, 64, 32)\n"
          ]
        }
      ],
      "source": [
        "ln_no_emb = LNLSTMClassifier_no_emb(32, 256)\n",
        "a = ln_no_emb.initialize_input(64)\n",
        "print(np.shape(a))"
      ]
    },
    {
      "cell_type": "markdown",
      "metadata": {
        "id": "f97wzawCvnCT"
      },
      "source": [
        "# Training"
      ]
    },
    {
      "cell_type": "code",
      "execution_count": 28,
      "metadata": {
        "id": "oIlbCa_JoLil"
      },
      "outputs": [],
      "source": [
        "# Optimizer\n",
        "import tensorflow as tf\n",
        "optimizer = tf.keras.optimizers.legacy.Adam(0.001)\n",
        "\n",
        "#Loss\n",
        "def loss_function(real, pred):\n",
        "  cross_entropy = tf.keras.losses.SparseCategoricalCrossentropy()\n",
        "  loss = cross_entropy(y_true= real, y_pred= pred)\n",
        "  loss = tf.reduce_mean(loss)\n",
        "  return loss"
      ]
    },
    {
      "cell_type": "code",
      "execution_count": 29,
      "metadata": {
        "id": "jXbguEsky-gI"
      },
      "outputs": [],
      "source": [
        "# Define Models\n",
        "batch_size = batch_size\n",
        "Encoder = LNLSTMCell(embedding_dim= 100, hidden_size= 128)\n",
        "Classifier = LNLSTMClassifier_with_Attention(embedding_dim= 16, hidden_size= 128)"
      ]
    },
    {
      "cell_type": "code",
      "execution_count": 30,
      "metadata": {
        "id": "NucsFr7RycYv"
      },
      "outputs": [],
      "source": [
        "# Path to save models\n",
        "model_save_name= \"LNLSTM/with_attention.ckpt\"\n",
        "path= F\"/content/gdrive/My Drive/Model_checkpoints/{model_save_name}\""
      ]
    },
    {
      "cell_type": "code",
      "execution_count": 31,
      "metadata": {
        "id": "U1kYzQjYyz7z"
      },
      "outputs": [],
      "source": [
        "# Checkpoint_save\n",
        "\n",
        "checkpoint = tf.train.Checkpoint(optiimizer=optimizer,\n",
        "                                 Encoder=Encoder,\n",
        "                                 Classifier=Classifier)\n",
        "# Checkpoint_lr"
      ]
    },
    {
      "cell_type": "code",
      "execution_count": 32,
      "metadata": {
        "id": "lg0wHkSF08G6"
      },
      "outputs": [],
      "source": [
        "# Train Step\n",
        "\n",
        "def train_step(task, text, label):\n",
        "\n",
        "  with tf.GradientTape() as tape:\n",
        "    outputs = tf.TensorArray(tf.float32, size= np.shape(text)[1])\n",
        "    h, c = Encoder.initialize_hidden_state(batch_size=batch_size)\n",
        "    # Encoding\n",
        "    for t in range(np.shape(text)[1]):\n",
        "      h, c = Encoder.call(task, text[:, t], [h,c])\n",
        "      outputs = outputs.write(t, h)\n",
        "    outputs = outputs.stack()\n",
        "    outputs = tf.transpose(outputs, [1,0,2])\n",
        "\n",
        "    task_index = 0\n",
        "    if task == 'emotion':\n",
        "      task_indices = tf.constant([0 for i in range(batch_size)], dtype=tf.int32)\n",
        "    elif task == 'sentiment':\n",
        "      task_indices = tf.constant([1 for i in range(batch_size)], dtype=tf.int32)\n",
        "    elif task == 'new':\n",
        "      task_indices = tf.constant([2 for i in range(batch_size)], dtype=tf.int32)\n",
        "    else:\n",
        "      raise ValueError('Key error')\n",
        "    # Classification\n",
        "    out_probs, _ = Classifier.call(task=task, task_indices= task_indices, hx=[h,c], encoder_outputs = outputs)\n",
        "\n",
        "    # Compute accuracy\n",
        "    predicted_labels = tf.argmax(out_probs, axis=-1)\n",
        "    accuracy = tf.reduce_mean(tf.cast(tf.equal(label, predicted_labels), dtype=tf.float32))\n",
        "\n",
        "    # Loss\n",
        "    loss = loss_function(label, out_probs)\n",
        "\n",
        "    # Get the watched variables based on task\n",
        "    variables = Encoder.trainable_variables + Classifier.trainable_variables\n",
        "\n",
        "    # Compute gradients only for watched variables\n",
        "    gradients = tape.gradient(loss, variables)\n",
        "\n",
        "    optimizer.apply_gradients(zip(gradients, variables))\n",
        "\n",
        "    return loss, accuracy"
      ]
    },
    {
      "cell_type": "code",
      "execution_count": 33,
      "metadata": {
        "id": "D9hWbnnLr_I-"
      },
      "outputs": [],
      "source": [
        "batch_size = 64\n",
        "steps_emotion= len(emotion_text)//batch_size\n",
        "steps_sentiment = len(yelp_text)//batch_size"
      ]
    },
    {
      "cell_type": "code",
      "execution_count": 36,
      "metadata": {
        "colab": {
          "base_uri": "https://localhost:8080/"
        },
        "id": "gF4hXlbi1ens",
        "outputId": "27b55672-3843-40f8-bab4-15766d138571"
      },
      "outputs": [
        {
          "name": "stderr",
          "output_type": "stream",
          "text": [
            "WARNING:tensorflow:Gradients do not exist for variables ['layer_normalization_33/gamma:0', 'layer_normalization_33/beta:0', 'layer_normalization_34/gamma:0', 'layer_normalization_34/beta:0', 'layer_normalization_35/gamma:0', 'layer_normalization_35/beta:0', 'Variable:0', 'Variable:0', 'Variable:0', 'luong_attention_2/layer_normalization_42/gamma:0', 'luong_attention_2/layer_normalization_42/beta:0', 'layer_normalization_45/gamma:0', 'layer_normalization_45/beta:0', 'layer_normalization_46/gamma:0', 'layer_normalization_46/beta:0', 'layer_normalization_47/gamma:0', 'layer_normalization_47/beta:0', 'dense_30/kernel:0', 'dense_30/bias:0', 'dense_31/kernel:0', 'dense_31/bias:0', 'dense_32/kernel:0', 'dense_32/bias:0', 'dense_33/kernel:0', 'dense_33/bias:0', 'dense_34/kernel:0', 'dense_34/bias:0', 'Variable:0', 'Variable:0', 'Variable:0'] when minimizing the loss. If you're using `model.compile()`, did you forget to provide a `loss` argument?\n",
            "WARNING:tensorflow:Gradients do not exist for variables ['layer_normalization_33/gamma:0', 'layer_normalization_33/beta:0', 'layer_normalization_34/gamma:0', 'layer_normalization_34/beta:0', 'layer_normalization_35/gamma:0', 'layer_normalization_35/beta:0', 'Variable:0', 'Variable:0', 'Variable:0', 'luong_attention_2/layer_normalization_42/gamma:0', 'luong_attention_2/layer_normalization_42/beta:0', 'layer_normalization_45/gamma:0', 'layer_normalization_45/beta:0', 'layer_normalization_46/gamma:0', 'layer_normalization_46/beta:0', 'layer_normalization_47/gamma:0', 'layer_normalization_47/beta:0', 'dense_30/kernel:0', 'dense_30/bias:0', 'dense_31/kernel:0', 'dense_31/bias:0', 'dense_32/kernel:0', 'dense_32/bias:0', 'dense_33/kernel:0', 'dense_33/bias:0', 'dense_34/kernel:0', 'dense_34/bias:0', 'Variable:0', 'Variable:0', 'Variable:0'] when minimizing the loss. If you're using `model.compile()`, did you forget to provide a `loss` argument?\n",
            "WARNING:tensorflow:Gradients do not exist for variables ['layer_normalization_33/gamma:0', 'layer_normalization_33/beta:0', 'layer_normalization_34/gamma:0', 'layer_normalization_34/beta:0', 'layer_normalization_35/gamma:0', 'layer_normalization_35/beta:0', 'Variable:0', 'Variable:0', 'Variable:0', 'luong_attention_2/layer_normalization_42/gamma:0', 'luong_attention_2/layer_normalization_42/beta:0', 'layer_normalization_45/gamma:0', 'layer_normalization_45/beta:0', 'layer_normalization_46/gamma:0', 'layer_normalization_46/beta:0', 'layer_normalization_47/gamma:0', 'layer_normalization_47/beta:0', 'dense_30/kernel:0', 'dense_30/bias:0', 'dense_31/kernel:0', 'dense_31/bias:0', 'dense_32/kernel:0', 'dense_32/bias:0', 'dense_33/kernel:0', 'dense_33/bias:0', 'dense_34/kernel:0', 'dense_34/bias:0', 'Variable:0', 'Variable:0', 'Variable:0'] when minimizing the loss. If you're using `model.compile()`, did you forget to provide a `loss` argument?\n",
            "WARNING:tensorflow:Gradients do not exist for variables ['layer_normalization_33/gamma:0', 'layer_normalization_33/beta:0', 'layer_normalization_34/gamma:0', 'layer_normalization_34/beta:0', 'layer_normalization_35/gamma:0', 'layer_normalization_35/beta:0', 'Variable:0', 'Variable:0', 'Variable:0', 'luong_attention_2/layer_normalization_42/gamma:0', 'luong_attention_2/layer_normalization_42/beta:0', 'layer_normalization_45/gamma:0', 'layer_normalization_45/beta:0', 'layer_normalization_46/gamma:0', 'layer_normalization_46/beta:0', 'layer_normalization_47/gamma:0', 'layer_normalization_47/beta:0', 'dense_30/kernel:0', 'dense_30/bias:0', 'dense_31/kernel:0', 'dense_31/bias:0', 'dense_32/kernel:0', 'dense_32/bias:0', 'dense_33/kernel:0', 'dense_33/bias:0', 'dense_34/kernel:0', 'dense_34/bias:0', 'Variable:0', 'Variable:0', 'Variable:0'] when minimizing the loss. If you're using `model.compile()`, did you forget to provide a `loss` argument?\n",
            "WARNING:tensorflow:Gradients do not exist for variables ['layer_normalization_33/gamma:0', 'layer_normalization_33/beta:0', 'layer_normalization_34/gamma:0', 'layer_normalization_34/beta:0', 'layer_normalization_35/gamma:0', 'layer_normalization_35/beta:0', 'Variable:0', 'Variable:0', 'Variable:0', 'luong_attention_2/layer_normalization_42/gamma:0', 'luong_attention_2/layer_normalization_42/beta:0', 'layer_normalization_45/gamma:0', 'layer_normalization_45/beta:0', 'layer_normalization_46/gamma:0', 'layer_normalization_46/beta:0', 'layer_normalization_47/gamma:0', 'layer_normalization_47/beta:0', 'dense_30/kernel:0', 'dense_30/bias:0', 'dense_31/kernel:0', 'dense_31/bias:0', 'dense_32/kernel:0', 'dense_32/bias:0', 'dense_33/kernel:0', 'dense_33/bias:0', 'dense_34/kernel:0', 'dense_34/bias:0', 'Variable:0', 'Variable:0', 'Variable:0'] when minimizing the loss. If you're using `model.compile()`, did you forget to provide a `loss` argument?\n",
            "WARNING:tensorflow:Gradients do not exist for variables ['layer_normalization_33/gamma:0', 'layer_normalization_33/beta:0', 'layer_normalization_34/gamma:0', 'layer_normalization_34/beta:0', 'layer_normalization_35/gamma:0', 'layer_normalization_35/beta:0', 'Variable:0', 'Variable:0', 'Variable:0', 'luong_attention_2/layer_normalization_42/gamma:0', 'luong_attention_2/layer_normalization_42/beta:0', 'layer_normalization_45/gamma:0', 'layer_normalization_45/beta:0', 'layer_normalization_46/gamma:0', 'layer_normalization_46/beta:0', 'layer_normalization_47/gamma:0', 'layer_normalization_47/beta:0', 'dense_30/kernel:0', 'dense_30/bias:0', 'dense_31/kernel:0', 'dense_31/bias:0', 'dense_32/kernel:0', 'dense_32/bias:0', 'dense_33/kernel:0', 'dense_33/bias:0', 'dense_34/kernel:0', 'dense_34/bias:0', 'Variable:0', 'Variable:0', 'Variable:0'] when minimizing the loss. If you're using `model.compile()`, did you forget to provide a `loss` argument?\n",
            "WARNING:tensorflow:Gradients do not exist for variables ['layer_normalization_33/gamma:0', 'layer_normalization_33/beta:0', 'layer_normalization_34/gamma:0', 'layer_normalization_34/beta:0', 'layer_normalization_35/gamma:0', 'layer_normalization_35/beta:0', 'Variable:0', 'Variable:0', 'Variable:0', 'luong_attention_2/layer_normalization_42/gamma:0', 'luong_attention_2/layer_normalization_42/beta:0', 'layer_normalization_45/gamma:0', 'layer_normalization_45/beta:0', 'layer_normalization_46/gamma:0', 'layer_normalization_46/beta:0', 'layer_normalization_47/gamma:0', 'layer_normalization_47/beta:0', 'dense_30/kernel:0', 'dense_30/bias:0', 'dense_31/kernel:0', 'dense_31/bias:0', 'dense_32/kernel:0', 'dense_32/bias:0', 'dense_33/kernel:0', 'dense_33/bias:0', 'dense_34/kernel:0', 'dense_34/bias:0', 'Variable:0', 'Variable:0', 'Variable:0'] when minimizing the loss. If you're using `model.compile()`, did you forget to provide a `loss` argument?\n",
            "WARNING:tensorflow:Gradients do not exist for variables ['layer_normalization_33/gamma:0', 'layer_normalization_33/beta:0', 'layer_normalization_34/gamma:0', 'layer_normalization_34/beta:0', 'layer_normalization_35/gamma:0', 'layer_normalization_35/beta:0', 'Variable:0', 'Variable:0', 'Variable:0', 'luong_attention_2/layer_normalization_42/gamma:0', 'luong_attention_2/layer_normalization_42/beta:0', 'layer_normalization_45/gamma:0', 'layer_normalization_45/beta:0', 'layer_normalization_46/gamma:0', 'layer_normalization_46/beta:0', 'layer_normalization_47/gamma:0', 'layer_normalization_47/beta:0', 'dense_30/kernel:0', 'dense_30/bias:0', 'dense_31/kernel:0', 'dense_31/bias:0', 'dense_32/kernel:0', 'dense_32/bias:0', 'dense_33/kernel:0', 'dense_33/bias:0', 'dense_34/kernel:0', 'dense_34/bias:0', 'Variable:0', 'Variable:0', 'Variable:0'] when minimizing the loss. If you're using `model.compile()`, did you forget to provide a `loss` argument?\n",
            "WARNING:tensorflow:Gradients do not exist for variables ['layer_normalization_33/gamma:0', 'layer_normalization_33/beta:0', 'layer_normalization_34/gamma:0', 'layer_normalization_34/beta:0', 'layer_normalization_35/gamma:0', 'layer_normalization_35/beta:0', 'Variable:0', 'Variable:0', 'Variable:0', 'luong_attention_2/layer_normalization_42/gamma:0', 'luong_attention_2/layer_normalization_42/beta:0', 'layer_normalization_45/gamma:0', 'layer_normalization_45/beta:0', 'layer_normalization_46/gamma:0', 'layer_normalization_46/beta:0', 'layer_normalization_47/gamma:0', 'layer_normalization_47/beta:0', 'dense_30/kernel:0', 'dense_30/bias:0', 'dense_31/kernel:0', 'dense_31/bias:0', 'dense_32/kernel:0', 'dense_32/bias:0', 'dense_33/kernel:0', 'dense_33/bias:0', 'dense_34/kernel:0', 'dense_34/bias:0', 'Variable:0', 'Variable:0', 'Variable:0'] when minimizing the loss. If you're using `model.compile()`, did you forget to provide a `loss` argument?\n",
            "WARNING:tensorflow:Gradients do not exist for variables ['layer_normalization_33/gamma:0', 'layer_normalization_33/beta:0', 'layer_normalization_34/gamma:0', 'layer_normalization_34/beta:0', 'layer_normalization_35/gamma:0', 'layer_normalization_35/beta:0', 'Variable:0', 'Variable:0', 'Variable:0', 'luong_attention_2/layer_normalization_42/gamma:0', 'luong_attention_2/layer_normalization_42/beta:0', 'layer_normalization_45/gamma:0', 'layer_normalization_45/beta:0', 'layer_normalization_46/gamma:0', 'layer_normalization_46/beta:0', 'layer_normalization_47/gamma:0', 'layer_normalization_47/beta:0', 'dense_30/kernel:0', 'dense_30/bias:0', 'dense_31/kernel:0', 'dense_31/bias:0', 'dense_32/kernel:0', 'dense_32/bias:0', 'dense_33/kernel:0', 'dense_33/bias:0', 'dense_34/kernel:0', 'dense_34/bias:0', 'Variable:0', 'Variable:0', 'Variable:0'] when minimizing the loss. If you're using `model.compile()`, did you forget to provide a `loss` argument?\n",
            "WARNING:tensorflow:Gradients do not exist for variables ['layer_normalization_33/gamma:0', 'layer_normalization_33/beta:0', 'layer_normalization_34/gamma:0', 'layer_normalization_34/beta:0', 'layer_normalization_35/gamma:0', 'layer_normalization_35/beta:0', 'Variable:0', 'Variable:0', 'Variable:0', 'luong_attention_2/layer_normalization_42/gamma:0', 'luong_attention_2/layer_normalization_42/beta:0', 'layer_normalization_45/gamma:0', 'layer_normalization_45/beta:0', 'layer_normalization_46/gamma:0', 'layer_normalization_46/beta:0', 'layer_normalization_47/gamma:0', 'layer_normalization_47/beta:0', 'dense_30/kernel:0', 'dense_30/bias:0', 'dense_31/kernel:0', 'dense_31/bias:0', 'dense_32/kernel:0', 'dense_32/bias:0', 'dense_33/kernel:0', 'dense_33/bias:0', 'dense_34/kernel:0', 'dense_34/bias:0', 'Variable:0', 'Variable:0', 'Variable:0'] when minimizing the loss. If you're using `model.compile()`, did you forget to provide a `loss` argument?\n",
            "WARNING:tensorflow:Gradients do not exist for variables ['layer_normalization_33/gamma:0', 'layer_normalization_33/beta:0', 'layer_normalization_34/gamma:0', 'layer_normalization_34/beta:0', 'layer_normalization_35/gamma:0', 'layer_normalization_35/beta:0', 'Variable:0', 'Variable:0', 'Variable:0', 'luong_attention_2/layer_normalization_42/gamma:0', 'luong_attention_2/layer_normalization_42/beta:0', 'layer_normalization_45/gamma:0', 'layer_normalization_45/beta:0', 'layer_normalization_46/gamma:0', 'layer_normalization_46/beta:0', 'layer_normalization_47/gamma:0', 'layer_normalization_47/beta:0', 'dense_30/kernel:0', 'dense_30/bias:0', 'dense_31/kernel:0', 'dense_31/bias:0', 'dense_32/kernel:0', 'dense_32/bias:0', 'dense_33/kernel:0', 'dense_33/bias:0', 'dense_34/kernel:0', 'dense_34/bias:0', 'Variable:0', 'Variable:0', 'Variable:0'] when minimizing the loss. If you're using `model.compile()`, did you forget to provide a `loss` argument?\n",
            "WARNING:tensorflow:Gradients do not exist for variables ['layer_normalization_33/gamma:0', 'layer_normalization_33/beta:0', 'layer_normalization_34/gamma:0', 'layer_normalization_34/beta:0', 'layer_normalization_35/gamma:0', 'layer_normalization_35/beta:0', 'Variable:0', 'Variable:0', 'Variable:0', 'luong_attention_2/layer_normalization_42/gamma:0', 'luong_attention_2/layer_normalization_42/beta:0', 'layer_normalization_45/gamma:0', 'layer_normalization_45/beta:0', 'layer_normalization_46/gamma:0', 'layer_normalization_46/beta:0', 'layer_normalization_47/gamma:0', 'layer_normalization_47/beta:0', 'dense_30/kernel:0', 'dense_30/bias:0', 'dense_31/kernel:0', 'dense_31/bias:0', 'dense_32/kernel:0', 'dense_32/bias:0', 'dense_33/kernel:0', 'dense_33/bias:0', 'dense_34/kernel:0', 'dense_34/bias:0', 'Variable:0', 'Variable:0', 'Variable:0'] when minimizing the loss. If you're using `model.compile()`, did you forget to provide a `loss` argument?\n",
            "WARNING:tensorflow:Gradients do not exist for variables ['layer_normalization_33/gamma:0', 'layer_normalization_33/beta:0', 'layer_normalization_34/gamma:0', 'layer_normalization_34/beta:0', 'layer_normalization_35/gamma:0', 'layer_normalization_35/beta:0', 'Variable:0', 'Variable:0', 'Variable:0', 'luong_attention_2/layer_normalization_42/gamma:0', 'luong_attention_2/layer_normalization_42/beta:0', 'layer_normalization_45/gamma:0', 'layer_normalization_45/beta:0', 'layer_normalization_46/gamma:0', 'layer_normalization_46/beta:0', 'layer_normalization_47/gamma:0', 'layer_normalization_47/beta:0', 'dense_30/kernel:0', 'dense_30/bias:0', 'dense_31/kernel:0', 'dense_31/bias:0', 'dense_32/kernel:0', 'dense_32/bias:0', 'dense_33/kernel:0', 'dense_33/bias:0', 'dense_34/kernel:0', 'dense_34/bias:0', 'Variable:0', 'Variable:0', 'Variable:0'] when minimizing the loss. If you're using `model.compile()`, did you forget to provide a `loss` argument?\n",
            "WARNING:tensorflow:Gradients do not exist for variables ['layer_normalization_33/gamma:0', 'layer_normalization_33/beta:0', 'layer_normalization_34/gamma:0', 'layer_normalization_34/beta:0', 'layer_normalization_35/gamma:0', 'layer_normalization_35/beta:0', 'Variable:0', 'Variable:0', 'Variable:0', 'luong_attention_2/layer_normalization_42/gamma:0', 'luong_attention_2/layer_normalization_42/beta:0', 'layer_normalization_45/gamma:0', 'layer_normalization_45/beta:0', 'layer_normalization_46/gamma:0', 'layer_normalization_46/beta:0', 'layer_normalization_47/gamma:0', 'layer_normalization_47/beta:0', 'dense_30/kernel:0', 'dense_30/bias:0', 'dense_31/kernel:0', 'dense_31/bias:0', 'dense_32/kernel:0', 'dense_32/bias:0', 'dense_33/kernel:0', 'dense_33/bias:0', 'dense_34/kernel:0', 'dense_34/bias:0', 'Variable:0', 'Variable:0', 'Variable:0'] when minimizing the loss. If you're using `model.compile()`, did you forget to provide a `loss` argument?\n",
            "WARNING:tensorflow:Gradients do not exist for variables ['layer_normalization_33/gamma:0', 'layer_normalization_33/beta:0', 'layer_normalization_34/gamma:0', 'layer_normalization_34/beta:0', 'layer_normalization_35/gamma:0', 'layer_normalization_35/beta:0', 'Variable:0', 'Variable:0', 'Variable:0', 'luong_attention_2/layer_normalization_42/gamma:0', 'luong_attention_2/layer_normalization_42/beta:0', 'layer_normalization_45/gamma:0', 'layer_normalization_45/beta:0', 'layer_normalization_46/gamma:0', 'layer_normalization_46/beta:0', 'layer_normalization_47/gamma:0', 'layer_normalization_47/beta:0', 'dense_30/kernel:0', 'dense_30/bias:0', 'dense_31/kernel:0', 'dense_31/bias:0', 'dense_32/kernel:0', 'dense_32/bias:0', 'dense_33/kernel:0', 'dense_33/bias:0', 'dense_34/kernel:0', 'dense_34/bias:0', 'Variable:0', 'Variable:0', 'Variable:0'] when minimizing the loss. If you're using `model.compile()`, did you forget to provide a `loss` argument?\n",
            "WARNING:tensorflow:Gradients do not exist for variables ['layer_normalization_33/gamma:0', 'layer_normalization_33/beta:0', 'layer_normalization_34/gamma:0', 'layer_normalization_34/beta:0', 'layer_normalization_35/gamma:0', 'layer_normalization_35/beta:0', 'Variable:0', 'Variable:0', 'Variable:0', 'luong_attention_2/layer_normalization_42/gamma:0', 'luong_attention_2/layer_normalization_42/beta:0', 'layer_normalization_45/gamma:0', 'layer_normalization_45/beta:0', 'layer_normalization_46/gamma:0', 'layer_normalization_46/beta:0', 'layer_normalization_47/gamma:0', 'layer_normalization_47/beta:0', 'dense_30/kernel:0', 'dense_30/bias:0', 'dense_31/kernel:0', 'dense_31/bias:0', 'dense_32/kernel:0', 'dense_32/bias:0', 'dense_33/kernel:0', 'dense_33/bias:0', 'dense_34/kernel:0', 'dense_34/bias:0', 'Variable:0', 'Variable:0', 'Variable:0'] when minimizing the loss. If you're using `model.compile()`, did you forget to provide a `loss` argument?\n",
            "WARNING:tensorflow:Gradients do not exist for variables ['layer_normalization_33/gamma:0', 'layer_normalization_33/beta:0', 'layer_normalization_34/gamma:0', 'layer_normalization_34/beta:0', 'layer_normalization_35/gamma:0', 'layer_normalization_35/beta:0', 'Variable:0', 'Variable:0', 'Variable:0', 'luong_attention_2/layer_normalization_42/gamma:0', 'luong_attention_2/layer_normalization_42/beta:0', 'layer_normalization_45/gamma:0', 'layer_normalization_45/beta:0', 'layer_normalization_46/gamma:0', 'layer_normalization_46/beta:0', 'layer_normalization_47/gamma:0', 'layer_normalization_47/beta:0', 'dense_30/kernel:0', 'dense_30/bias:0', 'dense_31/kernel:0', 'dense_31/bias:0', 'dense_32/kernel:0', 'dense_32/bias:0', 'dense_33/kernel:0', 'dense_33/bias:0', 'dense_34/kernel:0', 'dense_34/bias:0', 'Variable:0', 'Variable:0', 'Variable:0'] when minimizing the loss. If you're using `model.compile()`, did you forget to provide a `loss` argument?\n",
            "WARNING:tensorflow:Gradients do not exist for variables ['layer_normalization_33/gamma:0', 'layer_normalization_33/beta:0', 'layer_normalization_34/gamma:0', 'layer_normalization_34/beta:0', 'layer_normalization_35/gamma:0', 'layer_normalization_35/beta:0', 'Variable:0', 'Variable:0', 'Variable:0', 'luong_attention_2/layer_normalization_42/gamma:0', 'luong_attention_2/layer_normalization_42/beta:0', 'layer_normalization_45/gamma:0', 'layer_normalization_45/beta:0', 'layer_normalization_46/gamma:0', 'layer_normalization_46/beta:0', 'layer_normalization_47/gamma:0', 'layer_normalization_47/beta:0', 'dense_30/kernel:0', 'dense_30/bias:0', 'dense_31/kernel:0', 'dense_31/bias:0', 'dense_32/kernel:0', 'dense_32/bias:0', 'dense_33/kernel:0', 'dense_33/bias:0', 'dense_34/kernel:0', 'dense_34/bias:0', 'Variable:0', 'Variable:0', 'Variable:0'] when minimizing the loss. If you're using `model.compile()`, did you forget to provide a `loss` argument?\n",
            "WARNING:tensorflow:Gradients do not exist for variables ['layer_normalization_33/gamma:0', 'layer_normalization_33/beta:0', 'layer_normalization_34/gamma:0', 'layer_normalization_34/beta:0', 'layer_normalization_35/gamma:0', 'layer_normalization_35/beta:0', 'Variable:0', 'Variable:0', 'Variable:0', 'luong_attention_2/layer_normalization_42/gamma:0', 'luong_attention_2/layer_normalization_42/beta:0', 'layer_normalization_45/gamma:0', 'layer_normalization_45/beta:0', 'layer_normalization_46/gamma:0', 'layer_normalization_46/beta:0', 'layer_normalization_47/gamma:0', 'layer_normalization_47/beta:0', 'dense_30/kernel:0', 'dense_30/bias:0', 'dense_31/kernel:0', 'dense_31/bias:0', 'dense_32/kernel:0', 'dense_32/bias:0', 'dense_33/kernel:0', 'dense_33/bias:0', 'dense_34/kernel:0', 'dense_34/bias:0', 'Variable:0', 'Variable:0', 'Variable:0'] when minimizing the loss. If you're using `model.compile()`, did you forget to provide a `loss` argument?\n",
            "WARNING:tensorflow:Gradients do not exist for variables ['layer_normalization_33/gamma:0', 'layer_normalization_33/beta:0', 'layer_normalization_34/gamma:0', 'layer_normalization_34/beta:0', 'layer_normalization_35/gamma:0', 'layer_normalization_35/beta:0', 'Variable:0', 'Variable:0', 'Variable:0', 'luong_attention_2/layer_normalization_42/gamma:0', 'luong_attention_2/layer_normalization_42/beta:0', 'layer_normalization_45/gamma:0', 'layer_normalization_45/beta:0', 'layer_normalization_46/gamma:0', 'layer_normalization_46/beta:0', 'layer_normalization_47/gamma:0', 'layer_normalization_47/beta:0', 'dense_30/kernel:0', 'dense_30/bias:0', 'dense_31/kernel:0', 'dense_31/bias:0', 'dense_32/kernel:0', 'dense_32/bias:0', 'dense_33/kernel:0', 'dense_33/bias:0', 'dense_34/kernel:0', 'dense_34/bias:0', 'Variable:0', 'Variable:0', 'Variable:0'] when minimizing the loss. If you're using `model.compile()`, did you forget to provide a `loss` argument?\n",
            "WARNING:tensorflow:Gradients do not exist for variables ['layer_normalization_33/gamma:0', 'layer_normalization_33/beta:0', 'layer_normalization_34/gamma:0', 'layer_normalization_34/beta:0', 'layer_normalization_35/gamma:0', 'layer_normalization_35/beta:0', 'Variable:0', 'Variable:0', 'Variable:0', 'luong_attention_2/layer_normalization_42/gamma:0', 'luong_attention_2/layer_normalization_42/beta:0', 'layer_normalization_45/gamma:0', 'layer_normalization_45/beta:0', 'layer_normalization_46/gamma:0', 'layer_normalization_46/beta:0', 'layer_normalization_47/gamma:0', 'layer_normalization_47/beta:0', 'dense_30/kernel:0', 'dense_30/bias:0', 'dense_31/kernel:0', 'dense_31/bias:0', 'dense_32/kernel:0', 'dense_32/bias:0', 'dense_33/kernel:0', 'dense_33/bias:0', 'dense_34/kernel:0', 'dense_34/bias:0', 'Variable:0', 'Variable:0', 'Variable:0'] when minimizing the loss. If you're using `model.compile()`, did you forget to provide a `loss` argument?\n",
            "WARNING:tensorflow:Gradients do not exist for variables ['layer_normalization_33/gamma:0', 'layer_normalization_33/beta:0', 'layer_normalization_34/gamma:0', 'layer_normalization_34/beta:0', 'layer_normalization_35/gamma:0', 'layer_normalization_35/beta:0', 'Variable:0', 'Variable:0', 'Variable:0', 'luong_attention_2/layer_normalization_42/gamma:0', 'luong_attention_2/layer_normalization_42/beta:0', 'layer_normalization_45/gamma:0', 'layer_normalization_45/beta:0', 'layer_normalization_46/gamma:0', 'layer_normalization_46/beta:0', 'layer_normalization_47/gamma:0', 'layer_normalization_47/beta:0', 'dense_30/kernel:0', 'dense_30/bias:0', 'dense_31/kernel:0', 'dense_31/bias:0', 'dense_32/kernel:0', 'dense_32/bias:0', 'dense_33/kernel:0', 'dense_33/bias:0', 'dense_34/kernel:0', 'dense_34/bias:0', 'Variable:0', 'Variable:0', 'Variable:0'] when minimizing the loss. If you're using `model.compile()`, did you forget to provide a `loss` argument?\n",
            "WARNING:tensorflow:Gradients do not exist for variables ['layer_normalization_33/gamma:0', 'layer_normalization_33/beta:0', 'layer_normalization_34/gamma:0', 'layer_normalization_34/beta:0', 'layer_normalization_35/gamma:0', 'layer_normalization_35/beta:0', 'Variable:0', 'Variable:0', 'Variable:0', 'luong_attention_2/layer_normalization_42/gamma:0', 'luong_attention_2/layer_normalization_42/beta:0', 'layer_normalization_45/gamma:0', 'layer_normalization_45/beta:0', 'layer_normalization_46/gamma:0', 'layer_normalization_46/beta:0', 'layer_normalization_47/gamma:0', 'layer_normalization_47/beta:0', 'dense_30/kernel:0', 'dense_30/bias:0', 'dense_31/kernel:0', 'dense_31/bias:0', 'dense_32/kernel:0', 'dense_32/bias:0', 'dense_33/kernel:0', 'dense_33/bias:0', 'dense_34/kernel:0', 'dense_34/bias:0', 'Variable:0', 'Variable:0', 'Variable:0'] when minimizing the loss. If you're using `model.compile()`, did you forget to provide a `loss` argument?\n",
            "WARNING:tensorflow:Gradients do not exist for variables ['layer_normalization_33/gamma:0', 'layer_normalization_33/beta:0', 'layer_normalization_34/gamma:0', 'layer_normalization_34/beta:0', 'layer_normalization_35/gamma:0', 'layer_normalization_35/beta:0', 'Variable:0', 'Variable:0', 'Variable:0', 'luong_attention_2/layer_normalization_42/gamma:0', 'luong_attention_2/layer_normalization_42/beta:0', 'layer_normalization_45/gamma:0', 'layer_normalization_45/beta:0', 'layer_normalization_46/gamma:0', 'layer_normalization_46/beta:0', 'layer_normalization_47/gamma:0', 'layer_normalization_47/beta:0', 'dense_30/kernel:0', 'dense_30/bias:0', 'dense_31/kernel:0', 'dense_31/bias:0', 'dense_32/kernel:0', 'dense_32/bias:0', 'dense_33/kernel:0', 'dense_33/bias:0', 'dense_34/kernel:0', 'dense_34/bias:0', 'Variable:0', 'Variable:0', 'Variable:0'] when minimizing the loss. If you're using `model.compile()`, did you forget to provide a `loss` argument?\n",
            "WARNING:tensorflow:Gradients do not exist for variables ['layer_normalization_33/gamma:0', 'layer_normalization_33/beta:0', 'layer_normalization_34/gamma:0', 'layer_normalization_34/beta:0', 'layer_normalization_35/gamma:0', 'layer_normalization_35/beta:0', 'Variable:0', 'Variable:0', 'Variable:0', 'luong_attention_2/layer_normalization_42/gamma:0', 'luong_attention_2/layer_normalization_42/beta:0', 'layer_normalization_45/gamma:0', 'layer_normalization_45/beta:0', 'layer_normalization_46/gamma:0', 'layer_normalization_46/beta:0', 'layer_normalization_47/gamma:0', 'layer_normalization_47/beta:0', 'dense_30/kernel:0', 'dense_30/bias:0', 'dense_31/kernel:0', 'dense_31/bias:0', 'dense_32/kernel:0', 'dense_32/bias:0', 'dense_33/kernel:0', 'dense_33/bias:0', 'dense_34/kernel:0', 'dense_34/bias:0', 'Variable:0', 'Variable:0', 'Variable:0'] when minimizing the loss. If you're using `model.compile()`, did you forget to provide a `loss` argument?\n",
            "WARNING:tensorflow:Gradients do not exist for variables ['layer_normalization_33/gamma:0', 'layer_normalization_33/beta:0', 'layer_normalization_34/gamma:0', 'layer_normalization_34/beta:0', 'layer_normalization_35/gamma:0', 'layer_normalization_35/beta:0', 'Variable:0', 'Variable:0', 'Variable:0', 'luong_attention_2/layer_normalization_42/gamma:0', 'luong_attention_2/layer_normalization_42/beta:0', 'layer_normalization_45/gamma:0', 'layer_normalization_45/beta:0', 'layer_normalization_46/gamma:0', 'layer_normalization_46/beta:0', 'layer_normalization_47/gamma:0', 'layer_normalization_47/beta:0', 'dense_30/kernel:0', 'dense_30/bias:0', 'dense_31/kernel:0', 'dense_31/bias:0', 'dense_32/kernel:0', 'dense_32/bias:0', 'dense_33/kernel:0', 'dense_33/bias:0', 'dense_34/kernel:0', 'dense_34/bias:0', 'Variable:0', 'Variable:0', 'Variable:0'] when minimizing the loss. If you're using `model.compile()`, did you forget to provide a `loss` argument?\n",
            "WARNING:tensorflow:Gradients do not exist for variables ['layer_normalization_33/gamma:0', 'layer_normalization_33/beta:0', 'layer_normalization_34/gamma:0', 'layer_normalization_34/beta:0', 'layer_normalization_35/gamma:0', 'layer_normalization_35/beta:0', 'Variable:0', 'Variable:0', 'Variable:0', 'luong_attention_2/layer_normalization_42/gamma:0', 'luong_attention_2/layer_normalization_42/beta:0', 'layer_normalization_45/gamma:0', 'layer_normalization_45/beta:0', 'layer_normalization_46/gamma:0', 'layer_normalization_46/beta:0', 'layer_normalization_47/gamma:0', 'layer_normalization_47/beta:0', 'dense_30/kernel:0', 'dense_30/bias:0', 'dense_31/kernel:0', 'dense_31/bias:0', 'dense_32/kernel:0', 'dense_32/bias:0', 'dense_33/kernel:0', 'dense_33/bias:0', 'dense_34/kernel:0', 'dense_34/bias:0', 'Variable:0', 'Variable:0', 'Variable:0'] when minimizing the loss. If you're using `model.compile()`, did you forget to provide a `loss` argument?\n",
            "WARNING:tensorflow:Gradients do not exist for variables ['layer_normalization_33/gamma:0', 'layer_normalization_33/beta:0', 'layer_normalization_34/gamma:0', 'layer_normalization_34/beta:0', 'layer_normalization_35/gamma:0', 'layer_normalization_35/beta:0', 'Variable:0', 'Variable:0', 'Variable:0', 'luong_attention_2/layer_normalization_42/gamma:0', 'luong_attention_2/layer_normalization_42/beta:0', 'layer_normalization_45/gamma:0', 'layer_normalization_45/beta:0', 'layer_normalization_46/gamma:0', 'layer_normalization_46/beta:0', 'layer_normalization_47/gamma:0', 'layer_normalization_47/beta:0', 'dense_30/kernel:0', 'dense_30/bias:0', 'dense_31/kernel:0', 'dense_31/bias:0', 'dense_32/kernel:0', 'dense_32/bias:0', 'dense_33/kernel:0', 'dense_33/bias:0', 'dense_34/kernel:0', 'dense_34/bias:0', 'Variable:0', 'Variable:0', 'Variable:0'] when minimizing the loss. If you're using `model.compile()`, did you forget to provide a `loss` argument?\n",
            "WARNING:tensorflow:Gradients do not exist for variables ['layer_normalization_33/gamma:0', 'layer_normalization_33/beta:0', 'layer_normalization_34/gamma:0', 'layer_normalization_34/beta:0', 'layer_normalization_35/gamma:0', 'layer_normalization_35/beta:0', 'Variable:0', 'Variable:0', 'Variable:0', 'luong_attention_2/layer_normalization_42/gamma:0', 'luong_attention_2/layer_normalization_42/beta:0', 'layer_normalization_45/gamma:0', 'layer_normalization_45/beta:0', 'layer_normalization_46/gamma:0', 'layer_normalization_46/beta:0', 'layer_normalization_47/gamma:0', 'layer_normalization_47/beta:0', 'dense_30/kernel:0', 'dense_30/bias:0', 'dense_31/kernel:0', 'dense_31/bias:0', 'dense_32/kernel:0', 'dense_32/bias:0', 'dense_33/kernel:0', 'dense_33/bias:0', 'dense_34/kernel:0', 'dense_34/bias:0', 'Variable:0', 'Variable:0', 'Variable:0'] when minimizing the loss. If you're using `model.compile()`, did you forget to provide a `loss` argument?\n",
            "WARNING:tensorflow:Gradients do not exist for variables ['layer_normalization_33/gamma:0', 'layer_normalization_33/beta:0', 'layer_normalization_34/gamma:0', 'layer_normalization_34/beta:0', 'layer_normalization_35/gamma:0', 'layer_normalization_35/beta:0', 'Variable:0', 'Variable:0', 'Variable:0', 'luong_attention_2/layer_normalization_42/gamma:0', 'luong_attention_2/layer_normalization_42/beta:0', 'layer_normalization_45/gamma:0', 'layer_normalization_45/beta:0', 'layer_normalization_46/gamma:0', 'layer_normalization_46/beta:0', 'layer_normalization_47/gamma:0', 'layer_normalization_47/beta:0', 'dense_30/kernel:0', 'dense_30/bias:0', 'dense_31/kernel:0', 'dense_31/bias:0', 'dense_32/kernel:0', 'dense_32/bias:0', 'dense_33/kernel:0', 'dense_33/bias:0', 'dense_34/kernel:0', 'dense_34/bias:0', 'Variable:0', 'Variable:0', 'Variable:0'] when minimizing the loss. If you're using `model.compile()`, did you forget to provide a `loss` argument?\n",
            "WARNING:tensorflow:Gradients do not exist for variables ['layer_normalization_33/gamma:0', 'layer_normalization_33/beta:0', 'layer_normalization_34/gamma:0', 'layer_normalization_34/beta:0', 'layer_normalization_35/gamma:0', 'layer_normalization_35/beta:0', 'Variable:0', 'Variable:0', 'Variable:0', 'luong_attention_2/layer_normalization_42/gamma:0', 'luong_attention_2/layer_normalization_42/beta:0', 'layer_normalization_45/gamma:0', 'layer_normalization_45/beta:0', 'layer_normalization_46/gamma:0', 'layer_normalization_46/beta:0', 'layer_normalization_47/gamma:0', 'layer_normalization_47/beta:0', 'dense_30/kernel:0', 'dense_30/bias:0', 'dense_31/kernel:0', 'dense_31/bias:0', 'dense_32/kernel:0', 'dense_32/bias:0', 'dense_33/kernel:0', 'dense_33/bias:0', 'dense_34/kernel:0', 'dense_34/bias:0', 'Variable:0', 'Variable:0', 'Variable:0'] when minimizing the loss. If you're using `model.compile()`, did you forget to provide a `loss` argument?\n",
            "WARNING:tensorflow:Gradients do not exist for variables ['layer_normalization_33/gamma:0', 'layer_normalization_33/beta:0', 'layer_normalization_34/gamma:0', 'layer_normalization_34/beta:0', 'layer_normalization_35/gamma:0', 'layer_normalization_35/beta:0', 'Variable:0', 'Variable:0', 'Variable:0', 'luong_attention_2/layer_normalization_42/gamma:0', 'luong_attention_2/layer_normalization_42/beta:0', 'layer_normalization_45/gamma:0', 'layer_normalization_45/beta:0', 'layer_normalization_46/gamma:0', 'layer_normalization_46/beta:0', 'layer_normalization_47/gamma:0', 'layer_normalization_47/beta:0', 'dense_30/kernel:0', 'dense_30/bias:0', 'dense_31/kernel:0', 'dense_31/bias:0', 'dense_32/kernel:0', 'dense_32/bias:0', 'dense_33/kernel:0', 'dense_33/bias:0', 'dense_34/kernel:0', 'dense_34/bias:0', 'Variable:0', 'Variable:0', 'Variable:0'] when minimizing the loss. If you're using `model.compile()`, did you forget to provide a `loss` argument?\n",
            "WARNING:tensorflow:Gradients do not exist for variables ['layer_normalization_33/gamma:0', 'layer_normalization_33/beta:0', 'layer_normalization_34/gamma:0', 'layer_normalization_34/beta:0', 'layer_normalization_35/gamma:0', 'layer_normalization_35/beta:0', 'Variable:0', 'Variable:0', 'Variable:0', 'luong_attention_2/layer_normalization_42/gamma:0', 'luong_attention_2/layer_normalization_42/beta:0', 'layer_normalization_45/gamma:0', 'layer_normalization_45/beta:0', 'layer_normalization_46/gamma:0', 'layer_normalization_46/beta:0', 'layer_normalization_47/gamma:0', 'layer_normalization_47/beta:0', 'dense_30/kernel:0', 'dense_30/bias:0', 'dense_31/kernel:0', 'dense_31/bias:0', 'dense_32/kernel:0', 'dense_32/bias:0', 'dense_33/kernel:0', 'dense_33/bias:0', 'dense_34/kernel:0', 'dense_34/bias:0', 'Variable:0', 'Variable:0', 'Variable:0'] when minimizing the loss. If you're using `model.compile()`, did you forget to provide a `loss` argument?\n",
            "WARNING:tensorflow:Gradients do not exist for variables ['layer_normalization_33/gamma:0', 'layer_normalization_33/beta:0', 'layer_normalization_34/gamma:0', 'layer_normalization_34/beta:0', 'layer_normalization_35/gamma:0', 'layer_normalization_35/beta:0', 'Variable:0', 'Variable:0', 'Variable:0', 'luong_attention_2/layer_normalization_42/gamma:0', 'luong_attention_2/layer_normalization_42/beta:0', 'layer_normalization_45/gamma:0', 'layer_normalization_45/beta:0', 'layer_normalization_46/gamma:0', 'layer_normalization_46/beta:0', 'layer_normalization_47/gamma:0', 'layer_normalization_47/beta:0', 'dense_30/kernel:0', 'dense_30/bias:0', 'dense_31/kernel:0', 'dense_31/bias:0', 'dense_32/kernel:0', 'dense_32/bias:0', 'dense_33/kernel:0', 'dense_33/bias:0', 'dense_34/kernel:0', 'dense_34/bias:0', 'Variable:0', 'Variable:0', 'Variable:0'] when minimizing the loss. If you're using `model.compile()`, did you forget to provide a `loss` argument?\n",
            "WARNING:tensorflow:Gradients do not exist for variables ['layer_normalization_33/gamma:0', 'layer_normalization_33/beta:0', 'layer_normalization_34/gamma:0', 'layer_normalization_34/beta:0', 'layer_normalization_35/gamma:0', 'layer_normalization_35/beta:0', 'Variable:0', 'Variable:0', 'Variable:0', 'luong_attention_2/layer_normalization_42/gamma:0', 'luong_attention_2/layer_normalization_42/beta:0', 'layer_normalization_45/gamma:0', 'layer_normalization_45/beta:0', 'layer_normalization_46/gamma:0', 'layer_normalization_46/beta:0', 'layer_normalization_47/gamma:0', 'layer_normalization_47/beta:0', 'dense_30/kernel:0', 'dense_30/bias:0', 'dense_31/kernel:0', 'dense_31/bias:0', 'dense_32/kernel:0', 'dense_32/bias:0', 'dense_33/kernel:0', 'dense_33/bias:0', 'dense_34/kernel:0', 'dense_34/bias:0', 'Variable:0', 'Variable:0', 'Variable:0'] when minimizing the loss. If you're using `model.compile()`, did you forget to provide a `loss` argument?\n",
            "WARNING:tensorflow:Gradients do not exist for variables ['layer_normalization_33/gamma:0', 'layer_normalization_33/beta:0', 'layer_normalization_34/gamma:0', 'layer_normalization_34/beta:0', 'layer_normalization_35/gamma:0', 'layer_normalization_35/beta:0', 'Variable:0', 'Variable:0', 'Variable:0', 'luong_attention_2/layer_normalization_42/gamma:0', 'luong_attention_2/layer_normalization_42/beta:0', 'layer_normalization_45/gamma:0', 'layer_normalization_45/beta:0', 'layer_normalization_46/gamma:0', 'layer_normalization_46/beta:0', 'layer_normalization_47/gamma:0', 'layer_normalization_47/beta:0', 'dense_30/kernel:0', 'dense_30/bias:0', 'dense_31/kernel:0', 'dense_31/bias:0', 'dense_32/kernel:0', 'dense_32/bias:0', 'dense_33/kernel:0', 'dense_33/bias:0', 'dense_34/kernel:0', 'dense_34/bias:0', 'Variable:0', 'Variable:0', 'Variable:0'] when minimizing the loss. If you're using `model.compile()`, did you forget to provide a `loss` argument?\n",
            "WARNING:tensorflow:Gradients do not exist for variables ['layer_normalization_33/gamma:0', 'layer_normalization_33/beta:0', 'layer_normalization_34/gamma:0', 'layer_normalization_34/beta:0', 'layer_normalization_35/gamma:0', 'layer_normalization_35/beta:0', 'Variable:0', 'Variable:0', 'Variable:0', 'luong_attention_2/layer_normalization_42/gamma:0', 'luong_attention_2/layer_normalization_42/beta:0', 'layer_normalization_45/gamma:0', 'layer_normalization_45/beta:0', 'layer_normalization_46/gamma:0', 'layer_normalization_46/beta:0', 'layer_normalization_47/gamma:0', 'layer_normalization_47/beta:0', 'dense_30/kernel:0', 'dense_30/bias:0', 'dense_31/kernel:0', 'dense_31/bias:0', 'dense_32/kernel:0', 'dense_32/bias:0', 'dense_33/kernel:0', 'dense_33/bias:0', 'dense_34/kernel:0', 'dense_34/bias:0', 'Variable:0', 'Variable:0', 'Variable:0'] when minimizing the loss. If you're using `model.compile()`, did you forget to provide a `loss` argument?\n",
            "WARNING:tensorflow:Gradients do not exist for variables ['layer_normalization_33/gamma:0', 'layer_normalization_33/beta:0', 'layer_normalization_34/gamma:0', 'layer_normalization_34/beta:0', 'layer_normalization_35/gamma:0', 'layer_normalization_35/beta:0', 'Variable:0', 'Variable:0', 'Variable:0', 'luong_attention_2/layer_normalization_42/gamma:0', 'luong_attention_2/layer_normalization_42/beta:0', 'layer_normalization_45/gamma:0', 'layer_normalization_45/beta:0', 'layer_normalization_46/gamma:0', 'layer_normalization_46/beta:0', 'layer_normalization_47/gamma:0', 'layer_normalization_47/beta:0', 'dense_30/kernel:0', 'dense_30/bias:0', 'dense_31/kernel:0', 'dense_31/bias:0', 'dense_32/kernel:0', 'dense_32/bias:0', 'dense_33/kernel:0', 'dense_33/bias:0', 'dense_34/kernel:0', 'dense_34/bias:0', 'Variable:0', 'Variable:0', 'Variable:0'] when minimizing the loss. If you're using `model.compile()`, did you forget to provide a `loss` argument?\n",
            "WARNING:tensorflow:Gradients do not exist for variables ['layer_normalization_33/gamma:0', 'layer_normalization_33/beta:0', 'layer_normalization_34/gamma:0', 'layer_normalization_34/beta:0', 'layer_normalization_35/gamma:0', 'layer_normalization_35/beta:0', 'Variable:0', 'Variable:0', 'Variable:0', 'luong_attention_2/layer_normalization_42/gamma:0', 'luong_attention_2/layer_normalization_42/beta:0', 'layer_normalization_45/gamma:0', 'layer_normalization_45/beta:0', 'layer_normalization_46/gamma:0', 'layer_normalization_46/beta:0', 'layer_normalization_47/gamma:0', 'layer_normalization_47/beta:0', 'dense_30/kernel:0', 'dense_30/bias:0', 'dense_31/kernel:0', 'dense_31/bias:0', 'dense_32/kernel:0', 'dense_32/bias:0', 'dense_33/kernel:0', 'dense_33/bias:0', 'dense_34/kernel:0', 'dense_34/bias:0', 'Variable:0', 'Variable:0', 'Variable:0'] when minimizing the loss. If you're using `model.compile()`, did you forget to provide a `loss` argument?\n",
            "WARNING:tensorflow:Gradients do not exist for variables ['layer_normalization_33/gamma:0', 'layer_normalization_33/beta:0', 'layer_normalization_34/gamma:0', 'layer_normalization_34/beta:0', 'layer_normalization_35/gamma:0', 'layer_normalization_35/beta:0', 'Variable:0', 'Variable:0', 'Variable:0', 'luong_attention_2/layer_normalization_42/gamma:0', 'luong_attention_2/layer_normalization_42/beta:0', 'layer_normalization_45/gamma:0', 'layer_normalization_45/beta:0', 'layer_normalization_46/gamma:0', 'layer_normalization_46/beta:0', 'layer_normalization_47/gamma:0', 'layer_normalization_47/beta:0', 'dense_30/kernel:0', 'dense_30/bias:0', 'dense_31/kernel:0', 'dense_31/bias:0', 'dense_32/kernel:0', 'dense_32/bias:0', 'dense_33/kernel:0', 'dense_33/bias:0', 'dense_34/kernel:0', 'dense_34/bias:0', 'Variable:0', 'Variable:0', 'Variable:0'] when minimizing the loss. If you're using `model.compile()`, did you forget to provide a `loss` argument?\n",
            "WARNING:tensorflow:Gradients do not exist for variables ['layer_normalization_33/gamma:0', 'layer_normalization_33/beta:0', 'layer_normalization_34/gamma:0', 'layer_normalization_34/beta:0', 'layer_normalization_35/gamma:0', 'layer_normalization_35/beta:0', 'Variable:0', 'Variable:0', 'Variable:0', 'luong_attention_2/layer_normalization_42/gamma:0', 'luong_attention_2/layer_normalization_42/beta:0', 'layer_normalization_45/gamma:0', 'layer_normalization_45/beta:0', 'layer_normalization_46/gamma:0', 'layer_normalization_46/beta:0', 'layer_normalization_47/gamma:0', 'layer_normalization_47/beta:0', 'dense_30/kernel:0', 'dense_30/bias:0', 'dense_31/kernel:0', 'dense_31/bias:0', 'dense_32/kernel:0', 'dense_32/bias:0', 'dense_33/kernel:0', 'dense_33/bias:0', 'dense_34/kernel:0', 'dense_34/bias:0', 'Variable:0', 'Variable:0', 'Variable:0'] when minimizing the loss. If you're using `model.compile()`, did you forget to provide a `loss` argument?\n",
            "WARNING:tensorflow:Gradients do not exist for variables ['layer_normalization_33/gamma:0', 'layer_normalization_33/beta:0', 'layer_normalization_34/gamma:0', 'layer_normalization_34/beta:0', 'layer_normalization_35/gamma:0', 'layer_normalization_35/beta:0', 'Variable:0', 'Variable:0', 'Variable:0', 'luong_attention_2/layer_normalization_42/gamma:0', 'luong_attention_2/layer_normalization_42/beta:0', 'layer_normalization_45/gamma:0', 'layer_normalization_45/beta:0', 'layer_normalization_46/gamma:0', 'layer_normalization_46/beta:0', 'layer_normalization_47/gamma:0', 'layer_normalization_47/beta:0', 'dense_30/kernel:0', 'dense_30/bias:0', 'dense_31/kernel:0', 'dense_31/bias:0', 'dense_32/kernel:0', 'dense_32/bias:0', 'dense_33/kernel:0', 'dense_33/bias:0', 'dense_34/kernel:0', 'dense_34/bias:0', 'Variable:0', 'Variable:0', 'Variable:0'] when minimizing the loss. If you're using `model.compile()`, did you forget to provide a `loss` argument?\n",
            "WARNING:tensorflow:Gradients do not exist for variables ['layer_normalization_33/gamma:0', 'layer_normalization_33/beta:0', 'layer_normalization_34/gamma:0', 'layer_normalization_34/beta:0', 'layer_normalization_35/gamma:0', 'layer_normalization_35/beta:0', 'Variable:0', 'Variable:0', 'Variable:0', 'luong_attention_2/layer_normalization_42/gamma:0', 'luong_attention_2/layer_normalization_42/beta:0', 'layer_normalization_45/gamma:0', 'layer_normalization_45/beta:0', 'layer_normalization_46/gamma:0', 'layer_normalization_46/beta:0', 'layer_normalization_47/gamma:0', 'layer_normalization_47/beta:0', 'dense_30/kernel:0', 'dense_30/bias:0', 'dense_31/kernel:0', 'dense_31/bias:0', 'dense_32/kernel:0', 'dense_32/bias:0', 'dense_33/kernel:0', 'dense_33/bias:0', 'dense_34/kernel:0', 'dense_34/bias:0', 'Variable:0', 'Variable:0', 'Variable:0'] when minimizing the loss. If you're using `model.compile()`, did you forget to provide a `loss` argument?\n",
            "WARNING:tensorflow:Gradients do not exist for variables ['layer_normalization_33/gamma:0', 'layer_normalization_33/beta:0', 'layer_normalization_34/gamma:0', 'layer_normalization_34/beta:0', 'layer_normalization_35/gamma:0', 'layer_normalization_35/beta:0', 'Variable:0', 'Variable:0', 'Variable:0', 'luong_attention_2/layer_normalization_42/gamma:0', 'luong_attention_2/layer_normalization_42/beta:0', 'layer_normalization_45/gamma:0', 'layer_normalization_45/beta:0', 'layer_normalization_46/gamma:0', 'layer_normalization_46/beta:0', 'layer_normalization_47/gamma:0', 'layer_normalization_47/beta:0', 'dense_30/kernel:0', 'dense_30/bias:0', 'dense_31/kernel:0', 'dense_31/bias:0', 'dense_32/kernel:0', 'dense_32/bias:0', 'dense_33/kernel:0', 'dense_33/bias:0', 'dense_34/kernel:0', 'dense_34/bias:0', 'Variable:0', 'Variable:0', 'Variable:0'] when minimizing the loss. If you're using `model.compile()`, did you forget to provide a `loss` argument?\n",
            "WARNING:tensorflow:Gradients do not exist for variables ['layer_normalization_33/gamma:0', 'layer_normalization_33/beta:0', 'layer_normalization_34/gamma:0', 'layer_normalization_34/beta:0', 'layer_normalization_35/gamma:0', 'layer_normalization_35/beta:0', 'Variable:0', 'Variable:0', 'Variable:0', 'luong_attention_2/layer_normalization_42/gamma:0', 'luong_attention_2/layer_normalization_42/beta:0', 'layer_normalization_45/gamma:0', 'layer_normalization_45/beta:0', 'layer_normalization_46/gamma:0', 'layer_normalization_46/beta:0', 'layer_normalization_47/gamma:0', 'layer_normalization_47/beta:0', 'dense_30/kernel:0', 'dense_30/bias:0', 'dense_31/kernel:0', 'dense_31/bias:0', 'dense_32/kernel:0', 'dense_32/bias:0', 'dense_33/kernel:0', 'dense_33/bias:0', 'dense_34/kernel:0', 'dense_34/bias:0', 'Variable:0', 'Variable:0', 'Variable:0'] when minimizing the loss. If you're using `model.compile()`, did you forget to provide a `loss` argument?\n",
            "WARNING:tensorflow:Gradients do not exist for variables ['layer_normalization_33/gamma:0', 'layer_normalization_33/beta:0', 'layer_normalization_34/gamma:0', 'layer_normalization_34/beta:0', 'layer_normalization_35/gamma:0', 'layer_normalization_35/beta:0', 'Variable:0', 'Variable:0', 'Variable:0', 'luong_attention_2/layer_normalization_42/gamma:0', 'luong_attention_2/layer_normalization_42/beta:0', 'layer_normalization_45/gamma:0', 'layer_normalization_45/beta:0', 'layer_normalization_46/gamma:0', 'layer_normalization_46/beta:0', 'layer_normalization_47/gamma:0', 'layer_normalization_47/beta:0', 'dense_30/kernel:0', 'dense_30/bias:0', 'dense_31/kernel:0', 'dense_31/bias:0', 'dense_32/kernel:0', 'dense_32/bias:0', 'dense_33/kernel:0', 'dense_33/bias:0', 'dense_34/kernel:0', 'dense_34/bias:0', 'Variable:0', 'Variable:0', 'Variable:0'] when minimizing the loss. If you're using `model.compile()`, did you forget to provide a `loss` argument?\n",
            "WARNING:tensorflow:Gradients do not exist for variables ['layer_normalization_33/gamma:0', 'layer_normalization_33/beta:0', 'layer_normalization_34/gamma:0', 'layer_normalization_34/beta:0', 'layer_normalization_35/gamma:0', 'layer_normalization_35/beta:0', 'Variable:0', 'Variable:0', 'Variable:0', 'luong_attention_2/layer_normalization_42/gamma:0', 'luong_attention_2/layer_normalization_42/beta:0', 'layer_normalization_45/gamma:0', 'layer_normalization_45/beta:0', 'layer_normalization_46/gamma:0', 'layer_normalization_46/beta:0', 'layer_normalization_47/gamma:0', 'layer_normalization_47/beta:0', 'dense_30/kernel:0', 'dense_30/bias:0', 'dense_31/kernel:0', 'dense_31/bias:0', 'dense_32/kernel:0', 'dense_32/bias:0', 'dense_33/kernel:0', 'dense_33/bias:0', 'dense_34/kernel:0', 'dense_34/bias:0', 'Variable:0', 'Variable:0', 'Variable:0'] when minimizing the loss. If you're using `model.compile()`, did you forget to provide a `loss` argument?\n",
            "WARNING:tensorflow:Gradients do not exist for variables ['layer_normalization_33/gamma:0', 'layer_normalization_33/beta:0', 'layer_normalization_34/gamma:0', 'layer_normalization_34/beta:0', 'layer_normalization_35/gamma:0', 'layer_normalization_35/beta:0', 'Variable:0', 'Variable:0', 'Variable:0', 'luong_attention_2/layer_normalization_42/gamma:0', 'luong_attention_2/layer_normalization_42/beta:0', 'layer_normalization_45/gamma:0', 'layer_normalization_45/beta:0', 'layer_normalization_46/gamma:0', 'layer_normalization_46/beta:0', 'layer_normalization_47/gamma:0', 'layer_normalization_47/beta:0', 'dense_30/kernel:0', 'dense_30/bias:0', 'dense_31/kernel:0', 'dense_31/bias:0', 'dense_32/kernel:0', 'dense_32/bias:0', 'dense_33/kernel:0', 'dense_33/bias:0', 'dense_34/kernel:0', 'dense_34/bias:0', 'Variable:0', 'Variable:0', 'Variable:0'] when minimizing the loss. If you're using `model.compile()`, did you forget to provide a `loss` argument?\n",
            "WARNING:tensorflow:Gradients do not exist for variables ['layer_normalization_33/gamma:0', 'layer_normalization_33/beta:0', 'layer_normalization_34/gamma:0', 'layer_normalization_34/beta:0', 'layer_normalization_35/gamma:0', 'layer_normalization_35/beta:0', 'Variable:0', 'Variable:0', 'Variable:0', 'luong_attention_2/layer_normalization_42/gamma:0', 'luong_attention_2/layer_normalization_42/beta:0', 'layer_normalization_45/gamma:0', 'layer_normalization_45/beta:0', 'layer_normalization_46/gamma:0', 'layer_normalization_46/beta:0', 'layer_normalization_47/gamma:0', 'layer_normalization_47/beta:0', 'dense_30/kernel:0', 'dense_30/bias:0', 'dense_31/kernel:0', 'dense_31/bias:0', 'dense_32/kernel:0', 'dense_32/bias:0', 'dense_33/kernel:0', 'dense_33/bias:0', 'dense_34/kernel:0', 'dense_34/bias:0', 'Variable:0', 'Variable:0', 'Variable:0'] when minimizing the loss. If you're using `model.compile()`, did you forget to provide a `loss` argument?\n",
            "WARNING:tensorflow:Gradients do not exist for variables ['layer_normalization_33/gamma:0', 'layer_normalization_33/beta:0', 'layer_normalization_34/gamma:0', 'layer_normalization_34/beta:0', 'layer_normalization_35/gamma:0', 'layer_normalization_35/beta:0', 'Variable:0', 'Variable:0', 'Variable:0', 'luong_attention_2/layer_normalization_42/gamma:0', 'luong_attention_2/layer_normalization_42/beta:0', 'layer_normalization_45/gamma:0', 'layer_normalization_45/beta:0', 'layer_normalization_46/gamma:0', 'layer_normalization_46/beta:0', 'layer_normalization_47/gamma:0', 'layer_normalization_47/beta:0', 'dense_30/kernel:0', 'dense_30/bias:0', 'dense_31/kernel:0', 'dense_31/bias:0', 'dense_32/kernel:0', 'dense_32/bias:0', 'dense_33/kernel:0', 'dense_33/bias:0', 'dense_34/kernel:0', 'dense_34/bias:0', 'Variable:0', 'Variable:0', 'Variable:0'] when minimizing the loss. If you're using `model.compile()`, did you forget to provide a `loss` argument?\n",
            "WARNING:tensorflow:Gradients do not exist for variables ['layer_normalization_33/gamma:0', 'layer_normalization_33/beta:0', 'layer_normalization_34/gamma:0', 'layer_normalization_34/beta:0', 'layer_normalization_35/gamma:0', 'layer_normalization_35/beta:0', 'Variable:0', 'Variable:0', 'Variable:0', 'luong_attention_2/layer_normalization_42/gamma:0', 'luong_attention_2/layer_normalization_42/beta:0', 'layer_normalization_45/gamma:0', 'layer_normalization_45/beta:0', 'layer_normalization_46/gamma:0', 'layer_normalization_46/beta:0', 'layer_normalization_47/gamma:0', 'layer_normalization_47/beta:0', 'dense_30/kernel:0', 'dense_30/bias:0', 'dense_31/kernel:0', 'dense_31/bias:0', 'dense_32/kernel:0', 'dense_32/bias:0', 'dense_33/kernel:0', 'dense_33/bias:0', 'dense_34/kernel:0', 'dense_34/bias:0', 'Variable:0', 'Variable:0', 'Variable:0'] when minimizing the loss. If you're using `model.compile()`, did you forget to provide a `loss` argument?\n",
            "WARNING:tensorflow:Gradients do not exist for variables ['layer_normalization_33/gamma:0', 'layer_normalization_33/beta:0', 'layer_normalization_34/gamma:0', 'layer_normalization_34/beta:0', 'layer_normalization_35/gamma:0', 'layer_normalization_35/beta:0', 'Variable:0', 'Variable:0', 'Variable:0', 'luong_attention_2/layer_normalization_42/gamma:0', 'luong_attention_2/layer_normalization_42/beta:0', 'layer_normalization_45/gamma:0', 'layer_normalization_45/beta:0', 'layer_normalization_46/gamma:0', 'layer_normalization_46/beta:0', 'layer_normalization_47/gamma:0', 'layer_normalization_47/beta:0', 'dense_30/kernel:0', 'dense_30/bias:0', 'dense_31/kernel:0', 'dense_31/bias:0', 'dense_32/kernel:0', 'dense_32/bias:0', 'dense_33/kernel:0', 'dense_33/bias:0', 'dense_34/kernel:0', 'dense_34/bias:0', 'Variable:0', 'Variable:0', 'Variable:0'] when minimizing the loss. If you're using `model.compile()`, did you forget to provide a `loss` argument?\n",
            "WARNING:tensorflow:Gradients do not exist for variables ['layer_normalization_33/gamma:0', 'layer_normalization_33/beta:0', 'layer_normalization_34/gamma:0', 'layer_normalization_34/beta:0', 'layer_normalization_35/gamma:0', 'layer_normalization_35/beta:0', 'Variable:0', 'Variable:0', 'Variable:0', 'luong_attention_2/layer_normalization_42/gamma:0', 'luong_attention_2/layer_normalization_42/beta:0', 'layer_normalization_45/gamma:0', 'layer_normalization_45/beta:0', 'layer_normalization_46/gamma:0', 'layer_normalization_46/beta:0', 'layer_normalization_47/gamma:0', 'layer_normalization_47/beta:0', 'dense_30/kernel:0', 'dense_30/bias:0', 'dense_31/kernel:0', 'dense_31/bias:0', 'dense_32/kernel:0', 'dense_32/bias:0', 'dense_33/kernel:0', 'dense_33/bias:0', 'dense_34/kernel:0', 'dense_34/bias:0', 'Variable:0', 'Variable:0', 'Variable:0'] when minimizing the loss. If you're using `model.compile()`, did you forget to provide a `loss` argument?\n",
            "WARNING:tensorflow:Gradients do not exist for variables ['layer_normalization_33/gamma:0', 'layer_normalization_33/beta:0', 'layer_normalization_34/gamma:0', 'layer_normalization_34/beta:0', 'layer_normalization_35/gamma:0', 'layer_normalization_35/beta:0', 'Variable:0', 'Variable:0', 'Variable:0', 'luong_attention_2/layer_normalization_42/gamma:0', 'luong_attention_2/layer_normalization_42/beta:0', 'layer_normalization_45/gamma:0', 'layer_normalization_45/beta:0', 'layer_normalization_46/gamma:0', 'layer_normalization_46/beta:0', 'layer_normalization_47/gamma:0', 'layer_normalization_47/beta:0', 'dense_30/kernel:0', 'dense_30/bias:0', 'dense_31/kernel:0', 'dense_31/bias:0', 'dense_32/kernel:0', 'dense_32/bias:0', 'dense_33/kernel:0', 'dense_33/bias:0', 'dense_34/kernel:0', 'dense_34/bias:0', 'Variable:0', 'Variable:0', 'Variable:0'] when minimizing the loss. If you're using `model.compile()`, did you forget to provide a `loss` argument?\n",
            "WARNING:tensorflow:Gradients do not exist for variables ['layer_normalization_33/gamma:0', 'layer_normalization_33/beta:0', 'layer_normalization_34/gamma:0', 'layer_normalization_34/beta:0', 'layer_normalization_35/gamma:0', 'layer_normalization_35/beta:0', 'Variable:0', 'Variable:0', 'Variable:0', 'luong_attention_2/layer_normalization_42/gamma:0', 'luong_attention_2/layer_normalization_42/beta:0', 'layer_normalization_45/gamma:0', 'layer_normalization_45/beta:0', 'layer_normalization_46/gamma:0', 'layer_normalization_46/beta:0', 'layer_normalization_47/gamma:0', 'layer_normalization_47/beta:0', 'dense_30/kernel:0', 'dense_30/bias:0', 'dense_31/kernel:0', 'dense_31/bias:0', 'dense_32/kernel:0', 'dense_32/bias:0', 'dense_33/kernel:0', 'dense_33/bias:0', 'dense_34/kernel:0', 'dense_34/bias:0', 'Variable:0', 'Variable:0', 'Variable:0'] when minimizing the loss. If you're using `model.compile()`, did you forget to provide a `loss` argument?\n",
            "WARNING:tensorflow:Gradients do not exist for variables ['layer_normalization_33/gamma:0', 'layer_normalization_33/beta:0', 'layer_normalization_34/gamma:0', 'layer_normalization_34/beta:0', 'layer_normalization_35/gamma:0', 'layer_normalization_35/beta:0', 'Variable:0', 'Variable:0', 'Variable:0', 'luong_attention_2/layer_normalization_42/gamma:0', 'luong_attention_2/layer_normalization_42/beta:0', 'layer_normalization_45/gamma:0', 'layer_normalization_45/beta:0', 'layer_normalization_46/gamma:0', 'layer_normalization_46/beta:0', 'layer_normalization_47/gamma:0', 'layer_normalization_47/beta:0', 'dense_30/kernel:0', 'dense_30/bias:0', 'dense_31/kernel:0', 'dense_31/bias:0', 'dense_32/kernel:0', 'dense_32/bias:0', 'dense_33/kernel:0', 'dense_33/bias:0', 'dense_34/kernel:0', 'dense_34/bias:0', 'Variable:0', 'Variable:0', 'Variable:0'] when minimizing the loss. If you're using `model.compile()`, did you forget to provide a `loss` argument?\n",
            "WARNING:tensorflow:Gradients do not exist for variables ['layer_normalization_33/gamma:0', 'layer_normalization_33/beta:0', 'layer_normalization_34/gamma:0', 'layer_normalization_34/beta:0', 'layer_normalization_35/gamma:0', 'layer_normalization_35/beta:0', 'Variable:0', 'Variable:0', 'Variable:0', 'luong_attention_2/layer_normalization_42/gamma:0', 'luong_attention_2/layer_normalization_42/beta:0', 'layer_normalization_45/gamma:0', 'layer_normalization_45/beta:0', 'layer_normalization_46/gamma:0', 'layer_normalization_46/beta:0', 'layer_normalization_47/gamma:0', 'layer_normalization_47/beta:0', 'dense_30/kernel:0', 'dense_30/bias:0', 'dense_31/kernel:0', 'dense_31/bias:0', 'dense_32/kernel:0', 'dense_32/bias:0', 'dense_33/kernel:0', 'dense_33/bias:0', 'dense_34/kernel:0', 'dense_34/bias:0', 'Variable:0', 'Variable:0', 'Variable:0'] when minimizing the loss. If you're using `model.compile()`, did you forget to provide a `loss` argument?\n",
            "WARNING:tensorflow:Gradients do not exist for variables ['layer_normalization_33/gamma:0', 'layer_normalization_33/beta:0', 'layer_normalization_34/gamma:0', 'layer_normalization_34/beta:0', 'layer_normalization_35/gamma:0', 'layer_normalization_35/beta:0', 'Variable:0', 'Variable:0', 'Variable:0', 'luong_attention_2/layer_normalization_42/gamma:0', 'luong_attention_2/layer_normalization_42/beta:0', 'layer_normalization_45/gamma:0', 'layer_normalization_45/beta:0', 'layer_normalization_46/gamma:0', 'layer_normalization_46/beta:0', 'layer_normalization_47/gamma:0', 'layer_normalization_47/beta:0', 'dense_30/kernel:0', 'dense_30/bias:0', 'dense_31/kernel:0', 'dense_31/bias:0', 'dense_32/kernel:0', 'dense_32/bias:0', 'dense_33/kernel:0', 'dense_33/bias:0', 'dense_34/kernel:0', 'dense_34/bias:0', 'Variable:0', 'Variable:0', 'Variable:0'] when minimizing the loss. If you're using `model.compile()`, did you forget to provide a `loss` argument?\n",
            "WARNING:tensorflow:Gradients do not exist for variables ['layer_normalization_33/gamma:0', 'layer_normalization_33/beta:0', 'layer_normalization_34/gamma:0', 'layer_normalization_34/beta:0', 'layer_normalization_35/gamma:0', 'layer_normalization_35/beta:0', 'Variable:0', 'Variable:0', 'Variable:0', 'luong_attention_2/layer_normalization_42/gamma:0', 'luong_attention_2/layer_normalization_42/beta:0', 'layer_normalization_45/gamma:0', 'layer_normalization_45/beta:0', 'layer_normalization_46/gamma:0', 'layer_normalization_46/beta:0', 'layer_normalization_47/gamma:0', 'layer_normalization_47/beta:0', 'dense_30/kernel:0', 'dense_30/bias:0', 'dense_31/kernel:0', 'dense_31/bias:0', 'dense_32/kernel:0', 'dense_32/bias:0', 'dense_33/kernel:0', 'dense_33/bias:0', 'dense_34/kernel:0', 'dense_34/bias:0', 'Variable:0', 'Variable:0', 'Variable:0'] when minimizing the loss. If you're using `model.compile()`, did you forget to provide a `loss` argument?\n",
            "WARNING:tensorflow:Gradients do not exist for variables ['layer_normalization_33/gamma:0', 'layer_normalization_33/beta:0', 'layer_normalization_34/gamma:0', 'layer_normalization_34/beta:0', 'layer_normalization_35/gamma:0', 'layer_normalization_35/beta:0', 'Variable:0', 'Variable:0', 'Variable:0', 'luong_attention_2/layer_normalization_42/gamma:0', 'luong_attention_2/layer_normalization_42/beta:0', 'layer_normalization_45/gamma:0', 'layer_normalization_45/beta:0', 'layer_normalization_46/gamma:0', 'layer_normalization_46/beta:0', 'layer_normalization_47/gamma:0', 'layer_normalization_47/beta:0', 'dense_30/kernel:0', 'dense_30/bias:0', 'dense_31/kernel:0', 'dense_31/bias:0', 'dense_32/kernel:0', 'dense_32/bias:0', 'dense_33/kernel:0', 'dense_33/bias:0', 'dense_34/kernel:0', 'dense_34/bias:0', 'Variable:0', 'Variable:0', 'Variable:0'] when minimizing the loss. If you're using `model.compile()`, did you forget to provide a `loss` argument?\n",
            "WARNING:tensorflow:Gradients do not exist for variables ['layer_normalization_33/gamma:0', 'layer_normalization_33/beta:0', 'layer_normalization_34/gamma:0', 'layer_normalization_34/beta:0', 'layer_normalization_35/gamma:0', 'layer_normalization_35/beta:0', 'Variable:0', 'Variable:0', 'Variable:0', 'luong_attention_2/layer_normalization_42/gamma:0', 'luong_attention_2/layer_normalization_42/beta:0', 'layer_normalization_45/gamma:0', 'layer_normalization_45/beta:0', 'layer_normalization_46/gamma:0', 'layer_normalization_46/beta:0', 'layer_normalization_47/gamma:0', 'layer_normalization_47/beta:0', 'dense_30/kernel:0', 'dense_30/bias:0', 'dense_31/kernel:0', 'dense_31/bias:0', 'dense_32/kernel:0', 'dense_32/bias:0', 'dense_33/kernel:0', 'dense_33/bias:0', 'dense_34/kernel:0', 'dense_34/bias:0', 'Variable:0', 'Variable:0', 'Variable:0'] when minimizing the loss. If you're using `model.compile()`, did you forget to provide a `loss` argument?\n",
            "WARNING:tensorflow:Gradients do not exist for variables ['layer_normalization_33/gamma:0', 'layer_normalization_33/beta:0', 'layer_normalization_34/gamma:0', 'layer_normalization_34/beta:0', 'layer_normalization_35/gamma:0', 'layer_normalization_35/beta:0', 'Variable:0', 'Variable:0', 'Variable:0', 'luong_attention_2/layer_normalization_42/gamma:0', 'luong_attention_2/layer_normalization_42/beta:0', 'layer_normalization_45/gamma:0', 'layer_normalization_45/beta:0', 'layer_normalization_46/gamma:0', 'layer_normalization_46/beta:0', 'layer_normalization_47/gamma:0', 'layer_normalization_47/beta:0', 'dense_30/kernel:0', 'dense_30/bias:0', 'dense_31/kernel:0', 'dense_31/bias:0', 'dense_32/kernel:0', 'dense_32/bias:0', 'dense_33/kernel:0', 'dense_33/bias:0', 'dense_34/kernel:0', 'dense_34/bias:0', 'Variable:0', 'Variable:0', 'Variable:0'] when minimizing the loss. If you're using `model.compile()`, did you forget to provide a `loss` argument?\n",
            "WARNING:tensorflow:Gradients do not exist for variables ['layer_normalization_33/gamma:0', 'layer_normalization_33/beta:0', 'layer_normalization_34/gamma:0', 'layer_normalization_34/beta:0', 'layer_normalization_35/gamma:0', 'layer_normalization_35/beta:0', 'Variable:0', 'Variable:0', 'Variable:0', 'luong_attention_2/layer_normalization_42/gamma:0', 'luong_attention_2/layer_normalization_42/beta:0', 'layer_normalization_45/gamma:0', 'layer_normalization_45/beta:0', 'layer_normalization_46/gamma:0', 'layer_normalization_46/beta:0', 'layer_normalization_47/gamma:0', 'layer_normalization_47/beta:0', 'dense_30/kernel:0', 'dense_30/bias:0', 'dense_31/kernel:0', 'dense_31/bias:0', 'dense_32/kernel:0', 'dense_32/bias:0', 'dense_33/kernel:0', 'dense_33/bias:0', 'dense_34/kernel:0', 'dense_34/bias:0', 'Variable:0', 'Variable:0', 'Variable:0'] when minimizing the loss. If you're using `model.compile()`, did you forget to provide a `loss` argument?\n",
            "WARNING:tensorflow:Gradients do not exist for variables ['layer_normalization_33/gamma:0', 'layer_normalization_33/beta:0', 'layer_normalization_34/gamma:0', 'layer_normalization_34/beta:0', 'layer_normalization_35/gamma:0', 'layer_normalization_35/beta:0', 'Variable:0', 'Variable:0', 'Variable:0', 'luong_attention_2/layer_normalization_42/gamma:0', 'luong_attention_2/layer_normalization_42/beta:0', 'layer_normalization_45/gamma:0', 'layer_normalization_45/beta:0', 'layer_normalization_46/gamma:0', 'layer_normalization_46/beta:0', 'layer_normalization_47/gamma:0', 'layer_normalization_47/beta:0', 'dense_30/kernel:0', 'dense_30/bias:0', 'dense_31/kernel:0', 'dense_31/bias:0', 'dense_32/kernel:0', 'dense_32/bias:0', 'dense_33/kernel:0', 'dense_33/bias:0', 'dense_34/kernel:0', 'dense_34/bias:0', 'Variable:0', 'Variable:0', 'Variable:0'] when minimizing the loss. If you're using `model.compile()`, did you forget to provide a `loss` argument?\n",
            "WARNING:tensorflow:Gradients do not exist for variables ['layer_normalization_33/gamma:0', 'layer_normalization_33/beta:0', 'layer_normalization_34/gamma:0', 'layer_normalization_34/beta:0', 'layer_normalization_35/gamma:0', 'layer_normalization_35/beta:0', 'Variable:0', 'Variable:0', 'Variable:0', 'luong_attention_2/layer_normalization_42/gamma:0', 'luong_attention_2/layer_normalization_42/beta:0', 'layer_normalization_45/gamma:0', 'layer_normalization_45/beta:0', 'layer_normalization_46/gamma:0', 'layer_normalization_46/beta:0', 'layer_normalization_47/gamma:0', 'layer_normalization_47/beta:0', 'dense_30/kernel:0', 'dense_30/bias:0', 'dense_31/kernel:0', 'dense_31/bias:0', 'dense_32/kernel:0', 'dense_32/bias:0', 'dense_33/kernel:0', 'dense_33/bias:0', 'dense_34/kernel:0', 'dense_34/bias:0', 'Variable:0', 'Variable:0', 'Variable:0'] when minimizing the loss. If you're using `model.compile()`, did you forget to provide a `loss` argument?\n",
            "WARNING:tensorflow:Gradients do not exist for variables ['layer_normalization_33/gamma:0', 'layer_normalization_33/beta:0', 'layer_normalization_34/gamma:0', 'layer_normalization_34/beta:0', 'layer_normalization_35/gamma:0', 'layer_normalization_35/beta:0', 'Variable:0', 'Variable:0', 'Variable:0', 'luong_attention_2/layer_normalization_42/gamma:0', 'luong_attention_2/layer_normalization_42/beta:0', 'layer_normalization_45/gamma:0', 'layer_normalization_45/beta:0', 'layer_normalization_46/gamma:0', 'layer_normalization_46/beta:0', 'layer_normalization_47/gamma:0', 'layer_normalization_47/beta:0', 'dense_30/kernel:0', 'dense_30/bias:0', 'dense_31/kernel:0', 'dense_31/bias:0', 'dense_32/kernel:0', 'dense_32/bias:0', 'dense_33/kernel:0', 'dense_33/bias:0', 'dense_34/kernel:0', 'dense_34/bias:0', 'Variable:0', 'Variable:0', 'Variable:0'] when minimizing the loss. If you're using `model.compile()`, did you forget to provide a `loss` argument?\n",
            "WARNING:tensorflow:Gradients do not exist for variables ['layer_normalization_33/gamma:0', 'layer_normalization_33/beta:0', 'layer_normalization_34/gamma:0', 'layer_normalization_34/beta:0', 'layer_normalization_35/gamma:0', 'layer_normalization_35/beta:0', 'Variable:0', 'Variable:0', 'Variable:0', 'luong_attention_2/layer_normalization_42/gamma:0', 'luong_attention_2/layer_normalization_42/beta:0', 'layer_normalization_45/gamma:0', 'layer_normalization_45/beta:0', 'layer_normalization_46/gamma:0', 'layer_normalization_46/beta:0', 'layer_normalization_47/gamma:0', 'layer_normalization_47/beta:0', 'dense_30/kernel:0', 'dense_30/bias:0', 'dense_31/kernel:0', 'dense_31/bias:0', 'dense_32/kernel:0', 'dense_32/bias:0', 'dense_33/kernel:0', 'dense_33/bias:0', 'dense_34/kernel:0', 'dense_34/bias:0', 'Variable:0', 'Variable:0', 'Variable:0'] when minimizing the loss. If you're using `model.compile()`, did you forget to provide a `loss` argument?\n",
            "WARNING:tensorflow:Gradients do not exist for variables ['layer_normalization_33/gamma:0', 'layer_normalization_33/beta:0', 'layer_normalization_34/gamma:0', 'layer_normalization_34/beta:0', 'layer_normalization_35/gamma:0', 'layer_normalization_35/beta:0', 'Variable:0', 'Variable:0', 'Variable:0', 'luong_attention_2/layer_normalization_42/gamma:0', 'luong_attention_2/layer_normalization_42/beta:0', 'layer_normalization_45/gamma:0', 'layer_normalization_45/beta:0', 'layer_normalization_46/gamma:0', 'layer_normalization_46/beta:0', 'layer_normalization_47/gamma:0', 'layer_normalization_47/beta:0', 'dense_30/kernel:0', 'dense_30/bias:0', 'dense_31/kernel:0', 'dense_31/bias:0', 'dense_32/kernel:0', 'dense_32/bias:0', 'dense_33/kernel:0', 'dense_33/bias:0', 'dense_34/kernel:0', 'dense_34/bias:0', 'Variable:0', 'Variable:0', 'Variable:0'] when minimizing the loss. If you're using `model.compile()`, did you forget to provide a `loss` argument?\n",
            "WARNING:tensorflow:Gradients do not exist for variables ['layer_normalization_33/gamma:0', 'layer_normalization_33/beta:0', 'layer_normalization_34/gamma:0', 'layer_normalization_34/beta:0', 'layer_normalization_35/gamma:0', 'layer_normalization_35/beta:0', 'Variable:0', 'Variable:0', 'Variable:0', 'luong_attention_2/layer_normalization_42/gamma:0', 'luong_attention_2/layer_normalization_42/beta:0', 'layer_normalization_45/gamma:0', 'layer_normalization_45/beta:0', 'layer_normalization_46/gamma:0', 'layer_normalization_46/beta:0', 'layer_normalization_47/gamma:0', 'layer_normalization_47/beta:0', 'dense_30/kernel:0', 'dense_30/bias:0', 'dense_31/kernel:0', 'dense_31/bias:0', 'dense_32/kernel:0', 'dense_32/bias:0', 'dense_33/kernel:0', 'dense_33/bias:0', 'dense_34/kernel:0', 'dense_34/bias:0', 'Variable:0', 'Variable:0', 'Variable:0'] when minimizing the loss. If you're using `model.compile()`, did you forget to provide a `loss` argument?\n",
            "WARNING:tensorflow:Gradients do not exist for variables ['layer_normalization_33/gamma:0', 'layer_normalization_33/beta:0', 'layer_normalization_34/gamma:0', 'layer_normalization_34/beta:0', 'layer_normalization_35/gamma:0', 'layer_normalization_35/beta:0', 'Variable:0', 'Variable:0', 'Variable:0', 'luong_attention_2/layer_normalization_42/gamma:0', 'luong_attention_2/layer_normalization_42/beta:0', 'layer_normalization_45/gamma:0', 'layer_normalization_45/beta:0', 'layer_normalization_46/gamma:0', 'layer_normalization_46/beta:0', 'layer_normalization_47/gamma:0', 'layer_normalization_47/beta:0', 'dense_30/kernel:0', 'dense_30/bias:0', 'dense_31/kernel:0', 'dense_31/bias:0', 'dense_32/kernel:0', 'dense_32/bias:0', 'dense_33/kernel:0', 'dense_33/bias:0', 'dense_34/kernel:0', 'dense_34/bias:0', 'Variable:0', 'Variable:0', 'Variable:0'] when minimizing the loss. If you're using `model.compile()`, did you forget to provide a `loss` argument?\n",
            "WARNING:tensorflow:Gradients do not exist for variables ['layer_normalization_33/gamma:0', 'layer_normalization_33/beta:0', 'layer_normalization_34/gamma:0', 'layer_normalization_34/beta:0', 'layer_normalization_35/gamma:0', 'layer_normalization_35/beta:0', 'Variable:0', 'Variable:0', 'Variable:0', 'luong_attention_2/layer_normalization_42/gamma:0', 'luong_attention_2/layer_normalization_42/beta:0', 'layer_normalization_45/gamma:0', 'layer_normalization_45/beta:0', 'layer_normalization_46/gamma:0', 'layer_normalization_46/beta:0', 'layer_normalization_47/gamma:0', 'layer_normalization_47/beta:0', 'dense_30/kernel:0', 'dense_30/bias:0', 'dense_31/kernel:0', 'dense_31/bias:0', 'dense_32/kernel:0', 'dense_32/bias:0', 'dense_33/kernel:0', 'dense_33/bias:0', 'dense_34/kernel:0', 'dense_34/bias:0', 'Variable:0', 'Variable:0', 'Variable:0'] when minimizing the loss. If you're using `model.compile()`, did you forget to provide a `loss` argument?\n",
            "WARNING:tensorflow:Gradients do not exist for variables ['layer_normalization_33/gamma:0', 'layer_normalization_33/beta:0', 'layer_normalization_34/gamma:0', 'layer_normalization_34/beta:0', 'layer_normalization_35/gamma:0', 'layer_normalization_35/beta:0', 'Variable:0', 'Variable:0', 'Variable:0', 'luong_attention_2/layer_normalization_42/gamma:0', 'luong_attention_2/layer_normalization_42/beta:0', 'layer_normalization_45/gamma:0', 'layer_normalization_45/beta:0', 'layer_normalization_46/gamma:0', 'layer_normalization_46/beta:0', 'layer_normalization_47/gamma:0', 'layer_normalization_47/beta:0', 'dense_30/kernel:0', 'dense_30/bias:0', 'dense_31/kernel:0', 'dense_31/bias:0', 'dense_32/kernel:0', 'dense_32/bias:0', 'dense_33/kernel:0', 'dense_33/bias:0', 'dense_34/kernel:0', 'dense_34/bias:0', 'Variable:0', 'Variable:0', 'Variable:0'] when minimizing the loss. If you're using `model.compile()`, did you forget to provide a `loss` argument?\n",
            "WARNING:tensorflow:Gradients do not exist for variables ['layer_normalization_33/gamma:0', 'layer_normalization_33/beta:0', 'layer_normalization_34/gamma:0', 'layer_normalization_34/beta:0', 'layer_normalization_35/gamma:0', 'layer_normalization_35/beta:0', 'Variable:0', 'Variable:0', 'Variable:0', 'luong_attention_2/layer_normalization_42/gamma:0', 'luong_attention_2/layer_normalization_42/beta:0', 'layer_normalization_45/gamma:0', 'layer_normalization_45/beta:0', 'layer_normalization_46/gamma:0', 'layer_normalization_46/beta:0', 'layer_normalization_47/gamma:0', 'layer_normalization_47/beta:0', 'dense_30/kernel:0', 'dense_30/bias:0', 'dense_31/kernel:0', 'dense_31/bias:0', 'dense_32/kernel:0', 'dense_32/bias:0', 'dense_33/kernel:0', 'dense_33/bias:0', 'dense_34/kernel:0', 'dense_34/bias:0', 'Variable:0', 'Variable:0', 'Variable:0'] when minimizing the loss. If you're using `model.compile()`, did you forget to provide a `loss` argument?\n",
            "WARNING:tensorflow:Gradients do not exist for variables ['layer_normalization_33/gamma:0', 'layer_normalization_33/beta:0', 'layer_normalization_34/gamma:0', 'layer_normalization_34/beta:0', 'layer_normalization_35/gamma:0', 'layer_normalization_35/beta:0', 'Variable:0', 'Variable:0', 'Variable:0', 'luong_attention_2/layer_normalization_42/gamma:0', 'luong_attention_2/layer_normalization_42/beta:0', 'layer_normalization_45/gamma:0', 'layer_normalization_45/beta:0', 'layer_normalization_46/gamma:0', 'layer_normalization_46/beta:0', 'layer_normalization_47/gamma:0', 'layer_normalization_47/beta:0', 'dense_30/kernel:0', 'dense_30/bias:0', 'dense_31/kernel:0', 'dense_31/bias:0', 'dense_32/kernel:0', 'dense_32/bias:0', 'dense_33/kernel:0', 'dense_33/bias:0', 'dense_34/kernel:0', 'dense_34/bias:0', 'Variable:0', 'Variable:0', 'Variable:0'] when minimizing the loss. If you're using `model.compile()`, did you forget to provide a `loss` argument?\n",
            "WARNING:tensorflow:Gradients do not exist for variables ['layer_normalization_33/gamma:0', 'layer_normalization_33/beta:0', 'layer_normalization_34/gamma:0', 'layer_normalization_34/beta:0', 'layer_normalization_35/gamma:0', 'layer_normalization_35/beta:0', 'Variable:0', 'Variable:0', 'Variable:0', 'luong_attention_2/layer_normalization_42/gamma:0', 'luong_attention_2/layer_normalization_42/beta:0', 'layer_normalization_45/gamma:0', 'layer_normalization_45/beta:0', 'layer_normalization_46/gamma:0', 'layer_normalization_46/beta:0', 'layer_normalization_47/gamma:0', 'layer_normalization_47/beta:0', 'dense_30/kernel:0', 'dense_30/bias:0', 'dense_31/kernel:0', 'dense_31/bias:0', 'dense_32/kernel:0', 'dense_32/bias:0', 'dense_33/kernel:0', 'dense_33/bias:0', 'dense_34/kernel:0', 'dense_34/bias:0', 'Variable:0', 'Variable:0', 'Variable:0'] when minimizing the loss. If you're using `model.compile()`, did you forget to provide a `loss` argument?\n",
            "WARNING:tensorflow:Gradients do not exist for variables ['layer_normalization_33/gamma:0', 'layer_normalization_33/beta:0', 'layer_normalization_34/gamma:0', 'layer_normalization_34/beta:0', 'layer_normalization_35/gamma:0', 'layer_normalization_35/beta:0', 'Variable:0', 'Variable:0', 'Variable:0', 'luong_attention_2/layer_normalization_42/gamma:0', 'luong_attention_2/layer_normalization_42/beta:0', 'layer_normalization_45/gamma:0', 'layer_normalization_45/beta:0', 'layer_normalization_46/gamma:0', 'layer_normalization_46/beta:0', 'layer_normalization_47/gamma:0', 'layer_normalization_47/beta:0', 'dense_30/kernel:0', 'dense_30/bias:0', 'dense_31/kernel:0', 'dense_31/bias:0', 'dense_32/kernel:0', 'dense_32/bias:0', 'dense_33/kernel:0', 'dense_33/bias:0', 'dense_34/kernel:0', 'dense_34/bias:0', 'Variable:0', 'Variable:0', 'Variable:0'] when minimizing the loss. If you're using `model.compile()`, did you forget to provide a `loss` argument?\n",
            "WARNING:tensorflow:Gradients do not exist for variables ['layer_normalization_33/gamma:0', 'layer_normalization_33/beta:0', 'layer_normalization_34/gamma:0', 'layer_normalization_34/beta:0', 'layer_normalization_35/gamma:0', 'layer_normalization_35/beta:0', 'Variable:0', 'Variable:0', 'Variable:0', 'luong_attention_2/layer_normalization_42/gamma:0', 'luong_attention_2/layer_normalization_42/beta:0', 'layer_normalization_45/gamma:0', 'layer_normalization_45/beta:0', 'layer_normalization_46/gamma:0', 'layer_normalization_46/beta:0', 'layer_normalization_47/gamma:0', 'layer_normalization_47/beta:0', 'dense_30/kernel:0', 'dense_30/bias:0', 'dense_31/kernel:0', 'dense_31/bias:0', 'dense_32/kernel:0', 'dense_32/bias:0', 'dense_33/kernel:0', 'dense_33/bias:0', 'dense_34/kernel:0', 'dense_34/bias:0', 'Variable:0', 'Variable:0', 'Variable:0'] when minimizing the loss. If you're using `model.compile()`, did you forget to provide a `loss` argument?\n"
          ]
        },
        {
          "name": "stdout",
          "output_type": "stream",
          "text": [
            "Epoch 0 Loss Sentiment0.1852\n",
            "Epoch 1 Accuracy Sentiment0.9459\n"
          ]
        },
        {
          "name": "stderr",
          "output_type": "stream",
          "text": [
            "WARNING:tensorflow:Gradients do not exist for variables ['layer_normalization_36/gamma:0', 'layer_normalization_36/beta:0', 'layer_normalization_37/gamma:0', 'layer_normalization_37/beta:0', 'layer_normalization_38/gamma:0', 'layer_normalization_38/beta:0', 'Variable:0', 'Variable:0', 'Variable:0', 'luong_attention_2/layer_normalization_43/gamma:0', 'luong_attention_2/layer_normalization_43/beta:0', 'layer_normalization_48/gamma:0', 'layer_normalization_48/beta:0', 'layer_normalization_49/gamma:0', 'layer_normalization_49/beta:0', 'layer_normalization_50/gamma:0', 'layer_normalization_50/beta:0', 'dense_35/kernel:0', 'dense_35/bias:0', 'dense_36/kernel:0', 'dense_36/bias:0', 'dense_37/kernel:0', 'dense_37/bias:0', 'dense_38/kernel:0', 'dense_38/bias:0', 'dense_39/kernel:0', 'dense_39/bias:0', 'Variable:0', 'Variable:0', 'Variable:0'] when minimizing the loss. If you're using `model.compile()`, did you forget to provide a `loss` argument?\n",
            "WARNING:tensorflow:Gradients do not exist for variables ['layer_normalization_36/gamma:0', 'layer_normalization_36/beta:0', 'layer_normalization_37/gamma:0', 'layer_normalization_37/beta:0', 'layer_normalization_38/gamma:0', 'layer_normalization_38/beta:0', 'Variable:0', 'Variable:0', 'Variable:0', 'luong_attention_2/layer_normalization_43/gamma:0', 'luong_attention_2/layer_normalization_43/beta:0', 'layer_normalization_48/gamma:0', 'layer_normalization_48/beta:0', 'layer_normalization_49/gamma:0', 'layer_normalization_49/beta:0', 'layer_normalization_50/gamma:0', 'layer_normalization_50/beta:0', 'dense_35/kernel:0', 'dense_35/bias:0', 'dense_36/kernel:0', 'dense_36/bias:0', 'dense_37/kernel:0', 'dense_37/bias:0', 'dense_38/kernel:0', 'dense_38/bias:0', 'dense_39/kernel:0', 'dense_39/bias:0', 'Variable:0', 'Variable:0', 'Variable:0'] when minimizing the loss. If you're using `model.compile()`, did you forget to provide a `loss` argument?\n",
            "WARNING:tensorflow:Gradients do not exist for variables ['layer_normalization_36/gamma:0', 'layer_normalization_36/beta:0', 'layer_normalization_37/gamma:0', 'layer_normalization_37/beta:0', 'layer_normalization_38/gamma:0', 'layer_normalization_38/beta:0', 'Variable:0', 'Variable:0', 'Variable:0', 'luong_attention_2/layer_normalization_43/gamma:0', 'luong_attention_2/layer_normalization_43/beta:0', 'layer_normalization_48/gamma:0', 'layer_normalization_48/beta:0', 'layer_normalization_49/gamma:0', 'layer_normalization_49/beta:0', 'layer_normalization_50/gamma:0', 'layer_normalization_50/beta:0', 'dense_35/kernel:0', 'dense_35/bias:0', 'dense_36/kernel:0', 'dense_36/bias:0', 'dense_37/kernel:0', 'dense_37/bias:0', 'dense_38/kernel:0', 'dense_38/bias:0', 'dense_39/kernel:0', 'dense_39/bias:0', 'Variable:0', 'Variable:0', 'Variable:0'] when minimizing the loss. If you're using `model.compile()`, did you forget to provide a `loss` argument?\n",
            "WARNING:tensorflow:Gradients do not exist for variables ['layer_normalization_36/gamma:0', 'layer_normalization_36/beta:0', 'layer_normalization_37/gamma:0', 'layer_normalization_37/beta:0', 'layer_normalization_38/gamma:0', 'layer_normalization_38/beta:0', 'Variable:0', 'Variable:0', 'Variable:0', 'luong_attention_2/layer_normalization_43/gamma:0', 'luong_attention_2/layer_normalization_43/beta:0', 'layer_normalization_48/gamma:0', 'layer_normalization_48/beta:0', 'layer_normalization_49/gamma:0', 'layer_normalization_49/beta:0', 'layer_normalization_50/gamma:0', 'layer_normalization_50/beta:0', 'dense_35/kernel:0', 'dense_35/bias:0', 'dense_36/kernel:0', 'dense_36/bias:0', 'dense_37/kernel:0', 'dense_37/bias:0', 'dense_38/kernel:0', 'dense_38/bias:0', 'dense_39/kernel:0', 'dense_39/bias:0', 'Variable:0', 'Variable:0', 'Variable:0'] when minimizing the loss. If you're using `model.compile()`, did you forget to provide a `loss` argument?\n",
            "WARNING:tensorflow:Gradients do not exist for variables ['layer_normalization_36/gamma:0', 'layer_normalization_36/beta:0', 'layer_normalization_37/gamma:0', 'layer_normalization_37/beta:0', 'layer_normalization_38/gamma:0', 'layer_normalization_38/beta:0', 'Variable:0', 'Variable:0', 'Variable:0', 'luong_attention_2/layer_normalization_43/gamma:0', 'luong_attention_2/layer_normalization_43/beta:0', 'layer_normalization_48/gamma:0', 'layer_normalization_48/beta:0', 'layer_normalization_49/gamma:0', 'layer_normalization_49/beta:0', 'layer_normalization_50/gamma:0', 'layer_normalization_50/beta:0', 'dense_35/kernel:0', 'dense_35/bias:0', 'dense_36/kernel:0', 'dense_36/bias:0', 'dense_37/kernel:0', 'dense_37/bias:0', 'dense_38/kernel:0', 'dense_38/bias:0', 'dense_39/kernel:0', 'dense_39/bias:0', 'Variable:0', 'Variable:0', 'Variable:0'] when minimizing the loss. If you're using `model.compile()`, did you forget to provide a `loss` argument?\n",
            "WARNING:tensorflow:Gradients do not exist for variables ['layer_normalization_36/gamma:0', 'layer_normalization_36/beta:0', 'layer_normalization_37/gamma:0', 'layer_normalization_37/beta:0', 'layer_normalization_38/gamma:0', 'layer_normalization_38/beta:0', 'Variable:0', 'Variable:0', 'Variable:0', 'luong_attention_2/layer_normalization_43/gamma:0', 'luong_attention_2/layer_normalization_43/beta:0', 'layer_normalization_48/gamma:0', 'layer_normalization_48/beta:0', 'layer_normalization_49/gamma:0', 'layer_normalization_49/beta:0', 'layer_normalization_50/gamma:0', 'layer_normalization_50/beta:0', 'dense_35/kernel:0', 'dense_35/bias:0', 'dense_36/kernel:0', 'dense_36/bias:0', 'dense_37/kernel:0', 'dense_37/bias:0', 'dense_38/kernel:0', 'dense_38/bias:0', 'dense_39/kernel:0', 'dense_39/bias:0', 'Variable:0', 'Variable:0', 'Variable:0'] when minimizing the loss. If you're using `model.compile()`, did you forget to provide a `loss` argument?\n",
            "WARNING:tensorflow:Gradients do not exist for variables ['layer_normalization_36/gamma:0', 'layer_normalization_36/beta:0', 'layer_normalization_37/gamma:0', 'layer_normalization_37/beta:0', 'layer_normalization_38/gamma:0', 'layer_normalization_38/beta:0', 'Variable:0', 'Variable:0', 'Variable:0', 'luong_attention_2/layer_normalization_43/gamma:0', 'luong_attention_2/layer_normalization_43/beta:0', 'layer_normalization_48/gamma:0', 'layer_normalization_48/beta:0', 'layer_normalization_49/gamma:0', 'layer_normalization_49/beta:0', 'layer_normalization_50/gamma:0', 'layer_normalization_50/beta:0', 'dense_35/kernel:0', 'dense_35/bias:0', 'dense_36/kernel:0', 'dense_36/bias:0', 'dense_37/kernel:0', 'dense_37/bias:0', 'dense_38/kernel:0', 'dense_38/bias:0', 'dense_39/kernel:0', 'dense_39/bias:0', 'Variable:0', 'Variable:0', 'Variable:0'] when minimizing the loss. If you're using `model.compile()`, did you forget to provide a `loss` argument?\n",
            "WARNING:tensorflow:Gradients do not exist for variables ['layer_normalization_36/gamma:0', 'layer_normalization_36/beta:0', 'layer_normalization_37/gamma:0', 'layer_normalization_37/beta:0', 'layer_normalization_38/gamma:0', 'layer_normalization_38/beta:0', 'Variable:0', 'Variable:0', 'Variable:0', 'luong_attention_2/layer_normalization_43/gamma:0', 'luong_attention_2/layer_normalization_43/beta:0', 'layer_normalization_48/gamma:0', 'layer_normalization_48/beta:0', 'layer_normalization_49/gamma:0', 'layer_normalization_49/beta:0', 'layer_normalization_50/gamma:0', 'layer_normalization_50/beta:0', 'dense_35/kernel:0', 'dense_35/bias:0', 'dense_36/kernel:0', 'dense_36/bias:0', 'dense_37/kernel:0', 'dense_37/bias:0', 'dense_38/kernel:0', 'dense_38/bias:0', 'dense_39/kernel:0', 'dense_39/bias:0', 'Variable:0', 'Variable:0', 'Variable:0'] when minimizing the loss. If you're using `model.compile()`, did you forget to provide a `loss` argument?\n",
            "WARNING:tensorflow:Gradients do not exist for variables ['layer_normalization_36/gamma:0', 'layer_normalization_36/beta:0', 'layer_normalization_37/gamma:0', 'layer_normalization_37/beta:0', 'layer_normalization_38/gamma:0', 'layer_normalization_38/beta:0', 'Variable:0', 'Variable:0', 'Variable:0', 'luong_attention_2/layer_normalization_43/gamma:0', 'luong_attention_2/layer_normalization_43/beta:0', 'layer_normalization_48/gamma:0', 'layer_normalization_48/beta:0', 'layer_normalization_49/gamma:0', 'layer_normalization_49/beta:0', 'layer_normalization_50/gamma:0', 'layer_normalization_50/beta:0', 'dense_35/kernel:0', 'dense_35/bias:0', 'dense_36/kernel:0', 'dense_36/bias:0', 'dense_37/kernel:0', 'dense_37/bias:0', 'dense_38/kernel:0', 'dense_38/bias:0', 'dense_39/kernel:0', 'dense_39/bias:0', 'Variable:0', 'Variable:0', 'Variable:0'] when minimizing the loss. If you're using `model.compile()`, did you forget to provide a `loss` argument?\n",
            "WARNING:tensorflow:Gradients do not exist for variables ['layer_normalization_36/gamma:0', 'layer_normalization_36/beta:0', 'layer_normalization_37/gamma:0', 'layer_normalization_37/beta:0', 'layer_normalization_38/gamma:0', 'layer_normalization_38/beta:0', 'Variable:0', 'Variable:0', 'Variable:0', 'luong_attention_2/layer_normalization_43/gamma:0', 'luong_attention_2/layer_normalization_43/beta:0', 'layer_normalization_48/gamma:0', 'layer_normalization_48/beta:0', 'layer_normalization_49/gamma:0', 'layer_normalization_49/beta:0', 'layer_normalization_50/gamma:0', 'layer_normalization_50/beta:0', 'dense_35/kernel:0', 'dense_35/bias:0', 'dense_36/kernel:0', 'dense_36/bias:0', 'dense_37/kernel:0', 'dense_37/bias:0', 'dense_38/kernel:0', 'dense_38/bias:0', 'dense_39/kernel:0', 'dense_39/bias:0', 'Variable:0', 'Variable:0', 'Variable:0'] when minimizing the loss. If you're using `model.compile()`, did you forget to provide a `loss` argument?\n",
            "WARNING:tensorflow:Gradients do not exist for variables ['layer_normalization_36/gamma:0', 'layer_normalization_36/beta:0', 'layer_normalization_37/gamma:0', 'layer_normalization_37/beta:0', 'layer_normalization_38/gamma:0', 'layer_normalization_38/beta:0', 'Variable:0', 'Variable:0', 'Variable:0', 'luong_attention_2/layer_normalization_43/gamma:0', 'luong_attention_2/layer_normalization_43/beta:0', 'layer_normalization_48/gamma:0', 'layer_normalization_48/beta:0', 'layer_normalization_49/gamma:0', 'layer_normalization_49/beta:0', 'layer_normalization_50/gamma:0', 'layer_normalization_50/beta:0', 'dense_35/kernel:0', 'dense_35/bias:0', 'dense_36/kernel:0', 'dense_36/bias:0', 'dense_37/kernel:0', 'dense_37/bias:0', 'dense_38/kernel:0', 'dense_38/bias:0', 'dense_39/kernel:0', 'dense_39/bias:0', 'Variable:0', 'Variable:0', 'Variable:0'] when minimizing the loss. If you're using `model.compile()`, did you forget to provide a `loss` argument?\n",
            "WARNING:tensorflow:Gradients do not exist for variables ['layer_normalization_36/gamma:0', 'layer_normalization_36/beta:0', 'layer_normalization_37/gamma:0', 'layer_normalization_37/beta:0', 'layer_normalization_38/gamma:0', 'layer_normalization_38/beta:0', 'Variable:0', 'Variable:0', 'Variable:0', 'luong_attention_2/layer_normalization_43/gamma:0', 'luong_attention_2/layer_normalization_43/beta:0', 'layer_normalization_48/gamma:0', 'layer_normalization_48/beta:0', 'layer_normalization_49/gamma:0', 'layer_normalization_49/beta:0', 'layer_normalization_50/gamma:0', 'layer_normalization_50/beta:0', 'dense_35/kernel:0', 'dense_35/bias:0', 'dense_36/kernel:0', 'dense_36/bias:0', 'dense_37/kernel:0', 'dense_37/bias:0', 'dense_38/kernel:0', 'dense_38/bias:0', 'dense_39/kernel:0', 'dense_39/bias:0', 'Variable:0', 'Variable:0', 'Variable:0'] when minimizing the loss. If you're using `model.compile()`, did you forget to provide a `loss` argument?\n",
            "WARNING:tensorflow:Gradients do not exist for variables ['layer_normalization_36/gamma:0', 'layer_normalization_36/beta:0', 'layer_normalization_37/gamma:0', 'layer_normalization_37/beta:0', 'layer_normalization_38/gamma:0', 'layer_normalization_38/beta:0', 'Variable:0', 'Variable:0', 'Variable:0', 'luong_attention_2/layer_normalization_43/gamma:0', 'luong_attention_2/layer_normalization_43/beta:0', 'layer_normalization_48/gamma:0', 'layer_normalization_48/beta:0', 'layer_normalization_49/gamma:0', 'layer_normalization_49/beta:0', 'layer_normalization_50/gamma:0', 'layer_normalization_50/beta:0', 'dense_35/kernel:0', 'dense_35/bias:0', 'dense_36/kernel:0', 'dense_36/bias:0', 'dense_37/kernel:0', 'dense_37/bias:0', 'dense_38/kernel:0', 'dense_38/bias:0', 'dense_39/kernel:0', 'dense_39/bias:0', 'Variable:0', 'Variable:0', 'Variable:0'] when minimizing the loss. If you're using `model.compile()`, did you forget to provide a `loss` argument?\n",
            "WARNING:tensorflow:Gradients do not exist for variables ['layer_normalization_36/gamma:0', 'layer_normalization_36/beta:0', 'layer_normalization_37/gamma:0', 'layer_normalization_37/beta:0', 'layer_normalization_38/gamma:0', 'layer_normalization_38/beta:0', 'Variable:0', 'Variable:0', 'Variable:0', 'luong_attention_2/layer_normalization_43/gamma:0', 'luong_attention_2/layer_normalization_43/beta:0', 'layer_normalization_48/gamma:0', 'layer_normalization_48/beta:0', 'layer_normalization_49/gamma:0', 'layer_normalization_49/beta:0', 'layer_normalization_50/gamma:0', 'layer_normalization_50/beta:0', 'dense_35/kernel:0', 'dense_35/bias:0', 'dense_36/kernel:0', 'dense_36/bias:0', 'dense_37/kernel:0', 'dense_37/bias:0', 'dense_38/kernel:0', 'dense_38/bias:0', 'dense_39/kernel:0', 'dense_39/bias:0', 'Variable:0', 'Variable:0', 'Variable:0'] when minimizing the loss. If you're using `model.compile()`, did you forget to provide a `loss` argument?\n",
            "WARNING:tensorflow:Gradients do not exist for variables ['layer_normalization_36/gamma:0', 'layer_normalization_36/beta:0', 'layer_normalization_37/gamma:0', 'layer_normalization_37/beta:0', 'layer_normalization_38/gamma:0', 'layer_normalization_38/beta:0', 'Variable:0', 'Variable:0', 'Variable:0', 'luong_attention_2/layer_normalization_43/gamma:0', 'luong_attention_2/layer_normalization_43/beta:0', 'layer_normalization_48/gamma:0', 'layer_normalization_48/beta:0', 'layer_normalization_49/gamma:0', 'layer_normalization_49/beta:0', 'layer_normalization_50/gamma:0', 'layer_normalization_50/beta:0', 'dense_35/kernel:0', 'dense_35/bias:0', 'dense_36/kernel:0', 'dense_36/bias:0', 'dense_37/kernel:0', 'dense_37/bias:0', 'dense_38/kernel:0', 'dense_38/bias:0', 'dense_39/kernel:0', 'dense_39/bias:0', 'Variable:0', 'Variable:0', 'Variable:0'] when minimizing the loss. If you're using `model.compile()`, did you forget to provide a `loss` argument?\n",
            "WARNING:tensorflow:Gradients do not exist for variables ['layer_normalization_36/gamma:0', 'layer_normalization_36/beta:0', 'layer_normalization_37/gamma:0', 'layer_normalization_37/beta:0', 'layer_normalization_38/gamma:0', 'layer_normalization_38/beta:0', 'Variable:0', 'Variable:0', 'Variable:0', 'luong_attention_2/layer_normalization_43/gamma:0', 'luong_attention_2/layer_normalization_43/beta:0', 'layer_normalization_48/gamma:0', 'layer_normalization_48/beta:0', 'layer_normalization_49/gamma:0', 'layer_normalization_49/beta:0', 'layer_normalization_50/gamma:0', 'layer_normalization_50/beta:0', 'dense_35/kernel:0', 'dense_35/bias:0', 'dense_36/kernel:0', 'dense_36/bias:0', 'dense_37/kernel:0', 'dense_37/bias:0', 'dense_38/kernel:0', 'dense_38/bias:0', 'dense_39/kernel:0', 'dense_39/bias:0', 'Variable:0', 'Variable:0', 'Variable:0'] when minimizing the loss. If you're using `model.compile()`, did you forget to provide a `loss` argument?\n",
            "WARNING:tensorflow:Gradients do not exist for variables ['layer_normalization_36/gamma:0', 'layer_normalization_36/beta:0', 'layer_normalization_37/gamma:0', 'layer_normalization_37/beta:0', 'layer_normalization_38/gamma:0', 'layer_normalization_38/beta:0', 'Variable:0', 'Variable:0', 'Variable:0', 'luong_attention_2/layer_normalization_43/gamma:0', 'luong_attention_2/layer_normalization_43/beta:0', 'layer_normalization_48/gamma:0', 'layer_normalization_48/beta:0', 'layer_normalization_49/gamma:0', 'layer_normalization_49/beta:0', 'layer_normalization_50/gamma:0', 'layer_normalization_50/beta:0', 'dense_35/kernel:0', 'dense_35/bias:0', 'dense_36/kernel:0', 'dense_36/bias:0', 'dense_37/kernel:0', 'dense_37/bias:0', 'dense_38/kernel:0', 'dense_38/bias:0', 'dense_39/kernel:0', 'dense_39/bias:0', 'Variable:0', 'Variable:0', 'Variable:0'] when minimizing the loss. If you're using `model.compile()`, did you forget to provide a `loss` argument?\n",
            "WARNING:tensorflow:Gradients do not exist for variables ['layer_normalization_36/gamma:0', 'layer_normalization_36/beta:0', 'layer_normalization_37/gamma:0', 'layer_normalization_37/beta:0', 'layer_normalization_38/gamma:0', 'layer_normalization_38/beta:0', 'Variable:0', 'Variable:0', 'Variable:0', 'luong_attention_2/layer_normalization_43/gamma:0', 'luong_attention_2/layer_normalization_43/beta:0', 'layer_normalization_48/gamma:0', 'layer_normalization_48/beta:0', 'layer_normalization_49/gamma:0', 'layer_normalization_49/beta:0', 'layer_normalization_50/gamma:0', 'layer_normalization_50/beta:0', 'dense_35/kernel:0', 'dense_35/bias:0', 'dense_36/kernel:0', 'dense_36/bias:0', 'dense_37/kernel:0', 'dense_37/bias:0', 'dense_38/kernel:0', 'dense_38/bias:0', 'dense_39/kernel:0', 'dense_39/bias:0', 'Variable:0', 'Variable:0', 'Variable:0'] when minimizing the loss. If you're using `model.compile()`, did you forget to provide a `loss` argument?\n",
            "WARNING:tensorflow:Gradients do not exist for variables ['layer_normalization_36/gamma:0', 'layer_normalization_36/beta:0', 'layer_normalization_37/gamma:0', 'layer_normalization_37/beta:0', 'layer_normalization_38/gamma:0', 'layer_normalization_38/beta:0', 'Variable:0', 'Variable:0', 'Variable:0', 'luong_attention_2/layer_normalization_43/gamma:0', 'luong_attention_2/layer_normalization_43/beta:0', 'layer_normalization_48/gamma:0', 'layer_normalization_48/beta:0', 'layer_normalization_49/gamma:0', 'layer_normalization_49/beta:0', 'layer_normalization_50/gamma:0', 'layer_normalization_50/beta:0', 'dense_35/kernel:0', 'dense_35/bias:0', 'dense_36/kernel:0', 'dense_36/bias:0', 'dense_37/kernel:0', 'dense_37/bias:0', 'dense_38/kernel:0', 'dense_38/bias:0', 'dense_39/kernel:0', 'dense_39/bias:0', 'Variable:0', 'Variable:0', 'Variable:0'] when minimizing the loss. If you're using `model.compile()`, did you forget to provide a `loss` argument?\n",
            "WARNING:tensorflow:Gradients do not exist for variables ['layer_normalization_36/gamma:0', 'layer_normalization_36/beta:0', 'layer_normalization_37/gamma:0', 'layer_normalization_37/beta:0', 'layer_normalization_38/gamma:0', 'layer_normalization_38/beta:0', 'Variable:0', 'Variable:0', 'Variable:0', 'luong_attention_2/layer_normalization_43/gamma:0', 'luong_attention_2/layer_normalization_43/beta:0', 'layer_normalization_48/gamma:0', 'layer_normalization_48/beta:0', 'layer_normalization_49/gamma:0', 'layer_normalization_49/beta:0', 'layer_normalization_50/gamma:0', 'layer_normalization_50/beta:0', 'dense_35/kernel:0', 'dense_35/bias:0', 'dense_36/kernel:0', 'dense_36/bias:0', 'dense_37/kernel:0', 'dense_37/bias:0', 'dense_38/kernel:0', 'dense_38/bias:0', 'dense_39/kernel:0', 'dense_39/bias:0', 'Variable:0', 'Variable:0', 'Variable:0'] when minimizing the loss. If you're using `model.compile()`, did you forget to provide a `loss` argument?\n",
            "WARNING:tensorflow:Gradients do not exist for variables ['layer_normalization_36/gamma:0', 'layer_normalization_36/beta:0', 'layer_normalization_37/gamma:0', 'layer_normalization_37/beta:0', 'layer_normalization_38/gamma:0', 'layer_normalization_38/beta:0', 'Variable:0', 'Variable:0', 'Variable:0', 'luong_attention_2/layer_normalization_43/gamma:0', 'luong_attention_2/layer_normalization_43/beta:0', 'layer_normalization_48/gamma:0', 'layer_normalization_48/beta:0', 'layer_normalization_49/gamma:0', 'layer_normalization_49/beta:0', 'layer_normalization_50/gamma:0', 'layer_normalization_50/beta:0', 'dense_35/kernel:0', 'dense_35/bias:0', 'dense_36/kernel:0', 'dense_36/bias:0', 'dense_37/kernel:0', 'dense_37/bias:0', 'dense_38/kernel:0', 'dense_38/bias:0', 'dense_39/kernel:0', 'dense_39/bias:0', 'Variable:0', 'Variable:0', 'Variable:0'] when minimizing the loss. If you're using `model.compile()`, did you forget to provide a `loss` argument?\n",
            "WARNING:tensorflow:Gradients do not exist for variables ['layer_normalization_36/gamma:0', 'layer_normalization_36/beta:0', 'layer_normalization_37/gamma:0', 'layer_normalization_37/beta:0', 'layer_normalization_38/gamma:0', 'layer_normalization_38/beta:0', 'Variable:0', 'Variable:0', 'Variable:0', 'luong_attention_2/layer_normalization_43/gamma:0', 'luong_attention_2/layer_normalization_43/beta:0', 'layer_normalization_48/gamma:0', 'layer_normalization_48/beta:0', 'layer_normalization_49/gamma:0', 'layer_normalization_49/beta:0', 'layer_normalization_50/gamma:0', 'layer_normalization_50/beta:0', 'dense_35/kernel:0', 'dense_35/bias:0', 'dense_36/kernel:0', 'dense_36/bias:0', 'dense_37/kernel:0', 'dense_37/bias:0', 'dense_38/kernel:0', 'dense_38/bias:0', 'dense_39/kernel:0', 'dense_39/bias:0', 'Variable:0', 'Variable:0', 'Variable:0'] when minimizing the loss. If you're using `model.compile()`, did you forget to provide a `loss` argument?\n",
            "WARNING:tensorflow:Gradients do not exist for variables ['layer_normalization_36/gamma:0', 'layer_normalization_36/beta:0', 'layer_normalization_37/gamma:0', 'layer_normalization_37/beta:0', 'layer_normalization_38/gamma:0', 'layer_normalization_38/beta:0', 'Variable:0', 'Variable:0', 'Variable:0', 'luong_attention_2/layer_normalization_43/gamma:0', 'luong_attention_2/layer_normalization_43/beta:0', 'layer_normalization_48/gamma:0', 'layer_normalization_48/beta:0', 'layer_normalization_49/gamma:0', 'layer_normalization_49/beta:0', 'layer_normalization_50/gamma:0', 'layer_normalization_50/beta:0', 'dense_35/kernel:0', 'dense_35/bias:0', 'dense_36/kernel:0', 'dense_36/bias:0', 'dense_37/kernel:0', 'dense_37/bias:0', 'dense_38/kernel:0', 'dense_38/bias:0', 'dense_39/kernel:0', 'dense_39/bias:0', 'Variable:0', 'Variable:0', 'Variable:0'] when minimizing the loss. If you're using `model.compile()`, did you forget to provide a `loss` argument?\n",
            "WARNING:tensorflow:Gradients do not exist for variables ['layer_normalization_36/gamma:0', 'layer_normalization_36/beta:0', 'layer_normalization_37/gamma:0', 'layer_normalization_37/beta:0', 'layer_normalization_38/gamma:0', 'layer_normalization_38/beta:0', 'Variable:0', 'Variable:0', 'Variable:0', 'luong_attention_2/layer_normalization_43/gamma:0', 'luong_attention_2/layer_normalization_43/beta:0', 'layer_normalization_48/gamma:0', 'layer_normalization_48/beta:0', 'layer_normalization_49/gamma:0', 'layer_normalization_49/beta:0', 'layer_normalization_50/gamma:0', 'layer_normalization_50/beta:0', 'dense_35/kernel:0', 'dense_35/bias:0', 'dense_36/kernel:0', 'dense_36/bias:0', 'dense_37/kernel:0', 'dense_37/bias:0', 'dense_38/kernel:0', 'dense_38/bias:0', 'dense_39/kernel:0', 'dense_39/bias:0', 'Variable:0', 'Variable:0', 'Variable:0'] when minimizing the loss. If you're using `model.compile()`, did you forget to provide a `loss` argument?\n",
            "WARNING:tensorflow:Gradients do not exist for variables ['layer_normalization_36/gamma:0', 'layer_normalization_36/beta:0', 'layer_normalization_37/gamma:0', 'layer_normalization_37/beta:0', 'layer_normalization_38/gamma:0', 'layer_normalization_38/beta:0', 'Variable:0', 'Variable:0', 'Variable:0', 'luong_attention_2/layer_normalization_43/gamma:0', 'luong_attention_2/layer_normalization_43/beta:0', 'layer_normalization_48/gamma:0', 'layer_normalization_48/beta:0', 'layer_normalization_49/gamma:0', 'layer_normalization_49/beta:0', 'layer_normalization_50/gamma:0', 'layer_normalization_50/beta:0', 'dense_35/kernel:0', 'dense_35/bias:0', 'dense_36/kernel:0', 'dense_36/bias:0', 'dense_37/kernel:0', 'dense_37/bias:0', 'dense_38/kernel:0', 'dense_38/bias:0', 'dense_39/kernel:0', 'dense_39/bias:0', 'Variable:0', 'Variable:0', 'Variable:0'] when minimizing the loss. If you're using `model.compile()`, did you forget to provide a `loss` argument?\n",
            "WARNING:tensorflow:Gradients do not exist for variables ['layer_normalization_36/gamma:0', 'layer_normalization_36/beta:0', 'layer_normalization_37/gamma:0', 'layer_normalization_37/beta:0', 'layer_normalization_38/gamma:0', 'layer_normalization_38/beta:0', 'Variable:0', 'Variable:0', 'Variable:0', 'luong_attention_2/layer_normalization_43/gamma:0', 'luong_attention_2/layer_normalization_43/beta:0', 'layer_normalization_48/gamma:0', 'layer_normalization_48/beta:0', 'layer_normalization_49/gamma:0', 'layer_normalization_49/beta:0', 'layer_normalization_50/gamma:0', 'layer_normalization_50/beta:0', 'dense_35/kernel:0', 'dense_35/bias:0', 'dense_36/kernel:0', 'dense_36/bias:0', 'dense_37/kernel:0', 'dense_37/bias:0', 'dense_38/kernel:0', 'dense_38/bias:0', 'dense_39/kernel:0', 'dense_39/bias:0', 'Variable:0', 'Variable:0', 'Variable:0'] when minimizing the loss. If you're using `model.compile()`, did you forget to provide a `loss` argument?\n",
            "WARNING:tensorflow:Gradients do not exist for variables ['layer_normalization_36/gamma:0', 'layer_normalization_36/beta:0', 'layer_normalization_37/gamma:0', 'layer_normalization_37/beta:0', 'layer_normalization_38/gamma:0', 'layer_normalization_38/beta:0', 'Variable:0', 'Variable:0', 'Variable:0', 'luong_attention_2/layer_normalization_43/gamma:0', 'luong_attention_2/layer_normalization_43/beta:0', 'layer_normalization_48/gamma:0', 'layer_normalization_48/beta:0', 'layer_normalization_49/gamma:0', 'layer_normalization_49/beta:0', 'layer_normalization_50/gamma:0', 'layer_normalization_50/beta:0', 'dense_35/kernel:0', 'dense_35/bias:0', 'dense_36/kernel:0', 'dense_36/bias:0', 'dense_37/kernel:0', 'dense_37/bias:0', 'dense_38/kernel:0', 'dense_38/bias:0', 'dense_39/kernel:0', 'dense_39/bias:0', 'Variable:0', 'Variable:0', 'Variable:0'] when minimizing the loss. If you're using `model.compile()`, did you forget to provide a `loss` argument?\n",
            "WARNING:tensorflow:Gradients do not exist for variables ['layer_normalization_36/gamma:0', 'layer_normalization_36/beta:0', 'layer_normalization_37/gamma:0', 'layer_normalization_37/beta:0', 'layer_normalization_38/gamma:0', 'layer_normalization_38/beta:0', 'Variable:0', 'Variable:0', 'Variable:0', 'luong_attention_2/layer_normalization_43/gamma:0', 'luong_attention_2/layer_normalization_43/beta:0', 'layer_normalization_48/gamma:0', 'layer_normalization_48/beta:0', 'layer_normalization_49/gamma:0', 'layer_normalization_49/beta:0', 'layer_normalization_50/gamma:0', 'layer_normalization_50/beta:0', 'dense_35/kernel:0', 'dense_35/bias:0', 'dense_36/kernel:0', 'dense_36/bias:0', 'dense_37/kernel:0', 'dense_37/bias:0', 'dense_38/kernel:0', 'dense_38/bias:0', 'dense_39/kernel:0', 'dense_39/bias:0', 'Variable:0', 'Variable:0', 'Variable:0'] when minimizing the loss. If you're using `model.compile()`, did you forget to provide a `loss` argument?\n",
            "WARNING:tensorflow:Gradients do not exist for variables ['layer_normalization_36/gamma:0', 'layer_normalization_36/beta:0', 'layer_normalization_37/gamma:0', 'layer_normalization_37/beta:0', 'layer_normalization_38/gamma:0', 'layer_normalization_38/beta:0', 'Variable:0', 'Variable:0', 'Variable:0', 'luong_attention_2/layer_normalization_43/gamma:0', 'luong_attention_2/layer_normalization_43/beta:0', 'layer_normalization_48/gamma:0', 'layer_normalization_48/beta:0', 'layer_normalization_49/gamma:0', 'layer_normalization_49/beta:0', 'layer_normalization_50/gamma:0', 'layer_normalization_50/beta:0', 'dense_35/kernel:0', 'dense_35/bias:0', 'dense_36/kernel:0', 'dense_36/bias:0', 'dense_37/kernel:0', 'dense_37/bias:0', 'dense_38/kernel:0', 'dense_38/bias:0', 'dense_39/kernel:0', 'dense_39/bias:0', 'Variable:0', 'Variable:0', 'Variable:0'] when minimizing the loss. If you're using `model.compile()`, did you forget to provide a `loss` argument?\n",
            "WARNING:tensorflow:Gradients do not exist for variables ['layer_normalization_36/gamma:0', 'layer_normalization_36/beta:0', 'layer_normalization_37/gamma:0', 'layer_normalization_37/beta:0', 'layer_normalization_38/gamma:0', 'layer_normalization_38/beta:0', 'Variable:0', 'Variable:0', 'Variable:0', 'luong_attention_2/layer_normalization_43/gamma:0', 'luong_attention_2/layer_normalization_43/beta:0', 'layer_normalization_48/gamma:0', 'layer_normalization_48/beta:0', 'layer_normalization_49/gamma:0', 'layer_normalization_49/beta:0', 'layer_normalization_50/gamma:0', 'layer_normalization_50/beta:0', 'dense_35/kernel:0', 'dense_35/bias:0', 'dense_36/kernel:0', 'dense_36/bias:0', 'dense_37/kernel:0', 'dense_37/bias:0', 'dense_38/kernel:0', 'dense_38/bias:0', 'dense_39/kernel:0', 'dense_39/bias:0', 'Variable:0', 'Variable:0', 'Variable:0'] when minimizing the loss. If you're using `model.compile()`, did you forget to provide a `loss` argument?\n",
            "WARNING:tensorflow:Gradients do not exist for variables ['layer_normalization_36/gamma:0', 'layer_normalization_36/beta:0', 'layer_normalization_37/gamma:0', 'layer_normalization_37/beta:0', 'layer_normalization_38/gamma:0', 'layer_normalization_38/beta:0', 'Variable:0', 'Variable:0', 'Variable:0', 'luong_attention_2/layer_normalization_43/gamma:0', 'luong_attention_2/layer_normalization_43/beta:0', 'layer_normalization_48/gamma:0', 'layer_normalization_48/beta:0', 'layer_normalization_49/gamma:0', 'layer_normalization_49/beta:0', 'layer_normalization_50/gamma:0', 'layer_normalization_50/beta:0', 'dense_35/kernel:0', 'dense_35/bias:0', 'dense_36/kernel:0', 'dense_36/bias:0', 'dense_37/kernel:0', 'dense_37/bias:0', 'dense_38/kernel:0', 'dense_38/bias:0', 'dense_39/kernel:0', 'dense_39/bias:0', 'Variable:0', 'Variable:0', 'Variable:0'] when minimizing the loss. If you're using `model.compile()`, did you forget to provide a `loss` argument?\n",
            "WARNING:tensorflow:Gradients do not exist for variables ['layer_normalization_36/gamma:0', 'layer_normalization_36/beta:0', 'layer_normalization_37/gamma:0', 'layer_normalization_37/beta:0', 'layer_normalization_38/gamma:0', 'layer_normalization_38/beta:0', 'Variable:0', 'Variable:0', 'Variable:0', 'luong_attention_2/layer_normalization_43/gamma:0', 'luong_attention_2/layer_normalization_43/beta:0', 'layer_normalization_48/gamma:0', 'layer_normalization_48/beta:0', 'layer_normalization_49/gamma:0', 'layer_normalization_49/beta:0', 'layer_normalization_50/gamma:0', 'layer_normalization_50/beta:0', 'dense_35/kernel:0', 'dense_35/bias:0', 'dense_36/kernel:0', 'dense_36/bias:0', 'dense_37/kernel:0', 'dense_37/bias:0', 'dense_38/kernel:0', 'dense_38/bias:0', 'dense_39/kernel:0', 'dense_39/bias:0', 'Variable:0', 'Variable:0', 'Variable:0'] when minimizing the loss. If you're using `model.compile()`, did you forget to provide a `loss` argument?\n",
            "WARNING:tensorflow:Gradients do not exist for variables ['layer_normalization_36/gamma:0', 'layer_normalization_36/beta:0', 'layer_normalization_37/gamma:0', 'layer_normalization_37/beta:0', 'layer_normalization_38/gamma:0', 'layer_normalization_38/beta:0', 'Variable:0', 'Variable:0', 'Variable:0', 'luong_attention_2/layer_normalization_43/gamma:0', 'luong_attention_2/layer_normalization_43/beta:0', 'layer_normalization_48/gamma:0', 'layer_normalization_48/beta:0', 'layer_normalization_49/gamma:0', 'layer_normalization_49/beta:0', 'layer_normalization_50/gamma:0', 'layer_normalization_50/beta:0', 'dense_35/kernel:0', 'dense_35/bias:0', 'dense_36/kernel:0', 'dense_36/bias:0', 'dense_37/kernel:0', 'dense_37/bias:0', 'dense_38/kernel:0', 'dense_38/bias:0', 'dense_39/kernel:0', 'dense_39/bias:0', 'Variable:0', 'Variable:0', 'Variable:0'] when minimizing the loss. If you're using `model.compile()`, did you forget to provide a `loss` argument?\n",
            "WARNING:tensorflow:Gradients do not exist for variables ['layer_normalization_36/gamma:0', 'layer_normalization_36/beta:0', 'layer_normalization_37/gamma:0', 'layer_normalization_37/beta:0', 'layer_normalization_38/gamma:0', 'layer_normalization_38/beta:0', 'Variable:0', 'Variable:0', 'Variable:0', 'luong_attention_2/layer_normalization_43/gamma:0', 'luong_attention_2/layer_normalization_43/beta:0', 'layer_normalization_48/gamma:0', 'layer_normalization_48/beta:0', 'layer_normalization_49/gamma:0', 'layer_normalization_49/beta:0', 'layer_normalization_50/gamma:0', 'layer_normalization_50/beta:0', 'dense_35/kernel:0', 'dense_35/bias:0', 'dense_36/kernel:0', 'dense_36/bias:0', 'dense_37/kernel:0', 'dense_37/bias:0', 'dense_38/kernel:0', 'dense_38/bias:0', 'dense_39/kernel:0', 'dense_39/bias:0', 'Variable:0', 'Variable:0', 'Variable:0'] when minimizing the loss. If you're using `model.compile()`, did you forget to provide a `loss` argument?\n",
            "WARNING:tensorflow:Gradients do not exist for variables ['layer_normalization_36/gamma:0', 'layer_normalization_36/beta:0', 'layer_normalization_37/gamma:0', 'layer_normalization_37/beta:0', 'layer_normalization_38/gamma:0', 'layer_normalization_38/beta:0', 'Variable:0', 'Variable:0', 'Variable:0', 'luong_attention_2/layer_normalization_43/gamma:0', 'luong_attention_2/layer_normalization_43/beta:0', 'layer_normalization_48/gamma:0', 'layer_normalization_48/beta:0', 'layer_normalization_49/gamma:0', 'layer_normalization_49/beta:0', 'layer_normalization_50/gamma:0', 'layer_normalization_50/beta:0', 'dense_35/kernel:0', 'dense_35/bias:0', 'dense_36/kernel:0', 'dense_36/bias:0', 'dense_37/kernel:0', 'dense_37/bias:0', 'dense_38/kernel:0', 'dense_38/bias:0', 'dense_39/kernel:0', 'dense_39/bias:0', 'Variable:0', 'Variable:0', 'Variable:0'] when minimizing the loss. If you're using `model.compile()`, did you forget to provide a `loss` argument?\n",
            "WARNING:tensorflow:Gradients do not exist for variables ['layer_normalization_36/gamma:0', 'layer_normalization_36/beta:0', 'layer_normalization_37/gamma:0', 'layer_normalization_37/beta:0', 'layer_normalization_38/gamma:0', 'layer_normalization_38/beta:0', 'Variable:0', 'Variable:0', 'Variable:0', 'luong_attention_2/layer_normalization_43/gamma:0', 'luong_attention_2/layer_normalization_43/beta:0', 'layer_normalization_48/gamma:0', 'layer_normalization_48/beta:0', 'layer_normalization_49/gamma:0', 'layer_normalization_49/beta:0', 'layer_normalization_50/gamma:0', 'layer_normalization_50/beta:0', 'dense_35/kernel:0', 'dense_35/bias:0', 'dense_36/kernel:0', 'dense_36/bias:0', 'dense_37/kernel:0', 'dense_37/bias:0', 'dense_38/kernel:0', 'dense_38/bias:0', 'dense_39/kernel:0', 'dense_39/bias:0', 'Variable:0', 'Variable:0', 'Variable:0'] when minimizing the loss. If you're using `model.compile()`, did you forget to provide a `loss` argument?\n",
            "WARNING:tensorflow:Gradients do not exist for variables ['layer_normalization_36/gamma:0', 'layer_normalization_36/beta:0', 'layer_normalization_37/gamma:0', 'layer_normalization_37/beta:0', 'layer_normalization_38/gamma:0', 'layer_normalization_38/beta:0', 'Variable:0', 'Variable:0', 'Variable:0', 'luong_attention_2/layer_normalization_43/gamma:0', 'luong_attention_2/layer_normalization_43/beta:0', 'layer_normalization_48/gamma:0', 'layer_normalization_48/beta:0', 'layer_normalization_49/gamma:0', 'layer_normalization_49/beta:0', 'layer_normalization_50/gamma:0', 'layer_normalization_50/beta:0', 'dense_35/kernel:0', 'dense_35/bias:0', 'dense_36/kernel:0', 'dense_36/bias:0', 'dense_37/kernel:0', 'dense_37/bias:0', 'dense_38/kernel:0', 'dense_38/bias:0', 'dense_39/kernel:0', 'dense_39/bias:0', 'Variable:0', 'Variable:0', 'Variable:0'] when minimizing the loss. If you're using `model.compile()`, did you forget to provide a `loss` argument?\n",
            "WARNING:tensorflow:Gradients do not exist for variables ['layer_normalization_36/gamma:0', 'layer_normalization_36/beta:0', 'layer_normalization_37/gamma:0', 'layer_normalization_37/beta:0', 'layer_normalization_38/gamma:0', 'layer_normalization_38/beta:0', 'Variable:0', 'Variable:0', 'Variable:0', 'luong_attention_2/layer_normalization_43/gamma:0', 'luong_attention_2/layer_normalization_43/beta:0', 'layer_normalization_48/gamma:0', 'layer_normalization_48/beta:0', 'layer_normalization_49/gamma:0', 'layer_normalization_49/beta:0', 'layer_normalization_50/gamma:0', 'layer_normalization_50/beta:0', 'dense_35/kernel:0', 'dense_35/bias:0', 'dense_36/kernel:0', 'dense_36/bias:0', 'dense_37/kernel:0', 'dense_37/bias:0', 'dense_38/kernel:0', 'dense_38/bias:0', 'dense_39/kernel:0', 'dense_39/bias:0', 'Variable:0', 'Variable:0', 'Variable:0'] when minimizing the loss. If you're using `model.compile()`, did you forget to provide a `loss` argument?\n",
            "WARNING:tensorflow:Gradients do not exist for variables ['layer_normalization_36/gamma:0', 'layer_normalization_36/beta:0', 'layer_normalization_37/gamma:0', 'layer_normalization_37/beta:0', 'layer_normalization_38/gamma:0', 'layer_normalization_38/beta:0', 'Variable:0', 'Variable:0', 'Variable:0', 'luong_attention_2/layer_normalization_43/gamma:0', 'luong_attention_2/layer_normalization_43/beta:0', 'layer_normalization_48/gamma:0', 'layer_normalization_48/beta:0', 'layer_normalization_49/gamma:0', 'layer_normalization_49/beta:0', 'layer_normalization_50/gamma:0', 'layer_normalization_50/beta:0', 'dense_35/kernel:0', 'dense_35/bias:0', 'dense_36/kernel:0', 'dense_36/bias:0', 'dense_37/kernel:0', 'dense_37/bias:0', 'dense_38/kernel:0', 'dense_38/bias:0', 'dense_39/kernel:0', 'dense_39/bias:0', 'Variable:0', 'Variable:0', 'Variable:0'] when minimizing the loss. If you're using `model.compile()`, did you forget to provide a `loss` argument?\n",
            "WARNING:tensorflow:Gradients do not exist for variables ['layer_normalization_36/gamma:0', 'layer_normalization_36/beta:0', 'layer_normalization_37/gamma:0', 'layer_normalization_37/beta:0', 'layer_normalization_38/gamma:0', 'layer_normalization_38/beta:0', 'Variable:0', 'Variable:0', 'Variable:0', 'luong_attention_2/layer_normalization_43/gamma:0', 'luong_attention_2/layer_normalization_43/beta:0', 'layer_normalization_48/gamma:0', 'layer_normalization_48/beta:0', 'layer_normalization_49/gamma:0', 'layer_normalization_49/beta:0', 'layer_normalization_50/gamma:0', 'layer_normalization_50/beta:0', 'dense_35/kernel:0', 'dense_35/bias:0', 'dense_36/kernel:0', 'dense_36/bias:0', 'dense_37/kernel:0', 'dense_37/bias:0', 'dense_38/kernel:0', 'dense_38/bias:0', 'dense_39/kernel:0', 'dense_39/bias:0', 'Variable:0', 'Variable:0', 'Variable:0'] when minimizing the loss. If you're using `model.compile()`, did you forget to provide a `loss` argument?\n",
            "WARNING:tensorflow:Gradients do not exist for variables ['layer_normalization_36/gamma:0', 'layer_normalization_36/beta:0', 'layer_normalization_37/gamma:0', 'layer_normalization_37/beta:0', 'layer_normalization_38/gamma:0', 'layer_normalization_38/beta:0', 'Variable:0', 'Variable:0', 'Variable:0', 'luong_attention_2/layer_normalization_43/gamma:0', 'luong_attention_2/layer_normalization_43/beta:0', 'layer_normalization_48/gamma:0', 'layer_normalization_48/beta:0', 'layer_normalization_49/gamma:0', 'layer_normalization_49/beta:0', 'layer_normalization_50/gamma:0', 'layer_normalization_50/beta:0', 'dense_35/kernel:0', 'dense_35/bias:0', 'dense_36/kernel:0', 'dense_36/bias:0', 'dense_37/kernel:0', 'dense_37/bias:0', 'dense_38/kernel:0', 'dense_38/bias:0', 'dense_39/kernel:0', 'dense_39/bias:0', 'Variable:0', 'Variable:0', 'Variable:0'] when minimizing the loss. If you're using `model.compile()`, did you forget to provide a `loss` argument?\n",
            "WARNING:tensorflow:Gradients do not exist for variables ['layer_normalization_36/gamma:0', 'layer_normalization_36/beta:0', 'layer_normalization_37/gamma:0', 'layer_normalization_37/beta:0', 'layer_normalization_38/gamma:0', 'layer_normalization_38/beta:0', 'Variable:0', 'Variable:0', 'Variable:0', 'luong_attention_2/layer_normalization_43/gamma:0', 'luong_attention_2/layer_normalization_43/beta:0', 'layer_normalization_48/gamma:0', 'layer_normalization_48/beta:0', 'layer_normalization_49/gamma:0', 'layer_normalization_49/beta:0', 'layer_normalization_50/gamma:0', 'layer_normalization_50/beta:0', 'dense_35/kernel:0', 'dense_35/bias:0', 'dense_36/kernel:0', 'dense_36/bias:0', 'dense_37/kernel:0', 'dense_37/bias:0', 'dense_38/kernel:0', 'dense_38/bias:0', 'dense_39/kernel:0', 'dense_39/bias:0', 'Variable:0', 'Variable:0', 'Variable:0'] when minimizing the loss. If you're using `model.compile()`, did you forget to provide a `loss` argument?\n",
            "WARNING:tensorflow:Gradients do not exist for variables ['layer_normalization_36/gamma:0', 'layer_normalization_36/beta:0', 'layer_normalization_37/gamma:0', 'layer_normalization_37/beta:0', 'layer_normalization_38/gamma:0', 'layer_normalization_38/beta:0', 'Variable:0', 'Variable:0', 'Variable:0', 'luong_attention_2/layer_normalization_43/gamma:0', 'luong_attention_2/layer_normalization_43/beta:0', 'layer_normalization_48/gamma:0', 'layer_normalization_48/beta:0', 'layer_normalization_49/gamma:0', 'layer_normalization_49/beta:0', 'layer_normalization_50/gamma:0', 'layer_normalization_50/beta:0', 'dense_35/kernel:0', 'dense_35/bias:0', 'dense_36/kernel:0', 'dense_36/bias:0', 'dense_37/kernel:0', 'dense_37/bias:0', 'dense_38/kernel:0', 'dense_38/bias:0', 'dense_39/kernel:0', 'dense_39/bias:0', 'Variable:0', 'Variable:0', 'Variable:0'] when minimizing the loss. If you're using `model.compile()`, did you forget to provide a `loss` argument?\n",
            "WARNING:tensorflow:Gradients do not exist for variables ['layer_normalization_36/gamma:0', 'layer_normalization_36/beta:0', 'layer_normalization_37/gamma:0', 'layer_normalization_37/beta:0', 'layer_normalization_38/gamma:0', 'layer_normalization_38/beta:0', 'Variable:0', 'Variable:0', 'Variable:0', 'luong_attention_2/layer_normalization_43/gamma:0', 'luong_attention_2/layer_normalization_43/beta:0', 'layer_normalization_48/gamma:0', 'layer_normalization_48/beta:0', 'layer_normalization_49/gamma:0', 'layer_normalization_49/beta:0', 'layer_normalization_50/gamma:0', 'layer_normalization_50/beta:0', 'dense_35/kernel:0', 'dense_35/bias:0', 'dense_36/kernel:0', 'dense_36/bias:0', 'dense_37/kernel:0', 'dense_37/bias:0', 'dense_38/kernel:0', 'dense_38/bias:0', 'dense_39/kernel:0', 'dense_39/bias:0', 'Variable:0', 'Variable:0', 'Variable:0'] when minimizing the loss. If you're using `model.compile()`, did you forget to provide a `loss` argument?\n",
            "WARNING:tensorflow:Gradients do not exist for variables ['layer_normalization_36/gamma:0', 'layer_normalization_36/beta:0', 'layer_normalization_37/gamma:0', 'layer_normalization_37/beta:0', 'layer_normalization_38/gamma:0', 'layer_normalization_38/beta:0', 'Variable:0', 'Variable:0', 'Variable:0', 'luong_attention_2/layer_normalization_43/gamma:0', 'luong_attention_2/layer_normalization_43/beta:0', 'layer_normalization_48/gamma:0', 'layer_normalization_48/beta:0', 'layer_normalization_49/gamma:0', 'layer_normalization_49/beta:0', 'layer_normalization_50/gamma:0', 'layer_normalization_50/beta:0', 'dense_35/kernel:0', 'dense_35/bias:0', 'dense_36/kernel:0', 'dense_36/bias:0', 'dense_37/kernel:0', 'dense_37/bias:0', 'dense_38/kernel:0', 'dense_38/bias:0', 'dense_39/kernel:0', 'dense_39/bias:0', 'Variable:0', 'Variable:0', 'Variable:0'] when minimizing the loss. If you're using `model.compile()`, did you forget to provide a `loss` argument?\n",
            "WARNING:tensorflow:Gradients do not exist for variables ['layer_normalization_36/gamma:0', 'layer_normalization_36/beta:0', 'layer_normalization_37/gamma:0', 'layer_normalization_37/beta:0', 'layer_normalization_38/gamma:0', 'layer_normalization_38/beta:0', 'Variable:0', 'Variable:0', 'Variable:0', 'luong_attention_2/layer_normalization_43/gamma:0', 'luong_attention_2/layer_normalization_43/beta:0', 'layer_normalization_48/gamma:0', 'layer_normalization_48/beta:0', 'layer_normalization_49/gamma:0', 'layer_normalization_49/beta:0', 'layer_normalization_50/gamma:0', 'layer_normalization_50/beta:0', 'dense_35/kernel:0', 'dense_35/bias:0', 'dense_36/kernel:0', 'dense_36/bias:0', 'dense_37/kernel:0', 'dense_37/bias:0', 'dense_38/kernel:0', 'dense_38/bias:0', 'dense_39/kernel:0', 'dense_39/bias:0', 'Variable:0', 'Variable:0', 'Variable:0'] when minimizing the loss. If you're using `model.compile()`, did you forget to provide a `loss` argument?\n",
            "WARNING:tensorflow:Gradients do not exist for variables ['layer_normalization_36/gamma:0', 'layer_normalization_36/beta:0', 'layer_normalization_37/gamma:0', 'layer_normalization_37/beta:0', 'layer_normalization_38/gamma:0', 'layer_normalization_38/beta:0', 'Variable:0', 'Variable:0', 'Variable:0', 'luong_attention_2/layer_normalization_43/gamma:0', 'luong_attention_2/layer_normalization_43/beta:0', 'layer_normalization_48/gamma:0', 'layer_normalization_48/beta:0', 'layer_normalization_49/gamma:0', 'layer_normalization_49/beta:0', 'layer_normalization_50/gamma:0', 'layer_normalization_50/beta:0', 'dense_35/kernel:0', 'dense_35/bias:0', 'dense_36/kernel:0', 'dense_36/bias:0', 'dense_37/kernel:0', 'dense_37/bias:0', 'dense_38/kernel:0', 'dense_38/bias:0', 'dense_39/kernel:0', 'dense_39/bias:0', 'Variable:0', 'Variable:0', 'Variable:0'] when minimizing the loss. If you're using `model.compile()`, did you forget to provide a `loss` argument?\n",
            "WARNING:tensorflow:Gradients do not exist for variables ['layer_normalization_36/gamma:0', 'layer_normalization_36/beta:0', 'layer_normalization_37/gamma:0', 'layer_normalization_37/beta:0', 'layer_normalization_38/gamma:0', 'layer_normalization_38/beta:0', 'Variable:0', 'Variable:0', 'Variable:0', 'luong_attention_2/layer_normalization_43/gamma:0', 'luong_attention_2/layer_normalization_43/beta:0', 'layer_normalization_48/gamma:0', 'layer_normalization_48/beta:0', 'layer_normalization_49/gamma:0', 'layer_normalization_49/beta:0', 'layer_normalization_50/gamma:0', 'layer_normalization_50/beta:0', 'dense_35/kernel:0', 'dense_35/bias:0', 'dense_36/kernel:0', 'dense_36/bias:0', 'dense_37/kernel:0', 'dense_37/bias:0', 'dense_38/kernel:0', 'dense_38/bias:0', 'dense_39/kernel:0', 'dense_39/bias:0', 'Variable:0', 'Variable:0', 'Variable:0'] when minimizing the loss. If you're using `model.compile()`, did you forget to provide a `loss` argument?\n",
            "WARNING:tensorflow:Gradients do not exist for variables ['layer_normalization_36/gamma:0', 'layer_normalization_36/beta:0', 'layer_normalization_37/gamma:0', 'layer_normalization_37/beta:0', 'layer_normalization_38/gamma:0', 'layer_normalization_38/beta:0', 'Variable:0', 'Variable:0', 'Variable:0', 'luong_attention_2/layer_normalization_43/gamma:0', 'luong_attention_2/layer_normalization_43/beta:0', 'layer_normalization_48/gamma:0', 'layer_normalization_48/beta:0', 'layer_normalization_49/gamma:0', 'layer_normalization_49/beta:0', 'layer_normalization_50/gamma:0', 'layer_normalization_50/beta:0', 'dense_35/kernel:0', 'dense_35/bias:0', 'dense_36/kernel:0', 'dense_36/bias:0', 'dense_37/kernel:0', 'dense_37/bias:0', 'dense_38/kernel:0', 'dense_38/bias:0', 'dense_39/kernel:0', 'dense_39/bias:0', 'Variable:0', 'Variable:0', 'Variable:0'] when minimizing the loss. If you're using `model.compile()`, did you forget to provide a `loss` argument?\n",
            "WARNING:tensorflow:Gradients do not exist for variables ['layer_normalization_36/gamma:0', 'layer_normalization_36/beta:0', 'layer_normalization_37/gamma:0', 'layer_normalization_37/beta:0', 'layer_normalization_38/gamma:0', 'layer_normalization_38/beta:0', 'Variable:0', 'Variable:0', 'Variable:0', 'luong_attention_2/layer_normalization_43/gamma:0', 'luong_attention_2/layer_normalization_43/beta:0', 'layer_normalization_48/gamma:0', 'layer_normalization_48/beta:0', 'layer_normalization_49/gamma:0', 'layer_normalization_49/beta:0', 'layer_normalization_50/gamma:0', 'layer_normalization_50/beta:0', 'dense_35/kernel:0', 'dense_35/bias:0', 'dense_36/kernel:0', 'dense_36/bias:0', 'dense_37/kernel:0', 'dense_37/bias:0', 'dense_38/kernel:0', 'dense_38/bias:0', 'dense_39/kernel:0', 'dense_39/bias:0', 'Variable:0', 'Variable:0', 'Variable:0'] when minimizing the loss. If you're using `model.compile()`, did you forget to provide a `loss` argument?\n",
            "WARNING:tensorflow:Gradients do not exist for variables ['layer_normalization_36/gamma:0', 'layer_normalization_36/beta:0', 'layer_normalization_37/gamma:0', 'layer_normalization_37/beta:0', 'layer_normalization_38/gamma:0', 'layer_normalization_38/beta:0', 'Variable:0', 'Variable:0', 'Variable:0', 'luong_attention_2/layer_normalization_43/gamma:0', 'luong_attention_2/layer_normalization_43/beta:0', 'layer_normalization_48/gamma:0', 'layer_normalization_48/beta:0', 'layer_normalization_49/gamma:0', 'layer_normalization_49/beta:0', 'layer_normalization_50/gamma:0', 'layer_normalization_50/beta:0', 'dense_35/kernel:0', 'dense_35/bias:0', 'dense_36/kernel:0', 'dense_36/bias:0', 'dense_37/kernel:0', 'dense_37/bias:0', 'dense_38/kernel:0', 'dense_38/bias:0', 'dense_39/kernel:0', 'dense_39/bias:0', 'Variable:0', 'Variable:0', 'Variable:0'] when minimizing the loss. If you're using `model.compile()`, did you forget to provide a `loss` argument?\n",
            "WARNING:tensorflow:Gradients do not exist for variables ['layer_normalization_36/gamma:0', 'layer_normalization_36/beta:0', 'layer_normalization_37/gamma:0', 'layer_normalization_37/beta:0', 'layer_normalization_38/gamma:0', 'layer_normalization_38/beta:0', 'Variable:0', 'Variable:0', 'Variable:0', 'luong_attention_2/layer_normalization_43/gamma:0', 'luong_attention_2/layer_normalization_43/beta:0', 'layer_normalization_48/gamma:0', 'layer_normalization_48/beta:0', 'layer_normalization_49/gamma:0', 'layer_normalization_49/beta:0', 'layer_normalization_50/gamma:0', 'layer_normalization_50/beta:0', 'dense_35/kernel:0', 'dense_35/bias:0', 'dense_36/kernel:0', 'dense_36/bias:0', 'dense_37/kernel:0', 'dense_37/bias:0', 'dense_38/kernel:0', 'dense_38/bias:0', 'dense_39/kernel:0', 'dense_39/bias:0', 'Variable:0', 'Variable:0', 'Variable:0'] when minimizing the loss. If you're using `model.compile()`, did you forget to provide a `loss` argument?\n",
            "WARNING:tensorflow:Gradients do not exist for variables ['layer_normalization_36/gamma:0', 'layer_normalization_36/beta:0', 'layer_normalization_37/gamma:0', 'layer_normalization_37/beta:0', 'layer_normalization_38/gamma:0', 'layer_normalization_38/beta:0', 'Variable:0', 'Variable:0', 'Variable:0', 'luong_attention_2/layer_normalization_43/gamma:0', 'luong_attention_2/layer_normalization_43/beta:0', 'layer_normalization_48/gamma:0', 'layer_normalization_48/beta:0', 'layer_normalization_49/gamma:0', 'layer_normalization_49/beta:0', 'layer_normalization_50/gamma:0', 'layer_normalization_50/beta:0', 'dense_35/kernel:0', 'dense_35/bias:0', 'dense_36/kernel:0', 'dense_36/bias:0', 'dense_37/kernel:0', 'dense_37/bias:0', 'dense_38/kernel:0', 'dense_38/bias:0', 'dense_39/kernel:0', 'dense_39/bias:0', 'Variable:0', 'Variable:0', 'Variable:0'] when minimizing the loss. If you're using `model.compile()`, did you forget to provide a `loss` argument?\n",
            "WARNING:tensorflow:Gradients do not exist for variables ['layer_normalization_36/gamma:0', 'layer_normalization_36/beta:0', 'layer_normalization_37/gamma:0', 'layer_normalization_37/beta:0', 'layer_normalization_38/gamma:0', 'layer_normalization_38/beta:0', 'Variable:0', 'Variable:0', 'Variable:0', 'luong_attention_2/layer_normalization_43/gamma:0', 'luong_attention_2/layer_normalization_43/beta:0', 'layer_normalization_48/gamma:0', 'layer_normalization_48/beta:0', 'layer_normalization_49/gamma:0', 'layer_normalization_49/beta:0', 'layer_normalization_50/gamma:0', 'layer_normalization_50/beta:0', 'dense_35/kernel:0', 'dense_35/bias:0', 'dense_36/kernel:0', 'dense_36/bias:0', 'dense_37/kernel:0', 'dense_37/bias:0', 'dense_38/kernel:0', 'dense_38/bias:0', 'dense_39/kernel:0', 'dense_39/bias:0', 'Variable:0', 'Variable:0', 'Variable:0'] when minimizing the loss. If you're using `model.compile()`, did you forget to provide a `loss` argument?\n",
            "WARNING:tensorflow:Gradients do not exist for variables ['layer_normalization_36/gamma:0', 'layer_normalization_36/beta:0', 'layer_normalization_37/gamma:0', 'layer_normalization_37/beta:0', 'layer_normalization_38/gamma:0', 'layer_normalization_38/beta:0', 'Variable:0', 'Variable:0', 'Variable:0', 'luong_attention_2/layer_normalization_43/gamma:0', 'luong_attention_2/layer_normalization_43/beta:0', 'layer_normalization_48/gamma:0', 'layer_normalization_48/beta:0', 'layer_normalization_49/gamma:0', 'layer_normalization_49/beta:0', 'layer_normalization_50/gamma:0', 'layer_normalization_50/beta:0', 'dense_35/kernel:0', 'dense_35/bias:0', 'dense_36/kernel:0', 'dense_36/bias:0', 'dense_37/kernel:0', 'dense_37/bias:0', 'dense_38/kernel:0', 'dense_38/bias:0', 'dense_39/kernel:0', 'dense_39/bias:0', 'Variable:0', 'Variable:0', 'Variable:0'] when minimizing the loss. If you're using `model.compile()`, did you forget to provide a `loss` argument?\n",
            "WARNING:tensorflow:Gradients do not exist for variables ['layer_normalization_36/gamma:0', 'layer_normalization_36/beta:0', 'layer_normalization_37/gamma:0', 'layer_normalization_37/beta:0', 'layer_normalization_38/gamma:0', 'layer_normalization_38/beta:0', 'Variable:0', 'Variable:0', 'Variable:0', 'luong_attention_2/layer_normalization_43/gamma:0', 'luong_attention_2/layer_normalization_43/beta:0', 'layer_normalization_48/gamma:0', 'layer_normalization_48/beta:0', 'layer_normalization_49/gamma:0', 'layer_normalization_49/beta:0', 'layer_normalization_50/gamma:0', 'layer_normalization_50/beta:0', 'dense_35/kernel:0', 'dense_35/bias:0', 'dense_36/kernel:0', 'dense_36/bias:0', 'dense_37/kernel:0', 'dense_37/bias:0', 'dense_38/kernel:0', 'dense_38/bias:0', 'dense_39/kernel:0', 'dense_39/bias:0', 'Variable:0', 'Variable:0', 'Variable:0'] when minimizing the loss. If you're using `model.compile()`, did you forget to provide a `loss` argument?\n",
            "WARNING:tensorflow:Gradients do not exist for variables ['layer_normalization_36/gamma:0', 'layer_normalization_36/beta:0', 'layer_normalization_37/gamma:0', 'layer_normalization_37/beta:0', 'layer_normalization_38/gamma:0', 'layer_normalization_38/beta:0', 'Variable:0', 'Variable:0', 'Variable:0', 'luong_attention_2/layer_normalization_43/gamma:0', 'luong_attention_2/layer_normalization_43/beta:0', 'layer_normalization_48/gamma:0', 'layer_normalization_48/beta:0', 'layer_normalization_49/gamma:0', 'layer_normalization_49/beta:0', 'layer_normalization_50/gamma:0', 'layer_normalization_50/beta:0', 'dense_35/kernel:0', 'dense_35/bias:0', 'dense_36/kernel:0', 'dense_36/bias:0', 'dense_37/kernel:0', 'dense_37/bias:0', 'dense_38/kernel:0', 'dense_38/bias:0', 'dense_39/kernel:0', 'dense_39/bias:0', 'Variable:0', 'Variable:0', 'Variable:0'] when minimizing the loss. If you're using `model.compile()`, did you forget to provide a `loss` argument?\n",
            "WARNING:tensorflow:Gradients do not exist for variables ['layer_normalization_36/gamma:0', 'layer_normalization_36/beta:0', 'layer_normalization_37/gamma:0', 'layer_normalization_37/beta:0', 'layer_normalization_38/gamma:0', 'layer_normalization_38/beta:0', 'Variable:0', 'Variable:0', 'Variable:0', 'luong_attention_2/layer_normalization_43/gamma:0', 'luong_attention_2/layer_normalization_43/beta:0', 'layer_normalization_48/gamma:0', 'layer_normalization_48/beta:0', 'layer_normalization_49/gamma:0', 'layer_normalization_49/beta:0', 'layer_normalization_50/gamma:0', 'layer_normalization_50/beta:0', 'dense_35/kernel:0', 'dense_35/bias:0', 'dense_36/kernel:0', 'dense_36/bias:0', 'dense_37/kernel:0', 'dense_37/bias:0', 'dense_38/kernel:0', 'dense_38/bias:0', 'dense_39/kernel:0', 'dense_39/bias:0', 'Variable:0', 'Variable:0', 'Variable:0'] when minimizing the loss. If you're using `model.compile()`, did you forget to provide a `loss` argument?\n",
            "WARNING:tensorflow:Gradients do not exist for variables ['layer_normalization_36/gamma:0', 'layer_normalization_36/beta:0', 'layer_normalization_37/gamma:0', 'layer_normalization_37/beta:0', 'layer_normalization_38/gamma:0', 'layer_normalization_38/beta:0', 'Variable:0', 'Variable:0', 'Variable:0', 'luong_attention_2/layer_normalization_43/gamma:0', 'luong_attention_2/layer_normalization_43/beta:0', 'layer_normalization_48/gamma:0', 'layer_normalization_48/beta:0', 'layer_normalization_49/gamma:0', 'layer_normalization_49/beta:0', 'layer_normalization_50/gamma:0', 'layer_normalization_50/beta:0', 'dense_35/kernel:0', 'dense_35/bias:0', 'dense_36/kernel:0', 'dense_36/bias:0', 'dense_37/kernel:0', 'dense_37/bias:0', 'dense_38/kernel:0', 'dense_38/bias:0', 'dense_39/kernel:0', 'dense_39/bias:0', 'Variable:0', 'Variable:0', 'Variable:0'] when minimizing the loss. If you're using `model.compile()`, did you forget to provide a `loss` argument?\n",
            "WARNING:tensorflow:Gradients do not exist for variables ['layer_normalization_36/gamma:0', 'layer_normalization_36/beta:0', 'layer_normalization_37/gamma:0', 'layer_normalization_37/beta:0', 'layer_normalization_38/gamma:0', 'layer_normalization_38/beta:0', 'Variable:0', 'Variable:0', 'Variable:0', 'luong_attention_2/layer_normalization_43/gamma:0', 'luong_attention_2/layer_normalization_43/beta:0', 'layer_normalization_48/gamma:0', 'layer_normalization_48/beta:0', 'layer_normalization_49/gamma:0', 'layer_normalization_49/beta:0', 'layer_normalization_50/gamma:0', 'layer_normalization_50/beta:0', 'dense_35/kernel:0', 'dense_35/bias:0', 'dense_36/kernel:0', 'dense_36/bias:0', 'dense_37/kernel:0', 'dense_37/bias:0', 'dense_38/kernel:0', 'dense_38/bias:0', 'dense_39/kernel:0', 'dense_39/bias:0', 'Variable:0', 'Variable:0', 'Variable:0'] when minimizing the loss. If you're using `model.compile()`, did you forget to provide a `loss` argument?\n",
            "WARNING:tensorflow:Gradients do not exist for variables ['layer_normalization_36/gamma:0', 'layer_normalization_36/beta:0', 'layer_normalization_37/gamma:0', 'layer_normalization_37/beta:0', 'layer_normalization_38/gamma:0', 'layer_normalization_38/beta:0', 'Variable:0', 'Variable:0', 'Variable:0', 'luong_attention_2/layer_normalization_43/gamma:0', 'luong_attention_2/layer_normalization_43/beta:0', 'layer_normalization_48/gamma:0', 'layer_normalization_48/beta:0', 'layer_normalization_49/gamma:0', 'layer_normalization_49/beta:0', 'layer_normalization_50/gamma:0', 'layer_normalization_50/beta:0', 'dense_35/kernel:0', 'dense_35/bias:0', 'dense_36/kernel:0', 'dense_36/bias:0', 'dense_37/kernel:0', 'dense_37/bias:0', 'dense_38/kernel:0', 'dense_38/bias:0', 'dense_39/kernel:0', 'dense_39/bias:0', 'Variable:0', 'Variable:0', 'Variable:0'] when minimizing the loss. If you're using `model.compile()`, did you forget to provide a `loss` argument?\n",
            "WARNING:tensorflow:Gradients do not exist for variables ['layer_normalization_36/gamma:0', 'layer_normalization_36/beta:0', 'layer_normalization_37/gamma:0', 'layer_normalization_37/beta:0', 'layer_normalization_38/gamma:0', 'layer_normalization_38/beta:0', 'Variable:0', 'Variable:0', 'Variable:0', 'luong_attention_2/layer_normalization_43/gamma:0', 'luong_attention_2/layer_normalization_43/beta:0', 'layer_normalization_48/gamma:0', 'layer_normalization_48/beta:0', 'layer_normalization_49/gamma:0', 'layer_normalization_49/beta:0', 'layer_normalization_50/gamma:0', 'layer_normalization_50/beta:0', 'dense_35/kernel:0', 'dense_35/bias:0', 'dense_36/kernel:0', 'dense_36/bias:0', 'dense_37/kernel:0', 'dense_37/bias:0', 'dense_38/kernel:0', 'dense_38/bias:0', 'dense_39/kernel:0', 'dense_39/bias:0', 'Variable:0', 'Variable:0', 'Variable:0'] when minimizing the loss. If you're using `model.compile()`, did you forget to provide a `loss` argument?\n",
            "WARNING:tensorflow:Gradients do not exist for variables ['layer_normalization_36/gamma:0', 'layer_normalization_36/beta:0', 'layer_normalization_37/gamma:0', 'layer_normalization_37/beta:0', 'layer_normalization_38/gamma:0', 'layer_normalization_38/beta:0', 'Variable:0', 'Variable:0', 'Variable:0', 'luong_attention_2/layer_normalization_43/gamma:0', 'luong_attention_2/layer_normalization_43/beta:0', 'layer_normalization_48/gamma:0', 'layer_normalization_48/beta:0', 'layer_normalization_49/gamma:0', 'layer_normalization_49/beta:0', 'layer_normalization_50/gamma:0', 'layer_normalization_50/beta:0', 'dense_35/kernel:0', 'dense_35/bias:0', 'dense_36/kernel:0', 'dense_36/bias:0', 'dense_37/kernel:0', 'dense_37/bias:0', 'dense_38/kernel:0', 'dense_38/bias:0', 'dense_39/kernel:0', 'dense_39/bias:0', 'Variable:0', 'Variable:0', 'Variable:0'] when minimizing the loss. If you're using `model.compile()`, did you forget to provide a `loss` argument?\n",
            "WARNING:tensorflow:Gradients do not exist for variables ['layer_normalization_36/gamma:0', 'layer_normalization_36/beta:0', 'layer_normalization_37/gamma:0', 'layer_normalization_37/beta:0', 'layer_normalization_38/gamma:0', 'layer_normalization_38/beta:0', 'Variable:0', 'Variable:0', 'Variable:0', 'luong_attention_2/layer_normalization_43/gamma:0', 'luong_attention_2/layer_normalization_43/beta:0', 'layer_normalization_48/gamma:0', 'layer_normalization_48/beta:0', 'layer_normalization_49/gamma:0', 'layer_normalization_49/beta:0', 'layer_normalization_50/gamma:0', 'layer_normalization_50/beta:0', 'dense_35/kernel:0', 'dense_35/bias:0', 'dense_36/kernel:0', 'dense_36/bias:0', 'dense_37/kernel:0', 'dense_37/bias:0', 'dense_38/kernel:0', 'dense_38/bias:0', 'dense_39/kernel:0', 'dense_39/bias:0', 'Variable:0', 'Variable:0', 'Variable:0'] when minimizing the loss. If you're using `model.compile()`, did you forget to provide a `loss` argument?\n",
            "WARNING:tensorflow:Gradients do not exist for variables ['layer_normalization_36/gamma:0', 'layer_normalization_36/beta:0', 'layer_normalization_37/gamma:0', 'layer_normalization_37/beta:0', 'layer_normalization_38/gamma:0', 'layer_normalization_38/beta:0', 'Variable:0', 'Variable:0', 'Variable:0', 'luong_attention_2/layer_normalization_43/gamma:0', 'luong_attention_2/layer_normalization_43/beta:0', 'layer_normalization_48/gamma:0', 'layer_normalization_48/beta:0', 'layer_normalization_49/gamma:0', 'layer_normalization_49/beta:0', 'layer_normalization_50/gamma:0', 'layer_normalization_50/beta:0', 'dense_35/kernel:0', 'dense_35/bias:0', 'dense_36/kernel:0', 'dense_36/bias:0', 'dense_37/kernel:0', 'dense_37/bias:0', 'dense_38/kernel:0', 'dense_38/bias:0', 'dense_39/kernel:0', 'dense_39/bias:0', 'Variable:0', 'Variable:0', 'Variable:0'] when minimizing the loss. If you're using `model.compile()`, did you forget to provide a `loss` argument?\n"
          ]
        },
        {
          "name": "stdout",
          "output_type": "stream",
          "text": [
            "Epoch 0 Loss Emotion0.1882\n",
            "Epoch 2 Accuracy Emotion0.9178\n"
          ]
        },
        {
          "name": "stderr",
          "output_type": "stream",
          "text": [
            "WARNING:tensorflow:Gradients do not exist for variables ['layer_normalization_33/gamma:0', 'layer_normalization_33/beta:0', 'layer_normalization_34/gamma:0', 'layer_normalization_34/beta:0', 'layer_normalization_35/gamma:0', 'layer_normalization_35/beta:0', 'Variable:0', 'Variable:0', 'Variable:0', 'luong_attention_2/layer_normalization_42/gamma:0', 'luong_attention_2/layer_normalization_42/beta:0', 'layer_normalization_45/gamma:0', 'layer_normalization_45/beta:0', 'layer_normalization_46/gamma:0', 'layer_normalization_46/beta:0', 'layer_normalization_47/gamma:0', 'layer_normalization_47/beta:0', 'dense_30/kernel:0', 'dense_30/bias:0', 'dense_31/kernel:0', 'dense_31/bias:0', 'dense_32/kernel:0', 'dense_32/bias:0', 'dense_33/kernel:0', 'dense_33/bias:0', 'dense_34/kernel:0', 'dense_34/bias:0', 'Variable:0', 'Variable:0', 'Variable:0'] when minimizing the loss. If you're using `model.compile()`, did you forget to provide a `loss` argument?\n",
            "WARNING:tensorflow:Gradients do not exist for variables ['layer_normalization_33/gamma:0', 'layer_normalization_33/beta:0', 'layer_normalization_34/gamma:0', 'layer_normalization_34/beta:0', 'layer_normalization_35/gamma:0', 'layer_normalization_35/beta:0', 'Variable:0', 'Variable:0', 'Variable:0', 'luong_attention_2/layer_normalization_42/gamma:0', 'luong_attention_2/layer_normalization_42/beta:0', 'layer_normalization_45/gamma:0', 'layer_normalization_45/beta:0', 'layer_normalization_46/gamma:0', 'layer_normalization_46/beta:0', 'layer_normalization_47/gamma:0', 'layer_normalization_47/beta:0', 'dense_30/kernel:0', 'dense_30/bias:0', 'dense_31/kernel:0', 'dense_31/bias:0', 'dense_32/kernel:0', 'dense_32/bias:0', 'dense_33/kernel:0', 'dense_33/bias:0', 'dense_34/kernel:0', 'dense_34/bias:0', 'Variable:0', 'Variable:0', 'Variable:0'] when minimizing the loss. If you're using `model.compile()`, did you forget to provide a `loss` argument?\n",
            "WARNING:tensorflow:Gradients do not exist for variables ['layer_normalization_33/gamma:0', 'layer_normalization_33/beta:0', 'layer_normalization_34/gamma:0', 'layer_normalization_34/beta:0', 'layer_normalization_35/gamma:0', 'layer_normalization_35/beta:0', 'Variable:0', 'Variable:0', 'Variable:0', 'luong_attention_2/layer_normalization_42/gamma:0', 'luong_attention_2/layer_normalization_42/beta:0', 'layer_normalization_45/gamma:0', 'layer_normalization_45/beta:0', 'layer_normalization_46/gamma:0', 'layer_normalization_46/beta:0', 'layer_normalization_47/gamma:0', 'layer_normalization_47/beta:0', 'dense_30/kernel:0', 'dense_30/bias:0', 'dense_31/kernel:0', 'dense_31/bias:0', 'dense_32/kernel:0', 'dense_32/bias:0', 'dense_33/kernel:0', 'dense_33/bias:0', 'dense_34/kernel:0', 'dense_34/bias:0', 'Variable:0', 'Variable:0', 'Variable:0'] when minimizing the loss. If you're using `model.compile()`, did you forget to provide a `loss` argument?\n",
            "WARNING:tensorflow:Gradients do not exist for variables ['layer_normalization_33/gamma:0', 'layer_normalization_33/beta:0', 'layer_normalization_34/gamma:0', 'layer_normalization_34/beta:0', 'layer_normalization_35/gamma:0', 'layer_normalization_35/beta:0', 'Variable:0', 'Variable:0', 'Variable:0', 'luong_attention_2/layer_normalization_42/gamma:0', 'luong_attention_2/layer_normalization_42/beta:0', 'layer_normalization_45/gamma:0', 'layer_normalization_45/beta:0', 'layer_normalization_46/gamma:0', 'layer_normalization_46/beta:0', 'layer_normalization_47/gamma:0', 'layer_normalization_47/beta:0', 'dense_30/kernel:0', 'dense_30/bias:0', 'dense_31/kernel:0', 'dense_31/bias:0', 'dense_32/kernel:0', 'dense_32/bias:0', 'dense_33/kernel:0', 'dense_33/bias:0', 'dense_34/kernel:0', 'dense_34/bias:0', 'Variable:0', 'Variable:0', 'Variable:0'] when minimizing the loss. If you're using `model.compile()`, did you forget to provide a `loss` argument?\n",
            "WARNING:tensorflow:Gradients do not exist for variables ['layer_normalization_33/gamma:0', 'layer_normalization_33/beta:0', 'layer_normalization_34/gamma:0', 'layer_normalization_34/beta:0', 'layer_normalization_35/gamma:0', 'layer_normalization_35/beta:0', 'Variable:0', 'Variable:0', 'Variable:0', 'luong_attention_2/layer_normalization_42/gamma:0', 'luong_attention_2/layer_normalization_42/beta:0', 'layer_normalization_45/gamma:0', 'layer_normalization_45/beta:0', 'layer_normalization_46/gamma:0', 'layer_normalization_46/beta:0', 'layer_normalization_47/gamma:0', 'layer_normalization_47/beta:0', 'dense_30/kernel:0', 'dense_30/bias:0', 'dense_31/kernel:0', 'dense_31/bias:0', 'dense_32/kernel:0', 'dense_32/bias:0', 'dense_33/kernel:0', 'dense_33/bias:0', 'dense_34/kernel:0', 'dense_34/bias:0', 'Variable:0', 'Variable:0', 'Variable:0'] when minimizing the loss. If you're using `model.compile()`, did you forget to provide a `loss` argument?\n",
            "WARNING:tensorflow:Gradients do not exist for variables ['layer_normalization_33/gamma:0', 'layer_normalization_33/beta:0', 'layer_normalization_34/gamma:0', 'layer_normalization_34/beta:0', 'layer_normalization_35/gamma:0', 'layer_normalization_35/beta:0', 'Variable:0', 'Variable:0', 'Variable:0', 'luong_attention_2/layer_normalization_42/gamma:0', 'luong_attention_2/layer_normalization_42/beta:0', 'layer_normalization_45/gamma:0', 'layer_normalization_45/beta:0', 'layer_normalization_46/gamma:0', 'layer_normalization_46/beta:0', 'layer_normalization_47/gamma:0', 'layer_normalization_47/beta:0', 'dense_30/kernel:0', 'dense_30/bias:0', 'dense_31/kernel:0', 'dense_31/bias:0', 'dense_32/kernel:0', 'dense_32/bias:0', 'dense_33/kernel:0', 'dense_33/bias:0', 'dense_34/kernel:0', 'dense_34/bias:0', 'Variable:0', 'Variable:0', 'Variable:0'] when minimizing the loss. If you're using `model.compile()`, did you forget to provide a `loss` argument?\n",
            "WARNING:tensorflow:Gradients do not exist for variables ['layer_normalization_33/gamma:0', 'layer_normalization_33/beta:0', 'layer_normalization_34/gamma:0', 'layer_normalization_34/beta:0', 'layer_normalization_35/gamma:0', 'layer_normalization_35/beta:0', 'Variable:0', 'Variable:0', 'Variable:0', 'luong_attention_2/layer_normalization_42/gamma:0', 'luong_attention_2/layer_normalization_42/beta:0', 'layer_normalization_45/gamma:0', 'layer_normalization_45/beta:0', 'layer_normalization_46/gamma:0', 'layer_normalization_46/beta:0', 'layer_normalization_47/gamma:0', 'layer_normalization_47/beta:0', 'dense_30/kernel:0', 'dense_30/bias:0', 'dense_31/kernel:0', 'dense_31/bias:0', 'dense_32/kernel:0', 'dense_32/bias:0', 'dense_33/kernel:0', 'dense_33/bias:0', 'dense_34/kernel:0', 'dense_34/bias:0', 'Variable:0', 'Variable:0', 'Variable:0'] when minimizing the loss. If you're using `model.compile()`, did you forget to provide a `loss` argument?\n",
            "WARNING:tensorflow:Gradients do not exist for variables ['layer_normalization_33/gamma:0', 'layer_normalization_33/beta:0', 'layer_normalization_34/gamma:0', 'layer_normalization_34/beta:0', 'layer_normalization_35/gamma:0', 'layer_normalization_35/beta:0', 'Variable:0', 'Variable:0', 'Variable:0', 'luong_attention_2/layer_normalization_42/gamma:0', 'luong_attention_2/layer_normalization_42/beta:0', 'layer_normalization_45/gamma:0', 'layer_normalization_45/beta:0', 'layer_normalization_46/gamma:0', 'layer_normalization_46/beta:0', 'layer_normalization_47/gamma:0', 'layer_normalization_47/beta:0', 'dense_30/kernel:0', 'dense_30/bias:0', 'dense_31/kernel:0', 'dense_31/bias:0', 'dense_32/kernel:0', 'dense_32/bias:0', 'dense_33/kernel:0', 'dense_33/bias:0', 'dense_34/kernel:0', 'dense_34/bias:0', 'Variable:0', 'Variable:0', 'Variable:0'] when minimizing the loss. If you're using `model.compile()`, did you forget to provide a `loss` argument?\n",
            "WARNING:tensorflow:Gradients do not exist for variables ['layer_normalization_33/gamma:0', 'layer_normalization_33/beta:0', 'layer_normalization_34/gamma:0', 'layer_normalization_34/beta:0', 'layer_normalization_35/gamma:0', 'layer_normalization_35/beta:0', 'Variable:0', 'Variable:0', 'Variable:0', 'luong_attention_2/layer_normalization_42/gamma:0', 'luong_attention_2/layer_normalization_42/beta:0', 'layer_normalization_45/gamma:0', 'layer_normalization_45/beta:0', 'layer_normalization_46/gamma:0', 'layer_normalization_46/beta:0', 'layer_normalization_47/gamma:0', 'layer_normalization_47/beta:0', 'dense_30/kernel:0', 'dense_30/bias:0', 'dense_31/kernel:0', 'dense_31/bias:0', 'dense_32/kernel:0', 'dense_32/bias:0', 'dense_33/kernel:0', 'dense_33/bias:0', 'dense_34/kernel:0', 'dense_34/bias:0', 'Variable:0', 'Variable:0', 'Variable:0'] when minimizing the loss. If you're using `model.compile()`, did you forget to provide a `loss` argument?\n",
            "WARNING:tensorflow:Gradients do not exist for variables ['layer_normalization_33/gamma:0', 'layer_normalization_33/beta:0', 'layer_normalization_34/gamma:0', 'layer_normalization_34/beta:0', 'layer_normalization_35/gamma:0', 'layer_normalization_35/beta:0', 'Variable:0', 'Variable:0', 'Variable:0', 'luong_attention_2/layer_normalization_42/gamma:0', 'luong_attention_2/layer_normalization_42/beta:0', 'layer_normalization_45/gamma:0', 'layer_normalization_45/beta:0', 'layer_normalization_46/gamma:0', 'layer_normalization_46/beta:0', 'layer_normalization_47/gamma:0', 'layer_normalization_47/beta:0', 'dense_30/kernel:0', 'dense_30/bias:0', 'dense_31/kernel:0', 'dense_31/bias:0', 'dense_32/kernel:0', 'dense_32/bias:0', 'dense_33/kernel:0', 'dense_33/bias:0', 'dense_34/kernel:0', 'dense_34/bias:0', 'Variable:0', 'Variable:0', 'Variable:0'] when minimizing the loss. If you're using `model.compile()`, did you forget to provide a `loss` argument?\n",
            "WARNING:tensorflow:Gradients do not exist for variables ['layer_normalization_33/gamma:0', 'layer_normalization_33/beta:0', 'layer_normalization_34/gamma:0', 'layer_normalization_34/beta:0', 'layer_normalization_35/gamma:0', 'layer_normalization_35/beta:0', 'Variable:0', 'Variable:0', 'Variable:0', 'luong_attention_2/layer_normalization_42/gamma:0', 'luong_attention_2/layer_normalization_42/beta:0', 'layer_normalization_45/gamma:0', 'layer_normalization_45/beta:0', 'layer_normalization_46/gamma:0', 'layer_normalization_46/beta:0', 'layer_normalization_47/gamma:0', 'layer_normalization_47/beta:0', 'dense_30/kernel:0', 'dense_30/bias:0', 'dense_31/kernel:0', 'dense_31/bias:0', 'dense_32/kernel:0', 'dense_32/bias:0', 'dense_33/kernel:0', 'dense_33/bias:0', 'dense_34/kernel:0', 'dense_34/bias:0', 'Variable:0', 'Variable:0', 'Variable:0'] when minimizing the loss. If you're using `model.compile()`, did you forget to provide a `loss` argument?\n",
            "WARNING:tensorflow:Gradients do not exist for variables ['layer_normalization_33/gamma:0', 'layer_normalization_33/beta:0', 'layer_normalization_34/gamma:0', 'layer_normalization_34/beta:0', 'layer_normalization_35/gamma:0', 'layer_normalization_35/beta:0', 'Variable:0', 'Variable:0', 'Variable:0', 'luong_attention_2/layer_normalization_42/gamma:0', 'luong_attention_2/layer_normalization_42/beta:0', 'layer_normalization_45/gamma:0', 'layer_normalization_45/beta:0', 'layer_normalization_46/gamma:0', 'layer_normalization_46/beta:0', 'layer_normalization_47/gamma:0', 'layer_normalization_47/beta:0', 'dense_30/kernel:0', 'dense_30/bias:0', 'dense_31/kernel:0', 'dense_31/bias:0', 'dense_32/kernel:0', 'dense_32/bias:0', 'dense_33/kernel:0', 'dense_33/bias:0', 'dense_34/kernel:0', 'dense_34/bias:0', 'Variable:0', 'Variable:0', 'Variable:0'] when minimizing the loss. If you're using `model.compile()`, did you forget to provide a `loss` argument?\n",
            "WARNING:tensorflow:Gradients do not exist for variables ['layer_normalization_33/gamma:0', 'layer_normalization_33/beta:0', 'layer_normalization_34/gamma:0', 'layer_normalization_34/beta:0', 'layer_normalization_35/gamma:0', 'layer_normalization_35/beta:0', 'Variable:0', 'Variable:0', 'Variable:0', 'luong_attention_2/layer_normalization_42/gamma:0', 'luong_attention_2/layer_normalization_42/beta:0', 'layer_normalization_45/gamma:0', 'layer_normalization_45/beta:0', 'layer_normalization_46/gamma:0', 'layer_normalization_46/beta:0', 'layer_normalization_47/gamma:0', 'layer_normalization_47/beta:0', 'dense_30/kernel:0', 'dense_30/bias:0', 'dense_31/kernel:0', 'dense_31/bias:0', 'dense_32/kernel:0', 'dense_32/bias:0', 'dense_33/kernel:0', 'dense_33/bias:0', 'dense_34/kernel:0', 'dense_34/bias:0', 'Variable:0', 'Variable:0', 'Variable:0'] when minimizing the loss. If you're using `model.compile()`, did you forget to provide a `loss` argument?\n",
            "WARNING:tensorflow:Gradients do not exist for variables ['layer_normalization_33/gamma:0', 'layer_normalization_33/beta:0', 'layer_normalization_34/gamma:0', 'layer_normalization_34/beta:0', 'layer_normalization_35/gamma:0', 'layer_normalization_35/beta:0', 'Variable:0', 'Variable:0', 'Variable:0', 'luong_attention_2/layer_normalization_42/gamma:0', 'luong_attention_2/layer_normalization_42/beta:0', 'layer_normalization_45/gamma:0', 'layer_normalization_45/beta:0', 'layer_normalization_46/gamma:0', 'layer_normalization_46/beta:0', 'layer_normalization_47/gamma:0', 'layer_normalization_47/beta:0', 'dense_30/kernel:0', 'dense_30/bias:0', 'dense_31/kernel:0', 'dense_31/bias:0', 'dense_32/kernel:0', 'dense_32/bias:0', 'dense_33/kernel:0', 'dense_33/bias:0', 'dense_34/kernel:0', 'dense_34/bias:0', 'Variable:0', 'Variable:0', 'Variable:0'] when minimizing the loss. If you're using `model.compile()`, did you forget to provide a `loss` argument?\n",
            "WARNING:tensorflow:Gradients do not exist for variables ['layer_normalization_33/gamma:0', 'layer_normalization_33/beta:0', 'layer_normalization_34/gamma:0', 'layer_normalization_34/beta:0', 'layer_normalization_35/gamma:0', 'layer_normalization_35/beta:0', 'Variable:0', 'Variable:0', 'Variable:0', 'luong_attention_2/layer_normalization_42/gamma:0', 'luong_attention_2/layer_normalization_42/beta:0', 'layer_normalization_45/gamma:0', 'layer_normalization_45/beta:0', 'layer_normalization_46/gamma:0', 'layer_normalization_46/beta:0', 'layer_normalization_47/gamma:0', 'layer_normalization_47/beta:0', 'dense_30/kernel:0', 'dense_30/bias:0', 'dense_31/kernel:0', 'dense_31/bias:0', 'dense_32/kernel:0', 'dense_32/bias:0', 'dense_33/kernel:0', 'dense_33/bias:0', 'dense_34/kernel:0', 'dense_34/bias:0', 'Variable:0', 'Variable:0', 'Variable:0'] when minimizing the loss. If you're using `model.compile()`, did you forget to provide a `loss` argument?\n",
            "WARNING:tensorflow:Gradients do not exist for variables ['layer_normalization_33/gamma:0', 'layer_normalization_33/beta:0', 'layer_normalization_34/gamma:0', 'layer_normalization_34/beta:0', 'layer_normalization_35/gamma:0', 'layer_normalization_35/beta:0', 'Variable:0', 'Variable:0', 'Variable:0', 'luong_attention_2/layer_normalization_42/gamma:0', 'luong_attention_2/layer_normalization_42/beta:0', 'layer_normalization_45/gamma:0', 'layer_normalization_45/beta:0', 'layer_normalization_46/gamma:0', 'layer_normalization_46/beta:0', 'layer_normalization_47/gamma:0', 'layer_normalization_47/beta:0', 'dense_30/kernel:0', 'dense_30/bias:0', 'dense_31/kernel:0', 'dense_31/bias:0', 'dense_32/kernel:0', 'dense_32/bias:0', 'dense_33/kernel:0', 'dense_33/bias:0', 'dense_34/kernel:0', 'dense_34/bias:0', 'Variable:0', 'Variable:0', 'Variable:0'] when minimizing the loss. If you're using `model.compile()`, did you forget to provide a `loss` argument?\n",
            "WARNING:tensorflow:Gradients do not exist for variables ['layer_normalization_33/gamma:0', 'layer_normalization_33/beta:0', 'layer_normalization_34/gamma:0', 'layer_normalization_34/beta:0', 'layer_normalization_35/gamma:0', 'layer_normalization_35/beta:0', 'Variable:0', 'Variable:0', 'Variable:0', 'luong_attention_2/layer_normalization_42/gamma:0', 'luong_attention_2/layer_normalization_42/beta:0', 'layer_normalization_45/gamma:0', 'layer_normalization_45/beta:0', 'layer_normalization_46/gamma:0', 'layer_normalization_46/beta:0', 'layer_normalization_47/gamma:0', 'layer_normalization_47/beta:0', 'dense_30/kernel:0', 'dense_30/bias:0', 'dense_31/kernel:0', 'dense_31/bias:0', 'dense_32/kernel:0', 'dense_32/bias:0', 'dense_33/kernel:0', 'dense_33/bias:0', 'dense_34/kernel:0', 'dense_34/bias:0', 'Variable:0', 'Variable:0', 'Variable:0'] when minimizing the loss. If you're using `model.compile()`, did you forget to provide a `loss` argument?\n",
            "WARNING:tensorflow:Gradients do not exist for variables ['layer_normalization_33/gamma:0', 'layer_normalization_33/beta:0', 'layer_normalization_34/gamma:0', 'layer_normalization_34/beta:0', 'layer_normalization_35/gamma:0', 'layer_normalization_35/beta:0', 'Variable:0', 'Variable:0', 'Variable:0', 'luong_attention_2/layer_normalization_42/gamma:0', 'luong_attention_2/layer_normalization_42/beta:0', 'layer_normalization_45/gamma:0', 'layer_normalization_45/beta:0', 'layer_normalization_46/gamma:0', 'layer_normalization_46/beta:0', 'layer_normalization_47/gamma:0', 'layer_normalization_47/beta:0', 'dense_30/kernel:0', 'dense_30/bias:0', 'dense_31/kernel:0', 'dense_31/bias:0', 'dense_32/kernel:0', 'dense_32/bias:0', 'dense_33/kernel:0', 'dense_33/bias:0', 'dense_34/kernel:0', 'dense_34/bias:0', 'Variable:0', 'Variable:0', 'Variable:0'] when minimizing the loss. If you're using `model.compile()`, did you forget to provide a `loss` argument?\n",
            "WARNING:tensorflow:Gradients do not exist for variables ['layer_normalization_33/gamma:0', 'layer_normalization_33/beta:0', 'layer_normalization_34/gamma:0', 'layer_normalization_34/beta:0', 'layer_normalization_35/gamma:0', 'layer_normalization_35/beta:0', 'Variable:0', 'Variable:0', 'Variable:0', 'luong_attention_2/layer_normalization_42/gamma:0', 'luong_attention_2/layer_normalization_42/beta:0', 'layer_normalization_45/gamma:0', 'layer_normalization_45/beta:0', 'layer_normalization_46/gamma:0', 'layer_normalization_46/beta:0', 'layer_normalization_47/gamma:0', 'layer_normalization_47/beta:0', 'dense_30/kernel:0', 'dense_30/bias:0', 'dense_31/kernel:0', 'dense_31/bias:0', 'dense_32/kernel:0', 'dense_32/bias:0', 'dense_33/kernel:0', 'dense_33/bias:0', 'dense_34/kernel:0', 'dense_34/bias:0', 'Variable:0', 'Variable:0', 'Variable:0'] when minimizing the loss. If you're using `model.compile()`, did you forget to provide a `loss` argument?\n",
            "WARNING:tensorflow:Gradients do not exist for variables ['layer_normalization_33/gamma:0', 'layer_normalization_33/beta:0', 'layer_normalization_34/gamma:0', 'layer_normalization_34/beta:0', 'layer_normalization_35/gamma:0', 'layer_normalization_35/beta:0', 'Variable:0', 'Variable:0', 'Variable:0', 'luong_attention_2/layer_normalization_42/gamma:0', 'luong_attention_2/layer_normalization_42/beta:0', 'layer_normalization_45/gamma:0', 'layer_normalization_45/beta:0', 'layer_normalization_46/gamma:0', 'layer_normalization_46/beta:0', 'layer_normalization_47/gamma:0', 'layer_normalization_47/beta:0', 'dense_30/kernel:0', 'dense_30/bias:0', 'dense_31/kernel:0', 'dense_31/bias:0', 'dense_32/kernel:0', 'dense_32/bias:0', 'dense_33/kernel:0', 'dense_33/bias:0', 'dense_34/kernel:0', 'dense_34/bias:0', 'Variable:0', 'Variable:0', 'Variable:0'] when minimizing the loss. If you're using `model.compile()`, did you forget to provide a `loss` argument?\n",
            "WARNING:tensorflow:Gradients do not exist for variables ['layer_normalization_33/gamma:0', 'layer_normalization_33/beta:0', 'layer_normalization_34/gamma:0', 'layer_normalization_34/beta:0', 'layer_normalization_35/gamma:0', 'layer_normalization_35/beta:0', 'Variable:0', 'Variable:0', 'Variable:0', 'luong_attention_2/layer_normalization_42/gamma:0', 'luong_attention_2/layer_normalization_42/beta:0', 'layer_normalization_45/gamma:0', 'layer_normalization_45/beta:0', 'layer_normalization_46/gamma:0', 'layer_normalization_46/beta:0', 'layer_normalization_47/gamma:0', 'layer_normalization_47/beta:0', 'dense_30/kernel:0', 'dense_30/bias:0', 'dense_31/kernel:0', 'dense_31/bias:0', 'dense_32/kernel:0', 'dense_32/bias:0', 'dense_33/kernel:0', 'dense_33/bias:0', 'dense_34/kernel:0', 'dense_34/bias:0', 'Variable:0', 'Variable:0', 'Variable:0'] when minimizing the loss. If you're using `model.compile()`, did you forget to provide a `loss` argument?\n",
            "WARNING:tensorflow:Gradients do not exist for variables ['layer_normalization_33/gamma:0', 'layer_normalization_33/beta:0', 'layer_normalization_34/gamma:0', 'layer_normalization_34/beta:0', 'layer_normalization_35/gamma:0', 'layer_normalization_35/beta:0', 'Variable:0', 'Variable:0', 'Variable:0', 'luong_attention_2/layer_normalization_42/gamma:0', 'luong_attention_2/layer_normalization_42/beta:0', 'layer_normalization_45/gamma:0', 'layer_normalization_45/beta:0', 'layer_normalization_46/gamma:0', 'layer_normalization_46/beta:0', 'layer_normalization_47/gamma:0', 'layer_normalization_47/beta:0', 'dense_30/kernel:0', 'dense_30/bias:0', 'dense_31/kernel:0', 'dense_31/bias:0', 'dense_32/kernel:0', 'dense_32/bias:0', 'dense_33/kernel:0', 'dense_33/bias:0', 'dense_34/kernel:0', 'dense_34/bias:0', 'Variable:0', 'Variable:0', 'Variable:0'] when minimizing the loss. If you're using `model.compile()`, did you forget to provide a `loss` argument?\n",
            "WARNING:tensorflow:Gradients do not exist for variables ['layer_normalization_33/gamma:0', 'layer_normalization_33/beta:0', 'layer_normalization_34/gamma:0', 'layer_normalization_34/beta:0', 'layer_normalization_35/gamma:0', 'layer_normalization_35/beta:0', 'Variable:0', 'Variable:0', 'Variable:0', 'luong_attention_2/layer_normalization_42/gamma:0', 'luong_attention_2/layer_normalization_42/beta:0', 'layer_normalization_45/gamma:0', 'layer_normalization_45/beta:0', 'layer_normalization_46/gamma:0', 'layer_normalization_46/beta:0', 'layer_normalization_47/gamma:0', 'layer_normalization_47/beta:0', 'dense_30/kernel:0', 'dense_30/bias:0', 'dense_31/kernel:0', 'dense_31/bias:0', 'dense_32/kernel:0', 'dense_32/bias:0', 'dense_33/kernel:0', 'dense_33/bias:0', 'dense_34/kernel:0', 'dense_34/bias:0', 'Variable:0', 'Variable:0', 'Variable:0'] when minimizing the loss. If you're using `model.compile()`, did you forget to provide a `loss` argument?\n",
            "WARNING:tensorflow:Gradients do not exist for variables ['layer_normalization_33/gamma:0', 'layer_normalization_33/beta:0', 'layer_normalization_34/gamma:0', 'layer_normalization_34/beta:0', 'layer_normalization_35/gamma:0', 'layer_normalization_35/beta:0', 'Variable:0', 'Variable:0', 'Variable:0', 'luong_attention_2/layer_normalization_42/gamma:0', 'luong_attention_2/layer_normalization_42/beta:0', 'layer_normalization_45/gamma:0', 'layer_normalization_45/beta:0', 'layer_normalization_46/gamma:0', 'layer_normalization_46/beta:0', 'layer_normalization_47/gamma:0', 'layer_normalization_47/beta:0', 'dense_30/kernel:0', 'dense_30/bias:0', 'dense_31/kernel:0', 'dense_31/bias:0', 'dense_32/kernel:0', 'dense_32/bias:0', 'dense_33/kernel:0', 'dense_33/bias:0', 'dense_34/kernel:0', 'dense_34/bias:0', 'Variable:0', 'Variable:0', 'Variable:0'] when minimizing the loss. If you're using `model.compile()`, did you forget to provide a `loss` argument?\n",
            "WARNING:tensorflow:Gradients do not exist for variables ['layer_normalization_33/gamma:0', 'layer_normalization_33/beta:0', 'layer_normalization_34/gamma:0', 'layer_normalization_34/beta:0', 'layer_normalization_35/gamma:0', 'layer_normalization_35/beta:0', 'Variable:0', 'Variable:0', 'Variable:0', 'luong_attention_2/layer_normalization_42/gamma:0', 'luong_attention_2/layer_normalization_42/beta:0', 'layer_normalization_45/gamma:0', 'layer_normalization_45/beta:0', 'layer_normalization_46/gamma:0', 'layer_normalization_46/beta:0', 'layer_normalization_47/gamma:0', 'layer_normalization_47/beta:0', 'dense_30/kernel:0', 'dense_30/bias:0', 'dense_31/kernel:0', 'dense_31/bias:0', 'dense_32/kernel:0', 'dense_32/bias:0', 'dense_33/kernel:0', 'dense_33/bias:0', 'dense_34/kernel:0', 'dense_34/bias:0', 'Variable:0', 'Variable:0', 'Variable:0'] when minimizing the loss. If you're using `model.compile()`, did you forget to provide a `loss` argument?\n",
            "WARNING:tensorflow:Gradients do not exist for variables ['layer_normalization_33/gamma:0', 'layer_normalization_33/beta:0', 'layer_normalization_34/gamma:0', 'layer_normalization_34/beta:0', 'layer_normalization_35/gamma:0', 'layer_normalization_35/beta:0', 'Variable:0', 'Variable:0', 'Variable:0', 'luong_attention_2/layer_normalization_42/gamma:0', 'luong_attention_2/layer_normalization_42/beta:0', 'layer_normalization_45/gamma:0', 'layer_normalization_45/beta:0', 'layer_normalization_46/gamma:0', 'layer_normalization_46/beta:0', 'layer_normalization_47/gamma:0', 'layer_normalization_47/beta:0', 'dense_30/kernel:0', 'dense_30/bias:0', 'dense_31/kernel:0', 'dense_31/bias:0', 'dense_32/kernel:0', 'dense_32/bias:0', 'dense_33/kernel:0', 'dense_33/bias:0', 'dense_34/kernel:0', 'dense_34/bias:0', 'Variable:0', 'Variable:0', 'Variable:0'] when minimizing the loss. If you're using `model.compile()`, did you forget to provide a `loss` argument?\n",
            "WARNING:tensorflow:Gradients do not exist for variables ['layer_normalization_33/gamma:0', 'layer_normalization_33/beta:0', 'layer_normalization_34/gamma:0', 'layer_normalization_34/beta:0', 'layer_normalization_35/gamma:0', 'layer_normalization_35/beta:0', 'Variable:0', 'Variable:0', 'Variable:0', 'luong_attention_2/layer_normalization_42/gamma:0', 'luong_attention_2/layer_normalization_42/beta:0', 'layer_normalization_45/gamma:0', 'layer_normalization_45/beta:0', 'layer_normalization_46/gamma:0', 'layer_normalization_46/beta:0', 'layer_normalization_47/gamma:0', 'layer_normalization_47/beta:0', 'dense_30/kernel:0', 'dense_30/bias:0', 'dense_31/kernel:0', 'dense_31/bias:0', 'dense_32/kernel:0', 'dense_32/bias:0', 'dense_33/kernel:0', 'dense_33/bias:0', 'dense_34/kernel:0', 'dense_34/bias:0', 'Variable:0', 'Variable:0', 'Variable:0'] when minimizing the loss. If you're using `model.compile()`, did you forget to provide a `loss` argument?\n",
            "WARNING:tensorflow:Gradients do not exist for variables ['layer_normalization_33/gamma:0', 'layer_normalization_33/beta:0', 'layer_normalization_34/gamma:0', 'layer_normalization_34/beta:0', 'layer_normalization_35/gamma:0', 'layer_normalization_35/beta:0', 'Variable:0', 'Variable:0', 'Variable:0', 'luong_attention_2/layer_normalization_42/gamma:0', 'luong_attention_2/layer_normalization_42/beta:0', 'layer_normalization_45/gamma:0', 'layer_normalization_45/beta:0', 'layer_normalization_46/gamma:0', 'layer_normalization_46/beta:0', 'layer_normalization_47/gamma:0', 'layer_normalization_47/beta:0', 'dense_30/kernel:0', 'dense_30/bias:0', 'dense_31/kernel:0', 'dense_31/bias:0', 'dense_32/kernel:0', 'dense_32/bias:0', 'dense_33/kernel:0', 'dense_33/bias:0', 'dense_34/kernel:0', 'dense_34/bias:0', 'Variable:0', 'Variable:0', 'Variable:0'] when minimizing the loss. If you're using `model.compile()`, did you forget to provide a `loss` argument?\n",
            "WARNING:tensorflow:Gradients do not exist for variables ['layer_normalization_33/gamma:0', 'layer_normalization_33/beta:0', 'layer_normalization_34/gamma:0', 'layer_normalization_34/beta:0', 'layer_normalization_35/gamma:0', 'layer_normalization_35/beta:0', 'Variable:0', 'Variable:0', 'Variable:0', 'luong_attention_2/layer_normalization_42/gamma:0', 'luong_attention_2/layer_normalization_42/beta:0', 'layer_normalization_45/gamma:0', 'layer_normalization_45/beta:0', 'layer_normalization_46/gamma:0', 'layer_normalization_46/beta:0', 'layer_normalization_47/gamma:0', 'layer_normalization_47/beta:0', 'dense_30/kernel:0', 'dense_30/bias:0', 'dense_31/kernel:0', 'dense_31/bias:0', 'dense_32/kernel:0', 'dense_32/bias:0', 'dense_33/kernel:0', 'dense_33/bias:0', 'dense_34/kernel:0', 'dense_34/bias:0', 'Variable:0', 'Variable:0', 'Variable:0'] when minimizing the loss. If you're using `model.compile()`, did you forget to provide a `loss` argument?\n",
            "WARNING:tensorflow:Gradients do not exist for variables ['layer_normalization_33/gamma:0', 'layer_normalization_33/beta:0', 'layer_normalization_34/gamma:0', 'layer_normalization_34/beta:0', 'layer_normalization_35/gamma:0', 'layer_normalization_35/beta:0', 'Variable:0', 'Variable:0', 'Variable:0', 'luong_attention_2/layer_normalization_42/gamma:0', 'luong_attention_2/layer_normalization_42/beta:0', 'layer_normalization_45/gamma:0', 'layer_normalization_45/beta:0', 'layer_normalization_46/gamma:0', 'layer_normalization_46/beta:0', 'layer_normalization_47/gamma:0', 'layer_normalization_47/beta:0', 'dense_30/kernel:0', 'dense_30/bias:0', 'dense_31/kernel:0', 'dense_31/bias:0', 'dense_32/kernel:0', 'dense_32/bias:0', 'dense_33/kernel:0', 'dense_33/bias:0', 'dense_34/kernel:0', 'dense_34/bias:0', 'Variable:0', 'Variable:0', 'Variable:0'] when minimizing the loss. If you're using `model.compile()`, did you forget to provide a `loss` argument?\n",
            "WARNING:tensorflow:Gradients do not exist for variables ['layer_normalization_33/gamma:0', 'layer_normalization_33/beta:0', 'layer_normalization_34/gamma:0', 'layer_normalization_34/beta:0', 'layer_normalization_35/gamma:0', 'layer_normalization_35/beta:0', 'Variable:0', 'Variable:0', 'Variable:0', 'luong_attention_2/layer_normalization_42/gamma:0', 'luong_attention_2/layer_normalization_42/beta:0', 'layer_normalization_45/gamma:0', 'layer_normalization_45/beta:0', 'layer_normalization_46/gamma:0', 'layer_normalization_46/beta:0', 'layer_normalization_47/gamma:0', 'layer_normalization_47/beta:0', 'dense_30/kernel:0', 'dense_30/bias:0', 'dense_31/kernel:0', 'dense_31/bias:0', 'dense_32/kernel:0', 'dense_32/bias:0', 'dense_33/kernel:0', 'dense_33/bias:0', 'dense_34/kernel:0', 'dense_34/bias:0', 'Variable:0', 'Variable:0', 'Variable:0'] when minimizing the loss. If you're using `model.compile()`, did you forget to provide a `loss` argument?\n",
            "WARNING:tensorflow:Gradients do not exist for variables ['layer_normalization_33/gamma:0', 'layer_normalization_33/beta:0', 'layer_normalization_34/gamma:0', 'layer_normalization_34/beta:0', 'layer_normalization_35/gamma:0', 'layer_normalization_35/beta:0', 'Variable:0', 'Variable:0', 'Variable:0', 'luong_attention_2/layer_normalization_42/gamma:0', 'luong_attention_2/layer_normalization_42/beta:0', 'layer_normalization_45/gamma:0', 'layer_normalization_45/beta:0', 'layer_normalization_46/gamma:0', 'layer_normalization_46/beta:0', 'layer_normalization_47/gamma:0', 'layer_normalization_47/beta:0', 'dense_30/kernel:0', 'dense_30/bias:0', 'dense_31/kernel:0', 'dense_31/bias:0', 'dense_32/kernel:0', 'dense_32/bias:0', 'dense_33/kernel:0', 'dense_33/bias:0', 'dense_34/kernel:0', 'dense_34/bias:0', 'Variable:0', 'Variable:0', 'Variable:0'] when minimizing the loss. If you're using `model.compile()`, did you forget to provide a `loss` argument?\n",
            "WARNING:tensorflow:Gradients do not exist for variables ['layer_normalization_33/gamma:0', 'layer_normalization_33/beta:0', 'layer_normalization_34/gamma:0', 'layer_normalization_34/beta:0', 'layer_normalization_35/gamma:0', 'layer_normalization_35/beta:0', 'Variable:0', 'Variable:0', 'Variable:0', 'luong_attention_2/layer_normalization_42/gamma:0', 'luong_attention_2/layer_normalization_42/beta:0', 'layer_normalization_45/gamma:0', 'layer_normalization_45/beta:0', 'layer_normalization_46/gamma:0', 'layer_normalization_46/beta:0', 'layer_normalization_47/gamma:0', 'layer_normalization_47/beta:0', 'dense_30/kernel:0', 'dense_30/bias:0', 'dense_31/kernel:0', 'dense_31/bias:0', 'dense_32/kernel:0', 'dense_32/bias:0', 'dense_33/kernel:0', 'dense_33/bias:0', 'dense_34/kernel:0', 'dense_34/bias:0', 'Variable:0', 'Variable:0', 'Variable:0'] when minimizing the loss. If you're using `model.compile()`, did you forget to provide a `loss` argument?\n",
            "WARNING:tensorflow:Gradients do not exist for variables ['layer_normalization_33/gamma:0', 'layer_normalization_33/beta:0', 'layer_normalization_34/gamma:0', 'layer_normalization_34/beta:0', 'layer_normalization_35/gamma:0', 'layer_normalization_35/beta:0', 'Variable:0', 'Variable:0', 'Variable:0', 'luong_attention_2/layer_normalization_42/gamma:0', 'luong_attention_2/layer_normalization_42/beta:0', 'layer_normalization_45/gamma:0', 'layer_normalization_45/beta:0', 'layer_normalization_46/gamma:0', 'layer_normalization_46/beta:0', 'layer_normalization_47/gamma:0', 'layer_normalization_47/beta:0', 'dense_30/kernel:0', 'dense_30/bias:0', 'dense_31/kernel:0', 'dense_31/bias:0', 'dense_32/kernel:0', 'dense_32/bias:0', 'dense_33/kernel:0', 'dense_33/bias:0', 'dense_34/kernel:0', 'dense_34/bias:0', 'Variable:0', 'Variable:0', 'Variable:0'] when minimizing the loss. If you're using `model.compile()`, did you forget to provide a `loss` argument?\n",
            "WARNING:tensorflow:Gradients do not exist for variables ['layer_normalization_33/gamma:0', 'layer_normalization_33/beta:0', 'layer_normalization_34/gamma:0', 'layer_normalization_34/beta:0', 'layer_normalization_35/gamma:0', 'layer_normalization_35/beta:0', 'Variable:0', 'Variable:0', 'Variable:0', 'luong_attention_2/layer_normalization_42/gamma:0', 'luong_attention_2/layer_normalization_42/beta:0', 'layer_normalization_45/gamma:0', 'layer_normalization_45/beta:0', 'layer_normalization_46/gamma:0', 'layer_normalization_46/beta:0', 'layer_normalization_47/gamma:0', 'layer_normalization_47/beta:0', 'dense_30/kernel:0', 'dense_30/bias:0', 'dense_31/kernel:0', 'dense_31/bias:0', 'dense_32/kernel:0', 'dense_32/bias:0', 'dense_33/kernel:0', 'dense_33/bias:0', 'dense_34/kernel:0', 'dense_34/bias:0', 'Variable:0', 'Variable:0', 'Variable:0'] when minimizing the loss. If you're using `model.compile()`, did you forget to provide a `loss` argument?\n",
            "WARNING:tensorflow:Gradients do not exist for variables ['layer_normalization_33/gamma:0', 'layer_normalization_33/beta:0', 'layer_normalization_34/gamma:0', 'layer_normalization_34/beta:0', 'layer_normalization_35/gamma:0', 'layer_normalization_35/beta:0', 'Variable:0', 'Variable:0', 'Variable:0', 'luong_attention_2/layer_normalization_42/gamma:0', 'luong_attention_2/layer_normalization_42/beta:0', 'layer_normalization_45/gamma:0', 'layer_normalization_45/beta:0', 'layer_normalization_46/gamma:0', 'layer_normalization_46/beta:0', 'layer_normalization_47/gamma:0', 'layer_normalization_47/beta:0', 'dense_30/kernel:0', 'dense_30/bias:0', 'dense_31/kernel:0', 'dense_31/bias:0', 'dense_32/kernel:0', 'dense_32/bias:0', 'dense_33/kernel:0', 'dense_33/bias:0', 'dense_34/kernel:0', 'dense_34/bias:0', 'Variable:0', 'Variable:0', 'Variable:0'] when minimizing the loss. If you're using `model.compile()`, did you forget to provide a `loss` argument?\n",
            "WARNING:tensorflow:Gradients do not exist for variables ['layer_normalization_33/gamma:0', 'layer_normalization_33/beta:0', 'layer_normalization_34/gamma:0', 'layer_normalization_34/beta:0', 'layer_normalization_35/gamma:0', 'layer_normalization_35/beta:0', 'Variable:0', 'Variable:0', 'Variable:0', 'luong_attention_2/layer_normalization_42/gamma:0', 'luong_attention_2/layer_normalization_42/beta:0', 'layer_normalization_45/gamma:0', 'layer_normalization_45/beta:0', 'layer_normalization_46/gamma:0', 'layer_normalization_46/beta:0', 'layer_normalization_47/gamma:0', 'layer_normalization_47/beta:0', 'dense_30/kernel:0', 'dense_30/bias:0', 'dense_31/kernel:0', 'dense_31/bias:0', 'dense_32/kernel:0', 'dense_32/bias:0', 'dense_33/kernel:0', 'dense_33/bias:0', 'dense_34/kernel:0', 'dense_34/bias:0', 'Variable:0', 'Variable:0', 'Variable:0'] when minimizing the loss. If you're using `model.compile()`, did you forget to provide a `loss` argument?\n",
            "WARNING:tensorflow:Gradients do not exist for variables ['layer_normalization_33/gamma:0', 'layer_normalization_33/beta:0', 'layer_normalization_34/gamma:0', 'layer_normalization_34/beta:0', 'layer_normalization_35/gamma:0', 'layer_normalization_35/beta:0', 'Variable:0', 'Variable:0', 'Variable:0', 'luong_attention_2/layer_normalization_42/gamma:0', 'luong_attention_2/layer_normalization_42/beta:0', 'layer_normalization_45/gamma:0', 'layer_normalization_45/beta:0', 'layer_normalization_46/gamma:0', 'layer_normalization_46/beta:0', 'layer_normalization_47/gamma:0', 'layer_normalization_47/beta:0', 'dense_30/kernel:0', 'dense_30/bias:0', 'dense_31/kernel:0', 'dense_31/bias:0', 'dense_32/kernel:0', 'dense_32/bias:0', 'dense_33/kernel:0', 'dense_33/bias:0', 'dense_34/kernel:0', 'dense_34/bias:0', 'Variable:0', 'Variable:0', 'Variable:0'] when minimizing the loss. If you're using `model.compile()`, did you forget to provide a `loss` argument?\n",
            "WARNING:tensorflow:Gradients do not exist for variables ['layer_normalization_33/gamma:0', 'layer_normalization_33/beta:0', 'layer_normalization_34/gamma:0', 'layer_normalization_34/beta:0', 'layer_normalization_35/gamma:0', 'layer_normalization_35/beta:0', 'Variable:0', 'Variable:0', 'Variable:0', 'luong_attention_2/layer_normalization_42/gamma:0', 'luong_attention_2/layer_normalization_42/beta:0', 'layer_normalization_45/gamma:0', 'layer_normalization_45/beta:0', 'layer_normalization_46/gamma:0', 'layer_normalization_46/beta:0', 'layer_normalization_47/gamma:0', 'layer_normalization_47/beta:0', 'dense_30/kernel:0', 'dense_30/bias:0', 'dense_31/kernel:0', 'dense_31/bias:0', 'dense_32/kernel:0', 'dense_32/bias:0', 'dense_33/kernel:0', 'dense_33/bias:0', 'dense_34/kernel:0', 'dense_34/bias:0', 'Variable:0', 'Variable:0', 'Variable:0'] when minimizing the loss. If you're using `model.compile()`, did you forget to provide a `loss` argument?\n",
            "WARNING:tensorflow:Gradients do not exist for variables ['layer_normalization_33/gamma:0', 'layer_normalization_33/beta:0', 'layer_normalization_34/gamma:0', 'layer_normalization_34/beta:0', 'layer_normalization_35/gamma:0', 'layer_normalization_35/beta:0', 'Variable:0', 'Variable:0', 'Variable:0', 'luong_attention_2/layer_normalization_42/gamma:0', 'luong_attention_2/layer_normalization_42/beta:0', 'layer_normalization_45/gamma:0', 'layer_normalization_45/beta:0', 'layer_normalization_46/gamma:0', 'layer_normalization_46/beta:0', 'layer_normalization_47/gamma:0', 'layer_normalization_47/beta:0', 'dense_30/kernel:0', 'dense_30/bias:0', 'dense_31/kernel:0', 'dense_31/bias:0', 'dense_32/kernel:0', 'dense_32/bias:0', 'dense_33/kernel:0', 'dense_33/bias:0', 'dense_34/kernel:0', 'dense_34/bias:0', 'Variable:0', 'Variable:0', 'Variable:0'] when minimizing the loss. If you're using `model.compile()`, did you forget to provide a `loss` argument?\n",
            "WARNING:tensorflow:Gradients do not exist for variables ['layer_normalization_33/gamma:0', 'layer_normalization_33/beta:0', 'layer_normalization_34/gamma:0', 'layer_normalization_34/beta:0', 'layer_normalization_35/gamma:0', 'layer_normalization_35/beta:0', 'Variable:0', 'Variable:0', 'Variable:0', 'luong_attention_2/layer_normalization_42/gamma:0', 'luong_attention_2/layer_normalization_42/beta:0', 'layer_normalization_45/gamma:0', 'layer_normalization_45/beta:0', 'layer_normalization_46/gamma:0', 'layer_normalization_46/beta:0', 'layer_normalization_47/gamma:0', 'layer_normalization_47/beta:0', 'dense_30/kernel:0', 'dense_30/bias:0', 'dense_31/kernel:0', 'dense_31/bias:0', 'dense_32/kernel:0', 'dense_32/bias:0', 'dense_33/kernel:0', 'dense_33/bias:0', 'dense_34/kernel:0', 'dense_34/bias:0', 'Variable:0', 'Variable:0', 'Variable:0'] when minimizing the loss. If you're using `model.compile()`, did you forget to provide a `loss` argument?\n",
            "WARNING:tensorflow:Gradients do not exist for variables ['layer_normalization_33/gamma:0', 'layer_normalization_33/beta:0', 'layer_normalization_34/gamma:0', 'layer_normalization_34/beta:0', 'layer_normalization_35/gamma:0', 'layer_normalization_35/beta:0', 'Variable:0', 'Variable:0', 'Variable:0', 'luong_attention_2/layer_normalization_42/gamma:0', 'luong_attention_2/layer_normalization_42/beta:0', 'layer_normalization_45/gamma:0', 'layer_normalization_45/beta:0', 'layer_normalization_46/gamma:0', 'layer_normalization_46/beta:0', 'layer_normalization_47/gamma:0', 'layer_normalization_47/beta:0', 'dense_30/kernel:0', 'dense_30/bias:0', 'dense_31/kernel:0', 'dense_31/bias:0', 'dense_32/kernel:0', 'dense_32/bias:0', 'dense_33/kernel:0', 'dense_33/bias:0', 'dense_34/kernel:0', 'dense_34/bias:0', 'Variable:0', 'Variable:0', 'Variable:0'] when minimizing the loss. If you're using `model.compile()`, did you forget to provide a `loss` argument?\n",
            "WARNING:tensorflow:Gradients do not exist for variables ['layer_normalization_33/gamma:0', 'layer_normalization_33/beta:0', 'layer_normalization_34/gamma:0', 'layer_normalization_34/beta:0', 'layer_normalization_35/gamma:0', 'layer_normalization_35/beta:0', 'Variable:0', 'Variable:0', 'Variable:0', 'luong_attention_2/layer_normalization_42/gamma:0', 'luong_attention_2/layer_normalization_42/beta:0', 'layer_normalization_45/gamma:0', 'layer_normalization_45/beta:0', 'layer_normalization_46/gamma:0', 'layer_normalization_46/beta:0', 'layer_normalization_47/gamma:0', 'layer_normalization_47/beta:0', 'dense_30/kernel:0', 'dense_30/bias:0', 'dense_31/kernel:0', 'dense_31/bias:0', 'dense_32/kernel:0', 'dense_32/bias:0', 'dense_33/kernel:0', 'dense_33/bias:0', 'dense_34/kernel:0', 'dense_34/bias:0', 'Variable:0', 'Variable:0', 'Variable:0'] when minimizing the loss. If you're using `model.compile()`, did you forget to provide a `loss` argument?\n",
            "WARNING:tensorflow:Gradients do not exist for variables ['layer_normalization_33/gamma:0', 'layer_normalization_33/beta:0', 'layer_normalization_34/gamma:0', 'layer_normalization_34/beta:0', 'layer_normalization_35/gamma:0', 'layer_normalization_35/beta:0', 'Variable:0', 'Variable:0', 'Variable:0', 'luong_attention_2/layer_normalization_42/gamma:0', 'luong_attention_2/layer_normalization_42/beta:0', 'layer_normalization_45/gamma:0', 'layer_normalization_45/beta:0', 'layer_normalization_46/gamma:0', 'layer_normalization_46/beta:0', 'layer_normalization_47/gamma:0', 'layer_normalization_47/beta:0', 'dense_30/kernel:0', 'dense_30/bias:0', 'dense_31/kernel:0', 'dense_31/bias:0', 'dense_32/kernel:0', 'dense_32/bias:0', 'dense_33/kernel:0', 'dense_33/bias:0', 'dense_34/kernel:0', 'dense_34/bias:0', 'Variable:0', 'Variable:0', 'Variable:0'] when minimizing the loss. If you're using `model.compile()`, did you forget to provide a `loss` argument?\n",
            "WARNING:tensorflow:Gradients do not exist for variables ['layer_normalization_33/gamma:0', 'layer_normalization_33/beta:0', 'layer_normalization_34/gamma:0', 'layer_normalization_34/beta:0', 'layer_normalization_35/gamma:0', 'layer_normalization_35/beta:0', 'Variable:0', 'Variable:0', 'Variable:0', 'luong_attention_2/layer_normalization_42/gamma:0', 'luong_attention_2/layer_normalization_42/beta:0', 'layer_normalization_45/gamma:0', 'layer_normalization_45/beta:0', 'layer_normalization_46/gamma:0', 'layer_normalization_46/beta:0', 'layer_normalization_47/gamma:0', 'layer_normalization_47/beta:0', 'dense_30/kernel:0', 'dense_30/bias:0', 'dense_31/kernel:0', 'dense_31/bias:0', 'dense_32/kernel:0', 'dense_32/bias:0', 'dense_33/kernel:0', 'dense_33/bias:0', 'dense_34/kernel:0', 'dense_34/bias:0', 'Variable:0', 'Variable:0', 'Variable:0'] when minimizing the loss. If you're using `model.compile()`, did you forget to provide a `loss` argument?\n",
            "WARNING:tensorflow:Gradients do not exist for variables ['layer_normalization_33/gamma:0', 'layer_normalization_33/beta:0', 'layer_normalization_34/gamma:0', 'layer_normalization_34/beta:0', 'layer_normalization_35/gamma:0', 'layer_normalization_35/beta:0', 'Variable:0', 'Variable:0', 'Variable:0', 'luong_attention_2/layer_normalization_42/gamma:0', 'luong_attention_2/layer_normalization_42/beta:0', 'layer_normalization_45/gamma:0', 'layer_normalization_45/beta:0', 'layer_normalization_46/gamma:0', 'layer_normalization_46/beta:0', 'layer_normalization_47/gamma:0', 'layer_normalization_47/beta:0', 'dense_30/kernel:0', 'dense_30/bias:0', 'dense_31/kernel:0', 'dense_31/bias:0', 'dense_32/kernel:0', 'dense_32/bias:0', 'dense_33/kernel:0', 'dense_33/bias:0', 'dense_34/kernel:0', 'dense_34/bias:0', 'Variable:0', 'Variable:0', 'Variable:0'] when minimizing the loss. If you're using `model.compile()`, did you forget to provide a `loss` argument?\n",
            "WARNING:tensorflow:Gradients do not exist for variables ['layer_normalization_33/gamma:0', 'layer_normalization_33/beta:0', 'layer_normalization_34/gamma:0', 'layer_normalization_34/beta:0', 'layer_normalization_35/gamma:0', 'layer_normalization_35/beta:0', 'Variable:0', 'Variable:0', 'Variable:0', 'luong_attention_2/layer_normalization_42/gamma:0', 'luong_attention_2/layer_normalization_42/beta:0', 'layer_normalization_45/gamma:0', 'layer_normalization_45/beta:0', 'layer_normalization_46/gamma:0', 'layer_normalization_46/beta:0', 'layer_normalization_47/gamma:0', 'layer_normalization_47/beta:0', 'dense_30/kernel:0', 'dense_30/bias:0', 'dense_31/kernel:0', 'dense_31/bias:0', 'dense_32/kernel:0', 'dense_32/bias:0', 'dense_33/kernel:0', 'dense_33/bias:0', 'dense_34/kernel:0', 'dense_34/bias:0', 'Variable:0', 'Variable:0', 'Variable:0'] when minimizing the loss. If you're using `model.compile()`, did you forget to provide a `loss` argument?\n",
            "WARNING:tensorflow:Gradients do not exist for variables ['layer_normalization_33/gamma:0', 'layer_normalization_33/beta:0', 'layer_normalization_34/gamma:0', 'layer_normalization_34/beta:0', 'layer_normalization_35/gamma:0', 'layer_normalization_35/beta:0', 'Variable:0', 'Variable:0', 'Variable:0', 'luong_attention_2/layer_normalization_42/gamma:0', 'luong_attention_2/layer_normalization_42/beta:0', 'layer_normalization_45/gamma:0', 'layer_normalization_45/beta:0', 'layer_normalization_46/gamma:0', 'layer_normalization_46/beta:0', 'layer_normalization_47/gamma:0', 'layer_normalization_47/beta:0', 'dense_30/kernel:0', 'dense_30/bias:0', 'dense_31/kernel:0', 'dense_31/bias:0', 'dense_32/kernel:0', 'dense_32/bias:0', 'dense_33/kernel:0', 'dense_33/bias:0', 'dense_34/kernel:0', 'dense_34/bias:0', 'Variable:0', 'Variable:0', 'Variable:0'] when minimizing the loss. If you're using `model.compile()`, did you forget to provide a `loss` argument?\n",
            "WARNING:tensorflow:Gradients do not exist for variables ['layer_normalization_33/gamma:0', 'layer_normalization_33/beta:0', 'layer_normalization_34/gamma:0', 'layer_normalization_34/beta:0', 'layer_normalization_35/gamma:0', 'layer_normalization_35/beta:0', 'Variable:0', 'Variable:0', 'Variable:0', 'luong_attention_2/layer_normalization_42/gamma:0', 'luong_attention_2/layer_normalization_42/beta:0', 'layer_normalization_45/gamma:0', 'layer_normalization_45/beta:0', 'layer_normalization_46/gamma:0', 'layer_normalization_46/beta:0', 'layer_normalization_47/gamma:0', 'layer_normalization_47/beta:0', 'dense_30/kernel:0', 'dense_30/bias:0', 'dense_31/kernel:0', 'dense_31/bias:0', 'dense_32/kernel:0', 'dense_32/bias:0', 'dense_33/kernel:0', 'dense_33/bias:0', 'dense_34/kernel:0', 'dense_34/bias:0', 'Variable:0', 'Variable:0', 'Variable:0'] when minimizing the loss. If you're using `model.compile()`, did you forget to provide a `loss` argument?\n",
            "WARNING:tensorflow:Gradients do not exist for variables ['layer_normalization_33/gamma:0', 'layer_normalization_33/beta:0', 'layer_normalization_34/gamma:0', 'layer_normalization_34/beta:0', 'layer_normalization_35/gamma:0', 'layer_normalization_35/beta:0', 'Variable:0', 'Variable:0', 'Variable:0', 'luong_attention_2/layer_normalization_42/gamma:0', 'luong_attention_2/layer_normalization_42/beta:0', 'layer_normalization_45/gamma:0', 'layer_normalization_45/beta:0', 'layer_normalization_46/gamma:0', 'layer_normalization_46/beta:0', 'layer_normalization_47/gamma:0', 'layer_normalization_47/beta:0', 'dense_30/kernel:0', 'dense_30/bias:0', 'dense_31/kernel:0', 'dense_31/bias:0', 'dense_32/kernel:0', 'dense_32/bias:0', 'dense_33/kernel:0', 'dense_33/bias:0', 'dense_34/kernel:0', 'dense_34/bias:0', 'Variable:0', 'Variable:0', 'Variable:0'] when minimizing the loss. If you're using `model.compile()`, did you forget to provide a `loss` argument?\n",
            "WARNING:tensorflow:Gradients do not exist for variables ['layer_normalization_33/gamma:0', 'layer_normalization_33/beta:0', 'layer_normalization_34/gamma:0', 'layer_normalization_34/beta:0', 'layer_normalization_35/gamma:0', 'layer_normalization_35/beta:0', 'Variable:0', 'Variable:0', 'Variable:0', 'luong_attention_2/layer_normalization_42/gamma:0', 'luong_attention_2/layer_normalization_42/beta:0', 'layer_normalization_45/gamma:0', 'layer_normalization_45/beta:0', 'layer_normalization_46/gamma:0', 'layer_normalization_46/beta:0', 'layer_normalization_47/gamma:0', 'layer_normalization_47/beta:0', 'dense_30/kernel:0', 'dense_30/bias:0', 'dense_31/kernel:0', 'dense_31/bias:0', 'dense_32/kernel:0', 'dense_32/bias:0', 'dense_33/kernel:0', 'dense_33/bias:0', 'dense_34/kernel:0', 'dense_34/bias:0', 'Variable:0', 'Variable:0', 'Variable:0'] when minimizing the loss. If you're using `model.compile()`, did you forget to provide a `loss` argument?\n",
            "WARNING:tensorflow:Gradients do not exist for variables ['layer_normalization_33/gamma:0', 'layer_normalization_33/beta:0', 'layer_normalization_34/gamma:0', 'layer_normalization_34/beta:0', 'layer_normalization_35/gamma:0', 'layer_normalization_35/beta:0', 'Variable:0', 'Variable:0', 'Variable:0', 'luong_attention_2/layer_normalization_42/gamma:0', 'luong_attention_2/layer_normalization_42/beta:0', 'layer_normalization_45/gamma:0', 'layer_normalization_45/beta:0', 'layer_normalization_46/gamma:0', 'layer_normalization_46/beta:0', 'layer_normalization_47/gamma:0', 'layer_normalization_47/beta:0', 'dense_30/kernel:0', 'dense_30/bias:0', 'dense_31/kernel:0', 'dense_31/bias:0', 'dense_32/kernel:0', 'dense_32/bias:0', 'dense_33/kernel:0', 'dense_33/bias:0', 'dense_34/kernel:0', 'dense_34/bias:0', 'Variable:0', 'Variable:0', 'Variable:0'] when minimizing the loss. If you're using `model.compile()`, did you forget to provide a `loss` argument?\n",
            "WARNING:tensorflow:Gradients do not exist for variables ['layer_normalization_33/gamma:0', 'layer_normalization_33/beta:0', 'layer_normalization_34/gamma:0', 'layer_normalization_34/beta:0', 'layer_normalization_35/gamma:0', 'layer_normalization_35/beta:0', 'Variable:0', 'Variable:0', 'Variable:0', 'luong_attention_2/layer_normalization_42/gamma:0', 'luong_attention_2/layer_normalization_42/beta:0', 'layer_normalization_45/gamma:0', 'layer_normalization_45/beta:0', 'layer_normalization_46/gamma:0', 'layer_normalization_46/beta:0', 'layer_normalization_47/gamma:0', 'layer_normalization_47/beta:0', 'dense_30/kernel:0', 'dense_30/bias:0', 'dense_31/kernel:0', 'dense_31/bias:0', 'dense_32/kernel:0', 'dense_32/bias:0', 'dense_33/kernel:0', 'dense_33/bias:0', 'dense_34/kernel:0', 'dense_34/bias:0', 'Variable:0', 'Variable:0', 'Variable:0'] when minimizing the loss. If you're using `model.compile()`, did you forget to provide a `loss` argument?\n",
            "WARNING:tensorflow:Gradients do not exist for variables ['layer_normalization_33/gamma:0', 'layer_normalization_33/beta:0', 'layer_normalization_34/gamma:0', 'layer_normalization_34/beta:0', 'layer_normalization_35/gamma:0', 'layer_normalization_35/beta:0', 'Variable:0', 'Variable:0', 'Variable:0', 'luong_attention_2/layer_normalization_42/gamma:0', 'luong_attention_2/layer_normalization_42/beta:0', 'layer_normalization_45/gamma:0', 'layer_normalization_45/beta:0', 'layer_normalization_46/gamma:0', 'layer_normalization_46/beta:0', 'layer_normalization_47/gamma:0', 'layer_normalization_47/beta:0', 'dense_30/kernel:0', 'dense_30/bias:0', 'dense_31/kernel:0', 'dense_31/bias:0', 'dense_32/kernel:0', 'dense_32/bias:0', 'dense_33/kernel:0', 'dense_33/bias:0', 'dense_34/kernel:0', 'dense_34/bias:0', 'Variable:0', 'Variable:0', 'Variable:0'] when minimizing the loss. If you're using `model.compile()`, did you forget to provide a `loss` argument?\n",
            "WARNING:tensorflow:Gradients do not exist for variables ['layer_normalization_33/gamma:0', 'layer_normalization_33/beta:0', 'layer_normalization_34/gamma:0', 'layer_normalization_34/beta:0', 'layer_normalization_35/gamma:0', 'layer_normalization_35/beta:0', 'Variable:0', 'Variable:0', 'Variable:0', 'luong_attention_2/layer_normalization_42/gamma:0', 'luong_attention_2/layer_normalization_42/beta:0', 'layer_normalization_45/gamma:0', 'layer_normalization_45/beta:0', 'layer_normalization_46/gamma:0', 'layer_normalization_46/beta:0', 'layer_normalization_47/gamma:0', 'layer_normalization_47/beta:0', 'dense_30/kernel:0', 'dense_30/bias:0', 'dense_31/kernel:0', 'dense_31/bias:0', 'dense_32/kernel:0', 'dense_32/bias:0', 'dense_33/kernel:0', 'dense_33/bias:0', 'dense_34/kernel:0', 'dense_34/bias:0', 'Variable:0', 'Variable:0', 'Variable:0'] when minimizing the loss. If you're using `model.compile()`, did you forget to provide a `loss` argument?\n",
            "WARNING:tensorflow:Gradients do not exist for variables ['layer_normalization_33/gamma:0', 'layer_normalization_33/beta:0', 'layer_normalization_34/gamma:0', 'layer_normalization_34/beta:0', 'layer_normalization_35/gamma:0', 'layer_normalization_35/beta:0', 'Variable:0', 'Variable:0', 'Variable:0', 'luong_attention_2/layer_normalization_42/gamma:0', 'luong_attention_2/layer_normalization_42/beta:0', 'layer_normalization_45/gamma:0', 'layer_normalization_45/beta:0', 'layer_normalization_46/gamma:0', 'layer_normalization_46/beta:0', 'layer_normalization_47/gamma:0', 'layer_normalization_47/beta:0', 'dense_30/kernel:0', 'dense_30/bias:0', 'dense_31/kernel:0', 'dense_31/bias:0', 'dense_32/kernel:0', 'dense_32/bias:0', 'dense_33/kernel:0', 'dense_33/bias:0', 'dense_34/kernel:0', 'dense_34/bias:0', 'Variable:0', 'Variable:0', 'Variable:0'] when minimizing the loss. If you're using `model.compile()`, did you forget to provide a `loss` argument?\n",
            "WARNING:tensorflow:Gradients do not exist for variables ['layer_normalization_33/gamma:0', 'layer_normalization_33/beta:0', 'layer_normalization_34/gamma:0', 'layer_normalization_34/beta:0', 'layer_normalization_35/gamma:0', 'layer_normalization_35/beta:0', 'Variable:0', 'Variable:0', 'Variable:0', 'luong_attention_2/layer_normalization_42/gamma:0', 'luong_attention_2/layer_normalization_42/beta:0', 'layer_normalization_45/gamma:0', 'layer_normalization_45/beta:0', 'layer_normalization_46/gamma:0', 'layer_normalization_46/beta:0', 'layer_normalization_47/gamma:0', 'layer_normalization_47/beta:0', 'dense_30/kernel:0', 'dense_30/bias:0', 'dense_31/kernel:0', 'dense_31/bias:0', 'dense_32/kernel:0', 'dense_32/bias:0', 'dense_33/kernel:0', 'dense_33/bias:0', 'dense_34/kernel:0', 'dense_34/bias:0', 'Variable:0', 'Variable:0', 'Variable:0'] when minimizing the loss. If you're using `model.compile()`, did you forget to provide a `loss` argument?\n",
            "WARNING:tensorflow:Gradients do not exist for variables ['layer_normalization_33/gamma:0', 'layer_normalization_33/beta:0', 'layer_normalization_34/gamma:0', 'layer_normalization_34/beta:0', 'layer_normalization_35/gamma:0', 'layer_normalization_35/beta:0', 'Variable:0', 'Variable:0', 'Variable:0', 'luong_attention_2/layer_normalization_42/gamma:0', 'luong_attention_2/layer_normalization_42/beta:0', 'layer_normalization_45/gamma:0', 'layer_normalization_45/beta:0', 'layer_normalization_46/gamma:0', 'layer_normalization_46/beta:0', 'layer_normalization_47/gamma:0', 'layer_normalization_47/beta:0', 'dense_30/kernel:0', 'dense_30/bias:0', 'dense_31/kernel:0', 'dense_31/bias:0', 'dense_32/kernel:0', 'dense_32/bias:0', 'dense_33/kernel:0', 'dense_33/bias:0', 'dense_34/kernel:0', 'dense_34/bias:0', 'Variable:0', 'Variable:0', 'Variable:0'] when minimizing the loss. If you're using `model.compile()`, did you forget to provide a `loss` argument?\n",
            "WARNING:tensorflow:Gradients do not exist for variables ['layer_normalization_33/gamma:0', 'layer_normalization_33/beta:0', 'layer_normalization_34/gamma:0', 'layer_normalization_34/beta:0', 'layer_normalization_35/gamma:0', 'layer_normalization_35/beta:0', 'Variable:0', 'Variable:0', 'Variable:0', 'luong_attention_2/layer_normalization_42/gamma:0', 'luong_attention_2/layer_normalization_42/beta:0', 'layer_normalization_45/gamma:0', 'layer_normalization_45/beta:0', 'layer_normalization_46/gamma:0', 'layer_normalization_46/beta:0', 'layer_normalization_47/gamma:0', 'layer_normalization_47/beta:0', 'dense_30/kernel:0', 'dense_30/bias:0', 'dense_31/kernel:0', 'dense_31/bias:0', 'dense_32/kernel:0', 'dense_32/bias:0', 'dense_33/kernel:0', 'dense_33/bias:0', 'dense_34/kernel:0', 'dense_34/bias:0', 'Variable:0', 'Variable:0', 'Variable:0'] when minimizing the loss. If you're using `model.compile()`, did you forget to provide a `loss` argument?\n",
            "WARNING:tensorflow:Gradients do not exist for variables ['layer_normalization_33/gamma:0', 'layer_normalization_33/beta:0', 'layer_normalization_34/gamma:0', 'layer_normalization_34/beta:0', 'layer_normalization_35/gamma:0', 'layer_normalization_35/beta:0', 'Variable:0', 'Variable:0', 'Variable:0', 'luong_attention_2/layer_normalization_42/gamma:0', 'luong_attention_2/layer_normalization_42/beta:0', 'layer_normalization_45/gamma:0', 'layer_normalization_45/beta:0', 'layer_normalization_46/gamma:0', 'layer_normalization_46/beta:0', 'layer_normalization_47/gamma:0', 'layer_normalization_47/beta:0', 'dense_30/kernel:0', 'dense_30/bias:0', 'dense_31/kernel:0', 'dense_31/bias:0', 'dense_32/kernel:0', 'dense_32/bias:0', 'dense_33/kernel:0', 'dense_33/bias:0', 'dense_34/kernel:0', 'dense_34/bias:0', 'Variable:0', 'Variable:0', 'Variable:0'] when minimizing the loss. If you're using `model.compile()`, did you forget to provide a `loss` argument?\n",
            "WARNING:tensorflow:Gradients do not exist for variables ['layer_normalization_33/gamma:0', 'layer_normalization_33/beta:0', 'layer_normalization_34/gamma:0', 'layer_normalization_34/beta:0', 'layer_normalization_35/gamma:0', 'layer_normalization_35/beta:0', 'Variable:0', 'Variable:0', 'Variable:0', 'luong_attention_2/layer_normalization_42/gamma:0', 'luong_attention_2/layer_normalization_42/beta:0', 'layer_normalization_45/gamma:0', 'layer_normalization_45/beta:0', 'layer_normalization_46/gamma:0', 'layer_normalization_46/beta:0', 'layer_normalization_47/gamma:0', 'layer_normalization_47/beta:0', 'dense_30/kernel:0', 'dense_30/bias:0', 'dense_31/kernel:0', 'dense_31/bias:0', 'dense_32/kernel:0', 'dense_32/bias:0', 'dense_33/kernel:0', 'dense_33/bias:0', 'dense_34/kernel:0', 'dense_34/bias:0', 'Variable:0', 'Variable:0', 'Variable:0'] when minimizing the loss. If you're using `model.compile()`, did you forget to provide a `loss` argument?\n",
            "WARNING:tensorflow:Gradients do not exist for variables ['layer_normalization_33/gamma:0', 'layer_normalization_33/beta:0', 'layer_normalization_34/gamma:0', 'layer_normalization_34/beta:0', 'layer_normalization_35/gamma:0', 'layer_normalization_35/beta:0', 'Variable:0', 'Variable:0', 'Variable:0', 'luong_attention_2/layer_normalization_42/gamma:0', 'luong_attention_2/layer_normalization_42/beta:0', 'layer_normalization_45/gamma:0', 'layer_normalization_45/beta:0', 'layer_normalization_46/gamma:0', 'layer_normalization_46/beta:0', 'layer_normalization_47/gamma:0', 'layer_normalization_47/beta:0', 'dense_30/kernel:0', 'dense_30/bias:0', 'dense_31/kernel:0', 'dense_31/bias:0', 'dense_32/kernel:0', 'dense_32/bias:0', 'dense_33/kernel:0', 'dense_33/bias:0', 'dense_34/kernel:0', 'dense_34/bias:0', 'Variable:0', 'Variable:0', 'Variable:0'] when minimizing the loss. If you're using `model.compile()`, did you forget to provide a `loss` argument?\n",
            "WARNING:tensorflow:Gradients do not exist for variables ['layer_normalization_33/gamma:0', 'layer_normalization_33/beta:0', 'layer_normalization_34/gamma:0', 'layer_normalization_34/beta:0', 'layer_normalization_35/gamma:0', 'layer_normalization_35/beta:0', 'Variable:0', 'Variable:0', 'Variable:0', 'luong_attention_2/layer_normalization_42/gamma:0', 'luong_attention_2/layer_normalization_42/beta:0', 'layer_normalization_45/gamma:0', 'layer_normalization_45/beta:0', 'layer_normalization_46/gamma:0', 'layer_normalization_46/beta:0', 'layer_normalization_47/gamma:0', 'layer_normalization_47/beta:0', 'dense_30/kernel:0', 'dense_30/bias:0', 'dense_31/kernel:0', 'dense_31/bias:0', 'dense_32/kernel:0', 'dense_32/bias:0', 'dense_33/kernel:0', 'dense_33/bias:0', 'dense_34/kernel:0', 'dense_34/bias:0', 'Variable:0', 'Variable:0', 'Variable:0'] when minimizing the loss. If you're using `model.compile()`, did you forget to provide a `loss` argument?\n",
            "WARNING:tensorflow:Gradients do not exist for variables ['layer_normalization_33/gamma:0', 'layer_normalization_33/beta:0', 'layer_normalization_34/gamma:0', 'layer_normalization_34/beta:0', 'layer_normalization_35/gamma:0', 'layer_normalization_35/beta:0', 'Variable:0', 'Variable:0', 'Variable:0', 'luong_attention_2/layer_normalization_42/gamma:0', 'luong_attention_2/layer_normalization_42/beta:0', 'layer_normalization_45/gamma:0', 'layer_normalization_45/beta:0', 'layer_normalization_46/gamma:0', 'layer_normalization_46/beta:0', 'layer_normalization_47/gamma:0', 'layer_normalization_47/beta:0', 'dense_30/kernel:0', 'dense_30/bias:0', 'dense_31/kernel:0', 'dense_31/bias:0', 'dense_32/kernel:0', 'dense_32/bias:0', 'dense_33/kernel:0', 'dense_33/bias:0', 'dense_34/kernel:0', 'dense_34/bias:0', 'Variable:0', 'Variable:0', 'Variable:0'] when minimizing the loss. If you're using `model.compile()`, did you forget to provide a `loss` argument?\n",
            "WARNING:tensorflow:Gradients do not exist for variables ['layer_normalization_33/gamma:0', 'layer_normalization_33/beta:0', 'layer_normalization_34/gamma:0', 'layer_normalization_34/beta:0', 'layer_normalization_35/gamma:0', 'layer_normalization_35/beta:0', 'Variable:0', 'Variable:0', 'Variable:0', 'luong_attention_2/layer_normalization_42/gamma:0', 'luong_attention_2/layer_normalization_42/beta:0', 'layer_normalization_45/gamma:0', 'layer_normalization_45/beta:0', 'layer_normalization_46/gamma:0', 'layer_normalization_46/beta:0', 'layer_normalization_47/gamma:0', 'layer_normalization_47/beta:0', 'dense_30/kernel:0', 'dense_30/bias:0', 'dense_31/kernel:0', 'dense_31/bias:0', 'dense_32/kernel:0', 'dense_32/bias:0', 'dense_33/kernel:0', 'dense_33/bias:0', 'dense_34/kernel:0', 'dense_34/bias:0', 'Variable:0', 'Variable:0', 'Variable:0'] when minimizing the loss. If you're using `model.compile()`, did you forget to provide a `loss` argument?\n",
            "WARNING:tensorflow:Gradients do not exist for variables ['layer_normalization_33/gamma:0', 'layer_normalization_33/beta:0', 'layer_normalization_34/gamma:0', 'layer_normalization_34/beta:0', 'layer_normalization_35/gamma:0', 'layer_normalization_35/beta:0', 'Variable:0', 'Variable:0', 'Variable:0', 'luong_attention_2/layer_normalization_42/gamma:0', 'luong_attention_2/layer_normalization_42/beta:0', 'layer_normalization_45/gamma:0', 'layer_normalization_45/beta:0', 'layer_normalization_46/gamma:0', 'layer_normalization_46/beta:0', 'layer_normalization_47/gamma:0', 'layer_normalization_47/beta:0', 'dense_30/kernel:0', 'dense_30/bias:0', 'dense_31/kernel:0', 'dense_31/bias:0', 'dense_32/kernel:0', 'dense_32/bias:0', 'dense_33/kernel:0', 'dense_33/bias:0', 'dense_34/kernel:0', 'dense_34/bias:0', 'Variable:0', 'Variable:0', 'Variable:0'] when minimizing the loss. If you're using `model.compile()`, did you forget to provide a `loss` argument?\n",
            "WARNING:tensorflow:Gradients do not exist for variables ['layer_normalization_33/gamma:0', 'layer_normalization_33/beta:0', 'layer_normalization_34/gamma:0', 'layer_normalization_34/beta:0', 'layer_normalization_35/gamma:0', 'layer_normalization_35/beta:0', 'Variable:0', 'Variable:0', 'Variable:0', 'luong_attention_2/layer_normalization_42/gamma:0', 'luong_attention_2/layer_normalization_42/beta:0', 'layer_normalization_45/gamma:0', 'layer_normalization_45/beta:0', 'layer_normalization_46/gamma:0', 'layer_normalization_46/beta:0', 'layer_normalization_47/gamma:0', 'layer_normalization_47/beta:0', 'dense_30/kernel:0', 'dense_30/bias:0', 'dense_31/kernel:0', 'dense_31/bias:0', 'dense_32/kernel:0', 'dense_32/bias:0', 'dense_33/kernel:0', 'dense_33/bias:0', 'dense_34/kernel:0', 'dense_34/bias:0', 'Variable:0', 'Variable:0', 'Variable:0'] when minimizing the loss. If you're using `model.compile()`, did you forget to provide a `loss` argument?\n",
            "WARNING:tensorflow:Gradients do not exist for variables ['layer_normalization_33/gamma:0', 'layer_normalization_33/beta:0', 'layer_normalization_34/gamma:0', 'layer_normalization_34/beta:0', 'layer_normalization_35/gamma:0', 'layer_normalization_35/beta:0', 'Variable:0', 'Variable:0', 'Variable:0', 'luong_attention_2/layer_normalization_42/gamma:0', 'luong_attention_2/layer_normalization_42/beta:0', 'layer_normalization_45/gamma:0', 'layer_normalization_45/beta:0', 'layer_normalization_46/gamma:0', 'layer_normalization_46/beta:0', 'layer_normalization_47/gamma:0', 'layer_normalization_47/beta:0', 'dense_30/kernel:0', 'dense_30/bias:0', 'dense_31/kernel:0', 'dense_31/bias:0', 'dense_32/kernel:0', 'dense_32/bias:0', 'dense_33/kernel:0', 'dense_33/bias:0', 'dense_34/kernel:0', 'dense_34/bias:0', 'Variable:0', 'Variable:0', 'Variable:0'] when minimizing the loss. If you're using `model.compile()`, did you forget to provide a `loss` argument?\n",
            "WARNING:tensorflow:Gradients do not exist for variables ['layer_normalization_33/gamma:0', 'layer_normalization_33/beta:0', 'layer_normalization_34/gamma:0', 'layer_normalization_34/beta:0', 'layer_normalization_35/gamma:0', 'layer_normalization_35/beta:0', 'Variable:0', 'Variable:0', 'Variable:0', 'luong_attention_2/layer_normalization_42/gamma:0', 'luong_attention_2/layer_normalization_42/beta:0', 'layer_normalization_45/gamma:0', 'layer_normalization_45/beta:0', 'layer_normalization_46/gamma:0', 'layer_normalization_46/beta:0', 'layer_normalization_47/gamma:0', 'layer_normalization_47/beta:0', 'dense_30/kernel:0', 'dense_30/bias:0', 'dense_31/kernel:0', 'dense_31/bias:0', 'dense_32/kernel:0', 'dense_32/bias:0', 'dense_33/kernel:0', 'dense_33/bias:0', 'dense_34/kernel:0', 'dense_34/bias:0', 'Variable:0', 'Variable:0', 'Variable:0'] when minimizing the loss. If you're using `model.compile()`, did you forget to provide a `loss` argument?\n",
            "WARNING:tensorflow:Gradients do not exist for variables ['layer_normalization_33/gamma:0', 'layer_normalization_33/beta:0', 'layer_normalization_34/gamma:0', 'layer_normalization_34/beta:0', 'layer_normalization_35/gamma:0', 'layer_normalization_35/beta:0', 'Variable:0', 'Variable:0', 'Variable:0', 'luong_attention_2/layer_normalization_42/gamma:0', 'luong_attention_2/layer_normalization_42/beta:0', 'layer_normalization_45/gamma:0', 'layer_normalization_45/beta:0', 'layer_normalization_46/gamma:0', 'layer_normalization_46/beta:0', 'layer_normalization_47/gamma:0', 'layer_normalization_47/beta:0', 'dense_30/kernel:0', 'dense_30/bias:0', 'dense_31/kernel:0', 'dense_31/bias:0', 'dense_32/kernel:0', 'dense_32/bias:0', 'dense_33/kernel:0', 'dense_33/bias:0', 'dense_34/kernel:0', 'dense_34/bias:0', 'Variable:0', 'Variable:0', 'Variable:0'] when minimizing the loss. If you're using `model.compile()`, did you forget to provide a `loss` argument?\n",
            "WARNING:tensorflow:Gradients do not exist for variables ['layer_normalization_33/gamma:0', 'layer_normalization_33/beta:0', 'layer_normalization_34/gamma:0', 'layer_normalization_34/beta:0', 'layer_normalization_35/gamma:0', 'layer_normalization_35/beta:0', 'Variable:0', 'Variable:0', 'Variable:0', 'luong_attention_2/layer_normalization_42/gamma:0', 'luong_attention_2/layer_normalization_42/beta:0', 'layer_normalization_45/gamma:0', 'layer_normalization_45/beta:0', 'layer_normalization_46/gamma:0', 'layer_normalization_46/beta:0', 'layer_normalization_47/gamma:0', 'layer_normalization_47/beta:0', 'dense_30/kernel:0', 'dense_30/bias:0', 'dense_31/kernel:0', 'dense_31/bias:0', 'dense_32/kernel:0', 'dense_32/bias:0', 'dense_33/kernel:0', 'dense_33/bias:0', 'dense_34/kernel:0', 'dense_34/bias:0', 'Variable:0', 'Variable:0', 'Variable:0'] when minimizing the loss. If you're using `model.compile()`, did you forget to provide a `loss` argument?\n",
            "WARNING:tensorflow:Gradients do not exist for variables ['layer_normalization_33/gamma:0', 'layer_normalization_33/beta:0', 'layer_normalization_34/gamma:0', 'layer_normalization_34/beta:0', 'layer_normalization_35/gamma:0', 'layer_normalization_35/beta:0', 'Variable:0', 'Variable:0', 'Variable:0', 'luong_attention_2/layer_normalization_42/gamma:0', 'luong_attention_2/layer_normalization_42/beta:0', 'layer_normalization_45/gamma:0', 'layer_normalization_45/beta:0', 'layer_normalization_46/gamma:0', 'layer_normalization_46/beta:0', 'layer_normalization_47/gamma:0', 'layer_normalization_47/beta:0', 'dense_30/kernel:0', 'dense_30/bias:0', 'dense_31/kernel:0', 'dense_31/bias:0', 'dense_32/kernel:0', 'dense_32/bias:0', 'dense_33/kernel:0', 'dense_33/bias:0', 'dense_34/kernel:0', 'dense_34/bias:0', 'Variable:0', 'Variable:0', 'Variable:0'] when minimizing the loss. If you're using `model.compile()`, did you forget to provide a `loss` argument?\n",
            "WARNING:tensorflow:Gradients do not exist for variables ['layer_normalization_33/gamma:0', 'layer_normalization_33/beta:0', 'layer_normalization_34/gamma:0', 'layer_normalization_34/beta:0', 'layer_normalization_35/gamma:0', 'layer_normalization_35/beta:0', 'Variable:0', 'Variable:0', 'Variable:0', 'luong_attention_2/layer_normalization_42/gamma:0', 'luong_attention_2/layer_normalization_42/beta:0', 'layer_normalization_45/gamma:0', 'layer_normalization_45/beta:0', 'layer_normalization_46/gamma:0', 'layer_normalization_46/beta:0', 'layer_normalization_47/gamma:0', 'layer_normalization_47/beta:0', 'dense_30/kernel:0', 'dense_30/bias:0', 'dense_31/kernel:0', 'dense_31/bias:0', 'dense_32/kernel:0', 'dense_32/bias:0', 'dense_33/kernel:0', 'dense_33/bias:0', 'dense_34/kernel:0', 'dense_34/bias:0', 'Variable:0', 'Variable:0', 'Variable:0'] when minimizing the loss. If you're using `model.compile()`, did you forget to provide a `loss` argument?\n",
            "WARNING:tensorflow:Gradients do not exist for variables ['layer_normalization_33/gamma:0', 'layer_normalization_33/beta:0', 'layer_normalization_34/gamma:0', 'layer_normalization_34/beta:0', 'layer_normalization_35/gamma:0', 'layer_normalization_35/beta:0', 'Variable:0', 'Variable:0', 'Variable:0', 'luong_attention_2/layer_normalization_42/gamma:0', 'luong_attention_2/layer_normalization_42/beta:0', 'layer_normalization_45/gamma:0', 'layer_normalization_45/beta:0', 'layer_normalization_46/gamma:0', 'layer_normalization_46/beta:0', 'layer_normalization_47/gamma:0', 'layer_normalization_47/beta:0', 'dense_30/kernel:0', 'dense_30/bias:0', 'dense_31/kernel:0', 'dense_31/bias:0', 'dense_32/kernel:0', 'dense_32/bias:0', 'dense_33/kernel:0', 'dense_33/bias:0', 'dense_34/kernel:0', 'dense_34/bias:0', 'Variable:0', 'Variable:0', 'Variable:0'] when minimizing the loss. If you're using `model.compile()`, did you forget to provide a `loss` argument?\n",
            "WARNING:tensorflow:Gradients do not exist for variables ['layer_normalization_33/gamma:0', 'layer_normalization_33/beta:0', 'layer_normalization_34/gamma:0', 'layer_normalization_34/beta:0', 'layer_normalization_35/gamma:0', 'layer_normalization_35/beta:0', 'Variable:0', 'Variable:0', 'Variable:0', 'luong_attention_2/layer_normalization_42/gamma:0', 'luong_attention_2/layer_normalization_42/beta:0', 'layer_normalization_45/gamma:0', 'layer_normalization_45/beta:0', 'layer_normalization_46/gamma:0', 'layer_normalization_46/beta:0', 'layer_normalization_47/gamma:0', 'layer_normalization_47/beta:0', 'dense_30/kernel:0', 'dense_30/bias:0', 'dense_31/kernel:0', 'dense_31/bias:0', 'dense_32/kernel:0', 'dense_32/bias:0', 'dense_33/kernel:0', 'dense_33/bias:0', 'dense_34/kernel:0', 'dense_34/bias:0', 'Variable:0', 'Variable:0', 'Variable:0'] when minimizing the loss. If you're using `model.compile()`, did you forget to provide a `loss` argument?\n",
            "WARNING:tensorflow:Gradients do not exist for variables ['layer_normalization_33/gamma:0', 'layer_normalization_33/beta:0', 'layer_normalization_34/gamma:0', 'layer_normalization_34/beta:0', 'layer_normalization_35/gamma:0', 'layer_normalization_35/beta:0', 'Variable:0', 'Variable:0', 'Variable:0', 'luong_attention_2/layer_normalization_42/gamma:0', 'luong_attention_2/layer_normalization_42/beta:0', 'layer_normalization_45/gamma:0', 'layer_normalization_45/beta:0', 'layer_normalization_46/gamma:0', 'layer_normalization_46/beta:0', 'layer_normalization_47/gamma:0', 'layer_normalization_47/beta:0', 'dense_30/kernel:0', 'dense_30/bias:0', 'dense_31/kernel:0', 'dense_31/bias:0', 'dense_32/kernel:0', 'dense_32/bias:0', 'dense_33/kernel:0', 'dense_33/bias:0', 'dense_34/kernel:0', 'dense_34/bias:0', 'Variable:0', 'Variable:0', 'Variable:0'] when minimizing the loss. If you're using `model.compile()`, did you forget to provide a `loss` argument?\n",
            "WARNING:tensorflow:Gradients do not exist for variables ['layer_normalization_33/gamma:0', 'layer_normalization_33/beta:0', 'layer_normalization_34/gamma:0', 'layer_normalization_34/beta:0', 'layer_normalization_35/gamma:0', 'layer_normalization_35/beta:0', 'Variable:0', 'Variable:0', 'Variable:0', 'luong_attention_2/layer_normalization_42/gamma:0', 'luong_attention_2/layer_normalization_42/beta:0', 'layer_normalization_45/gamma:0', 'layer_normalization_45/beta:0', 'layer_normalization_46/gamma:0', 'layer_normalization_46/beta:0', 'layer_normalization_47/gamma:0', 'layer_normalization_47/beta:0', 'dense_30/kernel:0', 'dense_30/bias:0', 'dense_31/kernel:0', 'dense_31/bias:0', 'dense_32/kernel:0', 'dense_32/bias:0', 'dense_33/kernel:0', 'dense_33/bias:0', 'dense_34/kernel:0', 'dense_34/bias:0', 'Variable:0', 'Variable:0', 'Variable:0'] when minimizing the loss. If you're using `model.compile()`, did you forget to provide a `loss` argument?\n",
            "WARNING:tensorflow:Gradients do not exist for variables ['layer_normalization_33/gamma:0', 'layer_normalization_33/beta:0', 'layer_normalization_34/gamma:0', 'layer_normalization_34/beta:0', 'layer_normalization_35/gamma:0', 'layer_normalization_35/beta:0', 'Variable:0', 'Variable:0', 'Variable:0', 'luong_attention_2/layer_normalization_42/gamma:0', 'luong_attention_2/layer_normalization_42/beta:0', 'layer_normalization_45/gamma:0', 'layer_normalization_45/beta:0', 'layer_normalization_46/gamma:0', 'layer_normalization_46/beta:0', 'layer_normalization_47/gamma:0', 'layer_normalization_47/beta:0', 'dense_30/kernel:0', 'dense_30/bias:0', 'dense_31/kernel:0', 'dense_31/bias:0', 'dense_32/kernel:0', 'dense_32/bias:0', 'dense_33/kernel:0', 'dense_33/bias:0', 'dense_34/kernel:0', 'dense_34/bias:0', 'Variable:0', 'Variable:0', 'Variable:0'] when minimizing the loss. If you're using `model.compile()`, did you forget to provide a `loss` argument?\n"
          ]
        },
        {
          "name": "stdout",
          "output_type": "stream",
          "text": [
            "Epoch 1 Loss Sentiment0.1241\n",
            "Epoch 3 Accuracy Sentiment0.9665\n"
          ]
        },
        {
          "name": "stderr",
          "output_type": "stream",
          "text": [
            "WARNING:tensorflow:Gradients do not exist for variables ['layer_normalization_36/gamma:0', 'layer_normalization_36/beta:0', 'layer_normalization_37/gamma:0', 'layer_normalization_37/beta:0', 'layer_normalization_38/gamma:0', 'layer_normalization_38/beta:0', 'Variable:0', 'Variable:0', 'Variable:0', 'luong_attention_2/layer_normalization_43/gamma:0', 'luong_attention_2/layer_normalization_43/beta:0', 'layer_normalization_48/gamma:0', 'layer_normalization_48/beta:0', 'layer_normalization_49/gamma:0', 'layer_normalization_49/beta:0', 'layer_normalization_50/gamma:0', 'layer_normalization_50/beta:0', 'dense_35/kernel:0', 'dense_35/bias:0', 'dense_36/kernel:0', 'dense_36/bias:0', 'dense_37/kernel:0', 'dense_37/bias:0', 'dense_38/kernel:0', 'dense_38/bias:0', 'dense_39/kernel:0', 'dense_39/bias:0', 'Variable:0', 'Variable:0', 'Variable:0'] when minimizing the loss. If you're using `model.compile()`, did you forget to provide a `loss` argument?\n",
            "WARNING:tensorflow:Gradients do not exist for variables ['layer_normalization_36/gamma:0', 'layer_normalization_36/beta:0', 'layer_normalization_37/gamma:0', 'layer_normalization_37/beta:0', 'layer_normalization_38/gamma:0', 'layer_normalization_38/beta:0', 'Variable:0', 'Variable:0', 'Variable:0', 'luong_attention_2/layer_normalization_43/gamma:0', 'luong_attention_2/layer_normalization_43/beta:0', 'layer_normalization_48/gamma:0', 'layer_normalization_48/beta:0', 'layer_normalization_49/gamma:0', 'layer_normalization_49/beta:0', 'layer_normalization_50/gamma:0', 'layer_normalization_50/beta:0', 'dense_35/kernel:0', 'dense_35/bias:0', 'dense_36/kernel:0', 'dense_36/bias:0', 'dense_37/kernel:0', 'dense_37/bias:0', 'dense_38/kernel:0', 'dense_38/bias:0', 'dense_39/kernel:0', 'dense_39/bias:0', 'Variable:0', 'Variable:0', 'Variable:0'] when minimizing the loss. If you're using `model.compile()`, did you forget to provide a `loss` argument?\n",
            "WARNING:tensorflow:Gradients do not exist for variables ['layer_normalization_36/gamma:0', 'layer_normalization_36/beta:0', 'layer_normalization_37/gamma:0', 'layer_normalization_37/beta:0', 'layer_normalization_38/gamma:0', 'layer_normalization_38/beta:0', 'Variable:0', 'Variable:0', 'Variable:0', 'luong_attention_2/layer_normalization_43/gamma:0', 'luong_attention_2/layer_normalization_43/beta:0', 'layer_normalization_48/gamma:0', 'layer_normalization_48/beta:0', 'layer_normalization_49/gamma:0', 'layer_normalization_49/beta:0', 'layer_normalization_50/gamma:0', 'layer_normalization_50/beta:0', 'dense_35/kernel:0', 'dense_35/bias:0', 'dense_36/kernel:0', 'dense_36/bias:0', 'dense_37/kernel:0', 'dense_37/bias:0', 'dense_38/kernel:0', 'dense_38/bias:0', 'dense_39/kernel:0', 'dense_39/bias:0', 'Variable:0', 'Variable:0', 'Variable:0'] when minimizing the loss. If you're using `model.compile()`, did you forget to provide a `loss` argument?\n",
            "WARNING:tensorflow:Gradients do not exist for variables ['layer_normalization_36/gamma:0', 'layer_normalization_36/beta:0', 'layer_normalization_37/gamma:0', 'layer_normalization_37/beta:0', 'layer_normalization_38/gamma:0', 'layer_normalization_38/beta:0', 'Variable:0', 'Variable:0', 'Variable:0', 'luong_attention_2/layer_normalization_43/gamma:0', 'luong_attention_2/layer_normalization_43/beta:0', 'layer_normalization_48/gamma:0', 'layer_normalization_48/beta:0', 'layer_normalization_49/gamma:0', 'layer_normalization_49/beta:0', 'layer_normalization_50/gamma:0', 'layer_normalization_50/beta:0', 'dense_35/kernel:0', 'dense_35/bias:0', 'dense_36/kernel:0', 'dense_36/bias:0', 'dense_37/kernel:0', 'dense_37/bias:0', 'dense_38/kernel:0', 'dense_38/bias:0', 'dense_39/kernel:0', 'dense_39/bias:0', 'Variable:0', 'Variable:0', 'Variable:0'] when minimizing the loss. If you're using `model.compile()`, did you forget to provide a `loss` argument?\n",
            "WARNING:tensorflow:Gradients do not exist for variables ['layer_normalization_36/gamma:0', 'layer_normalization_36/beta:0', 'layer_normalization_37/gamma:0', 'layer_normalization_37/beta:0', 'layer_normalization_38/gamma:0', 'layer_normalization_38/beta:0', 'Variable:0', 'Variable:0', 'Variable:0', 'luong_attention_2/layer_normalization_43/gamma:0', 'luong_attention_2/layer_normalization_43/beta:0', 'layer_normalization_48/gamma:0', 'layer_normalization_48/beta:0', 'layer_normalization_49/gamma:0', 'layer_normalization_49/beta:0', 'layer_normalization_50/gamma:0', 'layer_normalization_50/beta:0', 'dense_35/kernel:0', 'dense_35/bias:0', 'dense_36/kernel:0', 'dense_36/bias:0', 'dense_37/kernel:0', 'dense_37/bias:0', 'dense_38/kernel:0', 'dense_38/bias:0', 'dense_39/kernel:0', 'dense_39/bias:0', 'Variable:0', 'Variable:0', 'Variable:0'] when minimizing the loss. If you're using `model.compile()`, did you forget to provide a `loss` argument?\n",
            "WARNING:tensorflow:Gradients do not exist for variables ['layer_normalization_36/gamma:0', 'layer_normalization_36/beta:0', 'layer_normalization_37/gamma:0', 'layer_normalization_37/beta:0', 'layer_normalization_38/gamma:0', 'layer_normalization_38/beta:0', 'Variable:0', 'Variable:0', 'Variable:0', 'luong_attention_2/layer_normalization_43/gamma:0', 'luong_attention_2/layer_normalization_43/beta:0', 'layer_normalization_48/gamma:0', 'layer_normalization_48/beta:0', 'layer_normalization_49/gamma:0', 'layer_normalization_49/beta:0', 'layer_normalization_50/gamma:0', 'layer_normalization_50/beta:0', 'dense_35/kernel:0', 'dense_35/bias:0', 'dense_36/kernel:0', 'dense_36/bias:0', 'dense_37/kernel:0', 'dense_37/bias:0', 'dense_38/kernel:0', 'dense_38/bias:0', 'dense_39/kernel:0', 'dense_39/bias:0', 'Variable:0', 'Variable:0', 'Variable:0'] when minimizing the loss. If you're using `model.compile()`, did you forget to provide a `loss` argument?\n",
            "WARNING:tensorflow:Gradients do not exist for variables ['layer_normalization_36/gamma:0', 'layer_normalization_36/beta:0', 'layer_normalization_37/gamma:0', 'layer_normalization_37/beta:0', 'layer_normalization_38/gamma:0', 'layer_normalization_38/beta:0', 'Variable:0', 'Variable:0', 'Variable:0', 'luong_attention_2/layer_normalization_43/gamma:0', 'luong_attention_2/layer_normalization_43/beta:0', 'layer_normalization_48/gamma:0', 'layer_normalization_48/beta:0', 'layer_normalization_49/gamma:0', 'layer_normalization_49/beta:0', 'layer_normalization_50/gamma:0', 'layer_normalization_50/beta:0', 'dense_35/kernel:0', 'dense_35/bias:0', 'dense_36/kernel:0', 'dense_36/bias:0', 'dense_37/kernel:0', 'dense_37/bias:0', 'dense_38/kernel:0', 'dense_38/bias:0', 'dense_39/kernel:0', 'dense_39/bias:0', 'Variable:0', 'Variable:0', 'Variable:0'] when minimizing the loss. If you're using `model.compile()`, did you forget to provide a `loss` argument?\n",
            "WARNING:tensorflow:Gradients do not exist for variables ['layer_normalization_36/gamma:0', 'layer_normalization_36/beta:0', 'layer_normalization_37/gamma:0', 'layer_normalization_37/beta:0', 'layer_normalization_38/gamma:0', 'layer_normalization_38/beta:0', 'Variable:0', 'Variable:0', 'Variable:0', 'luong_attention_2/layer_normalization_43/gamma:0', 'luong_attention_2/layer_normalization_43/beta:0', 'layer_normalization_48/gamma:0', 'layer_normalization_48/beta:0', 'layer_normalization_49/gamma:0', 'layer_normalization_49/beta:0', 'layer_normalization_50/gamma:0', 'layer_normalization_50/beta:0', 'dense_35/kernel:0', 'dense_35/bias:0', 'dense_36/kernel:0', 'dense_36/bias:0', 'dense_37/kernel:0', 'dense_37/bias:0', 'dense_38/kernel:0', 'dense_38/bias:0', 'dense_39/kernel:0', 'dense_39/bias:0', 'Variable:0', 'Variable:0', 'Variable:0'] when minimizing the loss. If you're using `model.compile()`, did you forget to provide a `loss` argument?\n",
            "WARNING:tensorflow:Gradients do not exist for variables ['layer_normalization_36/gamma:0', 'layer_normalization_36/beta:0', 'layer_normalization_37/gamma:0', 'layer_normalization_37/beta:0', 'layer_normalization_38/gamma:0', 'layer_normalization_38/beta:0', 'Variable:0', 'Variable:0', 'Variable:0', 'luong_attention_2/layer_normalization_43/gamma:0', 'luong_attention_2/layer_normalization_43/beta:0', 'layer_normalization_48/gamma:0', 'layer_normalization_48/beta:0', 'layer_normalization_49/gamma:0', 'layer_normalization_49/beta:0', 'layer_normalization_50/gamma:0', 'layer_normalization_50/beta:0', 'dense_35/kernel:0', 'dense_35/bias:0', 'dense_36/kernel:0', 'dense_36/bias:0', 'dense_37/kernel:0', 'dense_37/bias:0', 'dense_38/kernel:0', 'dense_38/bias:0', 'dense_39/kernel:0', 'dense_39/bias:0', 'Variable:0', 'Variable:0', 'Variable:0'] when minimizing the loss. If you're using `model.compile()`, did you forget to provide a `loss` argument?\n",
            "WARNING:tensorflow:Gradients do not exist for variables ['layer_normalization_36/gamma:0', 'layer_normalization_36/beta:0', 'layer_normalization_37/gamma:0', 'layer_normalization_37/beta:0', 'layer_normalization_38/gamma:0', 'layer_normalization_38/beta:0', 'Variable:0', 'Variable:0', 'Variable:0', 'luong_attention_2/layer_normalization_43/gamma:0', 'luong_attention_2/layer_normalization_43/beta:0', 'layer_normalization_48/gamma:0', 'layer_normalization_48/beta:0', 'layer_normalization_49/gamma:0', 'layer_normalization_49/beta:0', 'layer_normalization_50/gamma:0', 'layer_normalization_50/beta:0', 'dense_35/kernel:0', 'dense_35/bias:0', 'dense_36/kernel:0', 'dense_36/bias:0', 'dense_37/kernel:0', 'dense_37/bias:0', 'dense_38/kernel:0', 'dense_38/bias:0', 'dense_39/kernel:0', 'dense_39/bias:0', 'Variable:0', 'Variable:0', 'Variable:0'] when minimizing the loss. If you're using `model.compile()`, did you forget to provide a `loss` argument?\n",
            "WARNING:tensorflow:Gradients do not exist for variables ['layer_normalization_36/gamma:0', 'layer_normalization_36/beta:0', 'layer_normalization_37/gamma:0', 'layer_normalization_37/beta:0', 'layer_normalization_38/gamma:0', 'layer_normalization_38/beta:0', 'Variable:0', 'Variable:0', 'Variable:0', 'luong_attention_2/layer_normalization_43/gamma:0', 'luong_attention_2/layer_normalization_43/beta:0', 'layer_normalization_48/gamma:0', 'layer_normalization_48/beta:0', 'layer_normalization_49/gamma:0', 'layer_normalization_49/beta:0', 'layer_normalization_50/gamma:0', 'layer_normalization_50/beta:0', 'dense_35/kernel:0', 'dense_35/bias:0', 'dense_36/kernel:0', 'dense_36/bias:0', 'dense_37/kernel:0', 'dense_37/bias:0', 'dense_38/kernel:0', 'dense_38/bias:0', 'dense_39/kernel:0', 'dense_39/bias:0', 'Variable:0', 'Variable:0', 'Variable:0'] when minimizing the loss. If you're using `model.compile()`, did you forget to provide a `loss` argument?\n",
            "WARNING:tensorflow:Gradients do not exist for variables ['layer_normalization_36/gamma:0', 'layer_normalization_36/beta:0', 'layer_normalization_37/gamma:0', 'layer_normalization_37/beta:0', 'layer_normalization_38/gamma:0', 'layer_normalization_38/beta:0', 'Variable:0', 'Variable:0', 'Variable:0', 'luong_attention_2/layer_normalization_43/gamma:0', 'luong_attention_2/layer_normalization_43/beta:0', 'layer_normalization_48/gamma:0', 'layer_normalization_48/beta:0', 'layer_normalization_49/gamma:0', 'layer_normalization_49/beta:0', 'layer_normalization_50/gamma:0', 'layer_normalization_50/beta:0', 'dense_35/kernel:0', 'dense_35/bias:0', 'dense_36/kernel:0', 'dense_36/bias:0', 'dense_37/kernel:0', 'dense_37/bias:0', 'dense_38/kernel:0', 'dense_38/bias:0', 'dense_39/kernel:0', 'dense_39/bias:0', 'Variable:0', 'Variable:0', 'Variable:0'] when minimizing the loss. If you're using `model.compile()`, did you forget to provide a `loss` argument?\n",
            "WARNING:tensorflow:Gradients do not exist for variables ['layer_normalization_36/gamma:0', 'layer_normalization_36/beta:0', 'layer_normalization_37/gamma:0', 'layer_normalization_37/beta:0', 'layer_normalization_38/gamma:0', 'layer_normalization_38/beta:0', 'Variable:0', 'Variable:0', 'Variable:0', 'luong_attention_2/layer_normalization_43/gamma:0', 'luong_attention_2/layer_normalization_43/beta:0', 'layer_normalization_48/gamma:0', 'layer_normalization_48/beta:0', 'layer_normalization_49/gamma:0', 'layer_normalization_49/beta:0', 'layer_normalization_50/gamma:0', 'layer_normalization_50/beta:0', 'dense_35/kernel:0', 'dense_35/bias:0', 'dense_36/kernel:0', 'dense_36/bias:0', 'dense_37/kernel:0', 'dense_37/bias:0', 'dense_38/kernel:0', 'dense_38/bias:0', 'dense_39/kernel:0', 'dense_39/bias:0', 'Variable:0', 'Variable:0', 'Variable:0'] when minimizing the loss. If you're using `model.compile()`, did you forget to provide a `loss` argument?\n",
            "WARNING:tensorflow:Gradients do not exist for variables ['layer_normalization_36/gamma:0', 'layer_normalization_36/beta:0', 'layer_normalization_37/gamma:0', 'layer_normalization_37/beta:0', 'layer_normalization_38/gamma:0', 'layer_normalization_38/beta:0', 'Variable:0', 'Variable:0', 'Variable:0', 'luong_attention_2/layer_normalization_43/gamma:0', 'luong_attention_2/layer_normalization_43/beta:0', 'layer_normalization_48/gamma:0', 'layer_normalization_48/beta:0', 'layer_normalization_49/gamma:0', 'layer_normalization_49/beta:0', 'layer_normalization_50/gamma:0', 'layer_normalization_50/beta:0', 'dense_35/kernel:0', 'dense_35/bias:0', 'dense_36/kernel:0', 'dense_36/bias:0', 'dense_37/kernel:0', 'dense_37/bias:0', 'dense_38/kernel:0', 'dense_38/bias:0', 'dense_39/kernel:0', 'dense_39/bias:0', 'Variable:0', 'Variable:0', 'Variable:0'] when minimizing the loss. If you're using `model.compile()`, did you forget to provide a `loss` argument?\n",
            "WARNING:tensorflow:Gradients do not exist for variables ['layer_normalization_36/gamma:0', 'layer_normalization_36/beta:0', 'layer_normalization_37/gamma:0', 'layer_normalization_37/beta:0', 'layer_normalization_38/gamma:0', 'layer_normalization_38/beta:0', 'Variable:0', 'Variable:0', 'Variable:0', 'luong_attention_2/layer_normalization_43/gamma:0', 'luong_attention_2/layer_normalization_43/beta:0', 'layer_normalization_48/gamma:0', 'layer_normalization_48/beta:0', 'layer_normalization_49/gamma:0', 'layer_normalization_49/beta:0', 'layer_normalization_50/gamma:0', 'layer_normalization_50/beta:0', 'dense_35/kernel:0', 'dense_35/bias:0', 'dense_36/kernel:0', 'dense_36/bias:0', 'dense_37/kernel:0', 'dense_37/bias:0', 'dense_38/kernel:0', 'dense_38/bias:0', 'dense_39/kernel:0', 'dense_39/bias:0', 'Variable:0', 'Variable:0', 'Variable:0'] when minimizing the loss. If you're using `model.compile()`, did you forget to provide a `loss` argument?\n",
            "WARNING:tensorflow:Gradients do not exist for variables ['layer_normalization_36/gamma:0', 'layer_normalization_36/beta:0', 'layer_normalization_37/gamma:0', 'layer_normalization_37/beta:0', 'layer_normalization_38/gamma:0', 'layer_normalization_38/beta:0', 'Variable:0', 'Variable:0', 'Variable:0', 'luong_attention_2/layer_normalization_43/gamma:0', 'luong_attention_2/layer_normalization_43/beta:0', 'layer_normalization_48/gamma:0', 'layer_normalization_48/beta:0', 'layer_normalization_49/gamma:0', 'layer_normalization_49/beta:0', 'layer_normalization_50/gamma:0', 'layer_normalization_50/beta:0', 'dense_35/kernel:0', 'dense_35/bias:0', 'dense_36/kernel:0', 'dense_36/bias:0', 'dense_37/kernel:0', 'dense_37/bias:0', 'dense_38/kernel:0', 'dense_38/bias:0', 'dense_39/kernel:0', 'dense_39/bias:0', 'Variable:0', 'Variable:0', 'Variable:0'] when minimizing the loss. If you're using `model.compile()`, did you forget to provide a `loss` argument?\n",
            "WARNING:tensorflow:Gradients do not exist for variables ['layer_normalization_36/gamma:0', 'layer_normalization_36/beta:0', 'layer_normalization_37/gamma:0', 'layer_normalization_37/beta:0', 'layer_normalization_38/gamma:0', 'layer_normalization_38/beta:0', 'Variable:0', 'Variable:0', 'Variable:0', 'luong_attention_2/layer_normalization_43/gamma:0', 'luong_attention_2/layer_normalization_43/beta:0', 'layer_normalization_48/gamma:0', 'layer_normalization_48/beta:0', 'layer_normalization_49/gamma:0', 'layer_normalization_49/beta:0', 'layer_normalization_50/gamma:0', 'layer_normalization_50/beta:0', 'dense_35/kernel:0', 'dense_35/bias:0', 'dense_36/kernel:0', 'dense_36/bias:0', 'dense_37/kernel:0', 'dense_37/bias:0', 'dense_38/kernel:0', 'dense_38/bias:0', 'dense_39/kernel:0', 'dense_39/bias:0', 'Variable:0', 'Variable:0', 'Variable:0'] when minimizing the loss. If you're using `model.compile()`, did you forget to provide a `loss` argument?\n",
            "WARNING:tensorflow:Gradients do not exist for variables ['layer_normalization_36/gamma:0', 'layer_normalization_36/beta:0', 'layer_normalization_37/gamma:0', 'layer_normalization_37/beta:0', 'layer_normalization_38/gamma:0', 'layer_normalization_38/beta:0', 'Variable:0', 'Variable:0', 'Variable:0', 'luong_attention_2/layer_normalization_43/gamma:0', 'luong_attention_2/layer_normalization_43/beta:0', 'layer_normalization_48/gamma:0', 'layer_normalization_48/beta:0', 'layer_normalization_49/gamma:0', 'layer_normalization_49/beta:0', 'layer_normalization_50/gamma:0', 'layer_normalization_50/beta:0', 'dense_35/kernel:0', 'dense_35/bias:0', 'dense_36/kernel:0', 'dense_36/bias:0', 'dense_37/kernel:0', 'dense_37/bias:0', 'dense_38/kernel:0', 'dense_38/bias:0', 'dense_39/kernel:0', 'dense_39/bias:0', 'Variable:0', 'Variable:0', 'Variable:0'] when minimizing the loss. If you're using `model.compile()`, did you forget to provide a `loss` argument?\n",
            "WARNING:tensorflow:Gradients do not exist for variables ['layer_normalization_36/gamma:0', 'layer_normalization_36/beta:0', 'layer_normalization_37/gamma:0', 'layer_normalization_37/beta:0', 'layer_normalization_38/gamma:0', 'layer_normalization_38/beta:0', 'Variable:0', 'Variable:0', 'Variable:0', 'luong_attention_2/layer_normalization_43/gamma:0', 'luong_attention_2/layer_normalization_43/beta:0', 'layer_normalization_48/gamma:0', 'layer_normalization_48/beta:0', 'layer_normalization_49/gamma:0', 'layer_normalization_49/beta:0', 'layer_normalization_50/gamma:0', 'layer_normalization_50/beta:0', 'dense_35/kernel:0', 'dense_35/bias:0', 'dense_36/kernel:0', 'dense_36/bias:0', 'dense_37/kernel:0', 'dense_37/bias:0', 'dense_38/kernel:0', 'dense_38/bias:0', 'dense_39/kernel:0', 'dense_39/bias:0', 'Variable:0', 'Variable:0', 'Variable:0'] when minimizing the loss. If you're using `model.compile()`, did you forget to provide a `loss` argument?\n",
            "WARNING:tensorflow:Gradients do not exist for variables ['layer_normalization_36/gamma:0', 'layer_normalization_36/beta:0', 'layer_normalization_37/gamma:0', 'layer_normalization_37/beta:0', 'layer_normalization_38/gamma:0', 'layer_normalization_38/beta:0', 'Variable:0', 'Variable:0', 'Variable:0', 'luong_attention_2/layer_normalization_43/gamma:0', 'luong_attention_2/layer_normalization_43/beta:0', 'layer_normalization_48/gamma:0', 'layer_normalization_48/beta:0', 'layer_normalization_49/gamma:0', 'layer_normalization_49/beta:0', 'layer_normalization_50/gamma:0', 'layer_normalization_50/beta:0', 'dense_35/kernel:0', 'dense_35/bias:0', 'dense_36/kernel:0', 'dense_36/bias:0', 'dense_37/kernel:0', 'dense_37/bias:0', 'dense_38/kernel:0', 'dense_38/bias:0', 'dense_39/kernel:0', 'dense_39/bias:0', 'Variable:0', 'Variable:0', 'Variable:0'] when minimizing the loss. If you're using `model.compile()`, did you forget to provide a `loss` argument?\n",
            "WARNING:tensorflow:Gradients do not exist for variables ['layer_normalization_36/gamma:0', 'layer_normalization_36/beta:0', 'layer_normalization_37/gamma:0', 'layer_normalization_37/beta:0', 'layer_normalization_38/gamma:0', 'layer_normalization_38/beta:0', 'Variable:0', 'Variable:0', 'Variable:0', 'luong_attention_2/layer_normalization_43/gamma:0', 'luong_attention_2/layer_normalization_43/beta:0', 'layer_normalization_48/gamma:0', 'layer_normalization_48/beta:0', 'layer_normalization_49/gamma:0', 'layer_normalization_49/beta:0', 'layer_normalization_50/gamma:0', 'layer_normalization_50/beta:0', 'dense_35/kernel:0', 'dense_35/bias:0', 'dense_36/kernel:0', 'dense_36/bias:0', 'dense_37/kernel:0', 'dense_37/bias:0', 'dense_38/kernel:0', 'dense_38/bias:0', 'dense_39/kernel:0', 'dense_39/bias:0', 'Variable:0', 'Variable:0', 'Variable:0'] when minimizing the loss. If you're using `model.compile()`, did you forget to provide a `loss` argument?\n",
            "WARNING:tensorflow:Gradients do not exist for variables ['layer_normalization_36/gamma:0', 'layer_normalization_36/beta:0', 'layer_normalization_37/gamma:0', 'layer_normalization_37/beta:0', 'layer_normalization_38/gamma:0', 'layer_normalization_38/beta:0', 'Variable:0', 'Variable:0', 'Variable:0', 'luong_attention_2/layer_normalization_43/gamma:0', 'luong_attention_2/layer_normalization_43/beta:0', 'layer_normalization_48/gamma:0', 'layer_normalization_48/beta:0', 'layer_normalization_49/gamma:0', 'layer_normalization_49/beta:0', 'layer_normalization_50/gamma:0', 'layer_normalization_50/beta:0', 'dense_35/kernel:0', 'dense_35/bias:0', 'dense_36/kernel:0', 'dense_36/bias:0', 'dense_37/kernel:0', 'dense_37/bias:0', 'dense_38/kernel:0', 'dense_38/bias:0', 'dense_39/kernel:0', 'dense_39/bias:0', 'Variable:0', 'Variable:0', 'Variable:0'] when minimizing the loss. If you're using `model.compile()`, did you forget to provide a `loss` argument?\n",
            "WARNING:tensorflow:Gradients do not exist for variables ['layer_normalization_36/gamma:0', 'layer_normalization_36/beta:0', 'layer_normalization_37/gamma:0', 'layer_normalization_37/beta:0', 'layer_normalization_38/gamma:0', 'layer_normalization_38/beta:0', 'Variable:0', 'Variable:0', 'Variable:0', 'luong_attention_2/layer_normalization_43/gamma:0', 'luong_attention_2/layer_normalization_43/beta:0', 'layer_normalization_48/gamma:0', 'layer_normalization_48/beta:0', 'layer_normalization_49/gamma:0', 'layer_normalization_49/beta:0', 'layer_normalization_50/gamma:0', 'layer_normalization_50/beta:0', 'dense_35/kernel:0', 'dense_35/bias:0', 'dense_36/kernel:0', 'dense_36/bias:0', 'dense_37/kernel:0', 'dense_37/bias:0', 'dense_38/kernel:0', 'dense_38/bias:0', 'dense_39/kernel:0', 'dense_39/bias:0', 'Variable:0', 'Variable:0', 'Variable:0'] when minimizing the loss. If you're using `model.compile()`, did you forget to provide a `loss` argument?\n",
            "WARNING:tensorflow:Gradients do not exist for variables ['layer_normalization_36/gamma:0', 'layer_normalization_36/beta:0', 'layer_normalization_37/gamma:0', 'layer_normalization_37/beta:0', 'layer_normalization_38/gamma:0', 'layer_normalization_38/beta:0', 'Variable:0', 'Variable:0', 'Variable:0', 'luong_attention_2/layer_normalization_43/gamma:0', 'luong_attention_2/layer_normalization_43/beta:0', 'layer_normalization_48/gamma:0', 'layer_normalization_48/beta:0', 'layer_normalization_49/gamma:0', 'layer_normalization_49/beta:0', 'layer_normalization_50/gamma:0', 'layer_normalization_50/beta:0', 'dense_35/kernel:0', 'dense_35/bias:0', 'dense_36/kernel:0', 'dense_36/bias:0', 'dense_37/kernel:0', 'dense_37/bias:0', 'dense_38/kernel:0', 'dense_38/bias:0', 'dense_39/kernel:0', 'dense_39/bias:0', 'Variable:0', 'Variable:0', 'Variable:0'] when minimizing the loss. If you're using `model.compile()`, did you forget to provide a `loss` argument?\n",
            "WARNING:tensorflow:Gradients do not exist for variables ['layer_normalization_36/gamma:0', 'layer_normalization_36/beta:0', 'layer_normalization_37/gamma:0', 'layer_normalization_37/beta:0', 'layer_normalization_38/gamma:0', 'layer_normalization_38/beta:0', 'Variable:0', 'Variable:0', 'Variable:0', 'luong_attention_2/layer_normalization_43/gamma:0', 'luong_attention_2/layer_normalization_43/beta:0', 'layer_normalization_48/gamma:0', 'layer_normalization_48/beta:0', 'layer_normalization_49/gamma:0', 'layer_normalization_49/beta:0', 'layer_normalization_50/gamma:0', 'layer_normalization_50/beta:0', 'dense_35/kernel:0', 'dense_35/bias:0', 'dense_36/kernel:0', 'dense_36/bias:0', 'dense_37/kernel:0', 'dense_37/bias:0', 'dense_38/kernel:0', 'dense_38/bias:0', 'dense_39/kernel:0', 'dense_39/bias:0', 'Variable:0', 'Variable:0', 'Variable:0'] when minimizing the loss. If you're using `model.compile()`, did you forget to provide a `loss` argument?\n",
            "WARNING:tensorflow:Gradients do not exist for variables ['layer_normalization_36/gamma:0', 'layer_normalization_36/beta:0', 'layer_normalization_37/gamma:0', 'layer_normalization_37/beta:0', 'layer_normalization_38/gamma:0', 'layer_normalization_38/beta:0', 'Variable:0', 'Variable:0', 'Variable:0', 'luong_attention_2/layer_normalization_43/gamma:0', 'luong_attention_2/layer_normalization_43/beta:0', 'layer_normalization_48/gamma:0', 'layer_normalization_48/beta:0', 'layer_normalization_49/gamma:0', 'layer_normalization_49/beta:0', 'layer_normalization_50/gamma:0', 'layer_normalization_50/beta:0', 'dense_35/kernel:0', 'dense_35/bias:0', 'dense_36/kernel:0', 'dense_36/bias:0', 'dense_37/kernel:0', 'dense_37/bias:0', 'dense_38/kernel:0', 'dense_38/bias:0', 'dense_39/kernel:0', 'dense_39/bias:0', 'Variable:0', 'Variable:0', 'Variable:0'] when minimizing the loss. If you're using `model.compile()`, did you forget to provide a `loss` argument?\n",
            "WARNING:tensorflow:Gradients do not exist for variables ['layer_normalization_36/gamma:0', 'layer_normalization_36/beta:0', 'layer_normalization_37/gamma:0', 'layer_normalization_37/beta:0', 'layer_normalization_38/gamma:0', 'layer_normalization_38/beta:0', 'Variable:0', 'Variable:0', 'Variable:0', 'luong_attention_2/layer_normalization_43/gamma:0', 'luong_attention_2/layer_normalization_43/beta:0', 'layer_normalization_48/gamma:0', 'layer_normalization_48/beta:0', 'layer_normalization_49/gamma:0', 'layer_normalization_49/beta:0', 'layer_normalization_50/gamma:0', 'layer_normalization_50/beta:0', 'dense_35/kernel:0', 'dense_35/bias:0', 'dense_36/kernel:0', 'dense_36/bias:0', 'dense_37/kernel:0', 'dense_37/bias:0', 'dense_38/kernel:0', 'dense_38/bias:0', 'dense_39/kernel:0', 'dense_39/bias:0', 'Variable:0', 'Variable:0', 'Variable:0'] when minimizing the loss. If you're using `model.compile()`, did you forget to provide a `loss` argument?\n",
            "WARNING:tensorflow:Gradients do not exist for variables ['layer_normalization_36/gamma:0', 'layer_normalization_36/beta:0', 'layer_normalization_37/gamma:0', 'layer_normalization_37/beta:0', 'layer_normalization_38/gamma:0', 'layer_normalization_38/beta:0', 'Variable:0', 'Variable:0', 'Variable:0', 'luong_attention_2/layer_normalization_43/gamma:0', 'luong_attention_2/layer_normalization_43/beta:0', 'layer_normalization_48/gamma:0', 'layer_normalization_48/beta:0', 'layer_normalization_49/gamma:0', 'layer_normalization_49/beta:0', 'layer_normalization_50/gamma:0', 'layer_normalization_50/beta:0', 'dense_35/kernel:0', 'dense_35/bias:0', 'dense_36/kernel:0', 'dense_36/bias:0', 'dense_37/kernel:0', 'dense_37/bias:0', 'dense_38/kernel:0', 'dense_38/bias:0', 'dense_39/kernel:0', 'dense_39/bias:0', 'Variable:0', 'Variable:0', 'Variable:0'] when minimizing the loss. If you're using `model.compile()`, did you forget to provide a `loss` argument?\n",
            "WARNING:tensorflow:Gradients do not exist for variables ['layer_normalization_36/gamma:0', 'layer_normalization_36/beta:0', 'layer_normalization_37/gamma:0', 'layer_normalization_37/beta:0', 'layer_normalization_38/gamma:0', 'layer_normalization_38/beta:0', 'Variable:0', 'Variable:0', 'Variable:0', 'luong_attention_2/layer_normalization_43/gamma:0', 'luong_attention_2/layer_normalization_43/beta:0', 'layer_normalization_48/gamma:0', 'layer_normalization_48/beta:0', 'layer_normalization_49/gamma:0', 'layer_normalization_49/beta:0', 'layer_normalization_50/gamma:0', 'layer_normalization_50/beta:0', 'dense_35/kernel:0', 'dense_35/bias:0', 'dense_36/kernel:0', 'dense_36/bias:0', 'dense_37/kernel:0', 'dense_37/bias:0', 'dense_38/kernel:0', 'dense_38/bias:0', 'dense_39/kernel:0', 'dense_39/bias:0', 'Variable:0', 'Variable:0', 'Variable:0'] when minimizing the loss. If you're using `model.compile()`, did you forget to provide a `loss` argument?\n",
            "WARNING:tensorflow:Gradients do not exist for variables ['layer_normalization_36/gamma:0', 'layer_normalization_36/beta:0', 'layer_normalization_37/gamma:0', 'layer_normalization_37/beta:0', 'layer_normalization_38/gamma:0', 'layer_normalization_38/beta:0', 'Variable:0', 'Variable:0', 'Variable:0', 'luong_attention_2/layer_normalization_43/gamma:0', 'luong_attention_2/layer_normalization_43/beta:0', 'layer_normalization_48/gamma:0', 'layer_normalization_48/beta:0', 'layer_normalization_49/gamma:0', 'layer_normalization_49/beta:0', 'layer_normalization_50/gamma:0', 'layer_normalization_50/beta:0', 'dense_35/kernel:0', 'dense_35/bias:0', 'dense_36/kernel:0', 'dense_36/bias:0', 'dense_37/kernel:0', 'dense_37/bias:0', 'dense_38/kernel:0', 'dense_38/bias:0', 'dense_39/kernel:0', 'dense_39/bias:0', 'Variable:0', 'Variable:0', 'Variable:0'] when minimizing the loss. If you're using `model.compile()`, did you forget to provide a `loss` argument?\n",
            "WARNING:tensorflow:Gradients do not exist for variables ['layer_normalization_36/gamma:0', 'layer_normalization_36/beta:0', 'layer_normalization_37/gamma:0', 'layer_normalization_37/beta:0', 'layer_normalization_38/gamma:0', 'layer_normalization_38/beta:0', 'Variable:0', 'Variable:0', 'Variable:0', 'luong_attention_2/layer_normalization_43/gamma:0', 'luong_attention_2/layer_normalization_43/beta:0', 'layer_normalization_48/gamma:0', 'layer_normalization_48/beta:0', 'layer_normalization_49/gamma:0', 'layer_normalization_49/beta:0', 'layer_normalization_50/gamma:0', 'layer_normalization_50/beta:0', 'dense_35/kernel:0', 'dense_35/bias:0', 'dense_36/kernel:0', 'dense_36/bias:0', 'dense_37/kernel:0', 'dense_37/bias:0', 'dense_38/kernel:0', 'dense_38/bias:0', 'dense_39/kernel:0', 'dense_39/bias:0', 'Variable:0', 'Variable:0', 'Variable:0'] when minimizing the loss. If you're using `model.compile()`, did you forget to provide a `loss` argument?\n",
            "WARNING:tensorflow:Gradients do not exist for variables ['layer_normalization_36/gamma:0', 'layer_normalization_36/beta:0', 'layer_normalization_37/gamma:0', 'layer_normalization_37/beta:0', 'layer_normalization_38/gamma:0', 'layer_normalization_38/beta:0', 'Variable:0', 'Variable:0', 'Variable:0', 'luong_attention_2/layer_normalization_43/gamma:0', 'luong_attention_2/layer_normalization_43/beta:0', 'layer_normalization_48/gamma:0', 'layer_normalization_48/beta:0', 'layer_normalization_49/gamma:0', 'layer_normalization_49/beta:0', 'layer_normalization_50/gamma:0', 'layer_normalization_50/beta:0', 'dense_35/kernel:0', 'dense_35/bias:0', 'dense_36/kernel:0', 'dense_36/bias:0', 'dense_37/kernel:0', 'dense_37/bias:0', 'dense_38/kernel:0', 'dense_38/bias:0', 'dense_39/kernel:0', 'dense_39/bias:0', 'Variable:0', 'Variable:0', 'Variable:0'] when minimizing the loss. If you're using `model.compile()`, did you forget to provide a `loss` argument?\n",
            "WARNING:tensorflow:Gradients do not exist for variables ['layer_normalization_36/gamma:0', 'layer_normalization_36/beta:0', 'layer_normalization_37/gamma:0', 'layer_normalization_37/beta:0', 'layer_normalization_38/gamma:0', 'layer_normalization_38/beta:0', 'Variable:0', 'Variable:0', 'Variable:0', 'luong_attention_2/layer_normalization_43/gamma:0', 'luong_attention_2/layer_normalization_43/beta:0', 'layer_normalization_48/gamma:0', 'layer_normalization_48/beta:0', 'layer_normalization_49/gamma:0', 'layer_normalization_49/beta:0', 'layer_normalization_50/gamma:0', 'layer_normalization_50/beta:0', 'dense_35/kernel:0', 'dense_35/bias:0', 'dense_36/kernel:0', 'dense_36/bias:0', 'dense_37/kernel:0', 'dense_37/bias:0', 'dense_38/kernel:0', 'dense_38/bias:0', 'dense_39/kernel:0', 'dense_39/bias:0', 'Variable:0', 'Variable:0', 'Variable:0'] when minimizing the loss. If you're using `model.compile()`, did you forget to provide a `loss` argument?\n",
            "WARNING:tensorflow:Gradients do not exist for variables ['layer_normalization_36/gamma:0', 'layer_normalization_36/beta:0', 'layer_normalization_37/gamma:0', 'layer_normalization_37/beta:0', 'layer_normalization_38/gamma:0', 'layer_normalization_38/beta:0', 'Variable:0', 'Variable:0', 'Variable:0', 'luong_attention_2/layer_normalization_43/gamma:0', 'luong_attention_2/layer_normalization_43/beta:0', 'layer_normalization_48/gamma:0', 'layer_normalization_48/beta:0', 'layer_normalization_49/gamma:0', 'layer_normalization_49/beta:0', 'layer_normalization_50/gamma:0', 'layer_normalization_50/beta:0', 'dense_35/kernel:0', 'dense_35/bias:0', 'dense_36/kernel:0', 'dense_36/bias:0', 'dense_37/kernel:0', 'dense_37/bias:0', 'dense_38/kernel:0', 'dense_38/bias:0', 'dense_39/kernel:0', 'dense_39/bias:0', 'Variable:0', 'Variable:0', 'Variable:0'] when minimizing the loss. If you're using `model.compile()`, did you forget to provide a `loss` argument?\n",
            "WARNING:tensorflow:Gradients do not exist for variables ['layer_normalization_36/gamma:0', 'layer_normalization_36/beta:0', 'layer_normalization_37/gamma:0', 'layer_normalization_37/beta:0', 'layer_normalization_38/gamma:0', 'layer_normalization_38/beta:0', 'Variable:0', 'Variable:0', 'Variable:0', 'luong_attention_2/layer_normalization_43/gamma:0', 'luong_attention_2/layer_normalization_43/beta:0', 'layer_normalization_48/gamma:0', 'layer_normalization_48/beta:0', 'layer_normalization_49/gamma:0', 'layer_normalization_49/beta:0', 'layer_normalization_50/gamma:0', 'layer_normalization_50/beta:0', 'dense_35/kernel:0', 'dense_35/bias:0', 'dense_36/kernel:0', 'dense_36/bias:0', 'dense_37/kernel:0', 'dense_37/bias:0', 'dense_38/kernel:0', 'dense_38/bias:0', 'dense_39/kernel:0', 'dense_39/bias:0', 'Variable:0', 'Variable:0', 'Variable:0'] when minimizing the loss. If you're using `model.compile()`, did you forget to provide a `loss` argument?\n",
            "WARNING:tensorflow:Gradients do not exist for variables ['layer_normalization_36/gamma:0', 'layer_normalization_36/beta:0', 'layer_normalization_37/gamma:0', 'layer_normalization_37/beta:0', 'layer_normalization_38/gamma:0', 'layer_normalization_38/beta:0', 'Variable:0', 'Variable:0', 'Variable:0', 'luong_attention_2/layer_normalization_43/gamma:0', 'luong_attention_2/layer_normalization_43/beta:0', 'layer_normalization_48/gamma:0', 'layer_normalization_48/beta:0', 'layer_normalization_49/gamma:0', 'layer_normalization_49/beta:0', 'layer_normalization_50/gamma:0', 'layer_normalization_50/beta:0', 'dense_35/kernel:0', 'dense_35/bias:0', 'dense_36/kernel:0', 'dense_36/bias:0', 'dense_37/kernel:0', 'dense_37/bias:0', 'dense_38/kernel:0', 'dense_38/bias:0', 'dense_39/kernel:0', 'dense_39/bias:0', 'Variable:0', 'Variable:0', 'Variable:0'] when minimizing the loss. If you're using `model.compile()`, did you forget to provide a `loss` argument?\n",
            "WARNING:tensorflow:Gradients do not exist for variables ['layer_normalization_36/gamma:0', 'layer_normalization_36/beta:0', 'layer_normalization_37/gamma:0', 'layer_normalization_37/beta:0', 'layer_normalization_38/gamma:0', 'layer_normalization_38/beta:0', 'Variable:0', 'Variable:0', 'Variable:0', 'luong_attention_2/layer_normalization_43/gamma:0', 'luong_attention_2/layer_normalization_43/beta:0', 'layer_normalization_48/gamma:0', 'layer_normalization_48/beta:0', 'layer_normalization_49/gamma:0', 'layer_normalization_49/beta:0', 'layer_normalization_50/gamma:0', 'layer_normalization_50/beta:0', 'dense_35/kernel:0', 'dense_35/bias:0', 'dense_36/kernel:0', 'dense_36/bias:0', 'dense_37/kernel:0', 'dense_37/bias:0', 'dense_38/kernel:0', 'dense_38/bias:0', 'dense_39/kernel:0', 'dense_39/bias:0', 'Variable:0', 'Variable:0', 'Variable:0'] when minimizing the loss. If you're using `model.compile()`, did you forget to provide a `loss` argument?\n",
            "WARNING:tensorflow:Gradients do not exist for variables ['layer_normalization_36/gamma:0', 'layer_normalization_36/beta:0', 'layer_normalization_37/gamma:0', 'layer_normalization_37/beta:0', 'layer_normalization_38/gamma:0', 'layer_normalization_38/beta:0', 'Variable:0', 'Variable:0', 'Variable:0', 'luong_attention_2/layer_normalization_43/gamma:0', 'luong_attention_2/layer_normalization_43/beta:0', 'layer_normalization_48/gamma:0', 'layer_normalization_48/beta:0', 'layer_normalization_49/gamma:0', 'layer_normalization_49/beta:0', 'layer_normalization_50/gamma:0', 'layer_normalization_50/beta:0', 'dense_35/kernel:0', 'dense_35/bias:0', 'dense_36/kernel:0', 'dense_36/bias:0', 'dense_37/kernel:0', 'dense_37/bias:0', 'dense_38/kernel:0', 'dense_38/bias:0', 'dense_39/kernel:0', 'dense_39/bias:0', 'Variable:0', 'Variable:0', 'Variable:0'] when minimizing the loss. If you're using `model.compile()`, did you forget to provide a `loss` argument?\n",
            "WARNING:tensorflow:Gradients do not exist for variables ['layer_normalization_36/gamma:0', 'layer_normalization_36/beta:0', 'layer_normalization_37/gamma:0', 'layer_normalization_37/beta:0', 'layer_normalization_38/gamma:0', 'layer_normalization_38/beta:0', 'Variable:0', 'Variable:0', 'Variable:0', 'luong_attention_2/layer_normalization_43/gamma:0', 'luong_attention_2/layer_normalization_43/beta:0', 'layer_normalization_48/gamma:0', 'layer_normalization_48/beta:0', 'layer_normalization_49/gamma:0', 'layer_normalization_49/beta:0', 'layer_normalization_50/gamma:0', 'layer_normalization_50/beta:0', 'dense_35/kernel:0', 'dense_35/bias:0', 'dense_36/kernel:0', 'dense_36/bias:0', 'dense_37/kernel:0', 'dense_37/bias:0', 'dense_38/kernel:0', 'dense_38/bias:0', 'dense_39/kernel:0', 'dense_39/bias:0', 'Variable:0', 'Variable:0', 'Variable:0'] when minimizing the loss. If you're using `model.compile()`, did you forget to provide a `loss` argument?\n",
            "WARNING:tensorflow:Gradients do not exist for variables ['layer_normalization_36/gamma:0', 'layer_normalization_36/beta:0', 'layer_normalization_37/gamma:0', 'layer_normalization_37/beta:0', 'layer_normalization_38/gamma:0', 'layer_normalization_38/beta:0', 'Variable:0', 'Variable:0', 'Variable:0', 'luong_attention_2/layer_normalization_43/gamma:0', 'luong_attention_2/layer_normalization_43/beta:0', 'layer_normalization_48/gamma:0', 'layer_normalization_48/beta:0', 'layer_normalization_49/gamma:0', 'layer_normalization_49/beta:0', 'layer_normalization_50/gamma:0', 'layer_normalization_50/beta:0', 'dense_35/kernel:0', 'dense_35/bias:0', 'dense_36/kernel:0', 'dense_36/bias:0', 'dense_37/kernel:0', 'dense_37/bias:0', 'dense_38/kernel:0', 'dense_38/bias:0', 'dense_39/kernel:0', 'dense_39/bias:0', 'Variable:0', 'Variable:0', 'Variable:0'] when minimizing the loss. If you're using `model.compile()`, did you forget to provide a `loss` argument?\n",
            "WARNING:tensorflow:Gradients do not exist for variables ['layer_normalization_36/gamma:0', 'layer_normalization_36/beta:0', 'layer_normalization_37/gamma:0', 'layer_normalization_37/beta:0', 'layer_normalization_38/gamma:0', 'layer_normalization_38/beta:0', 'Variable:0', 'Variable:0', 'Variable:0', 'luong_attention_2/layer_normalization_43/gamma:0', 'luong_attention_2/layer_normalization_43/beta:0', 'layer_normalization_48/gamma:0', 'layer_normalization_48/beta:0', 'layer_normalization_49/gamma:0', 'layer_normalization_49/beta:0', 'layer_normalization_50/gamma:0', 'layer_normalization_50/beta:0', 'dense_35/kernel:0', 'dense_35/bias:0', 'dense_36/kernel:0', 'dense_36/bias:0', 'dense_37/kernel:0', 'dense_37/bias:0', 'dense_38/kernel:0', 'dense_38/bias:0', 'dense_39/kernel:0', 'dense_39/bias:0', 'Variable:0', 'Variable:0', 'Variable:0'] when minimizing the loss. If you're using `model.compile()`, did you forget to provide a `loss` argument?\n",
            "WARNING:tensorflow:Gradients do not exist for variables ['layer_normalization_36/gamma:0', 'layer_normalization_36/beta:0', 'layer_normalization_37/gamma:0', 'layer_normalization_37/beta:0', 'layer_normalization_38/gamma:0', 'layer_normalization_38/beta:0', 'Variable:0', 'Variable:0', 'Variable:0', 'luong_attention_2/layer_normalization_43/gamma:0', 'luong_attention_2/layer_normalization_43/beta:0', 'layer_normalization_48/gamma:0', 'layer_normalization_48/beta:0', 'layer_normalization_49/gamma:0', 'layer_normalization_49/beta:0', 'layer_normalization_50/gamma:0', 'layer_normalization_50/beta:0', 'dense_35/kernel:0', 'dense_35/bias:0', 'dense_36/kernel:0', 'dense_36/bias:0', 'dense_37/kernel:0', 'dense_37/bias:0', 'dense_38/kernel:0', 'dense_38/bias:0', 'dense_39/kernel:0', 'dense_39/bias:0', 'Variable:0', 'Variable:0', 'Variable:0'] when minimizing the loss. If you're using `model.compile()`, did you forget to provide a `loss` argument?\n",
            "WARNING:tensorflow:Gradients do not exist for variables ['layer_normalization_36/gamma:0', 'layer_normalization_36/beta:0', 'layer_normalization_37/gamma:0', 'layer_normalization_37/beta:0', 'layer_normalization_38/gamma:0', 'layer_normalization_38/beta:0', 'Variable:0', 'Variable:0', 'Variable:0', 'luong_attention_2/layer_normalization_43/gamma:0', 'luong_attention_2/layer_normalization_43/beta:0', 'layer_normalization_48/gamma:0', 'layer_normalization_48/beta:0', 'layer_normalization_49/gamma:0', 'layer_normalization_49/beta:0', 'layer_normalization_50/gamma:0', 'layer_normalization_50/beta:0', 'dense_35/kernel:0', 'dense_35/bias:0', 'dense_36/kernel:0', 'dense_36/bias:0', 'dense_37/kernel:0', 'dense_37/bias:0', 'dense_38/kernel:0', 'dense_38/bias:0', 'dense_39/kernel:0', 'dense_39/bias:0', 'Variable:0', 'Variable:0', 'Variable:0'] when minimizing the loss. If you're using `model.compile()`, did you forget to provide a `loss` argument?\n",
            "WARNING:tensorflow:Gradients do not exist for variables ['layer_normalization_36/gamma:0', 'layer_normalization_36/beta:0', 'layer_normalization_37/gamma:0', 'layer_normalization_37/beta:0', 'layer_normalization_38/gamma:0', 'layer_normalization_38/beta:0', 'Variable:0', 'Variable:0', 'Variable:0', 'luong_attention_2/layer_normalization_43/gamma:0', 'luong_attention_2/layer_normalization_43/beta:0', 'layer_normalization_48/gamma:0', 'layer_normalization_48/beta:0', 'layer_normalization_49/gamma:0', 'layer_normalization_49/beta:0', 'layer_normalization_50/gamma:0', 'layer_normalization_50/beta:0', 'dense_35/kernel:0', 'dense_35/bias:0', 'dense_36/kernel:0', 'dense_36/bias:0', 'dense_37/kernel:0', 'dense_37/bias:0', 'dense_38/kernel:0', 'dense_38/bias:0', 'dense_39/kernel:0', 'dense_39/bias:0', 'Variable:0', 'Variable:0', 'Variable:0'] when minimizing the loss. If you're using `model.compile()`, did you forget to provide a `loss` argument?\n",
            "WARNING:tensorflow:Gradients do not exist for variables ['layer_normalization_36/gamma:0', 'layer_normalization_36/beta:0', 'layer_normalization_37/gamma:0', 'layer_normalization_37/beta:0', 'layer_normalization_38/gamma:0', 'layer_normalization_38/beta:0', 'Variable:0', 'Variable:0', 'Variable:0', 'luong_attention_2/layer_normalization_43/gamma:0', 'luong_attention_2/layer_normalization_43/beta:0', 'layer_normalization_48/gamma:0', 'layer_normalization_48/beta:0', 'layer_normalization_49/gamma:0', 'layer_normalization_49/beta:0', 'layer_normalization_50/gamma:0', 'layer_normalization_50/beta:0', 'dense_35/kernel:0', 'dense_35/bias:0', 'dense_36/kernel:0', 'dense_36/bias:0', 'dense_37/kernel:0', 'dense_37/bias:0', 'dense_38/kernel:0', 'dense_38/bias:0', 'dense_39/kernel:0', 'dense_39/bias:0', 'Variable:0', 'Variable:0', 'Variable:0'] when minimizing the loss. If you're using `model.compile()`, did you forget to provide a `loss` argument?\n",
            "WARNING:tensorflow:Gradients do not exist for variables ['layer_normalization_36/gamma:0', 'layer_normalization_36/beta:0', 'layer_normalization_37/gamma:0', 'layer_normalization_37/beta:0', 'layer_normalization_38/gamma:0', 'layer_normalization_38/beta:0', 'Variable:0', 'Variable:0', 'Variable:0', 'luong_attention_2/layer_normalization_43/gamma:0', 'luong_attention_2/layer_normalization_43/beta:0', 'layer_normalization_48/gamma:0', 'layer_normalization_48/beta:0', 'layer_normalization_49/gamma:0', 'layer_normalization_49/beta:0', 'layer_normalization_50/gamma:0', 'layer_normalization_50/beta:0', 'dense_35/kernel:0', 'dense_35/bias:0', 'dense_36/kernel:0', 'dense_36/bias:0', 'dense_37/kernel:0', 'dense_37/bias:0', 'dense_38/kernel:0', 'dense_38/bias:0', 'dense_39/kernel:0', 'dense_39/bias:0', 'Variable:0', 'Variable:0', 'Variable:0'] when minimizing the loss. If you're using `model.compile()`, did you forget to provide a `loss` argument?\n",
            "WARNING:tensorflow:Gradients do not exist for variables ['layer_normalization_36/gamma:0', 'layer_normalization_36/beta:0', 'layer_normalization_37/gamma:0', 'layer_normalization_37/beta:0', 'layer_normalization_38/gamma:0', 'layer_normalization_38/beta:0', 'Variable:0', 'Variable:0', 'Variable:0', 'luong_attention_2/layer_normalization_43/gamma:0', 'luong_attention_2/layer_normalization_43/beta:0', 'layer_normalization_48/gamma:0', 'layer_normalization_48/beta:0', 'layer_normalization_49/gamma:0', 'layer_normalization_49/beta:0', 'layer_normalization_50/gamma:0', 'layer_normalization_50/beta:0', 'dense_35/kernel:0', 'dense_35/bias:0', 'dense_36/kernel:0', 'dense_36/bias:0', 'dense_37/kernel:0', 'dense_37/bias:0', 'dense_38/kernel:0', 'dense_38/bias:0', 'dense_39/kernel:0', 'dense_39/bias:0', 'Variable:0', 'Variable:0', 'Variable:0'] when minimizing the loss. If you're using `model.compile()`, did you forget to provide a `loss` argument?\n",
            "WARNING:tensorflow:Gradients do not exist for variables ['layer_normalization_36/gamma:0', 'layer_normalization_36/beta:0', 'layer_normalization_37/gamma:0', 'layer_normalization_37/beta:0', 'layer_normalization_38/gamma:0', 'layer_normalization_38/beta:0', 'Variable:0', 'Variable:0', 'Variable:0', 'luong_attention_2/layer_normalization_43/gamma:0', 'luong_attention_2/layer_normalization_43/beta:0', 'layer_normalization_48/gamma:0', 'layer_normalization_48/beta:0', 'layer_normalization_49/gamma:0', 'layer_normalization_49/beta:0', 'layer_normalization_50/gamma:0', 'layer_normalization_50/beta:0', 'dense_35/kernel:0', 'dense_35/bias:0', 'dense_36/kernel:0', 'dense_36/bias:0', 'dense_37/kernel:0', 'dense_37/bias:0', 'dense_38/kernel:0', 'dense_38/bias:0', 'dense_39/kernel:0', 'dense_39/bias:0', 'Variable:0', 'Variable:0', 'Variable:0'] when minimizing the loss. If you're using `model.compile()`, did you forget to provide a `loss` argument?\n",
            "WARNING:tensorflow:Gradients do not exist for variables ['layer_normalization_36/gamma:0', 'layer_normalization_36/beta:0', 'layer_normalization_37/gamma:0', 'layer_normalization_37/beta:0', 'layer_normalization_38/gamma:0', 'layer_normalization_38/beta:0', 'Variable:0', 'Variable:0', 'Variable:0', 'luong_attention_2/layer_normalization_43/gamma:0', 'luong_attention_2/layer_normalization_43/beta:0', 'layer_normalization_48/gamma:0', 'layer_normalization_48/beta:0', 'layer_normalization_49/gamma:0', 'layer_normalization_49/beta:0', 'layer_normalization_50/gamma:0', 'layer_normalization_50/beta:0', 'dense_35/kernel:0', 'dense_35/bias:0', 'dense_36/kernel:0', 'dense_36/bias:0', 'dense_37/kernel:0', 'dense_37/bias:0', 'dense_38/kernel:0', 'dense_38/bias:0', 'dense_39/kernel:0', 'dense_39/bias:0', 'Variable:0', 'Variable:0', 'Variable:0'] when minimizing the loss. If you're using `model.compile()`, did you forget to provide a `loss` argument?\n",
            "WARNING:tensorflow:Gradients do not exist for variables ['layer_normalization_36/gamma:0', 'layer_normalization_36/beta:0', 'layer_normalization_37/gamma:0', 'layer_normalization_37/beta:0', 'layer_normalization_38/gamma:0', 'layer_normalization_38/beta:0', 'Variable:0', 'Variable:0', 'Variable:0', 'luong_attention_2/layer_normalization_43/gamma:0', 'luong_attention_2/layer_normalization_43/beta:0', 'layer_normalization_48/gamma:0', 'layer_normalization_48/beta:0', 'layer_normalization_49/gamma:0', 'layer_normalization_49/beta:0', 'layer_normalization_50/gamma:0', 'layer_normalization_50/beta:0', 'dense_35/kernel:0', 'dense_35/bias:0', 'dense_36/kernel:0', 'dense_36/bias:0', 'dense_37/kernel:0', 'dense_37/bias:0', 'dense_38/kernel:0', 'dense_38/bias:0', 'dense_39/kernel:0', 'dense_39/bias:0', 'Variable:0', 'Variable:0', 'Variable:0'] when minimizing the loss. If you're using `model.compile()`, did you forget to provide a `loss` argument?\n",
            "WARNING:tensorflow:Gradients do not exist for variables ['layer_normalization_36/gamma:0', 'layer_normalization_36/beta:0', 'layer_normalization_37/gamma:0', 'layer_normalization_37/beta:0', 'layer_normalization_38/gamma:0', 'layer_normalization_38/beta:0', 'Variable:0', 'Variable:0', 'Variable:0', 'luong_attention_2/layer_normalization_43/gamma:0', 'luong_attention_2/layer_normalization_43/beta:0', 'layer_normalization_48/gamma:0', 'layer_normalization_48/beta:0', 'layer_normalization_49/gamma:0', 'layer_normalization_49/beta:0', 'layer_normalization_50/gamma:0', 'layer_normalization_50/beta:0', 'dense_35/kernel:0', 'dense_35/bias:0', 'dense_36/kernel:0', 'dense_36/bias:0', 'dense_37/kernel:0', 'dense_37/bias:0', 'dense_38/kernel:0', 'dense_38/bias:0', 'dense_39/kernel:0', 'dense_39/bias:0', 'Variable:0', 'Variable:0', 'Variable:0'] when minimizing the loss. If you're using `model.compile()`, did you forget to provide a `loss` argument?\n",
            "WARNING:tensorflow:Gradients do not exist for variables ['layer_normalization_36/gamma:0', 'layer_normalization_36/beta:0', 'layer_normalization_37/gamma:0', 'layer_normalization_37/beta:0', 'layer_normalization_38/gamma:0', 'layer_normalization_38/beta:0', 'Variable:0', 'Variable:0', 'Variable:0', 'luong_attention_2/layer_normalization_43/gamma:0', 'luong_attention_2/layer_normalization_43/beta:0', 'layer_normalization_48/gamma:0', 'layer_normalization_48/beta:0', 'layer_normalization_49/gamma:0', 'layer_normalization_49/beta:0', 'layer_normalization_50/gamma:0', 'layer_normalization_50/beta:0', 'dense_35/kernel:0', 'dense_35/bias:0', 'dense_36/kernel:0', 'dense_36/bias:0', 'dense_37/kernel:0', 'dense_37/bias:0', 'dense_38/kernel:0', 'dense_38/bias:0', 'dense_39/kernel:0', 'dense_39/bias:0', 'Variable:0', 'Variable:0', 'Variable:0'] when minimizing the loss. If you're using `model.compile()`, did you forget to provide a `loss` argument?\n",
            "WARNING:tensorflow:Gradients do not exist for variables ['layer_normalization_36/gamma:0', 'layer_normalization_36/beta:0', 'layer_normalization_37/gamma:0', 'layer_normalization_37/beta:0', 'layer_normalization_38/gamma:0', 'layer_normalization_38/beta:0', 'Variable:0', 'Variable:0', 'Variable:0', 'luong_attention_2/layer_normalization_43/gamma:0', 'luong_attention_2/layer_normalization_43/beta:0', 'layer_normalization_48/gamma:0', 'layer_normalization_48/beta:0', 'layer_normalization_49/gamma:0', 'layer_normalization_49/beta:0', 'layer_normalization_50/gamma:0', 'layer_normalization_50/beta:0', 'dense_35/kernel:0', 'dense_35/bias:0', 'dense_36/kernel:0', 'dense_36/bias:0', 'dense_37/kernel:0', 'dense_37/bias:0', 'dense_38/kernel:0', 'dense_38/bias:0', 'dense_39/kernel:0', 'dense_39/bias:0', 'Variable:0', 'Variable:0', 'Variable:0'] when minimizing the loss. If you're using `model.compile()`, did you forget to provide a `loss` argument?\n",
            "WARNING:tensorflow:Gradients do not exist for variables ['layer_normalization_36/gamma:0', 'layer_normalization_36/beta:0', 'layer_normalization_37/gamma:0', 'layer_normalization_37/beta:0', 'layer_normalization_38/gamma:0', 'layer_normalization_38/beta:0', 'Variable:0', 'Variable:0', 'Variable:0', 'luong_attention_2/layer_normalization_43/gamma:0', 'luong_attention_2/layer_normalization_43/beta:0', 'layer_normalization_48/gamma:0', 'layer_normalization_48/beta:0', 'layer_normalization_49/gamma:0', 'layer_normalization_49/beta:0', 'layer_normalization_50/gamma:0', 'layer_normalization_50/beta:0', 'dense_35/kernel:0', 'dense_35/bias:0', 'dense_36/kernel:0', 'dense_36/bias:0', 'dense_37/kernel:0', 'dense_37/bias:0', 'dense_38/kernel:0', 'dense_38/bias:0', 'dense_39/kernel:0', 'dense_39/bias:0', 'Variable:0', 'Variable:0', 'Variable:0'] when minimizing the loss. If you're using `model.compile()`, did you forget to provide a `loss` argument?\n",
            "WARNING:tensorflow:Gradients do not exist for variables ['layer_normalization_36/gamma:0', 'layer_normalization_36/beta:0', 'layer_normalization_37/gamma:0', 'layer_normalization_37/beta:0', 'layer_normalization_38/gamma:0', 'layer_normalization_38/beta:0', 'Variable:0', 'Variable:0', 'Variable:0', 'luong_attention_2/layer_normalization_43/gamma:0', 'luong_attention_2/layer_normalization_43/beta:0', 'layer_normalization_48/gamma:0', 'layer_normalization_48/beta:0', 'layer_normalization_49/gamma:0', 'layer_normalization_49/beta:0', 'layer_normalization_50/gamma:0', 'layer_normalization_50/beta:0', 'dense_35/kernel:0', 'dense_35/bias:0', 'dense_36/kernel:0', 'dense_36/bias:0', 'dense_37/kernel:0', 'dense_37/bias:0', 'dense_38/kernel:0', 'dense_38/bias:0', 'dense_39/kernel:0', 'dense_39/bias:0', 'Variable:0', 'Variable:0', 'Variable:0'] when minimizing the loss. If you're using `model.compile()`, did you forget to provide a `loss` argument?\n",
            "WARNING:tensorflow:Gradients do not exist for variables ['layer_normalization_36/gamma:0', 'layer_normalization_36/beta:0', 'layer_normalization_37/gamma:0', 'layer_normalization_37/beta:0', 'layer_normalization_38/gamma:0', 'layer_normalization_38/beta:0', 'Variable:0', 'Variable:0', 'Variable:0', 'luong_attention_2/layer_normalization_43/gamma:0', 'luong_attention_2/layer_normalization_43/beta:0', 'layer_normalization_48/gamma:0', 'layer_normalization_48/beta:0', 'layer_normalization_49/gamma:0', 'layer_normalization_49/beta:0', 'layer_normalization_50/gamma:0', 'layer_normalization_50/beta:0', 'dense_35/kernel:0', 'dense_35/bias:0', 'dense_36/kernel:0', 'dense_36/bias:0', 'dense_37/kernel:0', 'dense_37/bias:0', 'dense_38/kernel:0', 'dense_38/bias:0', 'dense_39/kernel:0', 'dense_39/bias:0', 'Variable:0', 'Variable:0', 'Variable:0'] when minimizing the loss. If you're using `model.compile()`, did you forget to provide a `loss` argument?\n",
            "WARNING:tensorflow:Gradients do not exist for variables ['layer_normalization_36/gamma:0', 'layer_normalization_36/beta:0', 'layer_normalization_37/gamma:0', 'layer_normalization_37/beta:0', 'layer_normalization_38/gamma:0', 'layer_normalization_38/beta:0', 'Variable:0', 'Variable:0', 'Variable:0', 'luong_attention_2/layer_normalization_43/gamma:0', 'luong_attention_2/layer_normalization_43/beta:0', 'layer_normalization_48/gamma:0', 'layer_normalization_48/beta:0', 'layer_normalization_49/gamma:0', 'layer_normalization_49/beta:0', 'layer_normalization_50/gamma:0', 'layer_normalization_50/beta:0', 'dense_35/kernel:0', 'dense_35/bias:0', 'dense_36/kernel:0', 'dense_36/bias:0', 'dense_37/kernel:0', 'dense_37/bias:0', 'dense_38/kernel:0', 'dense_38/bias:0', 'dense_39/kernel:0', 'dense_39/bias:0', 'Variable:0', 'Variable:0', 'Variable:0'] when minimizing the loss. If you're using `model.compile()`, did you forget to provide a `loss` argument?\n",
            "WARNING:tensorflow:Gradients do not exist for variables ['layer_normalization_36/gamma:0', 'layer_normalization_36/beta:0', 'layer_normalization_37/gamma:0', 'layer_normalization_37/beta:0', 'layer_normalization_38/gamma:0', 'layer_normalization_38/beta:0', 'Variable:0', 'Variable:0', 'Variable:0', 'luong_attention_2/layer_normalization_43/gamma:0', 'luong_attention_2/layer_normalization_43/beta:0', 'layer_normalization_48/gamma:0', 'layer_normalization_48/beta:0', 'layer_normalization_49/gamma:0', 'layer_normalization_49/beta:0', 'layer_normalization_50/gamma:0', 'layer_normalization_50/beta:0', 'dense_35/kernel:0', 'dense_35/bias:0', 'dense_36/kernel:0', 'dense_36/bias:0', 'dense_37/kernel:0', 'dense_37/bias:0', 'dense_38/kernel:0', 'dense_38/bias:0', 'dense_39/kernel:0', 'dense_39/bias:0', 'Variable:0', 'Variable:0', 'Variable:0'] when minimizing the loss. If you're using `model.compile()`, did you forget to provide a `loss` argument?\n",
            "WARNING:tensorflow:Gradients do not exist for variables ['layer_normalization_36/gamma:0', 'layer_normalization_36/beta:0', 'layer_normalization_37/gamma:0', 'layer_normalization_37/beta:0', 'layer_normalization_38/gamma:0', 'layer_normalization_38/beta:0', 'Variable:0', 'Variable:0', 'Variable:0', 'luong_attention_2/layer_normalization_43/gamma:0', 'luong_attention_2/layer_normalization_43/beta:0', 'layer_normalization_48/gamma:0', 'layer_normalization_48/beta:0', 'layer_normalization_49/gamma:0', 'layer_normalization_49/beta:0', 'layer_normalization_50/gamma:0', 'layer_normalization_50/beta:0', 'dense_35/kernel:0', 'dense_35/bias:0', 'dense_36/kernel:0', 'dense_36/bias:0', 'dense_37/kernel:0', 'dense_37/bias:0', 'dense_38/kernel:0', 'dense_38/bias:0', 'dense_39/kernel:0', 'dense_39/bias:0', 'Variable:0', 'Variable:0', 'Variable:0'] when minimizing the loss. If you're using `model.compile()`, did you forget to provide a `loss` argument?\n",
            "WARNING:tensorflow:Gradients do not exist for variables ['layer_normalization_36/gamma:0', 'layer_normalization_36/beta:0', 'layer_normalization_37/gamma:0', 'layer_normalization_37/beta:0', 'layer_normalization_38/gamma:0', 'layer_normalization_38/beta:0', 'Variable:0', 'Variable:0', 'Variable:0', 'luong_attention_2/layer_normalization_43/gamma:0', 'luong_attention_2/layer_normalization_43/beta:0', 'layer_normalization_48/gamma:0', 'layer_normalization_48/beta:0', 'layer_normalization_49/gamma:0', 'layer_normalization_49/beta:0', 'layer_normalization_50/gamma:0', 'layer_normalization_50/beta:0', 'dense_35/kernel:0', 'dense_35/bias:0', 'dense_36/kernel:0', 'dense_36/bias:0', 'dense_37/kernel:0', 'dense_37/bias:0', 'dense_38/kernel:0', 'dense_38/bias:0', 'dense_39/kernel:0', 'dense_39/bias:0', 'Variable:0', 'Variable:0', 'Variable:0'] when minimizing the loss. If you're using `model.compile()`, did you forget to provide a `loss` argument?\n",
            "WARNING:tensorflow:Gradients do not exist for variables ['layer_normalization_36/gamma:0', 'layer_normalization_36/beta:0', 'layer_normalization_37/gamma:0', 'layer_normalization_37/beta:0', 'layer_normalization_38/gamma:0', 'layer_normalization_38/beta:0', 'Variable:0', 'Variable:0', 'Variable:0', 'luong_attention_2/layer_normalization_43/gamma:0', 'luong_attention_2/layer_normalization_43/beta:0', 'layer_normalization_48/gamma:0', 'layer_normalization_48/beta:0', 'layer_normalization_49/gamma:0', 'layer_normalization_49/beta:0', 'layer_normalization_50/gamma:0', 'layer_normalization_50/beta:0', 'dense_35/kernel:0', 'dense_35/bias:0', 'dense_36/kernel:0', 'dense_36/bias:0', 'dense_37/kernel:0', 'dense_37/bias:0', 'dense_38/kernel:0', 'dense_38/bias:0', 'dense_39/kernel:0', 'dense_39/bias:0', 'Variable:0', 'Variable:0', 'Variable:0'] when minimizing the loss. If you're using `model.compile()`, did you forget to provide a `loss` argument?\n",
            "WARNING:tensorflow:Gradients do not exist for variables ['layer_normalization_36/gamma:0', 'layer_normalization_36/beta:0', 'layer_normalization_37/gamma:0', 'layer_normalization_37/beta:0', 'layer_normalization_38/gamma:0', 'layer_normalization_38/beta:0', 'Variable:0', 'Variable:0', 'Variable:0', 'luong_attention_2/layer_normalization_43/gamma:0', 'luong_attention_2/layer_normalization_43/beta:0', 'layer_normalization_48/gamma:0', 'layer_normalization_48/beta:0', 'layer_normalization_49/gamma:0', 'layer_normalization_49/beta:0', 'layer_normalization_50/gamma:0', 'layer_normalization_50/beta:0', 'dense_35/kernel:0', 'dense_35/bias:0', 'dense_36/kernel:0', 'dense_36/bias:0', 'dense_37/kernel:0', 'dense_37/bias:0', 'dense_38/kernel:0', 'dense_38/bias:0', 'dense_39/kernel:0', 'dense_39/bias:0', 'Variable:0', 'Variable:0', 'Variable:0'] when minimizing the loss. If you're using `model.compile()`, did you forget to provide a `loss` argument?\n",
            "WARNING:tensorflow:Gradients do not exist for variables ['layer_normalization_36/gamma:0', 'layer_normalization_36/beta:0', 'layer_normalization_37/gamma:0', 'layer_normalization_37/beta:0', 'layer_normalization_38/gamma:0', 'layer_normalization_38/beta:0', 'Variable:0', 'Variable:0', 'Variable:0', 'luong_attention_2/layer_normalization_43/gamma:0', 'luong_attention_2/layer_normalization_43/beta:0', 'layer_normalization_48/gamma:0', 'layer_normalization_48/beta:0', 'layer_normalization_49/gamma:0', 'layer_normalization_49/beta:0', 'layer_normalization_50/gamma:0', 'layer_normalization_50/beta:0', 'dense_35/kernel:0', 'dense_35/bias:0', 'dense_36/kernel:0', 'dense_36/bias:0', 'dense_37/kernel:0', 'dense_37/bias:0', 'dense_38/kernel:0', 'dense_38/bias:0', 'dense_39/kernel:0', 'dense_39/bias:0', 'Variable:0', 'Variable:0', 'Variable:0'] when minimizing the loss. If you're using `model.compile()`, did you forget to provide a `loss` argument?\n",
            "WARNING:tensorflow:Gradients do not exist for variables ['layer_normalization_36/gamma:0', 'layer_normalization_36/beta:0', 'layer_normalization_37/gamma:0', 'layer_normalization_37/beta:0', 'layer_normalization_38/gamma:0', 'layer_normalization_38/beta:0', 'Variable:0', 'Variable:0', 'Variable:0', 'luong_attention_2/layer_normalization_43/gamma:0', 'luong_attention_2/layer_normalization_43/beta:0', 'layer_normalization_48/gamma:0', 'layer_normalization_48/beta:0', 'layer_normalization_49/gamma:0', 'layer_normalization_49/beta:0', 'layer_normalization_50/gamma:0', 'layer_normalization_50/beta:0', 'dense_35/kernel:0', 'dense_35/bias:0', 'dense_36/kernel:0', 'dense_36/bias:0', 'dense_37/kernel:0', 'dense_37/bias:0', 'dense_38/kernel:0', 'dense_38/bias:0', 'dense_39/kernel:0', 'dense_39/bias:0', 'Variable:0', 'Variable:0', 'Variable:0'] when minimizing the loss. If you're using `model.compile()`, did you forget to provide a `loss` argument?\n",
            "WARNING:tensorflow:Gradients do not exist for variables ['layer_normalization_36/gamma:0', 'layer_normalization_36/beta:0', 'layer_normalization_37/gamma:0', 'layer_normalization_37/beta:0', 'layer_normalization_38/gamma:0', 'layer_normalization_38/beta:0', 'Variable:0', 'Variable:0', 'Variable:0', 'luong_attention_2/layer_normalization_43/gamma:0', 'luong_attention_2/layer_normalization_43/beta:0', 'layer_normalization_48/gamma:0', 'layer_normalization_48/beta:0', 'layer_normalization_49/gamma:0', 'layer_normalization_49/beta:0', 'layer_normalization_50/gamma:0', 'layer_normalization_50/beta:0', 'dense_35/kernel:0', 'dense_35/bias:0', 'dense_36/kernel:0', 'dense_36/bias:0', 'dense_37/kernel:0', 'dense_37/bias:0', 'dense_38/kernel:0', 'dense_38/bias:0', 'dense_39/kernel:0', 'dense_39/bias:0', 'Variable:0', 'Variable:0', 'Variable:0'] when minimizing the loss. If you're using `model.compile()`, did you forget to provide a `loss` argument?\n"
          ]
        },
        {
          "name": "stdout",
          "output_type": "stream",
          "text": [
            "Epoch 1 Loss Emotion0.1694\n",
            "Epoch 4 Accuracy Emotion0.9173\n"
          ]
        }
      ],
      "source": [
        "epochs = 4\n",
        "losses_emotion = []\n",
        "losses_sentiment = []\n",
        "\n",
        "accuracies_emotion = []\n",
        "accuracies_sentiment = []\n",
        "\n",
        "for epoch in range(epochs):\n",
        "  if epoch % 2 == 0:\n",
        "    task = 'sentiment'\n",
        "    total_loss = 0\n",
        "    total_accuracy = 0\n",
        "    for (batch, (text, label)) in enumerate(train_sentiment.take(steps_sentiment)):\n",
        "      batch_loss, batch_accuracy = train_step(task, text, label)\n",
        "      total_loss += batch_loss\n",
        "      total_accuracy += batch_accuracy\n",
        "\n",
        "    print('Epoch {} Loss Sentiment{:.4f}'.format((epoch+1)//2,\n",
        "                                        total_loss / steps_sentiment))\n",
        "    print('Epoch {} Accuracy Sentiment{:.4f}'.format(epoch+1,\n",
        "                                        total_accuracy / steps_sentiment))\n",
        "    losses_sentiment.append(total_loss / steps_sentiment)\n",
        "    accuracies_sentiment.append(total_accuracy / steps_sentiment)\n",
        "\n",
        "  else:\n",
        "    task = 'emotion'\n",
        "    total_loss = 0\n",
        "    total_accuracy = 0\n",
        "    for (batch, (text, label)) in enumerate(train_emotion.take(steps_emotion)):\n",
        "      batch_loss, batch_accuracy = train_step(task, text, label)\n",
        "      total_loss += batch_loss\n",
        "      total_accuracy += batch_accuracy\n",
        "\n",
        "    #if (epoch+1) % 6 == 0:\n",
        "    #  checkpoint.save(file_prefix = path)\n",
        "\n",
        "    print('Epoch {} Loss Emotion{:.4f}'.format(epoch//2,\n",
        "                                        total_loss / steps_emotion))\n",
        "    print('Epoch {} Accuracy Emotion{:.4f}'.format(epoch+1,\n",
        "                                        total_accuracy / steps_emotion))\n",
        "    losses_emotion.append(total_loss / steps_emotion)\n",
        "    accuracies_emotion.append(total_accuracy / steps_emotion)"
      ]
    },
    {
      "cell_type": "code",
      "execution_count": 60,
      "metadata": {
        "colab": {
          "base_uri": "https://localhost:8080/",
          "height": 472
        },
        "id": "WrG4IVZz88ZP",
        "outputId": "2b45b6da-28f8-4285-dcf3-ea09d24ce2db"
      },
      "outputs": [
        {
          "data": {
            "image/png": "[encoded data removed]",
            "text/plain": [
              "<Figure size 640x480 with 1 Axes>"
            ]
          },
          "metadata": {},
          "output_type": "display_data"
        }
      ],
      "source": [
        "import matplotlib.pyplot as plt\n",
        "\n",
        "# Sample accuracy data for 8 training epochs\n",
        "epoch_numbers = [1, 2, 3, 4, 5, 6, 7, 8,9]\n",
        "accuracies = accuracies_sentiment_0 + accuracies_sentiment\n",
        "\n",
        "\n",
        "# Plotting the accuracies\n",
        "plt.plot(epoch_numbers, accuracies, marker='o', linestyle='-')\n",
        "\n",
        "# Adding labels and title\n",
        "plt.xlabel('Epoch')\n",
        "plt.ylabel('Accuracy')\n",
        "plt.title('(with Attention)Sentiment Accuracy Over Epochs')\n",
        "\n",
        "# Adding grid for better readability\n",
        "plt.grid(True)\n",
        "\n",
        "# Saving the plot as a PNG file\n",
        "plt.savefig('attention_sentiment_accuracy.png')\n",
        "\n",
        "# Displaying the plot\n",
        "plt.show()"
      ]
    },
    {
      "cell_type": "code",
      "execution_count": 61,
      "metadata": {
        "colab": {
          "base_uri": "https://localhost:8080/",
          "height": 472
        },
        "id": "yLF7Xl3s9xCW",
        "outputId": "8fd30169-51f4-4b10-b7a0-cfb639a909c1"
      },
      "outputs": [
        {
          "data": {
            "image/png": "[encoded data removed]",
            "text/plain": [
              "<Figure size 640x480 with 1 Axes>"
            ]
          },
          "metadata": {},
          "output_type": "display_data"
        }
      ],
      "source": [
        "import matplotlib.pyplot as plt\n",
        "\n",
        "# Sample accuracy data for 8 training epochs\n",
        "epoch_numbers = [1, 2, 3, 4, 5, 6, 7, 8,9]\n",
        "accuracies = accuracies_emotion_0 + accuracies_emotion\n",
        "\n",
        "\n",
        "# Plotting the accuracies\n",
        "plt.plot(epoch_numbers, accuracies, marker='o', linestyle='-')\n",
        "\n",
        "# Adding labels and title\n",
        "plt.xlabel('Epoch')\n",
        "plt.ylabel('Accuracy')\n",
        "plt.title('(with Attention) Emotion Accuracy Over Epochs')\n",
        "\n",
        "# Adding grid for better readability\n",
        "plt.grid(True)\n",
        "\n",
        "# Saving the plot as a PNG file\n",
        "plt.savefig('attention_emotion_accuracy.png')\n",
        "\n",
        "# Displaying the plot\n",
        "plt.show()"
      ]
    },
    {
      "cell_type": "code",
      "execution_count": 35,
      "metadata": {
        "id": "chG83dRUQRai"
      },
      "outputs": [],
      "source": [
        "losses_sentiment_0 = losses_sentiment\n",
        "accuracies_sentiment_0 = accuracies_sentiment\n",
        "losses_emotion_0 = losses_emotion\n",
        "accuracies_emotion_0 = accuracies_emotion"
      ]
    },
    {
      "cell_type": "code",
      "execution_count": null,
      "metadata": {
        "colab": {
          "base_uri": "https://localhost:8080/"
        },
        "id": "eREXHvq0QUI5",
        "outputId": "71ab329c-20ef-416c-8a73-d29bb438fd24"
      },
      "outputs": [
        {
          "data": {
            "text/plain": [
              "[<tf.Tensor: shape=(), dtype=float32, numpy=0.45753205>,\n",
              " <tf.Tensor: shape=(), dtype=float32, numpy=0.56189907>,\n",
              " <tf.Tensor: shape=(), dtype=float32, numpy=0.68409455>,\n",
              " <tf.Tensor: shape=(), dtype=float32, numpy=0.8066907>,\n",
              " <tf.Tensor: shape=(), dtype=float32, numpy=0.9016426>,\n",
              " <tf.Tensor: shape=(), dtype=float32, numpy=0.95653045>,\n",
              " <tf.Tensor: shape=(), dtype=float32, numpy=0.98397434>]"
            ]
          },
          "execution_count": 42,
          "metadata": {},
          "output_type": "execute_result"
        }
      ],
      "source": [
        "accuracies_sentiment"
      ]
    },
    {
      "cell_type": "code",
      "execution_count": null,
      "metadata": {
        "colab": {
          "base_uri": "https://localhost:8080/"
        },
        "id": "fNyFksUVQXpJ",
        "outputId": "df79dd27-b19e-4516-f9b0-2493d5580186"
      },
      "outputs": [
        {
          "data": {
            "text/plain": [
              "[<tf.Tensor: shape=(), dtype=float32, numpy=1.2710248>,\n",
              " <tf.Tensor: shape=(), dtype=float32, numpy=0.95323414>,\n",
              " <tf.Tensor: shape=(), dtype=float32, numpy=0.65045595>,\n",
              " <tf.Tensor: shape=(), dtype=float32, numpy=0.43758708>,\n",
              " <tf.Tensor: shape=(), dtype=float32, numpy=0.303985>,\n",
              " <tf.Tensor: shape=(), dtype=float32, numpy=0.22922002>,\n",
              " <tf.Tensor: shape=(), dtype=float32, numpy=0.1909089>]"
            ]
          },
          "execution_count": 43,
          "metadata": {},
          "output_type": "execute_result"
        }
      ],
      "source": [
        "losses_emotion"
      ]
    },
    {
      "cell_type": "code",
      "execution_count": null,
      "metadata": {
        "colab": {
          "base_uri": "https://localhost:8080/"
        },
        "id": "mxovmqnbQY3J",
        "outputId": "3ff4b27e-ff17-4275-dd91-d2bbe16bbbbb"
      },
      "outputs": [
        {
          "data": {
            "text/plain": [
              "[<tf.Tensor: shape=(), dtype=float32, numpy=0.40360576>,\n",
              " <tf.Tensor: shape=(), dtype=float32, numpy=0.61346155>,\n",
              " <tf.Tensor: shape=(), dtype=float32, numpy=0.7502404>,\n",
              " <tf.Tensor: shape=(), dtype=float32, numpy=0.8408654>,\n",
              " <tf.Tensor: shape=(), dtype=float32, numpy=0.8894231>,\n",
              " <tf.Tensor: shape=(), dtype=float32, numpy=0.90889424>,\n",
              " <tf.Tensor: shape=(), dtype=float32, numpy=0.91778845>]"
            ]
          },
          "execution_count": 44,
          "metadata": {},
          "output_type": "execute_result"
        }
      ],
      "source": [
        "accuracies_emotion"
      ]
    },
    {
      "cell_type": "code",
      "execution_count": null,
      "metadata": {
        "id": "vEcw_ArwJzXe"
      },
      "outputs": [],
      "source": [
        "# Define Models\n",
        "batch_size = batch_size\n",
        "Encoder_separate = LNLSTMCell(embedding_dim= 100, hidden_size= 256)\n",
        "Classifier_separate = MultiTaskClassifier(embedding_dim= 32, hidden_size= 256)"
      ]
    },
    {
      "cell_type": "code",
      "execution_count": null,
      "metadata": {
        "id": "CiXzZzoTKAKU"
      },
      "outputs": [],
      "source": [
        "# Train Step\n",
        "\n",
        "def train_step_separate(task, text, label):\n",
        "\n",
        "  with tf.GradientTape() as tape:\n",
        "    h, c = Encoder_separate.initialize_hidden_state(batch_size=batch_size)\n",
        "    # Encoding\n",
        "    for t in range(np.shape(text)[1]):\n",
        "      h, c = Encoder_separate.call(task, text[:, t], [h,c])\n",
        "\n",
        "    task_index = 0\n",
        "    if task == 'emotion':\n",
        "      task_indices = tf.constant([0 for i in range(batch_size)], dtype=tf.int32)\n",
        "    elif task == 'sentiment':\n",
        "      task_indices = tf.constant([1 for i in range(batch_size)], dtype=tf.int32)\n",
        "    elif task == 'new':\n",
        "      task_indices = tf.constant([2 for i in range(batch_size)], dtype=tf.int32)\n",
        "    else:\n",
        "      raise ValueError('Key error')\n",
        "\n",
        "    # Classification\n",
        "    out_probs = Classifier_separate.call(task=task, task_indices= task_indices, hx=[h,c])\n",
        "\n",
        "    # Compute accuracy\n",
        "    predicted_labels = tf.argmax(out_probs, axis=-1)\n",
        "    accuracy = tf.reduce_mean(tf.cast(tf.equal(label, predicted_labels), dtype=tf.float32))\n",
        "\n",
        "    # Loss\n",
        "    loss = loss_function(label, out_probs)\n",
        "\n",
        "    # Get the watched variables\n",
        "    variables = Encoder_separate.trainable_variables + Classifier_separate.trainable_variables\n",
        "\n",
        "    # Compute gradients only for watched variables\n",
        "    gradients = tape.gradient(loss, variables)\n",
        "\n",
        "    # Apply gradients to the watched variables\n",
        "    optimizer.apply_gradients(zip(gradients, variables))\n",
        "\n",
        "    return loss, accuracy"
      ]
    },
    {
      "cell_type": "code",
      "execution_count": null,
      "metadata": {
        "id": "Fw2qXmGCJMfZ"
      },
      "outputs": [],
      "source": [
        "epochs = 14\n",
        "losses_emotion_separate = []\n",
        "losses_sentiment_separate = []\n",
        "\n",
        "accuracies_emotion_separate = []\n",
        "accuracies_sentiment_separate = []\n",
        "\n",
        "for epoch in range(epochs):\n",
        "  if epoch % 2 == 0:\n",
        "    task = 'sentiment'\n",
        "    total_loss = 0\n",
        "    total_accuracy = 0\n",
        "    for (batch, (text, label)) in enumerate(train_sentiment.take(steps_sentiment)):\n",
        "      batch_loss, batch_accuracy = train_step(task, text, label)\n",
        "      total_loss += batch_loss\n",
        "      total_accuracy += batch_accuracy\n",
        "\n",
        "    print('Epoch {} Loss Sentiment{:.4f}'.format((epoch+1)//2,\n",
        "                                        total_loss / steps_sentiment))\n",
        "    print('Epoch {} Accuracy Sentiment{:.4f}'.format(epoch+1,\n",
        "                                        total_accuracy / steps_sentiment))\n",
        "    losses_sentiment_separate.append(total_loss / steps_sentiment)\n",
        "    accuracies_sentiment_separate.append(total_accuracy / steps_sentiment)\n",
        "\n",
        "  else:\n",
        "    task = 'emotion'\n",
        "    total_loss = 0\n",
        "    total_accuracy = 0\n",
        "    for (batch, (text, label)) in enumerate(train_emotion.take(steps_emotion)):\n",
        "      batch_loss, batch_accuracy = train_step(task, text, label)\n",
        "      total_loss += batch_loss\n",
        "      total_accuracy += batch_accuracy\n",
        "\n",
        "    #if (epoch+1) % 6 == 0:\n",
        "    #  checkpoint.save(file_prefix = path)\n",
        "\n",
        "    print('Epoch {} Loss Emotion{:.4f}'.format(epoch//2,\n",
        "                                        total_loss / steps_emotion))\n",
        "    print('Epoch {} Accuracy Emotion{:.4f}'.format(epoch+1,\n",
        "                                        total_accuracy / steps_emotion))\n",
        "    losses_emotion_separate.append(total_loss / steps_emotion)\n",
        "    accuracies_emotion_separate.append(total_accuracy / steps_emotion)"
      ]
    },
    {
      "cell_type": "code",
      "execution_count": null,
      "metadata": {
        "id": "F5mCp_NQVXfK"
      },
      "outputs": [],
      "source": [
        "batch_size = batch_size\n",
        "Encoder_no_emb = LNLSTMCell(embedding_dim= 100, hidden_size= 256)\n",
        "Classifier_no_emb = LNLSTMClassifier_no_emb(embedding_dim= 32, hidden_size= 256)"
      ]
    },
    {
      "cell_type": "code",
      "execution_count": null,
      "metadata": {
        "id": "pBXCJI4TVG2K"
      },
      "outputs": [],
      "source": [
        "# Train Step\n",
        "\n",
        "def train_step_no_emb(task, text, label):\n",
        "\n",
        "  with tf.GradientTape() as tape:\n",
        "    h, c = Encoder_no_emb.initialize_hidden_state(batch_size=batch_size)\n",
        "    # Encoding\n",
        "    for t in range(np.shape(text)[1]):\n",
        "      h, c = Encoder_no_emb.call(task, text[:, t], [h,c])\n",
        "\n",
        "    task_index = 0\n",
        "    if task == 'emotion':\n",
        "      task_indices = tf.constant([0 for i in range(batch_size)], dtype=tf.int32)\n",
        "    elif task == 'sentiment':\n",
        "      task_indices = tf.constant([1 for i in range(batch_size)], dtype=tf.int32)\n",
        "    elif task == 'new':\n",
        "      task_indices = tf.constant([2 for i in range(batch_size)], dtype=tf.int32)\n",
        "    else:\n",
        "      raise ValueError('Key error')\n",
        "\n",
        "    # Classification\n",
        "    out_probs = Classifier_no_emb.call(task=task, batch_size=batch_size, hx=[h,c])\n",
        "\n",
        "    # Compute accuracy\n",
        "    predicted_labels = tf.argmax(out_probs, axis=-1)\n",
        "    accuracy = tf.reduce_mean(tf.cast(tf.equal(label, predicted_labels), dtype=tf.float32))\n",
        "\n",
        "    # Loss\n",
        "    loss = loss_function(label, out_probs)\n",
        "\n",
        "    # Get the watched variables\n",
        "    variables = Encoder_no_emb.trainable_variables + Classifier_no_emb.trainable_variables\n",
        "\n",
        "    # Compute gradients only for watched variables\n",
        "    gradients = tape.gradient(loss, variables)\n",
        "\n",
        "    # Apply gradients to the watched variables\n",
        "    optimizer.apply_gradients(zip(gradients, variables))\n",
        "\n",
        "    return loss, accuracy"
      ]
    },
    {
      "cell_type": "code",
      "execution_count": null,
      "metadata": {
        "id": "6l01abpaW2oO"
      },
      "outputs": [],
      "source": [
        "epochs = 14\n",
        "losses_emotion_no_emb= []\n",
        "losses_sentiment_no_emb = []\n",
        "\n",
        "accuracies_emotion_no_emb = []\n",
        "accuracies_sentiment_no_emb = []\n",
        "\n",
        "for epoch in range(epochs):\n",
        "  if epoch % 2 == 0:\n",
        "    task = 'sentiment'\n",
        "    total_loss = 0\n",
        "    total_accuracy = 0\n",
        "    for (batch, (text, label)) in enumerate(train_sentiment.take(steps_sentiment)):\n",
        "      batch_loss, batch_accuracy = train_step(task, text, label)\n",
        "      total_loss += batch_loss\n",
        "      total_accuracy += batch_accuracy\n",
        "\n",
        "    print('Epoch {} Loss Sentiment{:.4f}'.format((epoch+1)//2,\n",
        "                                        total_loss / steps_sentiment))\n",
        "    print('Epoch {} Accuracy Sentiment{:.4f}'.format(epoch+1,\n",
        "                                        total_accuracy / steps_sentiment))\n",
        "    losses_sentiment_no_emb.append(total_loss / steps_sentiment)\n",
        "    accuracies_sentiment_no_emb.append(total_accuracy / steps_sentiment)\n",
        "\n",
        "  else:\n",
        "    task = 'emotion'\n",
        "    total_loss = 0\n",
        "    total_accuracy = 0\n",
        "    for (batch, (text, label)) in enumerate(train_emotion.take(steps_emotion)):\n",
        "      batch_loss, batch_accuracy = train_step(task, text, label)\n",
        "      total_loss += batch_loss\n",
        "      total_accuracy += batch_accuracy\n",
        "\n",
        "    #if (epoch+1) % 6 == 0:\n",
        "    #  checkpoint.save(file_prefix = path)\n",
        "\n",
        "    print('Epoch {} Loss Emotion{:.4f}'.format(epoch//2,\n",
        "                                        total_loss / steps_emotion))\n",
        "    print('Epoch {} Accuracy Emotion{:.4f}'.format(epoch+1,\n",
        "                                        total_accuracy / steps_emotion))\n",
        "    losses_emotion_no_emb.append(total_loss / steps_emotion)\n",
        "    accuracies_emotion_no_emb.append(total_accuracy / steps_emotion)"
      ]
    },
    {
      "cell_type": "markdown",
      "metadata": {
        "id": "SC7EF0k7iKVB"
      },
      "source": [
        "# Evaluation"
      ]
    },
    {
      "cell_type": "code",
      "execution_count": 62,
      "metadata": {
        "id": "ZORP588jPD4q"
      },
      "outputs": [],
      "source": [
        "# Train Step\n",
        "def evaluate(task, text, label):\n",
        "\n",
        "    outputs = tf.TensorArray(tf.float32, size= np.shape(text)[1])\n",
        "    h, c = Encoder.initialize_hidden_state(batch_size=batch_size)\n",
        "    # Encoding\n",
        "    for t in range(np.shape(text)[1]):\n",
        "      h, c = Encoder.call(task, text[:, t], [h,c])\n",
        "      outputs = outputs.write(t, h)\n",
        "    outputs = outputs.stack()\n",
        "    outputs = tf.transpose(outputs, [1,0,2])\n",
        "\n",
        "    task_index = 0\n",
        "    if task == 'emotion':\n",
        "      task_indices = tf.constant([0 for i in range(batch_size)], dtype=tf.int32)\n",
        "    elif task == 'sentiment':\n",
        "      task_indices = tf.constant([1 for i in range(batch_size)], dtype=tf.int32)\n",
        "    elif task == 'new':\n",
        "      task_indices = tf.constant([2 for i in range(batch_size)], dtype=tf.int32)\n",
        "    else:\n",
        "      raise ValueError('Key error')\n",
        "    # Classification\n",
        "    out_probs, _ = Classifier.call(task=task, task_indices= task_indices, hx=[h,c], encoder_outputs = outputs)\n",
        "\n",
        "    # Compute accuracy\n",
        "    predicted_labels = tf.argmax(out_probs, axis=-1)\n",
        "    accuracy = (tf.reduce_mean(tf.cast(tf.equal(label, predicted_labels), dtype=tf.float32)))\n",
        "\n",
        "    return accuracy"
      ]
    },
    {
      "cell_type": "code",
      "execution_count": 63,
      "metadata": {
        "id": "krTKgrMv0Mvg"
      },
      "outputs": [],
      "source": [
        "ds_name = \"emotion_test.csv\"\n",
        "path= F\"/content/gdrive/My Drive/Database/{ds_name}\"\n",
        "ds = pd.read_csv(path)"
      ]
    },
    {
      "cell_type": "code",
      "execution_count": 64,
      "metadata": {
        "id": "moXQWEJs0P1r"
      },
      "outputs": [],
      "source": [
        "emotion_text_test = ds['text']\n",
        "emotion_label_test = ds['label']"
      ]
    },
    {
      "cell_type": "code",
      "execution_count": 65,
      "metadata": {
        "colab": {
          "base_uri": "https://localhost:8080/"
        },
        "id": "ztLDhiRM0jQK",
        "outputId": "d6faf6c6-4bcb-43f0-d546-1fa83cd12336"
      },
      "outputs": [
        {
          "name": "stdout",
          "output_type": "stream",
          "text": [
            "120\n"
          ]
        }
      ],
      "source": [
        "print(len(emotion_text_test))"
      ]
    },
    {
      "cell_type": "code",
      "execution_count": 66,
      "metadata": {
        "colab": {
          "base_uri": "https://localhost:8080/"
        },
        "id": "TiPzCOT10r0J",
        "outputId": "02240a18-2d7a-48b2-9a7d-9e4ffcd36edf"
      },
      "outputs": [
        {
          "name": "stderr",
          "output_type": "stream",
          "text": [
            "<ipython-input-13-79cb1ed4c48f>:35: VisibleDeprecationWarning: Creating an ndarray from ragged nested sequences (which is a list-or-tuple of lists-or-tuples-or ndarrays with different lengths or shapes) is deprecated. If you meant to do this, you must specify 'dtype=object' when creating the ndarray.\n",
            "  Text = np.array([self.preprocess_sentence(w) for w in text])\n"
          ]
        }
      ],
      "source": [
        "buffer_size_emotion = 150\n",
        "batch_size = 120\n",
        "max_len = 25\n",
        "\n",
        "preprocess = Preprocess_classification(vocab)\n",
        "test_emotion = preprocess.create_dataset(emotion_text_test, emotion_label_test, max_len, buffer_size_emotion, batch_size)"
      ]
    },
    {
      "cell_type": "code",
      "execution_count": 69,
      "metadata": {
        "id": "fLtSaij_08U0"
      },
      "outputs": [],
      "source": [
        "task = 'emotion'\n",
        "for (batch, (text, label)) in enumerate(test_emotion.take(1)):\n",
        "  batch_accuracy = evaluate(task, text, label)\n"
      ]
    },
    {
      "cell_type": "code",
      "execution_count": 70,
      "metadata": {
        "colab": {
          "base_uri": "https://localhost:8080/"
        },
        "id": "HSiGz4TJ2m0U",
        "outputId": "cfc408ab-c308-4b53-c9cb-d4c91cab4f6c"
      },
      "outputs": [
        {
          "data": {
            "text/plain": [
              "<tf.Tensor: shape=(), dtype=float32, numpy=0.8375>"
            ]
          },
          "execution_count": 70,
          "metadata": {},
          "output_type": "execute_result"
        }
      ],
      "source": [
        "batch_accuracy"
      ]
    },
    {
      "cell_type": "markdown",
      "metadata": {
        "id": "fC_FGtlJiCoq"
      },
      "source": [
        "# Fine Tuning"
      ]
    },
    {
      "cell_type": "markdown",
      "metadata": {
        "id": "5q8QrSDHASfH"
      },
      "source": [
        "## Preparing data"
      ]
    },
    {
      "cell_type": "code",
      "execution_count": null,
      "metadata": {
        "id": "-mxDr4BoCSgz"
      },
      "outputs": [],
      "source": [
        "ds_name = \"imdb_train.csv\"\n",
        "path= F\"/content/gdrive/My Drive/Database/{ds_name}\"\n",
        "ds = pd.read_csv(path)"
      ]
    },
    {
      "cell_type": "code",
      "execution_count": null,
      "metadata": {
        "id": "xMZiZXcqCe9G"
      },
      "outputs": [],
      "source": [
        "imdb_text = ds['text']\n",
        "imdb_label = ds['label']"
      ]
    },
    {
      "cell_type": "code",
      "execution_count": null,
      "metadata": {
        "colab": {
          "base_uri": "https://localhost:8080/"
        },
        "id": "qR0IJAMEbB2d",
        "outputId": "a9d78a14-2d0d-4c60-dc56-2e0907edae11"
      },
      "outputs": [
        {
          "name": "stderr",
          "output_type": "stream",
          "text": [
            "<ipython-input-11-79cb1ed4c48f>:35: VisibleDeprecationWarning: Creating an ndarray from ragged nested sequences (which is a list-or-tuple of lists-or-tuples-or ndarrays with different lengths or shapes) is deprecated. If you meant to do this, you must specify 'dtype=object' when creating the ndarray.\n",
            "  Text = np.array([self.preprocess_sentence(w) for w in text])\n"
          ]
        }
      ],
      "source": [
        "buffer_size_imdb = 2100\n",
        "batch_size_imdb = 64\n",
        "max_len = 25\n",
        "\n",
        "imdb_process = Preprocess_classification(vocab)\n",
        "train_imdb = imdb_process.create_dataset(imdb_text, imdb_label, max_len, buffer_size_imdb, batch_size_imdb)"
      ]
    },
    {
      "cell_type": "code",
      "execution_count": null,
      "metadata": {
        "colab": {
          "base_uri": "https://localhost:8080/"
        },
        "id": "tbhmMsiamRrN",
        "outputId": "8e2b3f53-d98b-4983-a2fd-284f1857fc15"
      },
      "outputs": [
        {
          "name": "stderr",
          "output_type": "stream",
          "text": [
            "WARNING:tensorflow:Layer lstm_2 will not use cuDNN kernels since it doesn't meet the criteria. It will use a generic GPU kernel as fallback when running on GPU.\n"
          ]
        }
      ],
      "source": [
        "# On base model\n",
        "classifier_imdb_base = Basic_Classifier(batch_size= 64, units= 256, num_classes= 2)"
      ]
    },
    {
      "cell_type": "code",
      "execution_count": null,
      "metadata": {
        "colab": {
          "base_uri": "https://localhost:8080/"
        },
        "id": "gM8g-I18s1iS",
        "outputId": "ca9c5ee3-2281-4641-ae9d-760e46bd7b40"
      },
      "outputs": [
        {
          "name": "stdout",
          "output_type": "stream",
          "text": [
            "Epoch 1 Loss 0.6859\n",
            "Epoch 1 Accuracy 18.1094\n",
            "Epoch 2 Loss 0.4433\n",
            "Epoch 2 Accuracy 24.9688\n",
            "Epoch 3 Loss 0.1973\n",
            "Epoch 3 Accuracy 28.6562\n",
            "Epoch 4 Loss 0.0725\n",
            "Epoch 4 Accuracy 30.3750\n",
            "Epoch 5 Loss 0.0189\n",
            "Epoch 5 Accuracy 30.8438\n",
            "Epoch 6 Loss 0.0076\n",
            "Epoch 6 Accuracy 30.9531\n",
            "Epoch 7 Loss 0.0046\n",
            "Epoch 7 Accuracy 30.9844\n",
            "Epoch 8 Loss 0.0034\n",
            "Epoch 8 Accuracy 30.9844\n",
            "Epoch 9 Loss 0.0028\n",
            "Epoch 9 Accuracy 30.9844\n"
          ]
        }
      ],
      "source": [
        "losses_imdb_base, accuracies_imdb_base = train_epoch_base(classifier_imdb_base, train_imdb, len(imdb_text)//batch_size, 9)"
      ]
    },
    {
      "cell_type": "code",
      "execution_count": null,
      "metadata": {
        "id": "2oBTR0e4l6Xf"
      },
      "outputs": [],
      "source": [
        "Encoder.trainable = False\n",
        "Classifier_fine_tune = LNLSTMClassifier(embedding_dim= 32, hidden_size= 256)"
      ]
    },
    {
      "cell_type": "code",
      "execution_count": null,
      "metadata": {
        "id": "rjGSXt64lM_3"
      },
      "outputs": [],
      "source": [
        "batch_size = 64\n",
        "steps_new= len(imdb_text)//batch_size"
      ]
    },
    {
      "cell_type": "code",
      "execution_count": null,
      "metadata": {
        "id": "8u0abiOREbJo"
      },
      "outputs": [],
      "source": [
        "# Train Step\n",
        "\n",
        "def train_step(task, text, label):\n",
        "\n",
        "  with tf.GradientTape() as tape:\n",
        "    h, c = Encoder.initialize_hidden_state(batch_size=batch_size)\n",
        "    # Encoding\n",
        "    for t in range(np.shape(text)[1]):\n",
        "      h, c = Encoder.call(task, text[:, t], [h,c])\n",
        "    task_index = 0\n",
        "    if task == 'emotion':\n",
        "      task_indices = tf.constant([0 for i in range(batch_size)], dtype=tf.int32)\n",
        "    elif task == 'sentiment':\n",
        "      task_indices = tf.constant([1 for i in range(batch_size)], dtype=tf.int32)\n",
        "    elif task == 'new':\n",
        "      task_indices = tf.constant([2 for i in range(batch_size)], dtype=tf.int32)\n",
        "    else:\n",
        "      raise ValueError('Key error')\n",
        "\n",
        "    # Classification\n",
        "    out_probs = Classifier_fine_tune.call(task=task, task_indices= task_indices, hx=[h,c])\n",
        "\n",
        "    # Compute accuracy\n",
        "    predicted_labels = tf.argmax(out_probs, axis=-1)\n",
        "    accuracy = tf.reduce_mean(tf.cast(tf.equal(label, predicted_labels), dtype=tf.float32))\n",
        "\n",
        "    # Loss\n",
        "    loss = loss_function(label, out_probs)\n",
        "\n",
        "    # Get the watched variables\n",
        "    variables = Encoder.trainable_variables + Classifier_fine_tune.trainable_variables\n",
        "\n",
        "    # Compute gradients only for watched variables\n",
        "    gradients = tape.gradient(loss, variables)\n",
        "\n",
        "    # Apply gradients to the watched variables\n",
        "    optimizer.apply_gradients(zip(gradients, variables))\n",
        "\n",
        "    return loss, accuracy"
      ]
    },
    {
      "cell_type": "code",
      "execution_count": null,
      "metadata": {
        "colab": {
          "base_uri": "https://localhost:8080/"
        },
        "id": "KKNyeZLZKjQ7",
        "outputId": "53e851a1-f0f2-483a-9097-b9a547c54ebe"
      },
      "outputs": [
        {
          "name": "stderr",
          "output_type": "stream",
          "text": [
            "WARNING:tensorflow:Gradients do not exist for variables ['Variable:0', 'Variable:0', 'Variable:0'] when minimizing the loss. If you're using `model.compile()`, did you forget to provide a `loss` argument?\n",
            "WARNING:tensorflow:Gradients do not exist for variables ['Variable:0', 'Variable:0', 'Variable:0'] when minimizing the loss. If you're using `model.compile()`, did you forget to provide a `loss` argument?\n",
            "WARNING:tensorflow:Gradients do not exist for variables ['Variable:0', 'Variable:0', 'Variable:0'] when minimizing the loss. If you're using `model.compile()`, did you forget to provide a `loss` argument?\n",
            "WARNING:tensorflow:Gradients do not exist for variables ['Variable:0', 'Variable:0', 'Variable:0'] when minimizing the loss. If you're using `model.compile()`, did you forget to provide a `loss` argument?\n",
            "WARNING:tensorflow:Gradients do not exist for variables ['Variable:0', 'Variable:0', 'Variable:0'] when minimizing the loss. If you're using `model.compile()`, did you forget to provide a `loss` argument?\n",
            "WARNING:tensorflow:Gradients do not exist for variables ['Variable:0', 'Variable:0', 'Variable:0'] when minimizing the loss. If you're using `model.compile()`, did you forget to provide a `loss` argument?\n",
            "WARNING:tensorflow:Gradients do not exist for variables ['Variable:0', 'Variable:0', 'Variable:0'] when minimizing the loss. If you're using `model.compile()`, did you forget to provide a `loss` argument?\n",
            "WARNING:tensorflow:Gradients do not exist for variables ['Variable:0', 'Variable:0', 'Variable:0'] when minimizing the loss. If you're using `model.compile()`, did you forget to provide a `loss` argument?\n",
            "WARNING:tensorflow:Gradients do not exist for variables ['Variable:0', 'Variable:0', 'Variable:0'] when minimizing the loss. If you're using `model.compile()`, did you forget to provide a `loss` argument?\n",
            "WARNING:tensorflow:Gradients do not exist for variables ['Variable:0', 'Variable:0', 'Variable:0'] when minimizing the loss. If you're using `model.compile()`, did you forget to provide a `loss` argument?\n",
            "WARNING:tensorflow:Gradients do not exist for variables ['Variable:0', 'Variable:0', 'Variable:0'] when minimizing the loss. If you're using `model.compile()`, did you forget to provide a `loss` argument?\n",
            "WARNING:tensorflow:Gradients do not exist for variables ['Variable:0', 'Variable:0', 'Variable:0'] when minimizing the loss. If you're using `model.compile()`, did you forget to provide a `loss` argument?\n",
            "WARNING:tensorflow:Gradients do not exist for variables ['Variable:0', 'Variable:0', 'Variable:0'] when minimizing the loss. If you're using `model.compile()`, did you forget to provide a `loss` argument?\n",
            "WARNING:tensorflow:Gradients do not exist for variables ['Variable:0', 'Variable:0', 'Variable:0'] when minimizing the loss. If you're using `model.compile()`, did you forget to provide a `loss` argument?\n",
            "WARNING:tensorflow:Gradients do not exist for variables ['Variable:0', 'Variable:0', 'Variable:0'] when minimizing the loss. If you're using `model.compile()`, did you forget to provide a `loss` argument?\n",
            "WARNING:tensorflow:Gradients do not exist for variables ['Variable:0', 'Variable:0', 'Variable:0'] when minimizing the loss. If you're using `model.compile()`, did you forget to provide a `loss` argument?\n",
            "WARNING:tensorflow:Gradients do not exist for variables ['Variable:0', 'Variable:0', 'Variable:0'] when minimizing the loss. If you're using `model.compile()`, did you forget to provide a `loss` argument?\n",
            "WARNING:tensorflow:Gradients do not exist for variables ['Variable:0', 'Variable:0', 'Variable:0'] when minimizing the loss. If you're using `model.compile()`, did you forget to provide a `loss` argument?\n",
            "WARNING:tensorflow:Gradients do not exist for variables ['Variable:0', 'Variable:0', 'Variable:0'] when minimizing the loss. If you're using `model.compile()`, did you forget to provide a `loss` argument?\n",
            "WARNING:tensorflow:Gradients do not exist for variables ['Variable:0', 'Variable:0', 'Variable:0'] when minimizing the loss. If you're using `model.compile()`, did you forget to provide a `loss` argument?\n",
            "WARNING:tensorflow:Gradients do not exist for variables ['Variable:0', 'Variable:0', 'Variable:0'] when minimizing the loss. If you're using `model.compile()`, did you forget to provide a `loss` argument?\n",
            "WARNING:tensorflow:Gradients do not exist for variables ['Variable:0', 'Variable:0', 'Variable:0'] when minimizing the loss. If you're using `model.compile()`, did you forget to provide a `loss` argument?\n",
            "WARNING:tensorflow:Gradients do not exist for variables ['Variable:0', 'Variable:0', 'Variable:0'] when minimizing the loss. If you're using `model.compile()`, did you forget to provide a `loss` argument?\n",
            "WARNING:tensorflow:Gradients do not exist for variables ['Variable:0', 'Variable:0', 'Variable:0'] when minimizing the loss. If you're using `model.compile()`, did you forget to provide a `loss` argument?\n",
            "WARNING:tensorflow:Gradients do not exist for variables ['Variable:0', 'Variable:0', 'Variable:0'] when minimizing the loss. If you're using `model.compile()`, did you forget to provide a `loss` argument?\n",
            "WARNING:tensorflow:Gradients do not exist for variables ['Variable:0', 'Variable:0', 'Variable:0'] when minimizing the loss. If you're using `model.compile()`, did you forget to provide a `loss` argument?\n",
            "WARNING:tensorflow:Gradients do not exist for variables ['Variable:0', 'Variable:0', 'Variable:0'] when minimizing the loss. If you're using `model.compile()`, did you forget to provide a `loss` argument?\n",
            "WARNING:tensorflow:Gradients do not exist for variables ['Variable:0', 'Variable:0', 'Variable:0'] when minimizing the loss. If you're using `model.compile()`, did you forget to provide a `loss` argument?\n",
            "WARNING:tensorflow:Gradients do not exist for variables ['Variable:0', 'Variable:0', 'Variable:0'] when minimizing the loss. If you're using `model.compile()`, did you forget to provide a `loss` argument?\n",
            "WARNING:tensorflow:Gradients do not exist for variables ['Variable:0', 'Variable:0', 'Variable:0'] when minimizing the loss. If you're using `model.compile()`, did you forget to provide a `loss` argument?\n",
            "WARNING:tensorflow:Gradients do not exist for variables ['Variable:0', 'Variable:0', 'Variable:0'] when minimizing the loss. If you're using `model.compile()`, did you forget to provide a `loss` argument?\n"
          ]
        },
        {
          "name": "stdout",
          "output_type": "stream",
          "text": [
            "Epoch 1 Loss imdb0.3530\n",
            "Epoch 1 Accuracy imdb0.8679\n"
          ]
        },
        {
          "name": "stderr",
          "output_type": "stream",
          "text": [
            "WARNING:tensorflow:Gradients do not exist for variables ['Variable:0', 'Variable:0', 'Variable:0'] when minimizing the loss. If you're using `model.compile()`, did you forget to provide a `loss` argument?\n",
            "WARNING:tensorflow:Gradients do not exist for variables ['Variable:0', 'Variable:0', 'Variable:0'] when minimizing the loss. If you're using `model.compile()`, did you forget to provide a `loss` argument?\n",
            "WARNING:tensorflow:Gradients do not exist for variables ['Variable:0', 'Variable:0', 'Variable:0'] when minimizing the loss. If you're using `model.compile()`, did you forget to provide a `loss` argument?\n",
            "WARNING:tensorflow:Gradients do not exist for variables ['Variable:0', 'Variable:0', 'Variable:0'] when minimizing the loss. If you're using `model.compile()`, did you forget to provide a `loss` argument?\n",
            "WARNING:tensorflow:Gradients do not exist for variables ['Variable:0', 'Variable:0', 'Variable:0'] when minimizing the loss. If you're using `model.compile()`, did you forget to provide a `loss` argument?\n",
            "WARNING:tensorflow:Gradients do not exist for variables ['Variable:0', 'Variable:0', 'Variable:0'] when minimizing the loss. If you're using `model.compile()`, did you forget to provide a `loss` argument?\n",
            "WARNING:tensorflow:Gradients do not exist for variables ['Variable:0', 'Variable:0', 'Variable:0'] when minimizing the loss. If you're using `model.compile()`, did you forget to provide a `loss` argument?\n",
            "WARNING:tensorflow:Gradients do not exist for variables ['Variable:0', 'Variable:0', 'Variable:0'] when minimizing the loss. If you're using `model.compile()`, did you forget to provide a `loss` argument?\n",
            "WARNING:tensorflow:Gradients do not exist for variables ['Variable:0', 'Variable:0', 'Variable:0'] when minimizing the loss. If you're using `model.compile()`, did you forget to provide a `loss` argument?\n",
            "WARNING:tensorflow:Gradients do not exist for variables ['Variable:0', 'Variable:0', 'Variable:0'] when minimizing the loss. If you're using `model.compile()`, did you forget to provide a `loss` argument?\n",
            "WARNING:tensorflow:Gradients do not exist for variables ['Variable:0', 'Variable:0', 'Variable:0'] when minimizing the loss. If you're using `model.compile()`, did you forget to provide a `loss` argument?\n",
            "WARNING:tensorflow:Gradients do not exist for variables ['Variable:0', 'Variable:0', 'Variable:0'] when minimizing the loss. If you're using `model.compile()`, did you forget to provide a `loss` argument?\n",
            "WARNING:tensorflow:Gradients do not exist for variables ['Variable:0', 'Variable:0', 'Variable:0'] when minimizing the loss. If you're using `model.compile()`, did you forget to provide a `loss` argument?\n",
            "WARNING:tensorflow:Gradients do not exist for variables ['Variable:0', 'Variable:0', 'Variable:0'] when minimizing the loss. If you're using `model.compile()`, did you forget to provide a `loss` argument?\n",
            "WARNING:tensorflow:Gradients do not exist for variables ['Variable:0', 'Variable:0', 'Variable:0'] when minimizing the loss. If you're using `model.compile()`, did you forget to provide a `loss` argument?\n",
            "WARNING:tensorflow:Gradients do not exist for variables ['Variable:0', 'Variable:0', 'Variable:0'] when minimizing the loss. If you're using `model.compile()`, did you forget to provide a `loss` argument?\n",
            "WARNING:tensorflow:Gradients do not exist for variables ['Variable:0', 'Variable:0', 'Variable:0'] when minimizing the loss. If you're using `model.compile()`, did you forget to provide a `loss` argument?\n",
            "WARNING:tensorflow:Gradients do not exist for variables ['Variable:0', 'Variable:0', 'Variable:0'] when minimizing the loss. If you're using `model.compile()`, did you forget to provide a `loss` argument?\n",
            "WARNING:tensorflow:Gradients do not exist for variables ['Variable:0', 'Variable:0', 'Variable:0'] when minimizing the loss. If you're using `model.compile()`, did you forget to provide a `loss` argument?\n",
            "WARNING:tensorflow:Gradients do not exist for variables ['Variable:0', 'Variable:0', 'Variable:0'] when minimizing the loss. If you're using `model.compile()`, did you forget to provide a `loss` argument?\n",
            "WARNING:tensorflow:Gradients do not exist for variables ['Variable:0', 'Variable:0', 'Variable:0'] when minimizing the loss. If you're using `model.compile()`, did you forget to provide a `loss` argument?\n",
            "WARNING:tensorflow:Gradients do not exist for variables ['Variable:0', 'Variable:0', 'Variable:0'] when minimizing the loss. If you're using `model.compile()`, did you forget to provide a `loss` argument?\n",
            "WARNING:tensorflow:Gradients do not exist for variables ['Variable:0', 'Variable:0', 'Variable:0'] when minimizing the loss. If you're using `model.compile()`, did you forget to provide a `loss` argument?\n",
            "WARNING:tensorflow:Gradients do not exist for variables ['Variable:0', 'Variable:0', 'Variable:0'] when minimizing the loss. If you're using `model.compile()`, did you forget to provide a `loss` argument?\n",
            "WARNING:tensorflow:Gradients do not exist for variables ['Variable:0', 'Variable:0', 'Variable:0'] when minimizing the loss. If you're using `model.compile()`, did you forget to provide a `loss` argument?\n",
            "WARNING:tensorflow:Gradients do not exist for variables ['Variable:0', 'Variable:0', 'Variable:0'] when minimizing the loss. If you're using `model.compile()`, did you forget to provide a `loss` argument?\n",
            "WARNING:tensorflow:Gradients do not exist for variables ['Variable:0', 'Variable:0', 'Variable:0'] when minimizing the loss. If you're using `model.compile()`, did you forget to provide a `loss` argument?\n",
            "WARNING:tensorflow:Gradients do not exist for variables ['Variable:0', 'Variable:0', 'Variable:0'] when minimizing the loss. If you're using `model.compile()`, did you forget to provide a `loss` argument?\n",
            "WARNING:tensorflow:Gradients do not exist for variables ['Variable:0', 'Variable:0', 'Variable:0'] when minimizing the loss. If you're using `model.compile()`, did you forget to provide a `loss` argument?\n",
            "WARNING:tensorflow:Gradients do not exist for variables ['Variable:0', 'Variable:0', 'Variable:0'] when minimizing the loss. If you're using `model.compile()`, did you forget to provide a `loss` argument?\n",
            "WARNING:tensorflow:Gradients do not exist for variables ['Variable:0', 'Variable:0', 'Variable:0'] when minimizing the loss. If you're using `model.compile()`, did you forget to provide a `loss` argument?\n"
          ]
        },
        {
          "name": "stdout",
          "output_type": "stream",
          "text": [
            "Epoch 2 Loss imdb0.3203\n",
            "Epoch 2 Accuracy imdb0.8896\n"
          ]
        }
      ],
      "source": [
        "epochs = 9\n",
        "losses_imdb= []\n",
        "\n",
        "accuracies_imdb = []\n",
        "\n",
        "for epoch in range(epochs):\n",
        "    task = 'new'\n",
        "    total_loss = 0\n",
        "    total_accuracy = 0\n",
        "    for (batch, (text, label)) in enumerate(train_imdb.take(steps_new)):\n",
        "      batch_loss, batch_accuracy = train_step(task, text, label)\n",
        "      total_loss += batch_loss\n",
        "      total_accuracy += batch_accuracy\n",
        "\n",
        "    #if (epoch+1) % 6 == 0:\n",
        "    #  checkpoint.save(file_prefix = path)\n",
        "\n",
        "    print('Epoch {} Loss imdb{:.4f}'.format(epoch+1,\n",
        "                                        total_loss / steps_new))\n",
        "    print('Epoch {} Accuracy imdb{:.4f}'.format(epoch+1,\n",
        "                                        total_accuracy / steps_new))\n",
        "    losses_imdb.append(total_loss / steps_new)\n",
        "    accuracies_imdb.append(total_accuracy / steps_new)"
      ]
    },
    {
      "cell_type": "code",
      "execution_count": null,
      "metadata": {
        "colab": {
          "base_uri": "https://localhost:8080/"
        },
        "id": "ofNI__5-nqyR",
        "outputId": "9b102800-a47d-4d99-aec6-3a8873b25bf8"
      },
      "outputs": [
        {
          "data": {
            "text/plain": [
              "[<tf.Tensor: shape=(), dtype=float32, numpy=0.35303882>,\n",
              " <tf.Tensor: shape=(), dtype=float32, numpy=0.3203489>]"
            ]
          },
          "execution_count": 139,
          "metadata": {},
          "output_type": "execute_result"
        }
      ],
      "source": [
        "losses_imdb"
      ]
    },
    {
      "cell_type": "code",
      "execution_count": null,
      "metadata": {
        "colab": {
          "base_uri": "https://localhost:8080/"
        },
        "id": "sX74jGhuol_O",
        "outputId": "0754418c-c0d4-4cc7-8003-5e6a6412e539"
      },
      "outputs": [
        {
          "data": {
            "text/plain": [
              "[<tf.Tensor: shape=(), dtype=float32, numpy=0.8679435>,\n",
              " <tf.Tensor: shape=(), dtype=float32, numpy=0.8896169>]"
            ]
          },
          "execution_count": 140,
          "metadata": {},
          "output_type": "execute_result"
        }
      ],
      "source": [
        "accuracies_imdb"
      ]
    },
    {
      "cell_type": "code",
      "execution_count": null,
      "metadata": {
        "id": "vh7Jkq7UpuTK"
      },
      "outputs": [],
      "source": [
        "l = [float(i) for i in losses_imdb]\n",
        "a = [float(i) for i in accuracies_imdb]"
      ]
    },
    {
      "cell_type": "code",
      "execution_count": null,
      "metadata": {
        "colab": {
          "base_uri": "https://localhost:8080/",
          "height": 307
        },
        "id": "zFRLW1CopZId",
        "outputId": "a519525f-f9e9-4db9-8323-69ee0ca76a07"
      },
      "outputs": [
        {
          "data": {
            "image/png": "[encoded data removed]",
            "text/plain": [
              "<Figure size 800x300 with 2 Axes>"
            ]
          },
          "metadata": {},
          "output_type": "display_data"
        }
      ],
      "source": [
        "import matplotlib.pyplot as plt\n",
        "\n",
        "epochs = [1, 2, 3, 4, 5, 6, 7, 8, 9]\n",
        "losses = l\n",
        "accuracies = a\n",
        "\n",
        "# Create subplots for losses and accuracies\n",
        "fig, (ax1, ax2) = plt.subplots(1,2, figsize=(8,3), sharex=True)\n",
        "\n",
        "# Plot for losses\n",
        "ax1.plot(epochs, losses, marker='o', color='b', label='Loss')\n",
        "ax1.set_ylabel('Loss', fontsize=12)\n",
        "ax1.set_title('   Fine Tuning Loss and Accuracy\\n', fontsize=14)\n",
        "ax1.legend()\n",
        "\n",
        "# Plot for accuracies\n",
        "ax2.plot(epochs, accuracies, marker='o', color='g', label='Accuracy')\n",
        "ax2.set_xlabel('Epoch', fontsize=12)\n",
        "ax2.set_ylabel('Accuracy', fontsize=12)\n",
        "ax2.legend()\n",
        "\n",
        "# Adjust spacing between subplots\n",
        "plt.tight_layout()\n",
        "\n",
        "# Save the plots as images (optional)\n",
        "plt.savefig('loss_accuracy_plot.png', dpi=300)\n",
        "\n",
        "# Show the plots\n",
        "plt.show()\n"
      ]
    },
    {
      "cell_type": "code",
      "execution_count": null,
      "metadata": {
        "id": "8MPj-6fOqo85"
      },
      "outputs": [],
      "source": []
    }
  ],
  "metadata": {
    "colab": {
      "collapsed_sections": [
        "e7w4AhWnpFl5",
        "Kjp2PPzZQkX-"
      ],
      "provenance": []
    },
    "kernelspec": {
      "display_name": "Python 3",
      "name": "python3"
    },
    "language_info": {
      "name": "python"
    }
  },
  "nbformat": 4,
  "nbformat_minor": 0
}
